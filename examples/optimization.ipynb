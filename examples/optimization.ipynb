{
 "cells": [
  {
   "cell_type": "markdown",
   "id": "35be5476-897b-465f-97b3-d4296940857e",
   "metadata": {},
   "source": [
    "# Trp-cage WE Optimization\n",
    "[![Binder](https://mybinder.org/badge_logo.svg)](https://mybinder.org/v2/gh/jdrusso/msm_we/HEAD?labpath=examples%2Foptimization.ipynb)"
   ]
  },
  {
   "cell_type": "code",
   "execution_count": 1,
   "id": "d103aca8-b019-4410-945e-976b29cb429a",
   "metadata": {},
   "outputs": [],
   "source": [
    "from msm_we import optimization as mo\n",
    "import numpy as np\n",
    "import matplotlib.pyplot as plt"
   ]
  },
  {
   "cell_type": "markdown",
   "id": "b1355c89-976f-402e-92c3-822e378f47ca",
   "metadata": {
    "tags": []
   },
   "source": [
    "## Load haMSM"
   ]
  },
  {
   "cell_type": "code",
   "execution_count": 2,
   "id": "9004b932-8599-4336-b3d5-b57a77c882c1",
   "metadata": {
    "tags": []
   },
   "outputs": [],
   "source": [
    "import pickle\n",
    "\n",
    "with open('data/pickled_model', 'rb') as inf:\n",
    "    model = pickle.load(inf)"
   ]
  },
  {
   "cell_type": "markdown",
   "id": "b3094bc4-1e2b-4522-8327-fc9bf09453cc",
   "metadata": {},
   "source": [
    "## Compute discrepancy, variance"
   ]
  },
  {
   "cell_type": "code",
   "execution_count": 3,
   "id": "be89423e-27a7-4aac-90f8-f38e42ef2a42",
   "metadata": {},
   "outputs": [],
   "source": [
    "steady_state_distribution = model.pSS\n",
    "n_active_we_bins = 10"
   ]
  },
  {
   "cell_type": "code",
   "execution_count": 4,
   "id": "d598c8cd-8a7a-4a43-a383-701928eeba36",
   "metadata": {},
   "outputs": [
    {
     "data": {
      "text/html": [
       "<pre style=\"white-space:pre;overflow-x:auto;line-height:normal;font-family:Menlo,'DejaVu Sans Mono',consolas,'Courier New',monospace\"><span style=\"color: #7fbfbf; text-decoration-color: #7fbfbf\">[10/04/22 10:35:18] </span><span style=\"color: #000080; text-decoration-color: #000080\">INFO    </span> Computing pi matrix                                                 <a href=\"file:///home/jd/msm_we/msm_we/optimization.py\" target=\"_blank\"><span style=\"color: #7f7f7f; text-decoration-color: #7f7f7f\">optimization.py</span></a><span style=\"color: #7f7f7f; text-decoration-color: #7f7f7f\">:</span><a href=\"file:///home/jd/msm_we/msm_we/optimization.py#57\" target=\"_blank\"><span style=\"color: #7f7f7f; text-decoration-color: #7f7f7f\">57</span></a>\n",
       "</pre>\n"
      ],
      "text/plain": [
       "\u001b[2;36m[10/04/22 10:35:18]\u001b[0m\u001b[2;36m \u001b[0m\u001b[34mINFO    \u001b[0m Computing pi matrix                                                 \u001b]8;id=31857;file:///home/jd/msm_we/msm_we/optimization.py\u001b\\\u001b[2moptimization.py\u001b[0m\u001b]8;;\u001b\\\u001b[2m:\u001b[0m\u001b]8;id=304085;file:///home/jd/msm_we/msm_we/optimization.py#57\u001b\\\u001b[2m57\u001b[0m\u001b]8;;\u001b\\\n"
      ]
     },
     "metadata": {},
     "output_type": "display_data"
    }
   ],
   "source": [
    "discrepancy, variance = mo.solve_discrepancy(\n",
    "    tmatrix = model.Tmatrix,\n",
    "    pi = steady_state_distribution,\n",
    "    B = model.indTargets\n",
    ")"
   ]
  },
  {
   "cell_type": "markdown",
   "id": "31c0795a-5285-4230-a11b-6f6483e31826",
   "metadata": {},
   "source": [
    "### Visualize discrepancy and $\\pi \\cdot v$"
   ]
  },
  {
   "cell_type": "code",
   "execution_count": 5,
   "id": "8cf747ec-9dba-43c2-a2d7-8f0f405283d9",
   "metadata": {},
   "outputs": [
    {
     "data": {
      "text/html": [
       "<pre style=\"white-space:pre;overflow-x:auto;line-height:normal;font-family:Menlo,'DejaVu Sans Mono',consolas,'Courier New',monospace\"><span style=\"color: #7fbfbf; text-decoration-color: #7fbfbf\">[10/04/22 10:35:19] </span><span style=\"color: #800000; text-decoration-color: #800000\">WARNING </span> Note that, if steady-state weighted ensemble data is being analyzed,    <a href=\"file:///home/jd/msm_we/msm_we/msm_we.py\" target=\"_blank\"><span style=\"color: #7f7f7f; text-decoration-color: #7f7f7f\">msm_we.py</span></a><span style=\"color: #7f7f7f; text-decoration-color: #7f7f7f\">:</span><a href=\"file:///home/jd/msm_we/msm_we/msm_we.py#7094\" target=\"_blank\"><span style=\"color: #7f7f7f; text-decoration-color: #7f7f7f\">7094</span></a>\n",
       "<span style=\"color: #7fbfbf; text-decoration-color: #7fbfbf\">                    </span>         this is a <span style=\"color: #008000; text-decoration-color: #008000\">'pseudocommittor'</span> and not a true committor as a result of     <span style=\"color: #7f7f7f; text-decoration-color: #7f7f7f\">              </span>\n",
       "<span style=\"color: #7fbfbf; text-decoration-color: #7fbfbf\">                    </span>         being constructed from a one-way ensemble.                              <span style=\"color: #7f7f7f; text-decoration-color: #7f7f7f\">              </span>\n",
       "</pre>\n"
      ],
      "text/plain": [
       "\u001b[2;36m[10/04/22 10:35:19]\u001b[0m\u001b[2;36m \u001b[0m\u001b[31mWARNING \u001b[0m Note that, if steady-state weighted ensemble data is being analyzed,    \u001b]8;id=785257;file:///home/jd/msm_we/msm_we/msm_we.py\u001b\\\u001b[2mmsm_we.py\u001b[0m\u001b]8;;\u001b\\\u001b[2m:\u001b[0m\u001b]8;id=249165;file:///home/jd/msm_we/msm_we/msm_we.py#7094\u001b\\\u001b[2m7094\u001b[0m\u001b]8;;\u001b\\\n",
       "\u001b[2;36m                    \u001b[0m         this is a \u001b[32m'pseudocommittor'\u001b[0m and not a true committor as a result of     \u001b[2m              \u001b[0m\n",
       "\u001b[2;36m                    \u001b[0m         being constructed from a one-way ensemble.                              \u001b[2m              \u001b[0m\n"
      ]
     },
     "metadata": {},
     "output_type": "display_data"
    },
    {
     "data": {
      "application/vnd.jupyter.widget-view+json": {
       "model_id": "1ab14378d32349649b9a92a8b4af6550",
       "version_major": 2,
       "version_minor": 0
      },
      "text/plain": [
       "  0%|          | 0/5.0 [00:00<?, ?it/s]"
      ]
     },
     "metadata": {},
     "output_type": "display_data"
    },
    {
     "data": {
      "text/plain": [
       "<matplotlib.collections.PathCollection at 0x7f71f3e5f430>"
      ]
     },
     "execution_count": 5,
     "metadata": {},
     "output_type": "execute_result"
    },
    {
     "data": {
      "image/png": "[encoded data removed]",
      "text/plain": [
       "<Figure size 432x288 with 1 Axes>"
      ]
     },
     "metadata": {
      "needs_background": "light"
     },
     "output_type": "display_data"
    }
   ],
   "source": [
    "model.get_committor()\n",
    "plt.scatter(discrepancy, model.q)"
   ]
  },
  {
   "cell_type": "code",
   "execution_count": 6,
   "id": "ccdf5079-3e77-490c-9154-984671a814f8",
   "metadata": {},
   "outputs": [
    {
     "data": {
      "text/plain": [
       "[<matplotlib.lines.Line2D at 0x7f71f3b28d90>]"
      ]
     },
     "execution_count": 6,
     "metadata": {},
     "output_type": "execute_result"
    },
    {
     "data": {
      "image/png": "[encoded data removed]",
      "text/plain": [
       "<Figure size 432x288 with 1 Axes>"
      ]
     },
     "metadata": {
      "needs_background": "light"
     },
     "output_type": "display_data"
    }
   ],
   "source": [
    "pi_v = steady_state_distribution * variance\n",
    "pi_v_sort = np.argsort(discrepancy).squeeze()\n",
    "cumsum = np.cumsum(pi_v[pi_v_sort])\n",
    "\n",
    "plt.plot(cumsum, '-o')"
   ]
  },
  {
   "cell_type": "markdown",
   "id": "6b4eba06-5be5-4a73-8be1-a5487e5b2bef",
   "metadata": {},
   "source": [
    "## Compute WE bin assignments for each MSM microstate\n",
    "\n",
    "This is a list with an element for each MSM microbin, which is the integer index of the WE bin it's assigned to.\n",
    "\n",
    "In other words, `microstate_assignments[microbin_index] == WE bin index` of that microbin"
   ]
  },
  {
   "cell_type": "markdown",
   "id": "7da6af04-4992-467b-8147-76a4e9bfd795",
   "metadata": {},
   "source": [
    "If there are big jumps in our discrepancy function, then the uniform-width bins won't appropriately divide the space."
   ]
  },
  {
   "cell_type": "code",
   "execution_count": 7,
   "id": "ed128655-55a4-4f92-8add-374a275ca9bd",
   "metadata": {},
   "outputs": [
    {
     "data": {
      "text/plain": [
       "array([5, 6, 0, 6, 0, 0, 5, 0, 7, 0, 0, 0, 0, 5, 0, 0, 6, 6, 7, 6, 6, 7,\n",
       "       0, 6, 7, 6, 0, 6, 7, 6, 0, 7, 0, 7, 0, 7, 7, 7, 7, 7, 7, 7, 0, 7,\n",
       "       7, 7, 7, 7, 7, 7, 7, 7, 7, 7, 7, 7, 7, 7, 7, 7, 7, 7, 7, 7, 7, 7,\n",
       "       7, 7, 7, 7, 7, 7, 7, 7, 7, 7, 7, 7, 7, 7, 7, 7, 7, 7, 7, 7, 7, 7,\n",
       "       7, 7, 7, 7, 7, 7, 7, 7, 7, 7, 7, 7, 7, 7, 7, 7, 7, 7, 7, 7, 7, 7,\n",
       "       7, 7, 7, 7, 7, 7, 7, 7, 7, 7, 7, 7, 7, 7, 7, 7, 7, 7, 7, 7, 7, 7,\n",
       "       7, 7, 7, 7, 7, 7, 7, 7, 7, 7, 7, 7, 7, 7, 7, 7, 7, 7, 7, 7, 7, 7,\n",
       "       7, 7, 7, 7, 7, 7, 7, 7, 7, 7, 7, 0, 7])"
      ]
     },
     "execution_count": 7,
     "metadata": {},
     "output_type": "execute_result"
    }
   ],
   "source": [
    "microstate_assignments = mo.get_uniform_mfpt_bins(\n",
    "    variance, discrepancy, steady_state_distribution, n_active_we_bins\n",
    ")\n",
    "microstate_assignments"
   ]
  },
  {
   "cell_type": "markdown",
   "id": "e37d625e-b180-4010-9546-b44435834ce9",
   "metadata": {},
   "source": [
    "We can instead use the k-means clustered MFPT bins."
   ]
  },
  {
   "cell_type": "code",
   "execution_count": 8,
   "id": "df23df12-fd6d-465c-a92d-1ef01d697c99",
   "metadata": {},
   "outputs": [
    {
     "data": {
      "text/plain": [
       "array([4., 2., 1., 2., 1., 1., 4., 5., 3., 1., 1., 1., 1., 4., 1., 1., 2.,\n",
       "       7., 6., 7., 2., 6., 1., 2., 3., 7., 5., 2., 6., 2., 1., 3., 5., 3.,\n",
       "       5., 6., 3., 6., 3., 0., 0., 6., 1., 3., 6., 0., 6., 6., 3., 3., 3.,\n",
       "       6., 3., 3., 6., 0., 6., 6., 0., 6., 0., 3., 6., 3., 6., 0., 0., 6.,\n",
       "       0., 6., 3., 0., 3., 0., 0., 0., 0., 0., 0., 3., 6., 6., 6., 0., 6.,\n",
       "       0., 0., 0., 6., 6., 0., 6., 0., 6., 6., 6., 6., 6., 0., 6., 0., 6.,\n",
       "       0., 0., 0., 0., 0., 0., 0., 0., 6., 0., 6., 6., 0., 0., 6., 0., 0.,\n",
       "       0., 0., 0., 0., 0., 6., 0., 0., 6., 6., 0., 0., 0., 0., 0., 0., 0.,\n",
       "       0., 0., 0., 0., 0., 0., 0., 0., 0., 0., 0., 0., 0., 0., 0., 0., 0.,\n",
       "       0., 0., 0., 0., 0., 0., 0., 0., 0., 0., 0., 0., 5., 0.])"
      ]
     },
     "execution_count": 8,
     "metadata": {},
     "output_type": "execute_result"
    }
   ],
   "source": [
    "microstate_assignments = mo.get_clustered_mfpt_bins(\n",
    "    variance, discrepancy, steady_state_distribution, n_active_we_bins\n",
    ")\n",
    "microstate_assignments"
   ]
  },
  {
   "cell_type": "code",
   "execution_count": 9,
   "id": "875bfa35-7d2b-43b6-8161-890f078fd9fd",
   "metadata": {},
   "outputs": [
    {
     "data": {
      "text/plain": [
       "array([4., 2., 1., 2., 1., 1., 4., 5., 3., 1., 1., 1., 1., 4., 1., 1., 2.,\n",
       "       7., 6., 7., 2., 6., 1., 2., 3., 7., 5., 2., 6., 2., 1., 3., 5., 3.,\n",
       "       5., 6., 3., 6., 3., 0., 0., 6., 1., 3., 6., 0., 6., 6., 3., 3., 3.,\n",
       "       6., 3., 3., 6., 0., 6., 6., 0., 6., 0., 3., 6., 3., 6., 0., 0., 6.,\n",
       "       0., 6., 3., 0., 3., 0., 0., 0., 0., 0., 0., 3., 6., 6., 6., 0., 6.,\n",
       "       0., 0., 0., 6., 6., 0., 6., 0., 6., 6., 6., 6., 6., 0., 6., 0., 6.,\n",
       "       0., 0., 0., 0., 0., 0., 0., 0., 6., 0., 6., 6., 0., 0., 6., 0., 0.,\n",
       "       0., 0., 0., 0., 0., 6., 0., 0., 6., 6., 0., 0., 0., 0., 0., 0., 0.,\n",
       "       0., 0., 0., 0., 0., 0., 0., 0., 0., 0., 0., 0., 0., 0., 0., 0., 0.,\n",
       "       0., 0., 0., 0., 0., 0., 0., 0., 0., 0., 0., 0., 5., 0., 8., 9.])"
      ]
     },
     "execution_count": 9,
     "metadata": {},
     "output_type": "execute_result"
    }
   ],
   "source": [
    "# Add entries for the basis/target states, since MSM-WE sets those as the last two clusters\n",
    "microstate_assignments = np.concatenate(\n",
    "    [microstate_assignments, [n_active_we_bins - 2, n_active_we_bins - 1]]\n",
    ")\n",
    "microstate_assignments"
   ]
  },
  {
   "cell_type": "markdown",
   "id": "8a7813b4-2fe2-4430-9cbc-9e24ef911f56",
   "metadata": {},
   "source": [
    "## Create `OptimizedBinMapper`"
   ]
  },
  {
   "cell_type": "code",
   "execution_count": 10,
   "id": "6e9ecfe3-7e75-443d-a38d-380aafa529ef",
   "metadata": {},
   "outputs": [],
   "source": [
    "base_mapper = model.clusters.bin_mapper\n",
    "n_pcoord_dims=1"
   ]
  },
  {
   "cell_type": "code",
   "execution_count": 11,
   "id": "31f81f45-219d-44c9-b686-69190e40e24f",
   "metadata": {},
   "outputs": [
    {
     "data": {
      "text/html": [
       "<pre style=\"white-space:pre;overflow-x:auto;line-height:normal;font-family:Menlo,'DejaVu Sans Mono',consolas,'Courier New',monospace\"><span style=\"color: #7fbfbf; text-decoration-color: #7fbfbf\">[10/04/22 10:35:19] </span><span style=\"color: #000080; text-decoration-color: #000080\">INFO    </span> Multiple arguments provided to binmapper initializer, creating new <a href=\"file:///home/jd/msm_we/msm_we/optimization.py\" target=\"_blank\"><span style=\"color: #7f7f7f; text-decoration-color: #7f7f7f\">optimization.py</span></a><span style=\"color: #7f7f7f; text-decoration-color: #7f7f7f\">:</span><a href=\"file:///home/jd/msm_we/msm_we/optimization.py#177\" target=\"_blank\"><span style=\"color: #7f7f7f; text-decoration-color: #7f7f7f\">177</span></a>\n",
       "<span style=\"color: #7fbfbf; text-decoration-color: #7fbfbf\">                    </span>         object                                                             <span style=\"color: #7f7f7f; text-decoration-color: #7f7f7f\">                   </span>\n",
       "</pre>\n"
      ],
      "text/plain": [
       "\u001b[2;36m[10/04/22 10:35:19]\u001b[0m\u001b[2;36m \u001b[0m\u001b[34mINFO    \u001b[0m Multiple arguments provided to binmapper initializer, creating new \u001b]8;id=941945;file:///home/jd/msm_we/msm_we/optimization.py\u001b\\\u001b[2moptimization.py\u001b[0m\u001b]8;;\u001b\\\u001b[2m:\u001b[0m\u001b]8;id=207928;file:///home/jd/msm_we/msm_we/optimization.py#177\u001b\\\u001b[2m177\u001b[0m\u001b]8;;\u001b\\\n",
       "\u001b[2;36m                    \u001b[0m         object                                                             \u001b[2m                   \u001b[0m\n"
      ]
     },
     "metadata": {},
     "output_type": "display_data"
    },
    {
     "data": {
      "text/html": [
       "<pre style=\"white-space:pre;overflow-x:auto;line-height:normal;font-family:Menlo,'DejaVu Sans Mono',consolas,'Courier New',monospace\"><span style=\"color: #7fbfbf; text-decoration-color: #7fbfbf\">                    </span><span style=\"color: #000080; text-decoration-color: #000080\">INFO    </span> Clusterer has <span style=\"color: #008080; text-decoration-color: #008080; font-weight: bold\">167</span> total clusters <span style=\"font-weight: bold\">(</span>include <span style=\"color: #008080; text-decoration-color: #008080; font-weight: bold\">1</span> for basis and <span style=\"color: #008080; text-decoration-color: #008080; font-weight: bold\">1</span> for    <a href=\"file:///home/jd/msm_we/msm_we/optimization.py\" target=\"_blank\"><span style=\"color: #7f7f7f; text-decoration-color: #7f7f7f\">optimization.py</span></a><span style=\"color: #7f7f7f; text-decoration-color: #7f7f7f\">:</span><a href=\"file:///home/jd/msm_we/msm_we/optimization.py#237\" target=\"_blank\"><span style=\"color: #7f7f7f; text-decoration-color: #7f7f7f\">237</span></a>\n",
       "<span style=\"color: #7fbfbf; text-decoration-color: #7fbfbf\">                    </span>         target<span style=\"font-weight: bold\">)</span>                                                            <span style=\"color: #7f7f7f; text-decoration-color: #7f7f7f\">                   </span>\n",
       "</pre>\n"
      ],
      "text/plain": [
       "\u001b[2;36m                   \u001b[0m\u001b[2;36m \u001b[0m\u001b[34mINFO    \u001b[0m Clusterer has \u001b[1;36m167\u001b[0m total clusters \u001b[1m(\u001b[0minclude \u001b[1;36m1\u001b[0m for basis and \u001b[1;36m1\u001b[0m for    \u001b]8;id=204843;file:///home/jd/msm_we/msm_we/optimization.py\u001b\\\u001b[2moptimization.py\u001b[0m\u001b]8;;\u001b\\\u001b[2m:\u001b[0m\u001b]8;id=171963;file:///home/jd/msm_we/msm_we/optimization.py#237\u001b\\\u001b[2m237\u001b[0m\u001b]8;;\u001b\\\n",
       "\u001b[2;36m                    \u001b[0m         target\u001b[1m)\u001b[0m                                                            \u001b[2m                   \u001b[0m\n"
      ]
     },
     "metadata": {},
     "output_type": "display_data"
    },
    {
     "data": {
      "text/plain": [
       "<OptimizedBinMapper at 0x7f71f3a89790 with 10 bins>"
      ]
     },
     "execution_count": 11,
     "metadata": {},
     "output_type": "execute_result"
    }
   ],
   "source": [
    "# Create the new bin mapper for WESTPA\n",
    "we_bin_mapper = mo.OptimizedBinMapper(\n",
    "    n_active_we_bins,\n",
    "    # In case the pcoord is extended, this is the original pcoord dimensionality\n",
    "    n_pcoord_dims,\n",
    "    # If the pcoord was extended, pcoord boundaries are in the original pcoord space\n",
    "    model.basis_pcoord_bounds,\n",
    "    model.target_pcoord_bounds,\n",
    "    # The original, non-Optimized BinMapper that WESTPA was run with.\n",
    "    #   Used for stratified clustering\n",
    "    base_mapper,\n",
    "    microstate_assignments,\n",
    "    model.clusters\n",
    ")\n",
    "\n",
    "we_bin_mapper"
   ]
  },
  {
   "cell_type": "code",
   "execution_count": 12,
   "id": "98867a24-32bf-4323-91ae-2cf603ac3ab1",
   "metadata": {},
   "outputs": [
    {
     "data": {
      "text/plain": [
       "array([4., 2., 1., 2., 1., 1., 4., 5., 3., 1., 1., 1., 1., 4., 1., 1., 2.,\n",
       "       7., 6., 7., 2., 6., 1., 2., 3., 7., 5., 2., 6., 2., 1., 3., 5., 3.,\n",
       "       5., 6., 3., 6., 3., 0., 0., 6., 1., 3., 6., 0., 6., 6., 3., 3., 3.,\n",
       "       6., 3., 3., 6., 0., 6., 6., 0., 6., 0., 3., 6., 3., 6., 0., 0., 6.,\n",
       "       0., 6., 3., 0., 3., 0., 0., 0., 0., 0., 0., 3., 6., 6., 6., 0., 6.,\n",
       "       0., 0., 0., 6., 6., 0., 6., 0., 6., 6., 6., 6., 6., 0., 6., 0., 6.,\n",
       "       0., 0., 0., 0., 0., 0., 0., 0., 6., 0., 6., 6., 0., 0., 6., 0., 0.,\n",
       "       0., 0., 0., 0., 0., 6., 0., 0., 6., 6., 0., 0., 0., 0., 0., 0., 0.,\n",
       "       0., 0., 0., 0., 0., 0., 0., 0., 0., 0., 0., 0., 0., 0., 0., 0., 0.,\n",
       "       0., 0., 0., 0., 0., 0., 0., 0., 0., 0., 0., 0., 5., 0., 8., 9.])"
      ]
     },
     "execution_count": 12,
     "metadata": {},
     "output_type": "execute_result"
    }
   ],
   "source": [
    "we_bin_mapper.microstate_mapper"
   ]
  }
 ],
 "metadata": {
  "kernelspec": {
   "display_name": "Python 3 (ipykernel)",
   "language": "python",
   "name": "python3"
  },
  "language_info": {
   "codemirror_mode": {
    "name": "ipython",
    "version": 3
   },
   "file_extension": ".py",
   "mimetype": "text/x-python",
   "name": "python",
   "nbconvert_exporter": "python",
   "pygments_lexer": "ipython3",
   "version": "3.9.13"
  }
 },
 "nbformat": 4,
 "nbformat_minor": 5
}
