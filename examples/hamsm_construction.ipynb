{
 "cells": [
  {
   "cell_type": "markdown",
   "id": "35be5476-897b-465f-97b3-d4296940857e",
   "metadata": {},
   "source": [
    "# Trp-cage haMSM Construction and Analysis \n",
    "[![Binder](https://mybinder.org/badge_logo.svg)](https://mybinder.org/v2/gh/jdrusso/msm_we/HEAD?labpath=examples%2Fhamsm_construction.ipynb)"
   ]
  },
  {
   "cell_type": "markdown",
   "id": "f563572a-4df5-4385-8900-4e09540870eb",
   "metadata": {},
   "source": [
    "For these examples, we'll be constructing an haMSM from simulations of Trp-cage unfolding."
   ]
  },
  {
   "cell_type": "code",
   "execution_count": 1,
   "id": "3dbbba51-2e44-47ea-a93b-82ac433f82b3",
   "metadata": {},
   "outputs": [],
   "source": [
    "from msm_we import msm_we\n",
    "import numpy as np\n",
    "import ray"
   ]
  },
  {
   "cell_type": "code",
   "execution_count": 2,
   "id": "01fbd207-b115-4b91-a2bd-a2dee20f7bee",
   "metadata": {
    "nbsphinx": "hidden",
    "tags": []
   },
   "outputs": [],
   "source": [
    "# This is just to clean up the logging output for display in the documentation webpage.\n",
    "msm_we.log.handlers[0]._log_render.show_time = False\n",
    "msm_we.log.handlers[0].console.width = 65"
   ]
  },
  {
   "cell_type": "markdown",
   "id": "01210f97-6d34-47bb-9fa3-32ead8cb6f6d",
   "metadata": {},
   "source": [
    "## Prep"
   ]
  },
  {
   "cell_type": "markdown",
   "id": "7dad242d-baf6-4a57-89ec-2db08f4ecc57",
   "metadata": {},
   "source": [
    "First, let's set some parameters for haMSM building."
   ]
  },
  {
   "cell_type": "code",
   "execution_count": 3,
   "id": "7671df08-99a0-4b40-9af5-6c90dcb8bd75",
   "metadata": {},
   "outputs": [],
   "source": [
    "h5file_paths = ['data/west.h5']\n",
    "\n",
    "# Number of MSM microstates to initially put in each stratum/WE bin\n",
    "clusters_per_stratum = 25\n",
    "\n",
    "dimreduce_method = 'vamp'\n",
    "\n",
    "# Boundaries of the basis/target, in progress coordinate space\n",
    "pcoord_bounds = {\n",
    "    'basis': [[0, 0.15]],\n",
    "    'target': [[0.7, 100]]\n",
    "}\n",
    "\n",
    "model_name = 'NaCl Sample'\n",
    "\n",
    "# Reference structure\n",
    "ref_file = 'data/2JOF.pdb'\n",
    "\n",
    "# WESTPA resampling time\n",
    "tau = 1e-9"
   ]
  },
  {
   "cell_type": "markdown",
   "id": "ff49846f-3f61-4a68-9b60-2238b98eff99",
   "metadata": {},
   "source": [
    "### Define MSM featurization\n",
    "\n",
    "The function `processCoordinates` defines a transformation that's applied to the coordinates in `auxdata/coord` before dimensionality reduction/clustering.\n",
    "\n",
    "The inputs are the coordinates (read from `auxdata/coord`) for each segment in the loaded iteration(s), and it should return an array of features for each."
   ]
  },
  {
   "cell_type": "markdown",
   "id": "0607a734-641f-4a60-94d8-ed9f8174dcf5",
   "metadata": {},
   "source": [
    "We could just use full XYZ coordinates for our MSM features. \n",
    "This would be a very simple (and very poor) choice -- it doesn't capture some of the translational invariance that something like pairwise distances might."
   ]
  },
  {
   "cell_type": "code",
   "execution_count": 4,
   "id": "d2d27a22-3bef-4503-9442-3109de075602",
   "metadata": {},
   "outputs": [],
   "source": [
    "def processCoordinates(self, coords):\n",
    "    \n",
    "    return coords.reshape(coords.shape[0], -1)\n",
    "    \n",
    "msm_we.modelWE.processCoordinates = processCoordinates"
   ]
  },
  {
   "cell_type": "markdown",
   "id": "30265afa-a29d-482b-9b1a-2219cfe245cb",
   "metadata": {},
   "source": [
    "So, let's use pairwise distances instead, at the cost of a more expensive calculation.\n",
    "\n",
    "Note that because of how work is serialized for parallelization, we have to define the `Universe` objects *within* `processCoordinates`. Otherwise, there would be multiple workers acting on the same object."
   ]
  },
  {
   "cell_type": "code",
   "execution_count": 5,
   "id": "3e087c85-9aa4-4190-9886-d16865a36086",
   "metadata": {},
   "outputs": [],
   "source": [
    "import MDAnalysis as mda\n",
    "from MDAnalysis.analysis import distances\n",
    "\n",
    "def processCoordinates(self, coords):\n",
    "    \n",
    "    u_ref = mda.Universe(ref_file)\n",
    "    u_check = mda.Universe(ref_file)\n",
    "    \n",
    "    dist_out = []\n",
    "    \n",
    "    u_check.load_new(coords)\n",
    "\n",
    "    for frame in u_check.trajectory:\n",
    "\n",
    "        dists = distances.dist(\n",
    "            u_check.select_atoms('backbone'),\n",
    "            u_ref.select_atoms('backbone')\n",
    "        )[2]\n",
    "\n",
    "        dist_out.append(dists)\n",
    "\n",
    "    dist_out = np.array(dist_out)\n",
    "    \n",
    "    return dist_out\n",
    "    \n",
    "msm_we.modelWE.processCoordinates = processCoordinates"
   ]
  },
  {
   "cell_type": "markdown",
   "id": "19ef75fc-701d-4302-879e-5a943765e48a",
   "metadata": {
    "raw_mimetype": "text/restructuredtext",
    "tags": []
   },
   "source": [
    "## Model-building with [build_analyze_model()](../api.rst#msm_we.msm_we.modelWE.build_analyze_model)"
   ]
  },
  {
   "cell_type": "raw",
   "id": "81e0b30c-57a7-4b64-90fd-4bde01751ed5",
   "metadata": {
    "raw_mimetype": "text/restructuredtext",
    "tags": []
   },
   "source": [
    "You can construct an haMSM (and validation haMSMs) with one call to :func:`~msm_we.msm_we.modelWE.build_analyze_model`"
   ]
  },
  {
   "cell_type": "code",
   "execution_count": 6,
   "id": "7d3526f2-8a43-4c27-ba76-2d1b8deaaa61",
   "metadata": {},
   "outputs": [
    {
     "data": {
      "application/vnd.jupyter.widget-view+json": {
       "model_id": "bf707a6690b14c9e8dab5f6ec646f4aa",
       "version_major": 2,
       "version_minor": 0
      },
      "text/plain": [
       "Output()"
      ]
     },
     "metadata": {},
     "output_type": "display_data"
    },
    {
     "data": {
      "text/html": [
       "<pre style=\"white-space:pre;overflow-x:auto;line-height:normal;font-family:Menlo,'DejaVu Sans Mono',consolas,'Courier New',monospace\">2022-10-04 10:34:58,597 INFO worker.py:1509 -- Started a local \n",
       "Ray instance. View the dashboard at <span style=\"color: #008000; text-decoration-color: #008000; font-weight: bold\">127.0.0.1:8265 </span>\n",
       "</pre>\n"
      ],
      "text/plain": [
       "2022-10-04 10:34:58,597 INFO worker.py:1509 -- Started a local \n",
       "Ray instance. View the dashboard at \u001b[1;32m127.0.0.1:8265 \u001b[0m\n"
      ]
     },
     "metadata": {},
     "output_type": "display_data"
    },
    {
     "data": {
      "application/vnd.jupyter.widget-view+json": {
       "model_id": "7016f9070b434d568d6561b3028d8df3",
       "version_major": 2,
       "version_minor": 0
      },
      "text/plain": [
       "Getting coordSet:   0%|          | 0/100 [00:00<?, ?it/s]"
      ]
     },
     "metadata": {},
     "output_type": "display_data"
    },
    {
     "data": {
      "text/html": [
       "<pre style=\"white-space:pre;overflow-x:auto;line-height:normal;font-family:Menlo,'DejaVu Sans Mono',consolas,'Courier New',monospace\"><span style=\"color: #000000; text-decoration-color: #000000\">Warning: importing 'simtk.openmm' is deprecated.  Import 'openmm'</span>\n",
       "<span style=\"color: #000000; text-decoration-color: #000000\">instead.</span>\n",
       "</pre>\n"
      ],
      "text/plain": [
       "\u001b[39mWarning: importing 'simtk.openmm' is deprecated.  Import 'openmm'\u001b[0m\n",
       "\u001b[39minstead.\u001b[0m\n"
      ]
     },
     "metadata": {},
     "output_type": "display_data"
    },
    {
     "data": {
      "text/html": [
       "<pre style=\"white-space:pre;overflow-x:auto;line-height:normal;font-family:Menlo,'DejaVu Sans Mono',consolas,'Courier New',monospace\"><span style=\"color: #000080; text-decoration-color: #000080\">INFO    </span> Performing weighted vamp                  <a href=\"file:///home/jd/msm_we/msm_we/msm_we.py\" target=\"_blank\"><span style=\"color: #7f7f7f; text-decoration-color: #7f7f7f\">msm_we.py</span></a><span style=\"color: #7f7f7f; text-decoration-color: #7f7f7f\">:</span><a href=\"file:///home/jd/msm_we/msm_we/msm_we.py#2786\" target=\"_blank\"><span style=\"color: #7f7f7f; text-decoration-color: #7f7f7f\">2786</span></a>\n",
       "</pre>\n"
      ],
      "text/plain": [
       "\u001b[34mINFO    \u001b[0m Performing weighted vamp                  \u001b]8;id=177326;file:///home/jd/msm_we/msm_we/msm_we.py\u001b\\\u001b[2mmsm_we.py\u001b[0m\u001b]8;;\u001b\\\u001b[2m:\u001b[0m\u001b]8;id=203319;file:///home/jd/msm_we/msm_we/msm_we.py#2786\u001b\\\u001b[2m2786\u001b[0m\u001b]8;;\u001b\\\n"
      ]
     },
     "metadata": {},
     "output_type": "display_data"
    },
    {
     "data": {
      "text/html": [
       "<pre style=\"white-space:pre;overflow-x:auto;line-height:normal;font-family:Menlo,'DejaVu Sans Mono',consolas,'Courier New',monospace\"><span style=\"color: #000080; text-decoration-color: #000080\">INFO    </span> Weighted vamp will reduce <span style=\"color: #008080; text-decoration-color: #008080; font-weight: bold\">80</span> to <span style=\"color: #008080; text-decoration-color: #008080; font-weight: bold\">35</span>        <a href=\"file:///home/jd/msm_we/msm_we/msm_we.py\" target=\"_blank\"><span style=\"color: #7f7f7f; text-decoration-color: #7f7f7f\">msm_we.py</span></a><span style=\"color: #7f7f7f; text-decoration-color: #7f7f7f\">:</span><a href=\"file:///home/jd/msm_we/msm_we/msm_we.py#2799\" target=\"_blank\"><span style=\"color: #7f7f7f; text-decoration-color: #7f7f7f\">2799</span></a>\n",
       "         components.                               <span style=\"color: #7f7f7f; text-decoration-color: #7f7f7f\">              </span>\n",
       "</pre>\n"
      ],
      "text/plain": [
       "\u001b[34mINFO    \u001b[0m Weighted vamp will reduce \u001b[1;36m80\u001b[0m to \u001b[1;36m35\u001b[0m        \u001b]8;id=606219;file:///home/jd/msm_we/msm_we/msm_we.py\u001b\\\u001b[2mmsm_we.py\u001b[0m\u001b]8;;\u001b\\\u001b[2m:\u001b[0m\u001b]8;id=29142;file:///home/jd/msm_we/msm_we/msm_we.py#2799\u001b\\\u001b[2m2799\u001b[0m\u001b]8;;\u001b\\\n",
       "         components.                               \u001b[2m              \u001b[0m\n"
      ]
     },
     "metadata": {},
     "output_type": "display_data"
    },
    {
     "data": {
      "text/html": [
       "<pre style=\"white-space:pre;overflow-x:auto;line-height:normal;font-family:Menlo,'DejaVu Sans Mono',consolas,'Courier New',monospace\"><span style=\"color: #000080; text-decoration-color: #000080\">INFO    </span> Be aware: Number of cluster centers is an <a href=\"file:///home/jd/msm_we/msm_we/msm_we.py\" target=\"_blank\"><span style=\"color: #7f7f7f; text-decoration-color: #7f7f7f\">msm_we.py</span></a><span style=\"color: #7f7f7f; text-decoration-color: #7f7f7f\">:</span><a href=\"file:///home/jd/msm_we/msm_we/msm_we.py#3074\" target=\"_blank\"><span style=\"color: #7f7f7f; text-decoration-color: #7f7f7f\">3074</span></a>\n",
       "         important parameter, and can drastically  <span style=\"color: #7f7f7f; text-decoration-color: #7f7f7f\">              </span>\n",
       "         affect model quality. We recommend        <span style=\"color: #7f7f7f; text-decoration-color: #7f7f7f\">              </span>\n",
       "         examining block-validation results with a <span style=\"color: #7f7f7f; text-decoration-color: #7f7f7f\">              </span>\n",
       "         range of numbers of clusters, to check    <span style=\"color: #7f7f7f; text-decoration-color: #7f7f7f\">              </span>\n",
       "         for overfitting.                          <span style=\"color: #7f7f7f; text-decoration-color: #7f7f7f\">              </span>\n",
       "</pre>\n"
      ],
      "text/plain": [
       "\u001b[34mINFO    \u001b[0m Be aware: Number of cluster centers is an \u001b]8;id=113068;file:///home/jd/msm_we/msm_we/msm_we.py\u001b\\\u001b[2mmsm_we.py\u001b[0m\u001b]8;;\u001b\\\u001b[2m:\u001b[0m\u001b]8;id=417699;file:///home/jd/msm_we/msm_we/msm_we.py#3074\u001b\\\u001b[2m3074\u001b[0m\u001b]8;;\u001b\\\n",
       "         important parameter, and can drastically  \u001b[2m              \u001b[0m\n",
       "         affect model quality. We recommend        \u001b[2m              \u001b[0m\n",
       "         examining block-validation results with a \u001b[2m              \u001b[0m\n",
       "         range of numbers of clusters, to check    \u001b[2m              \u001b[0m\n",
       "         for overfitting.                          \u001b[2m              \u001b[0m\n"
      ]
     },
     "metadata": {},
     "output_type": "display_data"
    },
    {
     "data": {
      "text/html": [
       "<pre style=\"white-space:pre;overflow-x:auto;line-height:normal;font-family:Menlo,'DejaVu Sans Mono',consolas,'Courier New',monospace\"><span style=\"color: #000080; text-decoration-color: #000080\">INFO    </span> Beginning stratified clustering.          <a href=\"file:///home/jd/msm_we/msm_we/msm_we.py\" target=\"_blank\"><span style=\"color: #7f7f7f; text-decoration-color: #7f7f7f\">msm_we.py</span></a><span style=\"color: #7f7f7f; text-decoration-color: #7f7f7f\">:</span><a href=\"file:///home/jd/msm_we/msm_we/msm_we.py#3081\" target=\"_blank\"><span style=\"color: #7f7f7f; text-decoration-color: #7f7f7f\">3081</span></a>\n",
       "</pre>\n"
      ],
      "text/plain": [
       "\u001b[34mINFO    \u001b[0m Beginning stratified clustering.          \u001b]8;id=249931;file:///home/jd/msm_we/msm_we/msm_we.py\u001b\\\u001b[2mmsm_we.py\u001b[0m\u001b]8;;\u001b\\\u001b[2m:\u001b[0m\u001b]8;id=153017;file:///home/jd/msm_we/msm_we/msm_we.py#3081\u001b\\\u001b[2m3081\u001b[0m\u001b]8;;\u001b\\\n"
      ]
     },
     "metadata": {},
     "output_type": "display_data"
    },
    {
     "data": {
      "text/html": [
       "<pre style=\"white-space:pre;overflow-x:auto;line-height:normal;font-family:Menlo,'DejaVu Sans Mono',consolas,'Courier New',monospace\"><span style=\"color: #000080; text-decoration-color: #000080\">INFO    </span> Obtaining bin definitions from iteration  <a href=\"file:///home/jd/msm_we/msm_we/msm_we.py\" target=\"_blank\"><span style=\"color: #7f7f7f; text-decoration-color: #7f7f7f\">msm_we.py</span></a><span style=\"color: #7f7f7f; text-decoration-color: #7f7f7f\">:</span><a href=\"file:///home/jd/msm_we/msm_we/msm_we.py#3499\" target=\"_blank\"><span style=\"color: #7f7f7f; text-decoration-color: #7f7f7f\">3499</span></a>\n",
       "         <span style=\"color: #008080; text-decoration-color: #008080; font-weight: bold\">2</span> in file data/west.h5                    <span style=\"color: #7f7f7f; text-decoration-color: #7f7f7f\">              </span>\n",
       "</pre>\n"
      ],
      "text/plain": [
       "\u001b[34mINFO    \u001b[0m Obtaining bin definitions from iteration  \u001b]8;id=115545;file:///home/jd/msm_we/msm_we/msm_we.py\u001b\\\u001b[2mmsm_we.py\u001b[0m\u001b]8;;\u001b\\\u001b[2m:\u001b[0m\u001b]8;id=267677;file:///home/jd/msm_we/msm_we/msm_we.py#3499\u001b\\\u001b[2m3499\u001b[0m\u001b]8;;\u001b\\\n",
       "         \u001b[1;36m2\u001b[0m in file data/west.h5                    \u001b[2m              \u001b[0m\n"
      ]
     },
     "metadata": {},
     "output_type": "display_data"
    },
    {
     "data": {
      "text/html": [
       "<pre style=\"white-space:pre;overflow-x:auto;line-height:normal;font-family:Menlo,'DejaVu Sans Mono',consolas,'Courier New',monospace\"><span style=\"color: #000080; text-decoration-color: #000080\">INFO    </span> Loading pickled bin mapper from H5 for    <a href=\"file:///home/jd/msm_we/msm_we/msm_we.py\" target=\"_blank\"><span style=\"color: #7f7f7f; text-decoration-color: #7f7f7f\">msm_we.py</span></a><span style=\"color: #7f7f7f; text-decoration-color: #7f7f7f\">:</span><a href=\"file:///home/jd/msm_we/msm_we/msm_we.py#3503\" target=\"_blank\"><span style=\"color: #7f7f7f; text-decoration-color: #7f7f7f\">3503</span></a>\n",
       "         stratified clustering<span style=\"color: #808000; text-decoration-color: #808000\">...</span>                  <span style=\"color: #7f7f7f; text-decoration-color: #7f7f7f\">              </span>\n",
       "</pre>\n"
      ],
      "text/plain": [
       "\u001b[34mINFO    \u001b[0m Loading pickled bin mapper from H5 for    \u001b]8;id=718688;file:///home/jd/msm_we/msm_we/msm_we.py\u001b\\\u001b[2mmsm_we.py\u001b[0m\u001b]8;;\u001b\\\u001b[2m:\u001b[0m\u001b]8;id=363688;file:///home/jd/msm_we/msm_we/msm_we.py#3503\u001b\\\u001b[2m3503\u001b[0m\u001b]8;;\u001b\\\n",
       "         stratified clustering\u001b[33m...\u001b[0m                  \u001b[2m              \u001b[0m\n"
      ]
     },
     "metadata": {},
     "output_type": "display_data"
    },
    {
     "data": {
      "text/html": [
       "<pre style=\"white-space:pre;overflow-x:auto;line-height:normal;font-family:Menlo,'DejaVu Sans Mono',consolas,'Courier New',monospace\"><span style=\"color: #000080; text-decoration-color: #000080\">INFO    </span> Doing stratified clustering with <span style=\"color: #008080; text-decoration-color: #008080; font-weight: bold\">300</span> total <a href=\"file:///home/jd/msm_we/msm_we/msm_we.py\" target=\"_blank\"><span style=\"color: #7f7f7f; text-decoration-color: #7f7f7f\">msm_we.py</span></a><span style=\"color: #7f7f7f; text-decoration-color: #7f7f7f\">:</span><a href=\"file:///home/jd/msm_we/msm_we/msm_we.py#254\" target=\"_blank\"><span style=\"color: #7f7f7f; text-decoration-color: #7f7f7f\">254</span></a>\n",
       "         clusters                                   <span style=\"color: #7f7f7f; text-decoration-color: #7f7f7f\">             </span>\n",
       "</pre>\n"
      ],
      "text/plain": [
       "\u001b[34mINFO    \u001b[0m Doing stratified clustering with \u001b[1;36m300\u001b[0m total \u001b]8;id=969540;file:///home/jd/msm_we/msm_we/msm_we.py\u001b\\\u001b[2mmsm_we.py\u001b[0m\u001b]8;;\u001b\\\u001b[2m:\u001b[0m\u001b]8;id=182206;file:///home/jd/msm_we/msm_we/msm_we.py#254\u001b\\\u001b[2m254\u001b[0m\u001b]8;;\u001b\\\n",
       "         clusters                                   \u001b[2m             \u001b[0m\n"
      ]
     },
     "metadata": {},
     "output_type": "display_data"
    },
    {
     "data": {
      "application/vnd.jupyter.widget-view+json": {
       "model_id": "9ece2b6eee51411fb2cdfd3aacd78aab",
       "version_major": 2,
       "version_minor": 0
      },
      "text/plain": [
       "Clustering:   0%|          | 0/99 [00:00<?, ?it/s]"
      ]
     },
     "metadata": {},
     "output_type": "display_data"
    },
    {
     "data": {
      "text/html": [
       "<pre style=\"white-space:pre;overflow-x:auto;line-height:normal;font-family:Menlo,'DejaVu Sans Mono',consolas,'Courier New',monospace\"><span style=\"color: #000080; text-decoration-color: #000080\">INFO    </span> Using Ray cluster with <span style=\"color: #008080; text-decoration-color: #008080; font-weight: bold\">16.0</span> CPUs!          <a href=\"file:///home/jd/msm_we/msm_we/msm_we.py\" target=\"_blank\"><span style=\"color: #7f7f7f; text-decoration-color: #7f7f7f\">msm_we.py</span></a><span style=\"color: #7f7f7f; text-decoration-color: #7f7f7f\">:</span><a href=\"file:///home/jd/msm_we/msm_we/msm_we.py#873\" target=\"_blank\"><span style=\"color: #7f7f7f; text-decoration-color: #7f7f7f\">873</span></a>\n",
       "</pre>\n"
      ],
      "text/plain": [
       "\u001b[34mINFO    \u001b[0m Using Ray cluster with \u001b[1;36m16.0\u001b[0m CPUs!          \u001b]8;id=988116;file:///home/jd/msm_we/msm_we/msm_we.py\u001b\\\u001b[2mmsm_we.py\u001b[0m\u001b]8;;\u001b\\\u001b[2m:\u001b[0m\u001b]8;id=21011;file:///home/jd/msm_we/msm_we/msm_we.py#873\u001b\\\u001b[2m873\u001b[0m\u001b]8;;\u001b\\\n"
      ]
     },
     "metadata": {},
     "output_type": "display_data"
    },
    {
     "data": {
      "application/vnd.jupyter.widget-view+json": {
       "model_id": "794e5f1a5da74770bb1ea4861279a33a",
       "version_major": 2,
       "version_minor": 0
      },
      "text/plain": [
       "Submitting discretization tasks:   0%|          | 0/99 [00:00<?, ?it/s]"
      ]
     },
     "metadata": {},
     "output_type": "display_data"
    },
    {
     "data": {
      "application/vnd.jupyter.widget-view+json": {
       "model_id": "6a63a8e46f0e4e30b49cc550932ba912",
       "version_major": 2,
       "version_minor": 0
      },
      "text/plain": [
       "Retrieving discretized trajectories:   0%|          | 0/99 [00:00<?, ?it/s]"
      ]
     },
     "metadata": {},
     "output_type": "display_data"
    },
    {
     "data": {
      "text/html": [
       "<pre style=\"white-space:pre;overflow-x:auto;line-height:normal;font-family:Menlo,'DejaVu Sans Mono',consolas,'Courier New',monospace\"><span style=\"color: #7fbfbf; text-decoration-color: #7fbfbf\">(do_stratified_ray_discretization pid=248589)</span> Warning: importing \n",
       "'simtk.openmm' is deprecated.  Import 'openmm' instead.\n",
       "</pre>\n"
      ],
      "text/plain": [
       "\u001b[2;36m(do_stratified_ray_discretization pid=248589)\u001b[0m Warning: importing \n",
       "'simtk.openmm' is deprecated.  Import 'openmm' instead.\n"
      ]
     },
     "metadata": {},
     "output_type": "display_data"
    },
    {
     "data": {
      "text/html": [
       "<pre style=\"white-space:pre;overflow-x:auto;line-height:normal;font-family:Menlo,'DejaVu Sans Mono',consolas,'Courier New',monospace\"><span style=\"color: #7fbfbf; text-decoration-color: #7fbfbf\">(do_stratified_ray_discretization pid=248592)</span> Warning: importing \n",
       "'simtk.openmm' is deprecated.  Import 'openmm' instead.\n",
       "</pre>\n"
      ],
      "text/plain": [
       "\u001b[2;36m(do_stratified_ray_discretization pid=248592)\u001b[0m Warning: importing \n",
       "'simtk.openmm' is deprecated.  Import 'openmm' instead.\n"
      ]
     },
     "metadata": {},
     "output_type": "display_data"
    },
    {
     "data": {
      "text/html": [
       "<pre style=\"white-space:pre;overflow-x:auto;line-height:normal;font-family:Menlo,'DejaVu Sans Mono',consolas,'Courier New',monospace\"><span style=\"color: #7fbfbf; text-decoration-color: #7fbfbf\">(do_stratified_ray_discretization pid=248598)</span> Warning: importing \n",
       "'simtk.openmm' is deprecated.  Import 'openmm' instead.\n",
       "</pre>\n"
      ],
      "text/plain": [
       "\u001b[2;36m(do_stratified_ray_discretization pid=248598)\u001b[0m Warning: importing \n",
       "'simtk.openmm' is deprecated.  Import 'openmm' instead.\n"
      ]
     },
     "metadata": {},
     "output_type": "display_data"
    },
    {
     "data": {
      "text/html": [
       "<pre style=\"white-space:pre;overflow-x:auto;line-height:normal;font-family:Menlo,'DejaVu Sans Mono',consolas,'Courier New',monospace\"><span style=\"color: #7fbfbf; text-decoration-color: #7fbfbf\">(do_stratified_ray_discretization pid=248597)</span> Warning: importing \n",
       "'simtk.openmm' is deprecated.  Import 'openmm' instead.\n",
       "</pre>\n"
      ],
      "text/plain": [
       "\u001b[2;36m(do_stratified_ray_discretization pid=248597)\u001b[0m Warning: importing \n",
       "'simtk.openmm' is deprecated.  Import 'openmm' instead.\n"
      ]
     },
     "metadata": {},
     "output_type": "display_data"
    },
    {
     "data": {
      "text/html": [
       "<pre style=\"white-space:pre;overflow-x:auto;line-height:normal;font-family:Menlo,'DejaVu Sans Mono',consolas,'Courier New',monospace\"><span style=\"color: #7fbfbf; text-decoration-color: #7fbfbf\">(do_stratified_ray_discretization pid=248591)</span> Warning: importing \n",
       "'simtk.openmm' is deprecated.  Import 'openmm' instead.\n",
       "</pre>\n"
      ],
      "text/plain": [
       "\u001b[2;36m(do_stratified_ray_discretization pid=248591)\u001b[0m Warning: importing \n",
       "'simtk.openmm' is deprecated.  Import 'openmm' instead.\n"
      ]
     },
     "metadata": {},
     "output_type": "display_data"
    },
    {
     "data": {
      "text/html": [
       "<pre style=\"white-space:pre;overflow-x:auto;line-height:normal;font-family:Menlo,'DejaVu Sans Mono',consolas,'Courier New',monospace\"><span style=\"color: #7fbfbf; text-decoration-color: #7fbfbf\">(do_stratified_ray_discretization pid=248590)</span> Warning: importing \n",
       "'simtk.openmm' is deprecated.  Import 'openmm' instead.\n",
       "</pre>\n"
      ],
      "text/plain": [
       "\u001b[2;36m(do_stratified_ray_discretization pid=248590)\u001b[0m Warning: importing \n",
       "'simtk.openmm' is deprecated.  Import 'openmm' instead.\n"
      ]
     },
     "metadata": {},
     "output_type": "display_data"
    },
    {
     "data": {
      "text/html": [
       "<pre style=\"white-space:pre;overflow-x:auto;line-height:normal;font-family:Menlo,'DejaVu Sans Mono',consolas,'Courier New',monospace\"><span style=\"color: #7fbfbf; text-decoration-color: #7fbfbf\">(do_stratified_ray_discretization pid=248596)</span> Warning: importing \n",
       "'simtk.openmm' is deprecated.  Import 'openmm' instead.\n",
       "</pre>\n"
      ],
      "text/plain": [
       "\u001b[2;36m(do_stratified_ray_discretization pid=248596)\u001b[0m Warning: importing \n",
       "'simtk.openmm' is deprecated.  Import 'openmm' instead.\n"
      ]
     },
     "metadata": {},
     "output_type": "display_data"
    },
    {
     "data": {
      "text/html": [
       "<pre style=\"white-space:pre;overflow-x:auto;line-height:normal;font-family:Menlo,'DejaVu Sans Mono',consolas,'Courier New',monospace\"><span style=\"color: #7fbfbf; text-decoration-color: #7fbfbf\">(do_stratified_ray_discretization pid=248594)</span> Warning: importing \n",
       "'simtk.openmm' is deprecated.  Import 'openmm' instead.\n",
       "</pre>\n"
      ],
      "text/plain": [
       "\u001b[2;36m(do_stratified_ray_discretization pid=248594)\u001b[0m Warning: importing \n",
       "'simtk.openmm' is deprecated.  Import 'openmm' instead.\n"
      ]
     },
     "metadata": {},
     "output_type": "display_data"
    },
    {
     "data": {
      "text/html": [
       "<pre style=\"white-space:pre;overflow-x:auto;line-height:normal;font-family:Menlo,'DejaVu Sans Mono',consolas,'Courier New',monospace\"><span style=\"color: #7fbfbf; text-decoration-color: #7fbfbf\">(do_stratified_ray_discretization pid=248588)</span> Warning: importing \n",
       "'simtk.openmm' is deprecated.  Import 'openmm' instead.\n",
       "</pre>\n"
      ],
      "text/plain": [
       "\u001b[2;36m(do_stratified_ray_discretization pid=248588)\u001b[0m Warning: importing \n",
       "'simtk.openmm' is deprecated.  Import 'openmm' instead.\n"
      ]
     },
     "metadata": {},
     "output_type": "display_data"
    },
    {
     "data": {
      "text/html": [
       "<pre style=\"white-space:pre;overflow-x:auto;line-height:normal;font-family:Menlo,'DejaVu Sans Mono',consolas,'Courier New',monospace\"><span style=\"color: #7fbfbf; text-decoration-color: #7fbfbf\">(do_stratified_ray_discretization pid=248600)</span> Warning: importing \n",
       "'simtk.openmm' is deprecated.  Import 'openmm' instead.\n",
       "</pre>\n"
      ],
      "text/plain": [
       "\u001b[2;36m(do_stratified_ray_discretization pid=248600)\u001b[0m Warning: importing \n",
       "'simtk.openmm' is deprecated.  Import 'openmm' instead.\n"
      ]
     },
     "metadata": {},
     "output_type": "display_data"
    },
    {
     "data": {
      "text/html": [
       "<pre style=\"white-space:pre;overflow-x:auto;line-height:normal;font-family:Menlo,'DejaVu Sans Mono',consolas,'Courier New',monospace\"><span style=\"color: #7fbfbf; text-decoration-color: #7fbfbf\">(do_stratified_ray_discretization pid=248586)</span> Warning: importing \n",
       "'simtk.openmm' is deprecated.  Import 'openmm' instead.\n",
       "</pre>\n"
      ],
      "text/plain": [
       "\u001b[2;36m(do_stratified_ray_discretization pid=248586)\u001b[0m Warning: importing \n",
       "'simtk.openmm' is deprecated.  Import 'openmm' instead.\n"
      ]
     },
     "metadata": {},
     "output_type": "display_data"
    },
    {
     "data": {
      "text/html": [
       "<pre style=\"white-space:pre;overflow-x:auto;line-height:normal;font-family:Menlo,'DejaVu Sans Mono',consolas,'Courier New',monospace\"><span style=\"color: #7fbfbf; text-decoration-color: #7fbfbf\">(do_stratified_ray_discretization pid=248593)</span> Warning: importing \n",
       "'simtk.openmm' is deprecated.  Import 'openmm' instead.\n",
       "</pre>\n"
      ],
      "text/plain": [
       "\u001b[2;36m(do_stratified_ray_discretization pid=248593)\u001b[0m Warning: importing \n",
       "'simtk.openmm' is deprecated.  Import 'openmm' instead.\n"
      ]
     },
     "metadata": {},
     "output_type": "display_data"
    },
    {
     "data": {
      "text/html": [
       "<pre style=\"white-space:pre;overflow-x:auto;line-height:normal;font-family:Menlo,'DejaVu Sans Mono',consolas,'Courier New',monospace\"><span style=\"color: #7fbfbf; text-decoration-color: #7fbfbf\">(do_stratified_ray_discretization pid=248587)</span> Warning: importing \n",
       "'simtk.openmm' is deprecated.  Import 'openmm' instead.\n",
       "</pre>\n"
      ],
      "text/plain": [
       "\u001b[2;36m(do_stratified_ray_discretization pid=248587)\u001b[0m Warning: importing \n",
       "'simtk.openmm' is deprecated.  Import 'openmm' instead.\n"
      ]
     },
     "metadata": {},
     "output_type": "display_data"
    },
    {
     "data": {
      "text/html": [
       "<pre style=\"white-space:pre;overflow-x:auto;line-height:normal;font-family:Menlo,'DejaVu Sans Mono',consolas,'Courier New',monospace\"><span style=\"color: #7fbfbf; text-decoration-color: #7fbfbf\">(do_stratified_ray_discretization pid=248595)</span> Warning: importing \n",
       "'simtk.openmm' is deprecated.  Import 'openmm' instead.\n",
       "</pre>\n"
      ],
      "text/plain": [
       "\u001b[2;36m(do_stratified_ray_discretization pid=248595)\u001b[0m Warning: importing \n",
       "'simtk.openmm' is deprecated.  Import 'openmm' instead.\n"
      ]
     },
     "metadata": {},
     "output_type": "display_data"
    },
    {
     "data": {
      "text/html": [
       "<pre style=\"white-space:pre;overflow-x:auto;line-height:normal;font-family:Menlo,'DejaVu Sans Mono',consolas,'Courier New',monospace\"><span style=\"color: #7fbfbf; text-decoration-color: #7fbfbf\">(do_stratified_ray_discretization pid=248599)</span> Warning: importing \n",
       "'simtk.openmm' is deprecated.  Import 'openmm' instead.\n",
       "</pre>\n"
      ],
      "text/plain": [
       "\u001b[2;36m(do_stratified_ray_discretization pid=248599)\u001b[0m Warning: importing \n",
       "'simtk.openmm' is deprecated.  Import 'openmm' instead.\n"
      ]
     },
     "metadata": {},
     "output_type": "display_data"
    },
    {
     "data": {
      "text/html": [
       "<pre style=\"white-space:pre;overflow-x:auto;line-height:normal;font-family:Menlo,'DejaVu Sans Mono',consolas,'Courier New',monospace\"><span style=\"color: #7fbfbf; text-decoration-color: #7fbfbf\">(do_stratified_ray_discretization pid=248601)</span> Warning: importing \n",
       "'simtk.openmm' is deprecated.  Import 'openmm' instead.\n",
       "</pre>\n"
      ],
      "text/plain": [
       "\u001b[2;36m(do_stratified_ray_discretization pid=248601)\u001b[0m Warning: importing \n",
       "'simtk.openmm' is deprecated.  Import 'openmm' instead.\n"
      ]
     },
     "metadata": {},
     "output_type": "display_data"
    },
    {
     "data": {
      "text/html": [
       "<pre style=\"white-space:pre;overflow-x:auto;line-height:normal;font-family:Menlo,'DejaVu Sans Mono',consolas,'Courier New',monospace\"><span style=\"color: #000080; text-decoration-color: #000080\">INFO    </span> Discretization complete                   <a href=\"file:///home/jd/msm_we/msm_we/msm_we.py\" target=\"_blank\"><span style=\"color: #7f7f7f; text-decoration-color: #7f7f7f\">msm_we.py</span></a><span style=\"color: #7f7f7f; text-decoration-color: #7f7f7f\">:</span><a href=\"file:///home/jd/msm_we/msm_we/msm_we.py#4194\" target=\"_blank\"><span style=\"color: #7f7f7f; text-decoration-color: #7f7f7f\">4194</span></a>\n",
       "</pre>\n"
      ],
      "text/plain": [
       "\u001b[34mINFO    \u001b[0m Discretization complete                   \u001b]8;id=228277;file:///home/jd/msm_we/msm_we/msm_we.py\u001b\\\u001b[2mmsm_we.py\u001b[0m\u001b]8;;\u001b\\\u001b[2m:\u001b[0m\u001b]8;id=291358;file:///home/jd/msm_we/msm_we/msm_we.py#4194\u001b\\\u001b[2m4194\u001b[0m\u001b]8;;\u001b\\\n"
      ]
     },
     "metadata": {},
     "output_type": "display_data"
    },
    {
     "data": {
      "text/html": [
       "<pre style=\"white-space:pre;overflow-x:auto;line-height:normal;font-family:Menlo,'DejaVu Sans Mono',consolas,'Courier New',monospace\"><span style=\"color: #000080; text-decoration-color: #000080\">INFO    </span> Using Ray cluster with <span style=\"color: #008080; text-decoration-color: #008080; font-weight: bold\">16.0</span> CPUs!          <a href=\"file:///home/jd/msm_we/msm_we/msm_we.py\" target=\"_blank\"><span style=\"color: #7f7f7f; text-decoration-color: #7f7f7f\">msm_we.py</span></a><span style=\"color: #7f7f7f; text-decoration-color: #7f7f7f\">:</span><a href=\"file:///home/jd/msm_we/msm_we/msm_we.py#873\" target=\"_blank\"><span style=\"color: #7f7f7f; text-decoration-color: #7f7f7f\">873</span></a>\n",
       "</pre>\n"
      ],
      "text/plain": [
       "\u001b[34mINFO    \u001b[0m Using Ray cluster with \u001b[1;36m16.0\u001b[0m CPUs!          \u001b]8;id=641195;file:///home/jd/msm_we/msm_we/msm_we.py\u001b\\\u001b[2mmsm_we.py\u001b[0m\u001b]8;;\u001b\\\u001b[2m:\u001b[0m\u001b]8;id=985191;file:///home/jd/msm_we/msm_we/msm_we.py#873\u001b\\\u001b[2m873\u001b[0m\u001b]8;;\u001b\\\n"
      ]
     },
     "metadata": {},
     "output_type": "display_data"
    },
    {
     "data": {
      "application/vnd.jupyter.widget-view+json": {
       "model_id": "ba0d67da86d647cabd5131298714ed6e",
       "version_major": 2,
       "version_minor": 0
      },
      "text/plain": [
       "Submitting fluxmatrix tasks:   0%|          | 0/98 [00:00<?, ?it/s]"
      ]
     },
     "metadata": {},
     "output_type": "display_data"
    },
    {
     "data": {
      "application/vnd.jupyter.widget-view+json": {
       "model_id": "50b42eb42dc14c30b5cb37edb9a716ed",
       "version_major": 2,
       "version_minor": 0
      },
      "text/plain": [
       "Retrieving flux matrices:   0%|          | 0/98 [00:00<?, ?it/s]"
      ]
     },
     "metadata": {},
     "output_type": "display_data"
    },
    {
     "data": {
      "text/html": [
       "<pre style=\"white-space:pre;overflow-x:auto;line-height:normal;font-family:Menlo,'DejaVu Sans Mono',consolas,'Courier New',monospace\"><span style=\"color: #000080; text-decoration-color: #000080\">INFO    </span> Fluxmatrices all obtained                 <a href=\"file:///home/jd/msm_we/msm_we/msm_we.py\" target=\"_blank\"><span style=\"color: #7f7f7f; text-decoration-color: #7f7f7f\">msm_we.py</span></a><span style=\"color: #7f7f7f; text-decoration-color: #7f7f7f\">:</span><a href=\"file:///home/jd/msm_we/msm_we/msm_we.py#4943\" target=\"_blank\"><span style=\"color: #7f7f7f; text-decoration-color: #7f7f7f\">4943</span></a>\n",
       "</pre>\n"
      ],
      "text/plain": [
       "\u001b[34mINFO    \u001b[0m Fluxmatrices all obtained                 \u001b]8;id=543145;file:///home/jd/msm_we/msm_we/msm_we.py\u001b\\\u001b[2mmsm_we.py\u001b[0m\u001b]8;;\u001b\\\u001b[2m:\u001b[0m\u001b]8;id=919676;file:///home/jd/msm_we/msm_we/msm_we.py#4943\u001b\\\u001b[2m4943\u001b[0m\u001b]8;;\u001b\\\n"
      ]
     },
     "metadata": {},
     "output_type": "display_data"
    },
    {
     "data": {
      "text/html": [
       "<pre style=\"white-space:pre;overflow-x:auto;line-height:normal;font-family:Menlo,'DejaVu Sans Mono',consolas,'Courier New',monospace\"><span style=\"color: #000080; text-decoration-color: #000080\">INFO    </span> Started with <span style=\"color: #008080; text-decoration-color: #008080; font-weight: bold\">300</span> clusters, and removed    <a href=\"file:///home/jd/msm_we/msm_we/msm_we.py\" target=\"_blank\"><span style=\"color: #7f7f7f; text-decoration-color: #7f7f7f\">msm_we.py</span></a><span style=\"color: #7f7f7f; text-decoration-color: #7f7f7f\">:</span><a href=\"file:///home/jd/msm_we/msm_we/msm_we.py#4018\" target=\"_blank\"><span style=\"color: #7f7f7f; text-decoration-color: #7f7f7f\">4018</span></a>\n",
       "         <span style=\"color: #008080; text-decoration-color: #008080; font-weight: bold\">133</span>                                       <span style=\"color: #7f7f7f; text-decoration-color: #7f7f7f\">              </span>\n",
       "</pre>\n"
      ],
      "text/plain": [
       "\u001b[34mINFO    \u001b[0m Started with \u001b[1;36m300\u001b[0m clusters, and removed    \u001b]8;id=260159;file:///home/jd/msm_we/msm_we/msm_we.py\u001b\\\u001b[2mmsm_we.py\u001b[0m\u001b]8;;\u001b\\\u001b[2m:\u001b[0m\u001b]8;id=898352;file:///home/jd/msm_we/msm_we/msm_we.py#4018\u001b\\\u001b[2m4018\u001b[0m\u001b]8;;\u001b\\\n",
       "         \u001b[1;36m133\u001b[0m                                       \u001b[2m              \u001b[0m\n"
      ]
     },
     "metadata": {},
     "output_type": "display_data"
    },
    {
     "data": {
      "text/html": [
       "<pre style=\"white-space:pre;overflow-x:auto;line-height:normal;font-family:Menlo,'DejaVu Sans Mono',consolas,'Courier New',monospace\"><span style=\"color: #800000; text-decoration-color: #800000\">WARNING </span> All clusters were cleaned from bins <span style=\"font-weight: bold\">{</span><span style=\"color: #008080; text-decoration-color: #008080; font-weight: bold\">11</span><span style=\"font-weight: bold\">}</span>  <a href=\"file:///home/jd/msm_we/msm_we/msm_we.py\" target=\"_blank\"><span style=\"color: #7f7f7f; text-decoration-color: #7f7f7f\">msm_we.py</span></a><span style=\"color: #7f7f7f; text-decoration-color: #7f7f7f\">:</span><a href=\"file:///home/jd/msm_we/msm_we/msm_we.py#4034\" target=\"_blank\"><span style=\"color: #7f7f7f; text-decoration-color: #7f7f7f\">4034</span></a>\n",
       "</pre>\n"
      ],
      "text/plain": [
       "\u001b[31mWARNING \u001b[0m All clusters were cleaned from bins \u001b[1m{\u001b[0m\u001b[1;36m11\u001b[0m\u001b[1m}\u001b[0m  \u001b]8;id=296594;file:///home/jd/msm_we/msm_we/msm_we.py\u001b\\\u001b[2mmsm_we.py\u001b[0m\u001b]8;;\u001b\\\u001b[2m:\u001b[0m\u001b]8;id=932227;file:///home/jd/msm_we/msm_we/msm_we.py#4034\u001b\\\u001b[2m4034\u001b[0m\u001b]8;;\u001b\\\n"
      ]
     },
     "metadata": {},
     "output_type": "display_data"
    },
    {
     "data": {
      "text/html": [
       "<pre style=\"white-space:pre;overflow-x:auto;line-height:normal;font-family:Menlo,'DejaVu Sans Mono',consolas,'Courier New',monospace\"><span style=\"color: #000080; text-decoration-color: #000080\">INFO    </span> Using Ray cluster with <span style=\"color: #008080; text-decoration-color: #008080; font-weight: bold\">16.0</span> CPUs!          <a href=\"file:///home/jd/msm_we/msm_we/msm_we.py\" target=\"_blank\"><span style=\"color: #7f7f7f; text-decoration-color: #7f7f7f\">msm_we.py</span></a><span style=\"color: #7f7f7f; text-decoration-color: #7f7f7f\">:</span><a href=\"file:///home/jd/msm_we/msm_we/msm_we.py#873\" target=\"_blank\"><span style=\"color: #7f7f7f; text-decoration-color: #7f7f7f\">873</span></a>\n",
       "</pre>\n"
      ],
      "text/plain": [
       "\u001b[34mINFO    \u001b[0m Using Ray cluster with \u001b[1;36m16.0\u001b[0m CPUs!          \u001b]8;id=893288;file:///home/jd/msm_we/msm_we/msm_we.py\u001b\\\u001b[2mmsm_we.py\u001b[0m\u001b]8;;\u001b\\\u001b[2m:\u001b[0m\u001b]8;id=154164;file:///home/jd/msm_we/msm_we/msm_we.py#873\u001b\\\u001b[2m873\u001b[0m\u001b]8;;\u001b\\\n"
      ]
     },
     "metadata": {},
     "output_type": "display_data"
    },
    {
     "data": {
      "text/html": [
       "<pre style=\"white-space:pre;overflow-x:auto;line-height:normal;font-family:Menlo,'DejaVu Sans Mono',consolas,'Courier New',monospace\"><span style=\"color: #000080; text-decoration-color: #000080\">INFO    </span> Using cached model for discretization     <a href=\"file:///home/jd/msm_we/msm_we/msm_we.py\" target=\"_blank\"><span style=\"color: #7f7f7f; text-decoration-color: #7f7f7f\">msm_we.py</span></a><span style=\"color: #7f7f7f; text-decoration-color: #7f7f7f\">:</span><a href=\"file:///home/jd/msm_we/msm_we/msm_we.py#4130\" target=\"_blank\"><span style=\"color: #7f7f7f; text-decoration-color: #7f7f7f\">4130</span></a>\n",
       "</pre>\n"
      ],
      "text/plain": [
       "\u001b[34mINFO    \u001b[0m Using cached model for discretization     \u001b]8;id=131178;file:///home/jd/msm_we/msm_we/msm_we.py\u001b\\\u001b[2mmsm_we.py\u001b[0m\u001b]8;;\u001b\\\u001b[2m:\u001b[0m\u001b]8;id=817504;file:///home/jd/msm_we/msm_we/msm_we.py#4130\u001b\\\u001b[2m4130\u001b[0m\u001b]8;;\u001b\\\n"
      ]
     },
     "metadata": {},
     "output_type": "display_data"
    },
    {
     "data": {
      "application/vnd.jupyter.widget-view+json": {
       "model_id": "674b18c758bd41018ad8483b7e1164a9",
       "version_major": 2,
       "version_minor": 0
      },
      "text/plain": [
       "Submitting discretization tasks:   0%|          | 0/99 [00:00<?, ?it/s]"
      ]
     },
     "metadata": {},
     "output_type": "display_data"
    },
    {
     "data": {
      "application/vnd.jupyter.widget-view+json": {
       "model_id": "fbb2f6de04c54025879d04c869a3c77d",
       "version_major": 2,
       "version_minor": 0
      },
      "text/plain": [
       "Retrieving discretized trajectories:   0%|          | 0/99 [00:00<?, ?it/s]"
      ]
     },
     "metadata": {},
     "output_type": "display_data"
    },
    {
     "data": {
      "text/html": [
       "<pre style=\"white-space:pre;overflow-x:auto;line-height:normal;font-family:Menlo,'DejaVu Sans Mono',consolas,'Courier New',monospace\"><span style=\"color: #000080; text-decoration-color: #000080\">INFO    </span> Discretization complete                   <a href=\"file:///home/jd/msm_we/msm_we/msm_we.py\" target=\"_blank\"><span style=\"color: #7f7f7f; text-decoration-color: #7f7f7f\">msm_we.py</span></a><span style=\"color: #7f7f7f; text-decoration-color: #7f7f7f\">:</span><a href=\"file:///home/jd/msm_we/msm_we/msm_we.py#4194\" target=\"_blank\"><span style=\"color: #7f7f7f; text-decoration-color: #7f7f7f\">4194</span></a>\n",
       "</pre>\n"
      ],
      "text/plain": [
       "\u001b[34mINFO    \u001b[0m Discretization complete                   \u001b]8;id=624133;file:///home/jd/msm_we/msm_we/msm_we.py\u001b\\\u001b[2mmsm_we.py\u001b[0m\u001b]8;;\u001b\\\u001b[2m:\u001b[0m\u001b]8;id=460595;file:///home/jd/msm_we/msm_we/msm_we.py#4194\u001b\\\u001b[2m4194\u001b[0m\u001b]8;;\u001b\\\n"
      ]
     },
     "metadata": {},
     "output_type": "display_data"
    },
    {
     "data": {
      "text/html": [
       "<pre style=\"white-space:pre;overflow-x:auto;line-height:normal;font-family:Menlo,'DejaVu Sans Mono',consolas,'Courier New',monospace\">/home/jd/msm_we/msm_we/msm_we.py:4265: VisibleDeprecationWarning:\n",
       "Creating an ndarray from ragged nested sequences (which is a \n",
       "list-or-tuple of lists-or-tuples-or ndarrays with different \n",
       "lengths or shapes) is deprecated. If you meant to do this, you \n",
       "must specify 'dtype=object' when creating the ndarray.\n",
       "  self.targetRMSD_all = \n",
       "np.array(cluster_pcoord_all)[pcoord_sort_indices]\n",
       "</pre>\n"
      ],
      "text/plain": [
       "/home/jd/msm_we/msm_we/msm_we.py:4265: VisibleDeprecationWarning:\n",
       "Creating an ndarray from ragged nested sequences (which is a \n",
       "list-or-tuple of lists-or-tuples-or ndarrays with different \n",
       "lengths or shapes) is deprecated. If you meant to do this, you \n",
       "must specify 'dtype=object' when creating the ndarray.\n",
       "  self.targetRMSD_all = \n",
       "np.array(cluster_pcoord_all)[pcoord_sort_indices]\n"
      ]
     },
     "metadata": {},
     "output_type": "display_data"
    },
    {
     "data": {
      "text/html": [
       "<pre style=\"white-space:pre;overflow-x:auto;line-height:normal;font-family:Menlo,'DejaVu Sans Mono',consolas,'Courier New',monospace\"><span style=\"color: #000080; text-decoration-color: #000080\">INFO    </span> Using Ray cluster with <span style=\"color: #008080; text-decoration-color: #008080; font-weight: bold\">16.0</span> CPUs!          <a href=\"file:///home/jd/msm_we/msm_we/msm_we.py\" target=\"_blank\"><span style=\"color: #7f7f7f; text-decoration-color: #7f7f7f\">msm_we.py</span></a><span style=\"color: #7f7f7f; text-decoration-color: #7f7f7f\">:</span><a href=\"file:///home/jd/msm_we/msm_we/msm_we.py#873\" target=\"_blank\"><span style=\"color: #7f7f7f; text-decoration-color: #7f7f7f\">873</span></a>\n",
       "</pre>\n"
      ],
      "text/plain": [
       "\u001b[34mINFO    \u001b[0m Using Ray cluster with \u001b[1;36m16.0\u001b[0m CPUs!          \u001b]8;id=635152;file:///home/jd/msm_we/msm_we/msm_we.py\u001b\\\u001b[2mmsm_we.py\u001b[0m\u001b]8;;\u001b\\\u001b[2m:\u001b[0m\u001b]8;id=392711;file:///home/jd/msm_we/msm_we/msm_we.py#873\u001b\\\u001b[2m873\u001b[0m\u001b]8;;\u001b\\\n"
      ]
     },
     "metadata": {},
     "output_type": "display_data"
    },
    {
     "data": {
      "application/vnd.jupyter.widget-view+json": {
       "model_id": "0bf7ce35b1064c68a7183fb3721b8c82",
       "version_major": 2,
       "version_minor": 0
      },
      "text/plain": [
       "Submitting fluxmatrix tasks:   0%|          | 0/98 [00:00<?, ?it/s]"
      ]
     },
     "metadata": {},
     "output_type": "display_data"
    },
    {
     "data": {
      "application/vnd.jupyter.widget-view+json": {
       "model_id": "a3039b08396f4469b14ab63392f1998a",
       "version_major": 2,
       "version_minor": 0
      },
      "text/plain": [
       "Retrieving flux matrices:   0%|          | 0/98 [00:00<?, ?it/s]"
      ]
     },
     "metadata": {},
     "output_type": "display_data"
    },
    {
     "data": {
      "text/html": [
       "<pre style=\"white-space:pre;overflow-x:auto;line-height:normal;font-family:Menlo,'DejaVu Sans Mono',consolas,'Courier New',monospace\"><span style=\"color: #000080; text-decoration-color: #000080\">INFO    </span> Fluxmatrices all obtained                 <a href=\"file:///home/jd/msm_we/msm_we/msm_we.py\" target=\"_blank\"><span style=\"color: #7f7f7f; text-decoration-color: #7f7f7f\">msm_we.py</span></a><span style=\"color: #7f7f7f; text-decoration-color: #7f7f7f\">:</span><a href=\"file:///home/jd/msm_we/msm_we/msm_we.py#4943\" target=\"_blank\"><span style=\"color: #7f7f7f; text-decoration-color: #7f7f7f\">4943</span></a>\n",
       "</pre>\n"
      ],
      "text/plain": [
       "\u001b[34mINFO    \u001b[0m Fluxmatrices all obtained                 \u001b]8;id=630098;file:///home/jd/msm_we/msm_we/msm_we.py\u001b\\\u001b[2mmsm_we.py\u001b[0m\u001b]8;;\u001b\\\u001b[2m:\u001b[0m\u001b]8;id=552279;file:///home/jd/msm_we/msm_we/msm_we.py#4943\u001b\\\u001b[2m4943\u001b[0m\u001b]8;;\u001b\\\n"
      ]
     },
     "metadata": {},
     "output_type": "display_data"
    },
    {
     "data": {
      "text/html": [
       "<pre style=\"white-space:pre;overflow-x:auto;line-height:normal;font-family:Menlo,'DejaVu Sans Mono',consolas,'Courier New',monospace\"><span style=\"color: #000080; text-decoration-color: #000080\">INFO    </span>                                           <a href=\"file:///home/jd/msm_we/msm_we/msm_we.py\" target=\"_blank\"><span style=\"color: #7f7f7f; text-decoration-color: #7f7f7f\">msm_we.py</span></a><span style=\"color: #7f7f7f; text-decoration-color: #7f7f7f\">:</span><a href=\"file:///home/jd/msm_we/msm_we/msm_we.py#5592\" target=\"_blank\"><span style=\"color: #7f7f7f; text-decoration-color: #7f7f7f\">5592</span></a>\n",
       "         Flux converged to <span style=\"color: #008080; text-decoration-color: #008080; font-weight: bold\">2.1088e+06</span> after <span style=\"color: #008080; text-decoration-color: #008080; font-weight: bold\">1</span>      <span style=\"color: #7f7f7f; text-decoration-color: #7f7f7f\">              </span>\n",
       "         iterations of inverse iteration.          <span style=\"color: #7f7f7f; text-decoration-color: #7f7f7f\">              </span>\n",
       "</pre>\n"
      ],
      "text/plain": [
       "\u001b[34mINFO    \u001b[0m                                           \u001b]8;id=287154;file:///home/jd/msm_we/msm_we/msm_we.py\u001b\\\u001b[2mmsm_we.py\u001b[0m\u001b]8;;\u001b\\\u001b[2m:\u001b[0m\u001b]8;id=541188;file:///home/jd/msm_we/msm_we/msm_we.py#5592\u001b\\\u001b[2m5592\u001b[0m\u001b]8;;\u001b\\\n",
       "         Flux converged to \u001b[1;36m2.1088e+06\u001b[0m after \u001b[1;36m1\u001b[0m      \u001b[2m              \u001b[0m\n",
       "         iterations of inverse iteration.          \u001b[2m              \u001b[0m\n"
      ]
     },
     "metadata": {},
     "output_type": "display_data"
    },
    {
     "data": {
      "text/html": [
       "<pre style=\"white-space:pre;overflow-x:auto;line-height:normal;font-family:Menlo,'DejaVu Sans Mono',consolas,'Courier New',monospace\"><span style=\"color: #000080; text-decoration-color: #000080\">INFO    </span> Done with steady-state estimation.        <a href=\"file:///home/jd/msm_we/msm_we/msm_we.py\" target=\"_blank\"><span style=\"color: #7f7f7f; text-decoration-color: #7f7f7f\">msm_we.py</span></a><span style=\"color: #7f7f7f; text-decoration-color: #7f7f7f\">:</span><a href=\"file:///home/jd/msm_we/msm_we/msm_we.py#5603\" target=\"_blank\"><span style=\"color: #7f7f7f; text-decoration-color: #7f7f7f\">5603</span></a>\n",
       "</pre>\n"
      ],
      "text/plain": [
       "\u001b[34mINFO    \u001b[0m Done with steady-state estimation.        \u001b]8;id=616273;file:///home/jd/msm_we/msm_we/msm_we.py\u001b\\\u001b[2mmsm_we.py\u001b[0m\u001b]8;;\u001b\\\u001b[2m:\u001b[0m\u001b]8;id=486607;file:///home/jd/msm_we/msm_we/msm_we.py#5603\u001b\\\u001b[2m5603\u001b[0m\u001b]8;;\u001b\\\n"
      ]
     },
     "metadata": {},
     "output_type": "display_data"
    },
    {
     "data": {
      "text/html": [
       "<pre style=\"white-space:pre;overflow-x:auto;line-height:normal;font-family:Menlo,'DejaVu Sans Mono',consolas,'Courier New',monospace\"><span style=\"color: #000080; text-decoration-color: #000080\">INFO    </span> Beginning analysis of cross-validation    <a href=\"file:///home/jd/msm_we/msm_we/msm_we.py\" target=\"_blank\"><span style=\"color: #7f7f7f; text-decoration-color: #7f7f7f\">msm_we.py</span></a><span style=\"color: #7f7f7f; text-decoration-color: #7f7f7f\">:</span><a href=\"file:///home/jd/msm_we/msm_we/msm_we.py#1339\" target=\"_blank\"><span style=\"color: #7f7f7f; text-decoration-color: #7f7f7f\">1339</span></a>\n",
       "         group <span style=\"color: #008080; text-decoration-color: #008080; font-weight: bold\">1</span>/<span style=\"color: #008080; text-decoration-color: #008080; font-weight: bold\">2</span>.                                <span style=\"color: #7f7f7f; text-decoration-color: #7f7f7f\">              </span>\n",
       "</pre>\n"
      ],
      "text/plain": [
       "\u001b[34mINFO    \u001b[0m Beginning analysis of cross-validation    \u001b]8;id=65107;file:///home/jd/msm_we/msm_we/msm_we.py\u001b\\\u001b[2mmsm_we.py\u001b[0m\u001b]8;;\u001b\\\u001b[2m:\u001b[0m\u001b]8;id=873046;file:///home/jd/msm_we/msm_we/msm_we.py#1339\u001b\\\u001b[2m1339\u001b[0m\u001b]8;;\u001b\\\n",
       "         group \u001b[1;36m1\u001b[0m/\u001b[1;36m2\u001b[0m.                                \u001b[2m              \u001b[0m\n"
      ]
     },
     "metadata": {},
     "output_type": "display_data"
    },
    {
     "data": {
      "text/html": [
       "<pre style=\"white-space:pre;overflow-x:auto;line-height:normal;font-family:Menlo,'DejaVu Sans Mono',consolas,'Courier New',monospace\"><span style=\"color: #000080; text-decoration-color: #000080\">INFO    </span> Using Ray cluster with <span style=\"color: #008080; text-decoration-color: #008080; font-weight: bold\">16.0</span> CPUs!          <a href=\"file:///home/jd/msm_we/msm_we/msm_we.py\" target=\"_blank\"><span style=\"color: #7f7f7f; text-decoration-color: #7f7f7f\">msm_we.py</span></a><span style=\"color: #7f7f7f; text-decoration-color: #7f7f7f\">:</span><a href=\"file:///home/jd/msm_we/msm_we/msm_we.py#873\" target=\"_blank\"><span style=\"color: #7f7f7f; text-decoration-color: #7f7f7f\">873</span></a>\n",
       "</pre>\n"
      ],
      "text/plain": [
       "\u001b[34mINFO    \u001b[0m Using Ray cluster with \u001b[1;36m16.0\u001b[0m CPUs!          \u001b]8;id=657396;file:///home/jd/msm_we/msm_we/msm_we.py\u001b\\\u001b[2mmsm_we.py\u001b[0m\u001b]8;;\u001b\\\u001b[2m:\u001b[0m\u001b]8;id=689592;file:///home/jd/msm_we/msm_we/msm_we.py#873\u001b\\\u001b[2m873\u001b[0m\u001b]8;;\u001b\\\n"
      ]
     },
     "metadata": {},
     "output_type": "display_data"
    },
    {
     "data": {
      "application/vnd.jupyter.widget-view+json": {
       "model_id": "6f7d3bd6db0c473180a8022f67947490",
       "version_major": 2,
       "version_minor": 0
      },
      "text/plain": [
       "Submitting fluxmatrix tasks:   0%|          | 0/50 [00:00<?, ?it/s]"
      ]
     },
     "metadata": {},
     "output_type": "display_data"
    },
    {
     "data": {
      "application/vnd.jupyter.widget-view+json": {
       "model_id": "541b6b21bcb047a0b6466cb49c1e7d30",
       "version_major": 2,
       "version_minor": 0
      },
      "text/plain": [
       "Retrieving flux matrices:   0%|          | 0/50 [00:00<?, ?it/s]"
      ]
     },
     "metadata": {},
     "output_type": "display_data"
    },
    {
     "data": {
      "text/html": [
       "<pre style=\"white-space:pre;overflow-x:auto;line-height:normal;font-family:Menlo,'DejaVu Sans Mono',consolas,'Courier New',monospace\"><span style=\"color: #000080; text-decoration-color: #000080\">INFO    </span> Fluxmatrices all obtained                 <a href=\"file:///home/jd/msm_we/msm_we/msm_we.py\" target=\"_blank\"><span style=\"color: #7f7f7f; text-decoration-color: #7f7f7f\">msm_we.py</span></a><span style=\"color: #7f7f7f; text-decoration-color: #7f7f7f\">:</span><a href=\"file:///home/jd/msm_we/msm_we/msm_we.py#4943\" target=\"_blank\"><span style=\"color: #7f7f7f; text-decoration-color: #7f7f7f\">4943</span></a>\n",
       "</pre>\n"
      ],
      "text/plain": [
       "\u001b[34mINFO    \u001b[0m Fluxmatrices all obtained                 \u001b]8;id=805672;file:///home/jd/msm_we/msm_we/msm_we.py\u001b\\\u001b[2mmsm_we.py\u001b[0m\u001b]8;;\u001b\\\u001b[2m:\u001b[0m\u001b]8;id=886361;file:///home/jd/msm_we/msm_we/msm_we.py#4943\u001b\\\u001b[2m4943\u001b[0m\u001b]8;;\u001b\\\n"
      ]
     },
     "metadata": {},
     "output_type": "display_data"
    },
    {
     "data": {
      "text/html": [
       "<pre style=\"white-space:pre;overflow-x:auto;line-height:normal;font-family:Menlo,'DejaVu Sans Mono',consolas,'Courier New',monospace\"><span style=\"color: #000080; text-decoration-color: #000080\">INFO    </span> Started with <span style=\"color: #008080; text-decoration-color: #008080; font-weight: bold\">300</span> clusters, and removed    <a href=\"file:///home/jd/msm_we/msm_we/msm_we.py\" target=\"_blank\"><span style=\"color: #7f7f7f; text-decoration-color: #7f7f7f\">msm_we.py</span></a><span style=\"color: #7f7f7f; text-decoration-color: #7f7f7f\">:</span><a href=\"file:///home/jd/msm_we/msm_we/msm_we.py#4018\" target=\"_blank\"><span style=\"color: #7f7f7f; text-decoration-color: #7f7f7f\">4018</span></a>\n",
       "         <span style=\"color: #008080; text-decoration-color: #008080; font-weight: bold\">155</span>                                       <span style=\"color: #7f7f7f; text-decoration-color: #7f7f7f\">              </span>\n",
       "</pre>\n"
      ],
      "text/plain": [
       "\u001b[34mINFO    \u001b[0m Started with \u001b[1;36m300\u001b[0m clusters, and removed    \u001b]8;id=345395;file:///home/jd/msm_we/msm_we/msm_we.py\u001b\\\u001b[2mmsm_we.py\u001b[0m\u001b]8;;\u001b\\\u001b[2m:\u001b[0m\u001b]8;id=690127;file:///home/jd/msm_we/msm_we/msm_we.py#4018\u001b\\\u001b[2m4018\u001b[0m\u001b]8;;\u001b\\\n",
       "         \u001b[1;36m155\u001b[0m                                       \u001b[2m              \u001b[0m\n"
      ]
     },
     "metadata": {},
     "output_type": "display_data"
    },
    {
     "data": {
      "text/html": [
       "<pre style=\"white-space:pre;overflow-x:auto;line-height:normal;font-family:Menlo,'DejaVu Sans Mono',consolas,'Courier New',monospace\"><span style=\"color: #800000; text-decoration-color: #800000\">WARNING </span> All clusters were cleaned from bins <span style=\"font-weight: bold\">{</span><span style=\"color: #008080; text-decoration-color: #008080; font-weight: bold\">11</span><span style=\"font-weight: bold\">}</span>  <a href=\"file:///home/jd/msm_we/msm_we/msm_we.py\" target=\"_blank\"><span style=\"color: #7f7f7f; text-decoration-color: #7f7f7f\">msm_we.py</span></a><span style=\"color: #7f7f7f; text-decoration-color: #7f7f7f\">:</span><a href=\"file:///home/jd/msm_we/msm_we/msm_we.py#4034\" target=\"_blank\"><span style=\"color: #7f7f7f; text-decoration-color: #7f7f7f\">4034</span></a>\n",
       "</pre>\n"
      ],
      "text/plain": [
       "\u001b[31mWARNING \u001b[0m All clusters were cleaned from bins \u001b[1m{\u001b[0m\u001b[1;36m11\u001b[0m\u001b[1m}\u001b[0m  \u001b]8;id=51242;file:///home/jd/msm_we/msm_we/msm_we.py\u001b\\\u001b[2mmsm_we.py\u001b[0m\u001b]8;;\u001b\\\u001b[2m:\u001b[0m\u001b]8;id=353278;file:///home/jd/msm_we/msm_we/msm_we.py#4034\u001b\\\u001b[2m4034\u001b[0m\u001b]8;;\u001b\\\n"
      ]
     },
     "metadata": {},
     "output_type": "display_data"
    },
    {
     "data": {
      "text/html": [
       "<pre style=\"white-space:pre;overflow-x:auto;line-height:normal;font-family:Menlo,'DejaVu Sans Mono',consolas,'Courier New',monospace\"><span style=\"color: #000080; text-decoration-color: #000080\">INFO    </span> Using Ray cluster with <span style=\"color: #008080; text-decoration-color: #008080; font-weight: bold\">16.0</span> CPUs!          <a href=\"file:///home/jd/msm_we/msm_we/msm_we.py\" target=\"_blank\"><span style=\"color: #7f7f7f; text-decoration-color: #7f7f7f\">msm_we.py</span></a><span style=\"color: #7f7f7f; text-decoration-color: #7f7f7f\">:</span><a href=\"file:///home/jd/msm_we/msm_we/msm_we.py#873\" target=\"_blank\"><span style=\"color: #7f7f7f; text-decoration-color: #7f7f7f\">873</span></a>\n",
       "</pre>\n"
      ],
      "text/plain": [
       "\u001b[34mINFO    \u001b[0m Using Ray cluster with \u001b[1;36m16.0\u001b[0m CPUs!          \u001b]8;id=149634;file:///home/jd/msm_we/msm_we/msm_we.py\u001b\\\u001b[2mmsm_we.py\u001b[0m\u001b]8;;\u001b\\\u001b[2m:\u001b[0m\u001b]8;id=836712;file:///home/jd/msm_we/msm_we/msm_we.py#873\u001b\\\u001b[2m873\u001b[0m\u001b]8;;\u001b\\\n"
      ]
     },
     "metadata": {},
     "output_type": "display_data"
    },
    {
     "data": {
      "text/html": [
       "<pre style=\"white-space:pre;overflow-x:auto;line-height:normal;font-family:Menlo,'DejaVu Sans Mono',consolas,'Courier New',monospace\"><span style=\"color: #000080; text-decoration-color: #000080\">INFO    </span> Using cached model for discretization     <a href=\"file:///home/jd/msm_we/msm_we/msm_we.py\" target=\"_blank\"><span style=\"color: #7f7f7f; text-decoration-color: #7f7f7f\">msm_we.py</span></a><span style=\"color: #7f7f7f; text-decoration-color: #7f7f7f\">:</span><a href=\"file:///home/jd/msm_we/msm_we/msm_we.py#4130\" target=\"_blank\"><span style=\"color: #7f7f7f; text-decoration-color: #7f7f7f\">4130</span></a>\n",
       "</pre>\n"
      ],
      "text/plain": [
       "\u001b[34mINFO    \u001b[0m Using cached model for discretization     \u001b]8;id=146859;file:///home/jd/msm_we/msm_we/msm_we.py\u001b\\\u001b[2mmsm_we.py\u001b[0m\u001b]8;;\u001b\\\u001b[2m:\u001b[0m\u001b]8;id=382713;file:///home/jd/msm_we/msm_we/msm_we.py#4130\u001b\\\u001b[2m4130\u001b[0m\u001b]8;;\u001b\\\n"
      ]
     },
     "metadata": {},
     "output_type": "display_data"
    },
    {
     "data": {
      "application/vnd.jupyter.widget-view+json": {
       "model_id": "6d0fb9c0e33c41118c2f0347372c8cdd",
       "version_major": 2,
       "version_minor": 0
      },
      "text/plain": [
       "Submitting discretization tasks:   0%|          | 0/99 [00:00<?, ?it/s]"
      ]
     },
     "metadata": {},
     "output_type": "display_data"
    },
    {
     "data": {
      "application/vnd.jupyter.widget-view+json": {
       "model_id": "30df655530f4460495708f1b5ca46b95",
       "version_major": 2,
       "version_minor": 0
      },
      "text/plain": [
       "Retrieving discretized trajectories:   0%|          | 0/99 [00:00<?, ?it/s]"
      ]
     },
     "metadata": {},
     "output_type": "display_data"
    },
    {
     "data": {
      "text/html": [
       "<pre style=\"white-space:pre;overflow-x:auto;line-height:normal;font-family:Menlo,'DejaVu Sans Mono',consolas,'Courier New',monospace\"><span style=\"color: #000080; text-decoration-color: #000080\">INFO    </span> Discretization complete                   <a href=\"file:///home/jd/msm_we/msm_we/msm_we.py\" target=\"_blank\"><span style=\"color: #7f7f7f; text-decoration-color: #7f7f7f\">msm_we.py</span></a><span style=\"color: #7f7f7f; text-decoration-color: #7f7f7f\">:</span><a href=\"file:///home/jd/msm_we/msm_we/msm_we.py#4194\" target=\"_blank\"><span style=\"color: #7f7f7f; text-decoration-color: #7f7f7f\">4194</span></a>\n",
       "</pre>\n"
      ],
      "text/plain": [
       "\u001b[34mINFO    \u001b[0m Discretization complete                   \u001b]8;id=144492;file:///home/jd/msm_we/msm_we/msm_we.py\u001b\\\u001b[2mmsm_we.py\u001b[0m\u001b]8;;\u001b\\\u001b[2m:\u001b[0m\u001b]8;id=798055;file:///home/jd/msm_we/msm_we/msm_we.py#4194\u001b\\\u001b[2m4194\u001b[0m\u001b]8;;\u001b\\\n"
      ]
     },
     "metadata": {},
     "output_type": "display_data"
    },
    {
     "data": {
      "text/html": [
       "<pre style=\"white-space:pre;overflow-x:auto;line-height:normal;font-family:Menlo,'DejaVu Sans Mono',consolas,'Courier New',monospace\"><span style=\"color: #000080; text-decoration-color: #000080\">INFO    </span> Using Ray cluster with <span style=\"color: #008080; text-decoration-color: #008080; font-weight: bold\">16.0</span> CPUs!          <a href=\"file:///home/jd/msm_we/msm_we/msm_we.py\" target=\"_blank\"><span style=\"color: #7f7f7f; text-decoration-color: #7f7f7f\">msm_we.py</span></a><span style=\"color: #7f7f7f; text-decoration-color: #7f7f7f\">:</span><a href=\"file:///home/jd/msm_we/msm_we/msm_we.py#873\" target=\"_blank\"><span style=\"color: #7f7f7f; text-decoration-color: #7f7f7f\">873</span></a>\n",
       "</pre>\n"
      ],
      "text/plain": [
       "\u001b[34mINFO    \u001b[0m Using Ray cluster with \u001b[1;36m16.0\u001b[0m CPUs!          \u001b]8;id=801155;file:///home/jd/msm_we/msm_we/msm_we.py\u001b\\\u001b[2mmsm_we.py\u001b[0m\u001b]8;;\u001b\\\u001b[2m:\u001b[0m\u001b]8;id=692107;file:///home/jd/msm_we/msm_we/msm_we.py#873\u001b\\\u001b[2m873\u001b[0m\u001b]8;;\u001b\\\n"
      ]
     },
     "metadata": {},
     "output_type": "display_data"
    },
    {
     "data": {
      "application/vnd.jupyter.widget-view+json": {
       "model_id": "dabaaaefd7a74b5f914a6a7089fd395f",
       "version_major": 2,
       "version_minor": 0
      },
      "text/plain": [
       "Submitting fluxmatrix tasks:   0%|          | 0/50 [00:00<?, ?it/s]"
      ]
     },
     "metadata": {},
     "output_type": "display_data"
    },
    {
     "data": {
      "application/vnd.jupyter.widget-view+json": {
       "model_id": "fbf588fd613e4ad4a9562a404fccbc05",
       "version_major": 2,
       "version_minor": 0
      },
      "text/plain": [
       "Retrieving flux matrices:   0%|          | 0/50 [00:00<?, ?it/s]"
      ]
     },
     "metadata": {},
     "output_type": "display_data"
    },
    {
     "data": {
      "text/html": [
       "<pre style=\"white-space:pre;overflow-x:auto;line-height:normal;font-family:Menlo,'DejaVu Sans Mono',consolas,'Courier New',monospace\"><span style=\"color: #000080; text-decoration-color: #000080\">INFO    </span> Fluxmatrices all obtained                 <a href=\"file:///home/jd/msm_we/msm_we/msm_we.py\" target=\"_blank\"><span style=\"color: #7f7f7f; text-decoration-color: #7f7f7f\">msm_we.py</span></a><span style=\"color: #7f7f7f; text-decoration-color: #7f7f7f\">:</span><a href=\"file:///home/jd/msm_we/msm_we/msm_we.py#4943\" target=\"_blank\"><span style=\"color: #7f7f7f; text-decoration-color: #7f7f7f\">4943</span></a>\n",
       "</pre>\n"
      ],
      "text/plain": [
       "\u001b[34mINFO    \u001b[0m Fluxmatrices all obtained                 \u001b]8;id=803317;file:///home/jd/msm_we/msm_we/msm_we.py\u001b\\\u001b[2mmsm_we.py\u001b[0m\u001b]8;;\u001b\\\u001b[2m:\u001b[0m\u001b]8;id=541228;file:///home/jd/msm_we/msm_we/msm_we.py#4943\u001b\\\u001b[2m4943\u001b[0m\u001b]8;;\u001b\\\n"
      ]
     },
     "metadata": {},
     "output_type": "display_data"
    },
    {
     "data": {
      "text/html": [
       "<pre style=\"white-space:pre;overflow-x:auto;line-height:normal;font-family:Menlo,'DejaVu Sans Mono',consolas,'Courier New',monospace\"><span style=\"color: #000080; text-decoration-color: #000080\">INFO    </span>                                           <a href=\"file:///home/jd/msm_we/msm_we/msm_we.py\" target=\"_blank\"><span style=\"color: #7f7f7f; text-decoration-color: #7f7f7f\">msm_we.py</span></a><span style=\"color: #7f7f7f; text-decoration-color: #7f7f7f\">:</span><a href=\"file:///home/jd/msm_we/msm_we/msm_we.py#5592\" target=\"_blank\"><span style=\"color: #7f7f7f; text-decoration-color: #7f7f7f\">5592</span></a>\n",
       "         Flux converged to <span style=\"color: #008080; text-decoration-color: #008080; font-weight: bold\">3.1349e+05</span> after <span style=\"color: #008080; text-decoration-color: #008080; font-weight: bold\">1</span>      <span style=\"color: #7f7f7f; text-decoration-color: #7f7f7f\">              </span>\n",
       "         iterations of inverse iteration.          <span style=\"color: #7f7f7f; text-decoration-color: #7f7f7f\">              </span>\n",
       "</pre>\n"
      ],
      "text/plain": [
       "\u001b[34mINFO    \u001b[0m                                           \u001b]8;id=547398;file:///home/jd/msm_we/msm_we/msm_we.py\u001b\\\u001b[2mmsm_we.py\u001b[0m\u001b]8;;\u001b\\\u001b[2m:\u001b[0m\u001b]8;id=74469;file:///home/jd/msm_we/msm_we/msm_we.py#5592\u001b\\\u001b[2m5592\u001b[0m\u001b]8;;\u001b\\\n",
       "         Flux converged to \u001b[1;36m3.1349e+05\u001b[0m after \u001b[1;36m1\u001b[0m      \u001b[2m              \u001b[0m\n",
       "         iterations of inverse iteration.          \u001b[2m              \u001b[0m\n"
      ]
     },
     "metadata": {},
     "output_type": "display_data"
    },
    {
     "data": {
      "text/html": [
       "<pre style=\"white-space:pre;overflow-x:auto;line-height:normal;font-family:Menlo,'DejaVu Sans Mono',consolas,'Courier New',monospace\"><span style=\"color: #000080; text-decoration-color: #000080\">INFO    </span> Done with steady-state estimation.        <a href=\"file:///home/jd/msm_we/msm_we/msm_we.py\" target=\"_blank\"><span style=\"color: #7f7f7f; text-decoration-color: #7f7f7f\">msm_we.py</span></a><span style=\"color: #7f7f7f; text-decoration-color: #7f7f7f\">:</span><a href=\"file:///home/jd/msm_we/msm_we/msm_we.py#5603\" target=\"_blank\"><span style=\"color: #7f7f7f; text-decoration-color: #7f7f7f\">5603</span></a>\n",
       "</pre>\n"
      ],
      "text/plain": [
       "\u001b[34mINFO    \u001b[0m Done with steady-state estimation.        \u001b]8;id=904292;file:///home/jd/msm_we/msm_we/msm_we.py\u001b\\\u001b[2mmsm_we.py\u001b[0m\u001b]8;;\u001b\\\u001b[2m:\u001b[0m\u001b]8;id=771610;file:///home/jd/msm_we/msm_we/msm_we.py#5603\u001b\\\u001b[2m5603\u001b[0m\u001b]8;;\u001b\\\n"
      ]
     },
     "metadata": {},
     "output_type": "display_data"
    },
    {
     "data": {
      "text/html": [
       "<pre style=\"white-space:pre;overflow-x:auto;line-height:normal;font-family:Menlo,'DejaVu Sans Mono',consolas,'Courier New',monospace\"><span style=\"color: #000080; text-decoration-color: #000080\">INFO    </span> Beginning analysis of cross-validation    <a href=\"file:///home/jd/msm_we/msm_we/msm_we.py\" target=\"_blank\"><span style=\"color: #7f7f7f; text-decoration-color: #7f7f7f\">msm_we.py</span></a><span style=\"color: #7f7f7f; text-decoration-color: #7f7f7f\">:</span><a href=\"file:///home/jd/msm_we/msm_we/msm_we.py#1339\" target=\"_blank\"><span style=\"color: #7f7f7f; text-decoration-color: #7f7f7f\">1339</span></a>\n",
       "         group <span style=\"color: #008080; text-decoration-color: #008080; font-weight: bold\">2</span>/<span style=\"color: #008080; text-decoration-color: #008080; font-weight: bold\">2</span>.                                <span style=\"color: #7f7f7f; text-decoration-color: #7f7f7f\">              </span>\n",
       "</pre>\n"
      ],
      "text/plain": [
       "\u001b[34mINFO    \u001b[0m Beginning analysis of cross-validation    \u001b]8;id=872982;file:///home/jd/msm_we/msm_we/msm_we.py\u001b\\\u001b[2mmsm_we.py\u001b[0m\u001b]8;;\u001b\\\u001b[2m:\u001b[0m\u001b]8;id=295454;file:///home/jd/msm_we/msm_we/msm_we.py#1339\u001b\\\u001b[2m1339\u001b[0m\u001b]8;;\u001b\\\n",
       "         group \u001b[1;36m2\u001b[0m/\u001b[1;36m2\u001b[0m.                                \u001b[2m              \u001b[0m\n"
      ]
     },
     "metadata": {},
     "output_type": "display_data"
    },
    {
     "data": {
      "text/html": [
       "<pre style=\"white-space:pre;overflow-x:auto;line-height:normal;font-family:Menlo,'DejaVu Sans Mono',consolas,'Courier New',monospace\"><span style=\"color: #000080; text-decoration-color: #000080\">INFO    </span> Using Ray cluster with <span style=\"color: #008080; text-decoration-color: #008080; font-weight: bold\">16.0</span> CPUs!          <a href=\"file:///home/jd/msm_we/msm_we/msm_we.py\" target=\"_blank\"><span style=\"color: #7f7f7f; text-decoration-color: #7f7f7f\">msm_we.py</span></a><span style=\"color: #7f7f7f; text-decoration-color: #7f7f7f\">:</span><a href=\"file:///home/jd/msm_we/msm_we/msm_we.py#873\" target=\"_blank\"><span style=\"color: #7f7f7f; text-decoration-color: #7f7f7f\">873</span></a>\n",
       "</pre>\n"
      ],
      "text/plain": [
       "\u001b[34mINFO    \u001b[0m Using Ray cluster with \u001b[1;36m16.0\u001b[0m CPUs!          \u001b]8;id=968720;file:///home/jd/msm_we/msm_we/msm_we.py\u001b\\\u001b[2mmsm_we.py\u001b[0m\u001b]8;;\u001b\\\u001b[2m:\u001b[0m\u001b]8;id=477497;file:///home/jd/msm_we/msm_we/msm_we.py#873\u001b\\\u001b[2m873\u001b[0m\u001b]8;;\u001b\\\n"
      ]
     },
     "metadata": {},
     "output_type": "display_data"
    },
    {
     "data": {
      "application/vnd.jupyter.widget-view+json": {
       "model_id": "4a7f2a96234b4707858b24beb3ed9f89",
       "version_major": 2,
       "version_minor": 0
      },
      "text/plain": [
       "Submitting fluxmatrix tasks:   0%|          | 0/49 [00:00<?, ?it/s]"
      ]
     },
     "metadata": {},
     "output_type": "display_data"
    },
    {
     "data": {
      "application/vnd.jupyter.widget-view+json": {
       "model_id": "0d2a5911cbed4b7d91aee5f472805f83",
       "version_major": 2,
       "version_minor": 0
      },
      "text/plain": [
       "Retrieving flux matrices:   0%|          | 0/49 [00:00<?, ?it/s]"
      ]
     },
     "metadata": {},
     "output_type": "display_data"
    },
    {
     "data": {
      "text/html": [
       "<pre style=\"white-space:pre;overflow-x:auto;line-height:normal;font-family:Menlo,'DejaVu Sans Mono',consolas,'Courier New',monospace\"><span style=\"color: #000080; text-decoration-color: #000080\">INFO    </span> Fluxmatrices all obtained                 <a href=\"file:///home/jd/msm_we/msm_we/msm_we.py\" target=\"_blank\"><span style=\"color: #7f7f7f; text-decoration-color: #7f7f7f\">msm_we.py</span></a><span style=\"color: #7f7f7f; text-decoration-color: #7f7f7f\">:</span><a href=\"file:///home/jd/msm_we/msm_we/msm_we.py#4943\" target=\"_blank\"><span style=\"color: #7f7f7f; text-decoration-color: #7f7f7f\">4943</span></a>\n",
       "</pre>\n"
      ],
      "text/plain": [
       "\u001b[34mINFO    \u001b[0m Fluxmatrices all obtained                 \u001b]8;id=479367;file:///home/jd/msm_we/msm_we/msm_we.py\u001b\\\u001b[2mmsm_we.py\u001b[0m\u001b]8;;\u001b\\\u001b[2m:\u001b[0m\u001b]8;id=274829;file:///home/jd/msm_we/msm_we/msm_we.py#4943\u001b\\\u001b[2m4943\u001b[0m\u001b]8;;\u001b\\\n"
      ]
     },
     "metadata": {},
     "output_type": "display_data"
    },
    {
     "data": {
      "text/html": [
       "<pre style=\"white-space:pre;overflow-x:auto;line-height:normal;font-family:Menlo,'DejaVu Sans Mono',consolas,'Courier New',monospace\"><span style=\"color: #000080; text-decoration-color: #000080\">INFO    </span> Started with <span style=\"color: #008080; text-decoration-color: #008080; font-weight: bold\">300</span> clusters, and removed    <a href=\"file:///home/jd/msm_we/msm_we/msm_we.py\" target=\"_blank\"><span style=\"color: #7f7f7f; text-decoration-color: #7f7f7f\">msm_we.py</span></a><span style=\"color: #7f7f7f; text-decoration-color: #7f7f7f\">:</span><a href=\"file:///home/jd/msm_we/msm_we/msm_we.py#4018\" target=\"_blank\"><span style=\"color: #7f7f7f; text-decoration-color: #7f7f7f\">4018</span></a>\n",
       "         <span style=\"color: #008080; text-decoration-color: #008080; font-weight: bold\">151</span>                                       <span style=\"color: #7f7f7f; text-decoration-color: #7f7f7f\">              </span>\n",
       "</pre>\n"
      ],
      "text/plain": [
       "\u001b[34mINFO    \u001b[0m Started with \u001b[1;36m300\u001b[0m clusters, and removed    \u001b]8;id=571389;file:///home/jd/msm_we/msm_we/msm_we.py\u001b\\\u001b[2mmsm_we.py\u001b[0m\u001b]8;;\u001b\\\u001b[2m:\u001b[0m\u001b]8;id=289819;file:///home/jd/msm_we/msm_we/msm_we.py#4018\u001b\\\u001b[2m4018\u001b[0m\u001b]8;;\u001b\\\n",
       "         \u001b[1;36m151\u001b[0m                                       \u001b[2m              \u001b[0m\n"
      ]
     },
     "metadata": {},
     "output_type": "display_data"
    },
    {
     "data": {
      "text/html": [
       "<pre style=\"white-space:pre;overflow-x:auto;line-height:normal;font-family:Menlo,'DejaVu Sans Mono',consolas,'Courier New',monospace\"><span style=\"color: #800000; text-decoration-color: #800000\">WARNING </span> All clusters were cleaned from bins <span style=\"font-weight: bold\">{</span><span style=\"color: #008080; text-decoration-color: #008080; font-weight: bold\">11</span><span style=\"font-weight: bold\">}</span>  <a href=\"file:///home/jd/msm_we/msm_we/msm_we.py\" target=\"_blank\"><span style=\"color: #7f7f7f; text-decoration-color: #7f7f7f\">msm_we.py</span></a><span style=\"color: #7f7f7f; text-decoration-color: #7f7f7f\">:</span><a href=\"file:///home/jd/msm_we/msm_we/msm_we.py#4034\" target=\"_blank\"><span style=\"color: #7f7f7f; text-decoration-color: #7f7f7f\">4034</span></a>\n",
       "</pre>\n"
      ],
      "text/plain": [
       "\u001b[31mWARNING \u001b[0m All clusters were cleaned from bins \u001b[1m{\u001b[0m\u001b[1;36m11\u001b[0m\u001b[1m}\u001b[0m  \u001b]8;id=300162;file:///home/jd/msm_we/msm_we/msm_we.py\u001b\\\u001b[2mmsm_we.py\u001b[0m\u001b]8;;\u001b\\\u001b[2m:\u001b[0m\u001b]8;id=538315;file:///home/jd/msm_we/msm_we/msm_we.py#4034\u001b\\\u001b[2m4034\u001b[0m\u001b]8;;\u001b\\\n"
      ]
     },
     "metadata": {},
     "output_type": "display_data"
    },
    {
     "data": {
      "text/html": [
       "<pre style=\"white-space:pre;overflow-x:auto;line-height:normal;font-family:Menlo,'DejaVu Sans Mono',consolas,'Courier New',monospace\"><span style=\"color: #000080; text-decoration-color: #000080\">INFO    </span> Using Ray cluster with <span style=\"color: #008080; text-decoration-color: #008080; font-weight: bold\">16.0</span> CPUs!          <a href=\"file:///home/jd/msm_we/msm_we/msm_we.py\" target=\"_blank\"><span style=\"color: #7f7f7f; text-decoration-color: #7f7f7f\">msm_we.py</span></a><span style=\"color: #7f7f7f; text-decoration-color: #7f7f7f\">:</span><a href=\"file:///home/jd/msm_we/msm_we/msm_we.py#873\" target=\"_blank\"><span style=\"color: #7f7f7f; text-decoration-color: #7f7f7f\">873</span></a>\n",
       "</pre>\n"
      ],
      "text/plain": [
       "\u001b[34mINFO    \u001b[0m Using Ray cluster with \u001b[1;36m16.0\u001b[0m CPUs!          \u001b]8;id=550463;file:///home/jd/msm_we/msm_we/msm_we.py\u001b\\\u001b[2mmsm_we.py\u001b[0m\u001b]8;;\u001b\\\u001b[2m:\u001b[0m\u001b]8;id=132751;file:///home/jd/msm_we/msm_we/msm_we.py#873\u001b\\\u001b[2m873\u001b[0m\u001b]8;;\u001b\\\n"
      ]
     },
     "metadata": {},
     "output_type": "display_data"
    },
    {
     "data": {
      "text/html": [
       "<pre style=\"white-space:pre;overflow-x:auto;line-height:normal;font-family:Menlo,'DejaVu Sans Mono',consolas,'Courier New',monospace\"><span style=\"color: #000080; text-decoration-color: #000080\">INFO    </span> Using cached model for discretization     <a href=\"file:///home/jd/msm_we/msm_we/msm_we.py\" target=\"_blank\"><span style=\"color: #7f7f7f; text-decoration-color: #7f7f7f\">msm_we.py</span></a><span style=\"color: #7f7f7f; text-decoration-color: #7f7f7f\">:</span><a href=\"file:///home/jd/msm_we/msm_we/msm_we.py#4130\" target=\"_blank\"><span style=\"color: #7f7f7f; text-decoration-color: #7f7f7f\">4130</span></a>\n",
       "</pre>\n"
      ],
      "text/plain": [
       "\u001b[34mINFO    \u001b[0m Using cached model for discretization     \u001b]8;id=708137;file:///home/jd/msm_we/msm_we/msm_we.py\u001b\\\u001b[2mmsm_we.py\u001b[0m\u001b]8;;\u001b\\\u001b[2m:\u001b[0m\u001b]8;id=514431;file:///home/jd/msm_we/msm_we/msm_we.py#4130\u001b\\\u001b[2m4130\u001b[0m\u001b]8;;\u001b\\\n"
      ]
     },
     "metadata": {},
     "output_type": "display_data"
    },
    {
     "data": {
      "application/vnd.jupyter.widget-view+json": {
       "model_id": "e22f545035cc4805826152290fcf6e16",
       "version_major": 2,
       "version_minor": 0
      },
      "text/plain": [
       "Submitting discretization tasks:   0%|          | 0/99 [00:00<?, ?it/s]"
      ]
     },
     "metadata": {},
     "output_type": "display_data"
    },
    {
     "data": {
      "application/vnd.jupyter.widget-view+json": {
       "model_id": "5a4881c38f0244b68f54708b042c256f",
       "version_major": 2,
       "version_minor": 0
      },
      "text/plain": [
       "Retrieving discretized trajectories:   0%|          | 0/99 [00:00<?, ?it/s]"
      ]
     },
     "metadata": {},
     "output_type": "display_data"
    },
    {
     "data": {
      "text/html": [
       "<pre style=\"white-space:pre;overflow-x:auto;line-height:normal;font-family:Menlo,'DejaVu Sans Mono',consolas,'Courier New',monospace\"><span style=\"color: #000080; text-decoration-color: #000080\">INFO    </span> Discretization complete                   <a href=\"file:///home/jd/msm_we/msm_we/msm_we.py\" target=\"_blank\"><span style=\"color: #7f7f7f; text-decoration-color: #7f7f7f\">msm_we.py</span></a><span style=\"color: #7f7f7f; text-decoration-color: #7f7f7f\">:</span><a href=\"file:///home/jd/msm_we/msm_we/msm_we.py#4194\" target=\"_blank\"><span style=\"color: #7f7f7f; text-decoration-color: #7f7f7f\">4194</span></a>\n",
       "</pre>\n"
      ],
      "text/plain": [
       "\u001b[34mINFO    \u001b[0m Discretization complete                   \u001b]8;id=185402;file:///home/jd/msm_we/msm_we/msm_we.py\u001b\\\u001b[2mmsm_we.py\u001b[0m\u001b]8;;\u001b\\\u001b[2m:\u001b[0m\u001b]8;id=954061;file:///home/jd/msm_we/msm_we/msm_we.py#4194\u001b\\\u001b[2m4194\u001b[0m\u001b]8;;\u001b\\\n"
      ]
     },
     "metadata": {},
     "output_type": "display_data"
    },
    {
     "data": {
      "text/html": [
       "<pre style=\"white-space:pre;overflow-x:auto;line-height:normal;font-family:Menlo,'DejaVu Sans Mono',consolas,'Courier New',monospace\"><span style=\"color: #000080; text-decoration-color: #000080\">INFO    </span> Using Ray cluster with <span style=\"color: #008080; text-decoration-color: #008080; font-weight: bold\">16.0</span> CPUs!          <a href=\"file:///home/jd/msm_we/msm_we/msm_we.py\" target=\"_blank\"><span style=\"color: #7f7f7f; text-decoration-color: #7f7f7f\">msm_we.py</span></a><span style=\"color: #7f7f7f; text-decoration-color: #7f7f7f\">:</span><a href=\"file:///home/jd/msm_we/msm_we/msm_we.py#873\" target=\"_blank\"><span style=\"color: #7f7f7f; text-decoration-color: #7f7f7f\">873</span></a>\n",
       "</pre>\n"
      ],
      "text/plain": [
       "\u001b[34mINFO    \u001b[0m Using Ray cluster with \u001b[1;36m16.0\u001b[0m CPUs!          \u001b]8;id=123931;file:///home/jd/msm_we/msm_we/msm_we.py\u001b\\\u001b[2mmsm_we.py\u001b[0m\u001b]8;;\u001b\\\u001b[2m:\u001b[0m\u001b]8;id=975605;file:///home/jd/msm_we/msm_we/msm_we.py#873\u001b\\\u001b[2m873\u001b[0m\u001b]8;;\u001b\\\n"
      ]
     },
     "metadata": {},
     "output_type": "display_data"
    },
    {
     "data": {
      "application/vnd.jupyter.widget-view+json": {
       "model_id": "f8e73c204b7f498ea88c35f8165b3488",
       "version_major": 2,
       "version_minor": 0
      },
      "text/plain": [
       "Submitting fluxmatrix tasks:   0%|          | 0/49 [00:00<?, ?it/s]"
      ]
     },
     "metadata": {},
     "output_type": "display_data"
    },
    {
     "data": {
      "application/vnd.jupyter.widget-view+json": {
       "model_id": "c9b47036e18b413c8b99f840f455f054",
       "version_major": 2,
       "version_minor": 0
      },
      "text/plain": [
       "Retrieving flux matrices:   0%|          | 0/49 [00:00<?, ?it/s]"
      ]
     },
     "metadata": {},
     "output_type": "display_data"
    },
    {
     "data": {
      "text/html": [
       "<pre style=\"white-space:pre;overflow-x:auto;line-height:normal;font-family:Menlo,'DejaVu Sans Mono',consolas,'Courier New',monospace\"><span style=\"color: #000080; text-decoration-color: #000080\">INFO    </span> Fluxmatrices all obtained                 <a href=\"file:///home/jd/msm_we/msm_we/msm_we.py\" target=\"_blank\"><span style=\"color: #7f7f7f; text-decoration-color: #7f7f7f\">msm_we.py</span></a><span style=\"color: #7f7f7f; text-decoration-color: #7f7f7f\">:</span><a href=\"file:///home/jd/msm_we/msm_we/msm_we.py#4943\" target=\"_blank\"><span style=\"color: #7f7f7f; text-decoration-color: #7f7f7f\">4943</span></a>\n",
       "</pre>\n"
      ],
      "text/plain": [
       "\u001b[34mINFO    \u001b[0m Fluxmatrices all obtained                 \u001b]8;id=758919;file:///home/jd/msm_we/msm_we/msm_we.py\u001b\\\u001b[2mmsm_we.py\u001b[0m\u001b]8;;\u001b\\\u001b[2m:\u001b[0m\u001b]8;id=227156;file:///home/jd/msm_we/msm_we/msm_we.py#4943\u001b\\\u001b[2m4943\u001b[0m\u001b]8;;\u001b\\\n"
      ]
     },
     "metadata": {},
     "output_type": "display_data"
    },
    {
     "data": {
      "text/html": [
       "<pre style=\"white-space:pre;overflow-x:auto;line-height:normal;font-family:Menlo,'DejaVu Sans Mono',consolas,'Courier New',monospace\"><span style=\"color: #000080; text-decoration-color: #000080\">INFO    </span>                                           <a href=\"file:///home/jd/msm_we/msm_we/msm_we.py\" target=\"_blank\"><span style=\"color: #7f7f7f; text-decoration-color: #7f7f7f\">msm_we.py</span></a><span style=\"color: #7f7f7f; text-decoration-color: #7f7f7f\">:</span><a href=\"file:///home/jd/msm_we/msm_we/msm_we.py#5592\" target=\"_blank\"><span style=\"color: #7f7f7f; text-decoration-color: #7f7f7f\">5592</span></a>\n",
       "         Flux converged to <span style=\"color: #008080; text-decoration-color: #008080; font-weight: bold\">3.2720e+06</span> after <span style=\"color: #008080; text-decoration-color: #008080; font-weight: bold\">1</span>      <span style=\"color: #7f7f7f; text-decoration-color: #7f7f7f\">              </span>\n",
       "         iterations of inverse iteration.          <span style=\"color: #7f7f7f; text-decoration-color: #7f7f7f\">              </span>\n",
       "</pre>\n"
      ],
      "text/plain": [
       "\u001b[34mINFO    \u001b[0m                                           \u001b]8;id=567396;file:///home/jd/msm_we/msm_we/msm_we.py\u001b\\\u001b[2mmsm_we.py\u001b[0m\u001b]8;;\u001b\\\u001b[2m:\u001b[0m\u001b]8;id=738876;file:///home/jd/msm_we/msm_we/msm_we.py#5592\u001b\\\u001b[2m5592\u001b[0m\u001b]8;;\u001b\\\n",
       "         Flux converged to \u001b[1;36m3.2720e+06\u001b[0m after \u001b[1;36m1\u001b[0m      \u001b[2m              \u001b[0m\n",
       "         iterations of inverse iteration.          \u001b[2m              \u001b[0m\n"
      ]
     },
     "metadata": {},
     "output_type": "display_data"
    },
    {
     "data": {
      "text/html": [
       "<pre style=\"white-space:pre;overflow-x:auto;line-height:normal;font-family:Menlo,'DejaVu Sans Mono',consolas,'Courier New',monospace\"><span style=\"color: #000080; text-decoration-color: #000080\">INFO    </span> Done with steady-state estimation.        <a href=\"file:///home/jd/msm_we/msm_we/msm_we.py\" target=\"_blank\"><span style=\"color: #7f7f7f; text-decoration-color: #7f7f7f\">msm_we.py</span></a><span style=\"color: #7f7f7f; text-decoration-color: #7f7f7f\">:</span><a href=\"file:///home/jd/msm_we/msm_we/msm_we.py#5603\" target=\"_blank\"><span style=\"color: #7f7f7f; text-decoration-color: #7f7f7f\">5603</span></a>\n",
       "</pre>\n"
      ],
      "text/plain": [
       "\u001b[34mINFO    \u001b[0m Done with steady-state estimation.        \u001b]8;id=124360;file:///home/jd/msm_we/msm_we/msm_we.py\u001b\\\u001b[2mmsm_we.py\u001b[0m\u001b]8;;\u001b\\\u001b[2m:\u001b[0m\u001b]8;id=808124;file:///home/jd/msm_we/msm_we/msm_we.py#5603\u001b\\\u001b[2m5603\u001b[0m\u001b]8;;\u001b\\\n"
      ]
     },
     "metadata": {},
     "output_type": "display_data"
    },
    {
     "data": {
      "text/html": [
       "<pre style=\"white-space:pre;overflow-x:auto;line-height:normal;font-family:Menlo,'DejaVu Sans Mono',consolas,'Courier New',monospace\"></pre>\n"
      ],
      "text/plain": []
     },
     "metadata": {},
     "output_type": "display_data"
    }
   ],
   "source": [
    "model = msm_we.modelWE()\n",
    "\n",
    "model.build_analyze_model(\n",
    "    file_paths=h5file_paths,\n",
    "    # ref_struct=basis_ref_dict,\n",
    "    ref_struct=ref_file,\n",
    "    modelName=model_name,\n",
    "    basis_pcoord_bounds=pcoord_bounds['basis'],\n",
    "    target_pcoord_bounds=pcoord_bounds['target'],\n",
    "    dimreduce_method=dimreduce_method,\n",
    "    n_clusters=clusters_per_stratum,\n",
    "    tau=tau\n",
    ")"
   ]
  },
  {
   "cell_type": "markdown",
   "id": "e2ae3838-76da-457e-94a6-eed89cfd6f9d",
   "metadata": {
    "tags": []
   },
   "source": [
    "## Model-building step by step\n",
    "\n",
    "[build_analyze_model()](../api.rst#msm_we.msm_we.modelWE.build_analyze_model) is just a convenient wrapper around the following steps.\n",
    "\n",
    "You can run them manually if you want to observe each step of the process.\n",
    "\n",
    "It's helpful to start off by running step-by-step while you're starting analysis for a system, to fine-tune parameters without re-running the entire workflow."
   ]
  },
  {
   "cell_type": "markdown",
   "id": "18c9c873-e1c6-4b72-ae6c-8e6bb92d2932",
   "metadata": {},
   "source": [
    "First, we launch Ray, which is the backend for the parallel work manager."
   ]
  },
  {
   "cell_type": "code",
   "execution_count": 7,
   "id": "ba4274a4-8802-4908-9a45-f534ef0ba6a4",
   "metadata": {},
   "outputs": [
    {
     "data": {
      "text/html": [
       "<pre style=\"white-space:pre;overflow-x:auto;line-height:normal;font-family:Menlo,'DejaVu Sans Mono',consolas,'Courier New',monospace\">2022-10-04 10:35:24,406 INFO worker.py:1351 -- Calling ray.init()\n",
       "again after it has already been called.\n",
       "</pre>\n"
      ],
      "text/plain": [
       "2022-10-04 10:35:24,406 INFO worker.py:1351 -- Calling ray.init()\n",
       "again after it has already been called.\n"
      ]
     },
     "metadata": {},
     "output_type": "display_data"
    },
    {
     "data": {
      "text/html": [
       "<div>\n",
       "    <div style=\"margin-left: 50px;display: flex;flex-direction: row;align-items: center\">\n",
       "        <h3 style=\"color: var(--jp-ui-font-color0)\">Ray</h3>\n",
       "        <svg version=\"1.1\" id=\"ray\" width=\"3em\" viewBox=\"0 0 144.5 144.6\" style=\"margin-left: 3em;margin-right: 3em\">\n",
       "            <g id=\"layer-1\">\n",
       "                <path fill=\"#00a2e9\" class=\"st0\" d=\"M97.3,77.2c-3.8-1.1-6.2,0.9-8.3,5.1c-3.5,6.8-9.9,9.9-17.4,9.6S58,88.1,54.8,81.2c-1.4-3-3-4-6.3-4.1\n",
       "                    c-5.6-0.1-9.9,0.1-13.1,6.4c-3.8,7.6-13.6,10.2-21.8,7.6C5.2,88.4-0.4,80.5,0,71.7c0.1-8.4,5.7-15.8,13.8-18.2\n",
       "                    c8.4-2.6,17.5,0.7,22.3,8c1.3,1.9,1.3,5.2,3.6,5.6c3.9,0.6,8,0.2,12,0.2c1.8,0,1.9-1.6,2.4-2.8c3.5-7.8,9.7-11.8,18-11.9\n",
       "                    c8.2-0.1,14.4,3.9,17.8,11.4c1.3,2.8,2.9,3.6,5.7,3.3c1-0.1,2,0.1,3,0c2.8-0.5,6.4,1.7,8.1-2.7s-2.3-5.5-4.1-7.5\n",
       "                    c-5.1-5.7-10.9-10.8-16.1-16.3C84,38,81.9,37.1,78,38.3C66.7,42,56.2,35.7,53,24.1C50.3,14,57.3,2.8,67.7,0.5\n",
       "                    C78.4-2,89,4.7,91.5,15.3c0.1,0.3,0.1,0.5,0.2,0.8c0.7,3.4,0.7,6.9-0.8,9.8c-1.7,3.2-0.8,5,1.5,7.2c6.7,6.5,13.3,13,19.8,19.7\n",
       "                    c1.8,1.8,3,2.1,5.5,1.2c9.1-3.4,17.9-0.6,23.4,7c4.8,6.9,4.6,16.1-0.4,22.9c-5.4,7.2-14.2,9.9-23.1,6.5c-2.3-0.9-3.5-0.6-5.1,1.1\n",
       "                    c-6.7,6.9-13.6,13.7-20.5,20.4c-1.8,1.8-2.5,3.2-1.4,5.9c3.5,8.7,0.3,18.6-7.7,23.6c-7.9,5-18.2,3.8-24.8-2.9\n",
       "                    c-6.4-6.4-7.4-16.2-2.5-24.3c4.9-7.8,14.5-11,23.1-7.8c3,1.1,4.7,0.5,6.9-1.7C91.7,98.4,98,92.3,104.2,86c1.6-1.6,4.1-2.7,2.6-6.2\n",
       "                    c-1.4-3.3-3.8-2.5-6.2-2.6C99.8,77.2,98.9,77.2,97.3,77.2z M72.1,29.7c5.5,0.1,9.9-4.3,10-9.8c0-0.1,0-0.2,0-0.3\n",
       "                    C81.8,14,77,9.8,71.5,10.2c-5,0.3-9,4.2-9.3,9.2c-0.2,5.5,4,10.1,9.5,10.3C71.8,29.7,72,29.7,72.1,29.7z M72.3,62.3\n",
       "                    c-5.4-0.1-9.9,4.2-10.1,9.7c0,0.2,0,0.3,0,0.5c0.2,5.4,4.5,9.7,9.9,10c5.1,0.1,9.9-4.7,10.1-9.8c0.2-5.5-4-10-9.5-10.3\n",
       "                    C72.6,62.3,72.4,62.3,72.3,62.3z M115,72.5c0.1,5.4,4.5,9.7,9.8,9.9c5.6-0.2,10-4.8,10-10.4c-0.2-5.4-4.6-9.7-10-9.7\n",
       "                    c-5.3-0.1-9.8,4.2-9.9,9.5C115,72.1,115,72.3,115,72.5z M19.5,62.3c-5.4,0.1-9.8,4.4-10,9.8c-0.1,5.1,5.2,10.4,10.2,10.3\n",
       "                    c5.6-0.2,10-4.9,9.8-10.5c-0.1-5.4-4.5-9.7-9.9-9.6C19.6,62.3,19.5,62.3,19.5,62.3z M71.8,134.6c5.9,0.2,10.3-3.9,10.4-9.6\n",
       "                    c0.5-5.5-3.6-10.4-9.1-10.8c-5.5-0.5-10.4,3.6-10.8,9.1c0,0.5,0,0.9,0,1.4c-0.2,5.3,4,9.8,9.3,10\n",
       "                    C71.6,134.6,71.7,134.6,71.8,134.6z\"/>\n",
       "            </g>\n",
       "        </svg>\n",
       "        <table>\n",
       "            <tr>\n",
       "                <td style=\"text-align: left\"><b>Python version:</b></td>\n",
       "                <td style=\"text-align: left\"><b>3.9.13</b></td>\n",
       "            </tr>\n",
       "            <tr>\n",
       "                <td style=\"text-align: left\"><b>Ray version:</b></td>\n",
       "                <td style=\"text-align: left\"><b> 2.0.0</b></td>\n",
       "            </tr>\n",
       "            <tr>\n",
       "    <td style=\"text-align: left\"><b>Dashboard:</b></td>\n",
       "    <td style=\"text-align: left\"><b><a href=\"http://127.0.0.1:8265\" target=\"_blank\">http://127.0.0.1:8265</a></b></td>\n",
       "</tr>\n",
       "\n",
       "        </table>\n",
       "    </div>\n",
       "</div>\n"
      ],
      "text/plain": [
       "RayContext(dashboard_url='127.0.0.1:8265', python_version='3.9.13', ray_version='2.0.0', ray_commit='cba26cc83f6b5b8a2ff166594a65cb74c0ec8740', address_info={'node_ip_address': '192.168.1.222', 'raylet_ip_address': '192.168.1.222', 'redis_address': None, 'object_store_address': '/tmp/ray/session_2022-10-04_10-34-56_630758_248164/sockets/plasma_store', 'raylet_socket_name': '/tmp/ray/session_2022-10-04_10-34-56_630758_248164/sockets/raylet', 'webui_url': '127.0.0.1:8265', 'session_dir': '/tmp/ray/session_2022-10-04_10-34-56_630758_248164', 'metrics_export_port': 54663, 'gcs_address': '192.168.1.222:65193', 'address': '192.168.1.222:65193', 'dashboard_agent_listen_port': 52365, 'node_id': 'b94536e3c34a7ad44fb89ad2d4ea993a5d97b1449f226451441a970f'})"
      ]
     },
     "execution_count": 7,
     "metadata": {},
     "output_type": "execute_result"
    }
   ],
   "source": [
    "ray.init(ignore_reinit_error=True)"
   ]
  },
  {
   "cell_type": "code",
   "execution_count": 8,
   "id": "80f04290-689f-4d4a-9a41-976bf7685d07",
   "metadata": {},
   "outputs": [],
   "source": [
    "model = msm_we.modelWE()"
   ]
  },
  {
   "cell_type": "code",
   "execution_count": 9,
   "id": "715b28cf-d35e-4c37-b7fd-a796030167fd",
   "metadata": {},
   "outputs": [],
   "source": [
    "model.initialize(\n",
    "    fileSpecifier=h5file_paths,\n",
    "    refPDBfile=ref_file,\n",
    "    modelName=model_name,\n",
    "    basis_pcoord_bounds=pcoord_bounds['basis'],\n",
    "    target_pcoord_bounds=pcoord_bounds['target'],\n",
    "    dim_reduce_method=dimreduce_method,\n",
    "    tau=tau\n",
    ")"
   ]
  },
  {
   "cell_type": "code",
   "execution_count": 10,
   "id": "acba2bbf-3119-4258-8436-fd220c460680",
   "metadata": {},
   "outputs": [
    {
     "data": {
      "application/vnd.jupyter.widget-view+json": {
       "model_id": "460d5191df7b4c50aafa6240946d20a8",
       "version_major": 2,
       "version_minor": 0
      },
      "text/plain": [
       "Getting coordSet:   0%|          | 0/100 [00:00<?, ?it/s]"
      ]
     },
     "metadata": {},
     "output_type": "display_data"
    }
   ],
   "source": [
    "model.get_iterations()\n",
    "model.get_coordSet(last_iter = model.maxIter, streaming=True)"
   ]
  },
  {
   "cell_type": "code",
   "execution_count": 11,
   "id": "2ec23486-d51d-4554-a3c5-eaf9108914fa",
   "metadata": {},
   "outputs": [
    {
     "data": {
      "text/html": [
       "<pre style=\"white-space:pre;overflow-x:auto;line-height:normal;font-family:Menlo,'DejaVu Sans Mono',consolas,'Courier New',monospace\"><span style=\"color: #000080; text-decoration-color: #000080\">INFO    </span> Performing weighted vamp                  <a href=\"file:///home/jd/msm_we/msm_we/msm_we.py\" target=\"_blank\"><span style=\"color: #7f7f7f; text-decoration-color: #7f7f7f\">msm_we.py</span></a><span style=\"color: #7f7f7f; text-decoration-color: #7f7f7f\">:</span><a href=\"file:///home/jd/msm_we/msm_we/msm_we.py#2786\" target=\"_blank\"><span style=\"color: #7f7f7f; text-decoration-color: #7f7f7f\">2786</span></a>\n",
       "</pre>\n"
      ],
      "text/plain": [
       "\u001b[34mINFO    \u001b[0m Performing weighted vamp                  \u001b]8;id=994404;file:///home/jd/msm_we/msm_we/msm_we.py\u001b\\\u001b[2mmsm_we.py\u001b[0m\u001b]8;;\u001b\\\u001b[2m:\u001b[0m\u001b]8;id=726114;file:///home/jd/msm_we/msm_we/msm_we.py#2786\u001b\\\u001b[2m2786\u001b[0m\u001b]8;;\u001b\\\n"
      ]
     },
     "metadata": {},
     "output_type": "display_data"
    },
    {
     "data": {
      "text/html": [
       "<pre style=\"white-space:pre;overflow-x:auto;line-height:normal;font-family:Menlo,'DejaVu Sans Mono',consolas,'Courier New',monospace\"><span style=\"color: #000080; text-decoration-color: #000080\">INFO    </span> Weighted vamp will reduce <span style=\"color: #008080; text-decoration-color: #008080; font-weight: bold\">80</span> to <span style=\"color: #008080; text-decoration-color: #008080; font-weight: bold\">35</span>        <a href=\"file:///home/jd/msm_we/msm_we/msm_we.py\" target=\"_blank\"><span style=\"color: #7f7f7f; text-decoration-color: #7f7f7f\">msm_we.py</span></a><span style=\"color: #7f7f7f; text-decoration-color: #7f7f7f\">:</span><a href=\"file:///home/jd/msm_we/msm_we/msm_we.py#2799\" target=\"_blank\"><span style=\"color: #7f7f7f; text-decoration-color: #7f7f7f\">2799</span></a>\n",
       "         components.                               <span style=\"color: #7f7f7f; text-decoration-color: #7f7f7f\">              </span>\n",
       "</pre>\n"
      ],
      "text/plain": [
       "\u001b[34mINFO    \u001b[0m Weighted vamp will reduce \u001b[1;36m80\u001b[0m to \u001b[1;36m35\u001b[0m        \u001b]8;id=744479;file:///home/jd/msm_we/msm_we/msm_we.py\u001b\\\u001b[2mmsm_we.py\u001b[0m\u001b]8;;\u001b\\\u001b[2m:\u001b[0m\u001b]8;id=873958;file:///home/jd/msm_we/msm_we/msm_we.py#2799\u001b\\\u001b[2m2799\u001b[0m\u001b]8;;\u001b\\\n",
       "         components.                               \u001b[2m              \u001b[0m\n"
      ]
     },
     "metadata": {},
     "output_type": "display_data"
    }
   ],
   "source": [
    "model.dimReduce()"
   ]
  },
  {
   "cell_type": "markdown",
   "id": "250c75d0-d382-4723-bddc-1822a04e7883",
   "metadata": {},
   "source": [
    "`store_validation_model=True` is necessary for block validation. It enables caching the model immediately after discretization in `model.post_cluster_model`, so that the blocks can be efficiently created later."
   ]
  },
  {
   "cell_type": "code",
   "execution_count": 12,
   "id": "542161b0-6187-441b-b458-43adacf448b6",
   "metadata": {},
   "outputs": [
    {
     "data": {
      "text/html": [
       "<pre style=\"white-space:pre;overflow-x:auto;line-height:normal;font-family:Menlo,'DejaVu Sans Mono',consolas,'Courier New',monospace\"><span style=\"color: #000080; text-decoration-color: #000080\">INFO    </span> Be aware: Number of cluster centers is an <a href=\"file:///home/jd/msm_we/msm_we/msm_we.py\" target=\"_blank\"><span style=\"color: #7f7f7f; text-decoration-color: #7f7f7f\">msm_we.py</span></a><span style=\"color: #7f7f7f; text-decoration-color: #7f7f7f\">:</span><a href=\"file:///home/jd/msm_we/msm_we/msm_we.py#3074\" target=\"_blank\"><span style=\"color: #7f7f7f; text-decoration-color: #7f7f7f\">3074</span></a>\n",
       "         important parameter, and can drastically  <span style=\"color: #7f7f7f; text-decoration-color: #7f7f7f\">              </span>\n",
       "         affect model quality. We recommend        <span style=\"color: #7f7f7f; text-decoration-color: #7f7f7f\">              </span>\n",
       "         examining block-validation results with a <span style=\"color: #7f7f7f; text-decoration-color: #7f7f7f\">              </span>\n",
       "         range of numbers of clusters, to check    <span style=\"color: #7f7f7f; text-decoration-color: #7f7f7f\">              </span>\n",
       "         for overfitting.                          <span style=\"color: #7f7f7f; text-decoration-color: #7f7f7f\">              </span>\n",
       "</pre>\n"
      ],
      "text/plain": [
       "\u001b[34mINFO    \u001b[0m Be aware: Number of cluster centers is an \u001b]8;id=788003;file:///home/jd/msm_we/msm_we/msm_we.py\u001b\\\u001b[2mmsm_we.py\u001b[0m\u001b]8;;\u001b\\\u001b[2m:\u001b[0m\u001b]8;id=358479;file:///home/jd/msm_we/msm_we/msm_we.py#3074\u001b\\\u001b[2m3074\u001b[0m\u001b]8;;\u001b\\\n",
       "         important parameter, and can drastically  \u001b[2m              \u001b[0m\n",
       "         affect model quality. We recommend        \u001b[2m              \u001b[0m\n",
       "         examining block-validation results with a \u001b[2m              \u001b[0m\n",
       "         range of numbers of clusters, to check    \u001b[2m              \u001b[0m\n",
       "         for overfitting.                          \u001b[2m              \u001b[0m\n"
      ]
     },
     "metadata": {},
     "output_type": "display_data"
    },
    {
     "data": {
      "text/html": [
       "<pre style=\"white-space:pre;overflow-x:auto;line-height:normal;font-family:Menlo,'DejaVu Sans Mono',consolas,'Courier New',monospace\"><span style=\"color: #000080; text-decoration-color: #000080\">INFO    </span> Beginning stratified clustering.          <a href=\"file:///home/jd/msm_we/msm_we/msm_we.py\" target=\"_blank\"><span style=\"color: #7f7f7f; text-decoration-color: #7f7f7f\">msm_we.py</span></a><span style=\"color: #7f7f7f; text-decoration-color: #7f7f7f\">:</span><a href=\"file:///home/jd/msm_we/msm_we/msm_we.py#3081\" target=\"_blank\"><span style=\"color: #7f7f7f; text-decoration-color: #7f7f7f\">3081</span></a>\n",
       "</pre>\n"
      ],
      "text/plain": [
       "\u001b[34mINFO    \u001b[0m Beginning stratified clustering.          \u001b]8;id=171943;file:///home/jd/msm_we/msm_we/msm_we.py\u001b\\\u001b[2mmsm_we.py\u001b[0m\u001b]8;;\u001b\\\u001b[2m:\u001b[0m\u001b]8;id=486589;file:///home/jd/msm_we/msm_we/msm_we.py#3081\u001b\\\u001b[2m3081\u001b[0m\u001b]8;;\u001b\\\n"
      ]
     },
     "metadata": {},
     "output_type": "display_data"
    },
    {
     "data": {
      "text/html": [
       "<pre style=\"white-space:pre;overflow-x:auto;line-height:normal;font-family:Menlo,'DejaVu Sans Mono',consolas,'Courier New',monospace\"><span style=\"color: #000080; text-decoration-color: #000080\">INFO    </span> Obtaining bin definitions from iteration  <a href=\"file:///home/jd/msm_we/msm_we/msm_we.py\" target=\"_blank\"><span style=\"color: #7f7f7f; text-decoration-color: #7f7f7f\">msm_we.py</span></a><span style=\"color: #7f7f7f; text-decoration-color: #7f7f7f\">:</span><a href=\"file:///home/jd/msm_we/msm_we/msm_we.py#3499\" target=\"_blank\"><span style=\"color: #7f7f7f; text-decoration-color: #7f7f7f\">3499</span></a>\n",
       "         <span style=\"color: #008080; text-decoration-color: #008080; font-weight: bold\">2</span> in file data/west.h5                    <span style=\"color: #7f7f7f; text-decoration-color: #7f7f7f\">              </span>\n",
       "</pre>\n"
      ],
      "text/plain": [
       "\u001b[34mINFO    \u001b[0m Obtaining bin definitions from iteration  \u001b]8;id=623987;file:///home/jd/msm_we/msm_we/msm_we.py\u001b\\\u001b[2mmsm_we.py\u001b[0m\u001b]8;;\u001b\\\u001b[2m:\u001b[0m\u001b]8;id=401219;file:///home/jd/msm_we/msm_we/msm_we.py#3499\u001b\\\u001b[2m3499\u001b[0m\u001b]8;;\u001b\\\n",
       "         \u001b[1;36m2\u001b[0m in file data/west.h5                    \u001b[2m              \u001b[0m\n"
      ]
     },
     "metadata": {},
     "output_type": "display_data"
    },
    {
     "data": {
      "text/html": [
       "<pre style=\"white-space:pre;overflow-x:auto;line-height:normal;font-family:Menlo,'DejaVu Sans Mono',consolas,'Courier New',monospace\"><span style=\"color: #000080; text-decoration-color: #000080\">INFO    </span> Loading pickled bin mapper from H5 for    <a href=\"file:///home/jd/msm_we/msm_we/msm_we.py\" target=\"_blank\"><span style=\"color: #7f7f7f; text-decoration-color: #7f7f7f\">msm_we.py</span></a><span style=\"color: #7f7f7f; text-decoration-color: #7f7f7f\">:</span><a href=\"file:///home/jd/msm_we/msm_we/msm_we.py#3503\" target=\"_blank\"><span style=\"color: #7f7f7f; text-decoration-color: #7f7f7f\">3503</span></a>\n",
       "         stratified clustering<span style=\"color: #808000; text-decoration-color: #808000\">...</span>                  <span style=\"color: #7f7f7f; text-decoration-color: #7f7f7f\">              </span>\n",
       "</pre>\n"
      ],
      "text/plain": [
       "\u001b[34mINFO    \u001b[0m Loading pickled bin mapper from H5 for    \u001b]8;id=973485;file:///home/jd/msm_we/msm_we/msm_we.py\u001b\\\u001b[2mmsm_we.py\u001b[0m\u001b]8;;\u001b\\\u001b[2m:\u001b[0m\u001b]8;id=610701;file:///home/jd/msm_we/msm_we/msm_we.py#3503\u001b\\\u001b[2m3503\u001b[0m\u001b]8;;\u001b\\\n",
       "         stratified clustering\u001b[33m...\u001b[0m                  \u001b[2m              \u001b[0m\n"
      ]
     },
     "metadata": {},
     "output_type": "display_data"
    },
    {
     "data": {
      "text/html": [
       "<pre style=\"white-space:pre;overflow-x:auto;line-height:normal;font-family:Menlo,'DejaVu Sans Mono',consolas,'Courier New',monospace\"><span style=\"color: #800000; text-decoration-color: #800000; font-weight: bold\">ERROR   </span> Stratified clustering currently MUST run  <a href=\"file:///home/jd/msm_we/msm_we/msm_we.py\" target=\"_blank\"><span style=\"color: #7f7f7f; text-decoration-color: #7f7f7f\">msm_we.py</span></a><span style=\"color: #7f7f7f; text-decoration-color: #7f7f7f\">:</span><a href=\"file:///home/jd/msm_we/msm_we/msm_we.py#3539\" target=\"_blank\"><span style=\"color: #7f7f7f; text-decoration-color: #7f7f7f\">3539</span></a>\n",
       "         in streaming mode <span style=\"font-weight: bold\">(</span>and with ray enabled   <span style=\"color: #7f7f7f; text-decoration-color: #7f7f7f\">              </span>\n",
       "         for discretization<span style=\"font-weight: bold\">)</span>. Enabling both and    <span style=\"color: #7f7f7f; text-decoration-color: #7f7f7f\">              </span>\n",
       "         continuing<span style=\"color: #808000; text-decoration-color: #808000\">...</span>                             <span style=\"color: #7f7f7f; text-decoration-color: #7f7f7f\">              </span>\n",
       "</pre>\n"
      ],
      "text/plain": [
       "\u001b[1;31mERROR   \u001b[0m Stratified clustering currently MUST run  \u001b]8;id=72796;file:///home/jd/msm_we/msm_we/msm_we.py\u001b\\\u001b[2mmsm_we.py\u001b[0m\u001b]8;;\u001b\\\u001b[2m:\u001b[0m\u001b]8;id=484150;file:///home/jd/msm_we/msm_we/msm_we.py#3539\u001b\\\u001b[2m3539\u001b[0m\u001b]8;;\u001b\\\n",
       "         in streaming mode \u001b[1m(\u001b[0mand with ray enabled   \u001b[2m              \u001b[0m\n",
       "         for discretization\u001b[1m)\u001b[0m. Enabling both and    \u001b[2m              \u001b[0m\n",
       "         continuing\u001b[33m...\u001b[0m                             \u001b[2m              \u001b[0m\n"
      ]
     },
     "metadata": {},
     "output_type": "display_data"
    },
    {
     "data": {
      "text/html": [
       "<pre style=\"white-space:pre;overflow-x:auto;line-height:normal;font-family:Menlo,'DejaVu Sans Mono',consolas,'Courier New',monospace\"><span style=\"color: #000080; text-decoration-color: #000080\">INFO    </span> Doing stratified clustering with <span style=\"color: #008080; text-decoration-color: #008080; font-weight: bold\">300</span> total <a href=\"file:///home/jd/msm_we/msm_we/msm_we.py\" target=\"_blank\"><span style=\"color: #7f7f7f; text-decoration-color: #7f7f7f\">msm_we.py</span></a><span style=\"color: #7f7f7f; text-decoration-color: #7f7f7f\">:</span><a href=\"file:///home/jd/msm_we/msm_we/msm_we.py#254\" target=\"_blank\"><span style=\"color: #7f7f7f; text-decoration-color: #7f7f7f\">254</span></a>\n",
       "         clusters                                   <span style=\"color: #7f7f7f; text-decoration-color: #7f7f7f\">             </span>\n",
       "</pre>\n"
      ],
      "text/plain": [
       "\u001b[34mINFO    \u001b[0m Doing stratified clustering with \u001b[1;36m300\u001b[0m total \u001b]8;id=298044;file:///home/jd/msm_we/msm_we/msm_we.py\u001b\\\u001b[2mmsm_we.py\u001b[0m\u001b]8;;\u001b\\\u001b[2m:\u001b[0m\u001b]8;id=55301;file:///home/jd/msm_we/msm_we/msm_we.py#254\u001b\\\u001b[2m254\u001b[0m\u001b]8;;\u001b\\\n",
       "         clusters                                   \u001b[2m             \u001b[0m\n"
      ]
     },
     "metadata": {},
     "output_type": "display_data"
    },
    {
     "data": {
      "application/vnd.jupyter.widget-view+json": {
       "model_id": "2f666125d17e44fd964f712c5393300c",
       "version_major": 2,
       "version_minor": 0
      },
      "text/plain": [
       "Clustering:   0%|          | 0/99 [00:00<?, ?it/s]"
      ]
     },
     "metadata": {},
     "output_type": "display_data"
    },
    {
     "data": {
      "text/html": [
       "<pre style=\"white-space:pre;overflow-x:auto;line-height:normal;font-family:Menlo,'DejaVu Sans Mono',consolas,'Courier New',monospace\"><span style=\"color: #000080; text-decoration-color: #000080\">INFO    </span> Using Ray cluster with <span style=\"color: #008080; text-decoration-color: #008080; font-weight: bold\">16.0</span> CPUs!          <a href=\"file:///home/jd/msm_we/msm_we/msm_we.py\" target=\"_blank\"><span style=\"color: #7f7f7f; text-decoration-color: #7f7f7f\">msm_we.py</span></a><span style=\"color: #7f7f7f; text-decoration-color: #7f7f7f\">:</span><a href=\"file:///home/jd/msm_we/msm_we/msm_we.py#873\" target=\"_blank\"><span style=\"color: #7f7f7f; text-decoration-color: #7f7f7f\">873</span></a>\n",
       "</pre>\n"
      ],
      "text/plain": [
       "\u001b[34mINFO    \u001b[0m Using Ray cluster with \u001b[1;36m16.0\u001b[0m CPUs!          \u001b]8;id=124766;file:///home/jd/msm_we/msm_we/msm_we.py\u001b\\\u001b[2mmsm_we.py\u001b[0m\u001b]8;;\u001b\\\u001b[2m:\u001b[0m\u001b]8;id=9387;file:///home/jd/msm_we/msm_we/msm_we.py#873\u001b\\\u001b[2m873\u001b[0m\u001b]8;;\u001b\\\n"
      ]
     },
     "metadata": {},
     "output_type": "display_data"
    },
    {
     "data": {
      "application/vnd.jupyter.widget-view+json": {
       "model_id": "467aef33b38f42cb9be2348f4e9fdba1",
       "version_major": 2,
       "version_minor": 0
      },
      "text/plain": [
       "Submitting discretization tasks:   0%|          | 0/99 [00:00<?, ?it/s]"
      ]
     },
     "metadata": {},
     "output_type": "display_data"
    },
    {
     "data": {
      "application/vnd.jupyter.widget-view+json": {
       "model_id": "5a6368d936ec4cee97e5e8c5f01cf306",
       "version_major": 2,
       "version_minor": 0
      },
      "text/plain": [
       "Retrieving discretized trajectories:   0%|          | 0/99 [00:00<?, ?it/s]"
      ]
     },
     "metadata": {},
     "output_type": "display_data"
    },
    {
     "data": {
      "text/html": [
       "<pre style=\"white-space:pre;overflow-x:auto;line-height:normal;font-family:Menlo,'DejaVu Sans Mono',consolas,'Courier New',monospace\"><span style=\"color: #000080; text-decoration-color: #000080\">INFO    </span> Discretization complete                   <a href=\"file:///home/jd/msm_we/msm_we/msm_we.py\" target=\"_blank\"><span style=\"color: #7f7f7f; text-decoration-color: #7f7f7f\">msm_we.py</span></a><span style=\"color: #7f7f7f; text-decoration-color: #7f7f7f\">:</span><a href=\"file:///home/jd/msm_we/msm_we/msm_we.py#4194\" target=\"_blank\"><span style=\"color: #7f7f7f; text-decoration-color: #7f7f7f\">4194</span></a>\n",
       "</pre>\n"
      ],
      "text/plain": [
       "\u001b[34mINFO    \u001b[0m Discretization complete                   \u001b]8;id=61497;file:///home/jd/msm_we/msm_we/msm_we.py\u001b\\\u001b[2mmsm_we.py\u001b[0m\u001b]8;;\u001b\\\u001b[2m:\u001b[0m\u001b]8;id=124131;file:///home/jd/msm_we/msm_we/msm_we.py#4194\u001b\\\u001b[2m4194\u001b[0m\u001b]8;;\u001b\\\n"
      ]
     },
     "metadata": {},
     "output_type": "display_data"
    }
   ],
   "source": [
    "model.cluster_coordinates(\n",
    "    n_clusters=clusters_per_stratum,\n",
    "    use_ray=True,\n",
    "    stratified=True,\n",
    "    store_validation_model=True # Required for block validation\n",
    ")"
   ]
  },
  {
   "cell_type": "code",
   "execution_count": 13,
   "id": "1dcb56a5-0a6e-4364-bbef-781b1b56c450",
   "metadata": {},
   "outputs": [
    {
     "data": {
      "application/vnd.jupyter.widget-view+json": {
       "model_id": "5a1d531bb6be4366a94a59ae869007f6",
       "version_major": 2,
       "version_minor": 0
      },
      "text/plain": [
       "Constructing flux matrix:   0%|          | 0/98 [00:00<?, ?it/s]"
      ]
     },
     "metadata": {},
     "output_type": "display_data"
    }
   ],
   "source": [
    "model.get_fluxMatrix(n_lag=0)"
   ]
  },
  {
   "cell_type": "markdown",
   "id": "d34283b0-d2cd-4b65-b04e-c66315d1490b",
   "metadata": {},
   "source": [
    "It's likely our flux matrix isn't strongly connected. This cleaning step removes all clusters that aren't in the largest connected set, then rediscretizes all the trajectories according to the new, reduced set of clusters."
   ]
  },
  {
   "cell_type": "code",
   "execution_count": 14,
   "id": "4653e02d-86cd-49b4-ac13-485973614ad9",
   "metadata": {},
   "outputs": [
    {
     "data": {
      "text/html": [
       "<pre style=\"white-space:pre;overflow-x:auto;line-height:normal;font-family:Menlo,'DejaVu Sans Mono',consolas,'Courier New',monospace\"><span style=\"color: #000080; text-decoration-color: #000080\">INFO    </span> Started with <span style=\"color: #008080; text-decoration-color: #008080; font-weight: bold\">300</span> clusters, and removed    <a href=\"file:///home/jd/msm_we/msm_we/msm_we.py\" target=\"_blank\"><span style=\"color: #7f7f7f; text-decoration-color: #7f7f7f\">msm_we.py</span></a><span style=\"color: #7f7f7f; text-decoration-color: #7f7f7f\">:</span><a href=\"file:///home/jd/msm_we/msm_we/msm_we.py#4018\" target=\"_blank\"><span style=\"color: #7f7f7f; text-decoration-color: #7f7f7f\">4018</span></a>\n",
       "         <span style=\"color: #008080; text-decoration-color: #008080; font-weight: bold\">133</span>                                       <span style=\"color: #7f7f7f; text-decoration-color: #7f7f7f\">              </span>\n",
       "</pre>\n"
      ],
      "text/plain": [
       "\u001b[34mINFO    \u001b[0m Started with \u001b[1;36m300\u001b[0m clusters, and removed    \u001b]8;id=167239;file:///home/jd/msm_we/msm_we/msm_we.py\u001b\\\u001b[2mmsm_we.py\u001b[0m\u001b]8;;\u001b\\\u001b[2m:\u001b[0m\u001b]8;id=170712;file:///home/jd/msm_we/msm_we/msm_we.py#4018\u001b\\\u001b[2m4018\u001b[0m\u001b]8;;\u001b\\\n",
       "         \u001b[1;36m133\u001b[0m                                       \u001b[2m              \u001b[0m\n"
      ]
     },
     "metadata": {},
     "output_type": "display_data"
    },
    {
     "data": {
      "text/html": [
       "<pre style=\"white-space:pre;overflow-x:auto;line-height:normal;font-family:Menlo,'DejaVu Sans Mono',consolas,'Courier New',monospace\"><span style=\"color: #800000; text-decoration-color: #800000\">WARNING </span> All clusters were cleaned from bins <span style=\"font-weight: bold\">{</span><span style=\"color: #008080; text-decoration-color: #008080; font-weight: bold\">11</span><span style=\"font-weight: bold\">}</span>  <a href=\"file:///home/jd/msm_we/msm_we/msm_we.py\" target=\"_blank\"><span style=\"color: #7f7f7f; text-decoration-color: #7f7f7f\">msm_we.py</span></a><span style=\"color: #7f7f7f; text-decoration-color: #7f7f7f\">:</span><a href=\"file:///home/jd/msm_we/msm_we/msm_we.py#4034\" target=\"_blank\"><span style=\"color: #7f7f7f; text-decoration-color: #7f7f7f\">4034</span></a>\n",
       "</pre>\n"
      ],
      "text/plain": [
       "\u001b[31mWARNING \u001b[0m All clusters were cleaned from bins \u001b[1m{\u001b[0m\u001b[1;36m11\u001b[0m\u001b[1m}\u001b[0m  \u001b]8;id=296936;file:///home/jd/msm_we/msm_we/msm_we.py\u001b\\\u001b[2mmsm_we.py\u001b[0m\u001b]8;;\u001b\\\u001b[2m:\u001b[0m\u001b]8;id=331241;file:///home/jd/msm_we/msm_we/msm_we.py#4034\u001b\\\u001b[2m4034\u001b[0m\u001b]8;;\u001b\\\n"
      ]
     },
     "metadata": {},
     "output_type": "display_data"
    },
    {
     "data": {
      "text/html": [
       "<pre style=\"white-space:pre;overflow-x:auto;line-height:normal;font-family:Menlo,'DejaVu Sans Mono',consolas,'Courier New',monospace\"><span style=\"color: #000080; text-decoration-color: #000080\">INFO    </span> Using Ray cluster with <span style=\"color: #008080; text-decoration-color: #008080; font-weight: bold\">16.0</span> CPUs!          <a href=\"file:///home/jd/msm_we/msm_we/msm_we.py\" target=\"_blank\"><span style=\"color: #7f7f7f; text-decoration-color: #7f7f7f\">msm_we.py</span></a><span style=\"color: #7f7f7f; text-decoration-color: #7f7f7f\">:</span><a href=\"file:///home/jd/msm_we/msm_we/msm_we.py#873\" target=\"_blank\"><span style=\"color: #7f7f7f; text-decoration-color: #7f7f7f\">873</span></a>\n",
       "</pre>\n"
      ],
      "text/plain": [
       "\u001b[34mINFO    \u001b[0m Using Ray cluster with \u001b[1;36m16.0\u001b[0m CPUs!          \u001b]8;id=27036;file:///home/jd/msm_we/msm_we/msm_we.py\u001b\\\u001b[2mmsm_we.py\u001b[0m\u001b]8;;\u001b\\\u001b[2m:\u001b[0m\u001b]8;id=595664;file:///home/jd/msm_we/msm_we/msm_we.py#873\u001b\\\u001b[2m873\u001b[0m\u001b]8;;\u001b\\\n"
      ]
     },
     "metadata": {},
     "output_type": "display_data"
    },
    {
     "data": {
      "text/html": [
       "<pre style=\"white-space:pre;overflow-x:auto;line-height:normal;font-family:Menlo,'DejaVu Sans Mono',consolas,'Courier New',monospace\"><span style=\"color: #000080; text-decoration-color: #000080\">INFO    </span> Using cached model for discretization     <a href=\"file:///home/jd/msm_we/msm_we/msm_we.py\" target=\"_blank\"><span style=\"color: #7f7f7f; text-decoration-color: #7f7f7f\">msm_we.py</span></a><span style=\"color: #7f7f7f; text-decoration-color: #7f7f7f\">:</span><a href=\"file:///home/jd/msm_we/msm_we/msm_we.py#4130\" target=\"_blank\"><span style=\"color: #7f7f7f; text-decoration-color: #7f7f7f\">4130</span></a>\n",
       "</pre>\n"
      ],
      "text/plain": [
       "\u001b[34mINFO    \u001b[0m Using cached model for discretization     \u001b]8;id=960711;file:///home/jd/msm_we/msm_we/msm_we.py\u001b\\\u001b[2mmsm_we.py\u001b[0m\u001b]8;;\u001b\\\u001b[2m:\u001b[0m\u001b]8;id=156149;file:///home/jd/msm_we/msm_we/msm_we.py#4130\u001b\\\u001b[2m4130\u001b[0m\u001b]8;;\u001b\\\n"
      ]
     },
     "metadata": {},
     "output_type": "display_data"
    },
    {
     "data": {
      "application/vnd.jupyter.widget-view+json": {
       "model_id": "b618414afe3544fea52a5572928a5ad8",
       "version_major": 2,
       "version_minor": 0
      },
      "text/plain": [
       "Submitting discretization tasks:   0%|          | 0/99 [00:00<?, ?it/s]"
      ]
     },
     "metadata": {},
     "output_type": "display_data"
    },
    {
     "data": {
      "application/vnd.jupyter.widget-view+json": {
       "model_id": "474b523c21c148ec82d98304eb8ca171",
       "version_major": 2,
       "version_minor": 0
      },
      "text/plain": [
       "Retrieving discretized trajectories:   0%|          | 0/99 [00:00<?, ?it/s]"
      ]
     },
     "metadata": {},
     "output_type": "display_data"
    },
    {
     "data": {
      "text/html": [
       "<pre style=\"white-space:pre;overflow-x:auto;line-height:normal;font-family:Menlo,'DejaVu Sans Mono',consolas,'Courier New',monospace\"><span style=\"color: #000080; text-decoration-color: #000080\">INFO    </span> Discretization complete                   <a href=\"file:///home/jd/msm_we/msm_we/msm_we.py\" target=\"_blank\"><span style=\"color: #7f7f7f; text-decoration-color: #7f7f7f\">msm_we.py</span></a><span style=\"color: #7f7f7f; text-decoration-color: #7f7f7f\">:</span><a href=\"file:///home/jd/msm_we/msm_we/msm_we.py#4194\" target=\"_blank\"><span style=\"color: #7f7f7f; text-decoration-color: #7f7f7f\">4194</span></a>\n",
       "</pre>\n"
      ],
      "text/plain": [
       "\u001b[34mINFO    \u001b[0m Discretization complete                   \u001b]8;id=600521;file:///home/jd/msm_we/msm_we/msm_we.py\u001b\\\u001b[2mmsm_we.py\u001b[0m\u001b]8;;\u001b\\\u001b[2m:\u001b[0m\u001b]8;id=633284;file:///home/jd/msm_we/msm_we/msm_we.py#4194\u001b\\\u001b[2m4194\u001b[0m\u001b]8;;\u001b\\\n"
      ]
     },
     "metadata": {},
     "output_type": "display_data"
    },
    {
     "data": {
      "application/vnd.jupyter.widget-view+json": {
       "model_id": "56c0e64b129c4a0bb550a623d56f7820",
       "version_major": 2,
       "version_minor": 0
      },
      "text/plain": [
       "Constructing flux matrix:   0%|          | 0/98 [00:00<?, ?it/s]"
      ]
     },
     "metadata": {},
     "output_type": "display_data"
    }
   ],
   "source": [
    "model.organize_fluxMatrix()"
   ]
  },
  {
   "cell_type": "markdown",
   "id": "98c0ef78-55d3-4c6a-a2e9-af6a0ae529ea",
   "metadata": {},
   "source": [
    "### Transition matrix estimation"
   ]
  },
  {
   "cell_type": "code",
   "execution_count": 15,
   "id": "075e53b5-7117-4775-9edc-a9b535a1b505",
   "metadata": {},
   "outputs": [],
   "source": [
    "model.get_Tmatrix()"
   ]
  },
  {
   "cell_type": "code",
   "execution_count": 16,
   "id": "a509d3d9-5f78-4050-8e16-3f88a1b09693",
   "metadata": {},
   "outputs": [
    {
     "data": {
      "text/html": [
       "<pre style=\"white-space:pre;overflow-x:auto;line-height:normal;font-family:Menlo,'DejaVu Sans Mono',consolas,'Courier New',monospace\"><span style=\"color: #000080; text-decoration-color: #000080\">INFO    </span>                                           <a href=\"file:///home/jd/msm_we/msm_we/msm_we.py\" target=\"_blank\"><span style=\"color: #7f7f7f; text-decoration-color: #7f7f7f\">msm_we.py</span></a><span style=\"color: #7f7f7f; text-decoration-color: #7f7f7f\">:</span><a href=\"file:///home/jd/msm_we/msm_we/msm_we.py#5592\" target=\"_blank\"><span style=\"color: #7f7f7f; text-decoration-color: #7f7f7f\">5592</span></a>\n",
       "         Flux converged to <span style=\"color: #008080; text-decoration-color: #008080; font-weight: bold\">2.1088e+06</span> after <span style=\"color: #008080; text-decoration-color: #008080; font-weight: bold\">1</span>      <span style=\"color: #7f7f7f; text-decoration-color: #7f7f7f\">              </span>\n",
       "         iterations of inverse iteration.          <span style=\"color: #7f7f7f; text-decoration-color: #7f7f7f\">              </span>\n",
       "</pre>\n"
      ],
      "text/plain": [
       "\u001b[34mINFO    \u001b[0m                                           \u001b]8;id=182667;file:///home/jd/msm_we/msm_we/msm_we.py\u001b\\\u001b[2mmsm_we.py\u001b[0m\u001b]8;;\u001b\\\u001b[2m:\u001b[0m\u001b]8;id=400843;file:///home/jd/msm_we/msm_we/msm_we.py#5592\u001b\\\u001b[2m5592\u001b[0m\u001b]8;;\u001b\\\n",
       "         Flux converged to \u001b[1;36m2.1088e+06\u001b[0m after \u001b[1;36m1\u001b[0m      \u001b[2m              \u001b[0m\n",
       "         iterations of inverse iteration.          \u001b[2m              \u001b[0m\n"
      ]
     },
     "metadata": {},
     "output_type": "display_data"
    },
    {
     "data": {
      "text/html": [
       "<pre style=\"white-space:pre;overflow-x:auto;line-height:normal;font-family:Menlo,'DejaVu Sans Mono',consolas,'Courier New',monospace\"><span style=\"color: #000080; text-decoration-color: #000080\">INFO    </span> Done with steady-state estimation.        <a href=\"file:///home/jd/msm_we/msm_we/msm_we.py\" target=\"_blank\"><span style=\"color: #7f7f7f; text-decoration-color: #7f7f7f\">msm_we.py</span></a><span style=\"color: #7f7f7f; text-decoration-color: #7f7f7f\">:</span><a href=\"file:///home/jd/msm_we/msm_we/msm_we.py#5603\" target=\"_blank\"><span style=\"color: #7f7f7f; text-decoration-color: #7f7f7f\">5603</span></a>\n",
       "</pre>\n"
      ],
      "text/plain": [
       "\u001b[34mINFO    \u001b[0m Done with steady-state estimation.        \u001b]8;id=377393;file:///home/jd/msm_we/msm_we/msm_we.py\u001b\\\u001b[2mmsm_we.py\u001b[0m\u001b]8;;\u001b\\\u001b[2m:\u001b[0m\u001b]8;id=726915;file:///home/jd/msm_we/msm_we/msm_we.py#5603\u001b\\\u001b[2m5603\u001b[0m\u001b]8;;\u001b\\\n"
      ]
     },
     "metadata": {},
     "output_type": "display_data"
    }
   ],
   "source": [
    "model.get_steady_state()"
   ]
  },
  {
   "cell_type": "code",
   "execution_count": 17,
   "id": "b6d36d4a-06cd-485f-8a71-3dec4d2cc5c4",
   "metadata": {},
   "outputs": [],
   "source": [
    "model.get_steady_state_target_flux()"
   ]
  },
  {
   "cell_type": "markdown",
   "id": "e0392a17-4f3c-47e9-9eeb-6db35dc654c9",
   "metadata": {},
   "source": [
    "### Model validation\n",
    "\n",
    "This block validation step "
   ]
  },
  {
   "cell_type": "code",
   "execution_count": 18,
   "id": "1f3272b4-5474-4d0d-9ac2-4429a07b50e7",
   "metadata": {},
   "outputs": [
    {
     "data": {
      "text/html": [
       "<pre style=\"white-space:pre;overflow-x:auto;line-height:normal;font-family:Menlo,'DejaVu Sans Mono',consolas,'Courier New',monospace\"><span style=\"color: #000080; text-decoration-color: #000080\">INFO    </span> Beginning analysis of cross-validation    <a href=\"file:///home/jd/msm_we/msm_we/msm_we.py\" target=\"_blank\"><span style=\"color: #7f7f7f; text-decoration-color: #7f7f7f\">msm_we.py</span></a><span style=\"color: #7f7f7f; text-decoration-color: #7f7f7f\">:</span><a href=\"file:///home/jd/msm_we/msm_we/msm_we.py#1339\" target=\"_blank\"><span style=\"color: #7f7f7f; text-decoration-color: #7f7f7f\">1339</span></a>\n",
       "         group <span style=\"color: #008080; text-decoration-color: #008080; font-weight: bold\">1</span>/<span style=\"color: #008080; text-decoration-color: #008080; font-weight: bold\">2</span>.                                <span style=\"color: #7f7f7f; text-decoration-color: #7f7f7f\">              </span>\n",
       "</pre>\n"
      ],
      "text/plain": [
       "\u001b[34mINFO    \u001b[0m Beginning analysis of cross-validation    \u001b]8;id=996098;file:///home/jd/msm_we/msm_we/msm_we.py\u001b\\\u001b[2mmsm_we.py\u001b[0m\u001b]8;;\u001b\\\u001b[2m:\u001b[0m\u001b]8;id=908382;file:///home/jd/msm_we/msm_we/msm_we.py#1339\u001b\\\u001b[2m1339\u001b[0m\u001b]8;;\u001b\\\n",
       "         group \u001b[1;36m1\u001b[0m/\u001b[1;36m2\u001b[0m.                                \u001b[2m              \u001b[0m\n"
      ]
     },
     "metadata": {},
     "output_type": "display_data"
    },
    {
     "data": {
      "text/html": [
       "<pre style=\"white-space:pre;overflow-x:auto;line-height:normal;font-family:Menlo,'DejaVu Sans Mono',consolas,'Courier New',monospace\"><span style=\"color: #000080; text-decoration-color: #000080\">INFO    </span> Using Ray cluster with <span style=\"color: #008080; text-decoration-color: #008080; font-weight: bold\">16.0</span> CPUs!          <a href=\"file:///home/jd/msm_we/msm_we/msm_we.py\" target=\"_blank\"><span style=\"color: #7f7f7f; text-decoration-color: #7f7f7f\">msm_we.py</span></a><span style=\"color: #7f7f7f; text-decoration-color: #7f7f7f\">:</span><a href=\"file:///home/jd/msm_we/msm_we/msm_we.py#873\" target=\"_blank\"><span style=\"color: #7f7f7f; text-decoration-color: #7f7f7f\">873</span></a>\n",
       "</pre>\n"
      ],
      "text/plain": [
       "\u001b[34mINFO    \u001b[0m Using Ray cluster with \u001b[1;36m16.0\u001b[0m CPUs!          \u001b]8;id=266577;file:///home/jd/msm_we/msm_we/msm_we.py\u001b\\\u001b[2mmsm_we.py\u001b[0m\u001b]8;;\u001b\\\u001b[2m:\u001b[0m\u001b]8;id=82631;file:///home/jd/msm_we/msm_we/msm_we.py#873\u001b\\\u001b[2m873\u001b[0m\u001b]8;;\u001b\\\n"
      ]
     },
     "metadata": {},
     "output_type": "display_data"
    },
    {
     "data": {
      "application/vnd.jupyter.widget-view+json": {
       "model_id": "aa9f8ad8e219448298f4ef305f8e237d",
       "version_major": 2,
       "version_minor": 0
      },
      "text/plain": [
       "Submitting fluxmatrix tasks:   0%|          | 0/50 [00:00<?, ?it/s]"
      ]
     },
     "metadata": {},
     "output_type": "display_data"
    },
    {
     "data": {
      "application/vnd.jupyter.widget-view+json": {
       "model_id": "984a48cf17c94402b7eeca3c8ccbd195",
       "version_major": 2,
       "version_minor": 0
      },
      "text/plain": [
       "Retrieving flux matrices:   0%|          | 0/50 [00:00<?, ?it/s]"
      ]
     },
     "metadata": {},
     "output_type": "display_data"
    },
    {
     "data": {
      "text/html": [
       "<pre style=\"white-space:pre;overflow-x:auto;line-height:normal;font-family:Menlo,'DejaVu Sans Mono',consolas,'Courier New',monospace\"><span style=\"color: #000080; text-decoration-color: #000080\">INFO    </span> Fluxmatrices all obtained                 <a href=\"file:///home/jd/msm_we/msm_we/msm_we.py\" target=\"_blank\"><span style=\"color: #7f7f7f; text-decoration-color: #7f7f7f\">msm_we.py</span></a><span style=\"color: #7f7f7f; text-decoration-color: #7f7f7f\">:</span><a href=\"file:///home/jd/msm_we/msm_we/msm_we.py#4943\" target=\"_blank\"><span style=\"color: #7f7f7f; text-decoration-color: #7f7f7f\">4943</span></a>\n",
       "</pre>\n"
      ],
      "text/plain": [
       "\u001b[34mINFO    \u001b[0m Fluxmatrices all obtained                 \u001b]8;id=705609;file:///home/jd/msm_we/msm_we/msm_we.py\u001b\\\u001b[2mmsm_we.py\u001b[0m\u001b]8;;\u001b\\\u001b[2m:\u001b[0m\u001b]8;id=846566;file:///home/jd/msm_we/msm_we/msm_we.py#4943\u001b\\\u001b[2m4943\u001b[0m\u001b]8;;\u001b\\\n"
      ]
     },
     "metadata": {},
     "output_type": "display_data"
    },
    {
     "data": {
      "text/html": [
       "<pre style=\"white-space:pre;overflow-x:auto;line-height:normal;font-family:Menlo,'DejaVu Sans Mono',consolas,'Courier New',monospace\"><span style=\"color: #000080; text-decoration-color: #000080\">INFO    </span> Started with <span style=\"color: #008080; text-decoration-color: #008080; font-weight: bold\">300</span> clusters, and removed    <a href=\"file:///home/jd/msm_we/msm_we/msm_we.py\" target=\"_blank\"><span style=\"color: #7f7f7f; text-decoration-color: #7f7f7f\">msm_we.py</span></a><span style=\"color: #7f7f7f; text-decoration-color: #7f7f7f\">:</span><a href=\"file:///home/jd/msm_we/msm_we/msm_we.py#4018\" target=\"_blank\"><span style=\"color: #7f7f7f; text-decoration-color: #7f7f7f\">4018</span></a>\n",
       "         <span style=\"color: #008080; text-decoration-color: #008080; font-weight: bold\">155</span>                                       <span style=\"color: #7f7f7f; text-decoration-color: #7f7f7f\">              </span>\n",
       "</pre>\n"
      ],
      "text/plain": [
       "\u001b[34mINFO    \u001b[0m Started with \u001b[1;36m300\u001b[0m clusters, and removed    \u001b]8;id=174735;file:///home/jd/msm_we/msm_we/msm_we.py\u001b\\\u001b[2mmsm_we.py\u001b[0m\u001b]8;;\u001b\\\u001b[2m:\u001b[0m\u001b]8;id=854532;file:///home/jd/msm_we/msm_we/msm_we.py#4018\u001b\\\u001b[2m4018\u001b[0m\u001b]8;;\u001b\\\n",
       "         \u001b[1;36m155\u001b[0m                                       \u001b[2m              \u001b[0m\n"
      ]
     },
     "metadata": {},
     "output_type": "display_data"
    },
    {
     "data": {
      "text/html": [
       "<pre style=\"white-space:pre;overflow-x:auto;line-height:normal;font-family:Menlo,'DejaVu Sans Mono',consolas,'Courier New',monospace\"><span style=\"color: #800000; text-decoration-color: #800000\">WARNING </span> All clusters were cleaned from bins <span style=\"font-weight: bold\">{</span><span style=\"color: #008080; text-decoration-color: #008080; font-weight: bold\">11</span><span style=\"font-weight: bold\">}</span>  <a href=\"file:///home/jd/msm_we/msm_we/msm_we.py\" target=\"_blank\"><span style=\"color: #7f7f7f; text-decoration-color: #7f7f7f\">msm_we.py</span></a><span style=\"color: #7f7f7f; text-decoration-color: #7f7f7f\">:</span><a href=\"file:///home/jd/msm_we/msm_we/msm_we.py#4034\" target=\"_blank\"><span style=\"color: #7f7f7f; text-decoration-color: #7f7f7f\">4034</span></a>\n",
       "</pre>\n"
      ],
      "text/plain": [
       "\u001b[31mWARNING \u001b[0m All clusters were cleaned from bins \u001b[1m{\u001b[0m\u001b[1;36m11\u001b[0m\u001b[1m}\u001b[0m  \u001b]8;id=555256;file:///home/jd/msm_we/msm_we/msm_we.py\u001b\\\u001b[2mmsm_we.py\u001b[0m\u001b]8;;\u001b\\\u001b[2m:\u001b[0m\u001b]8;id=677271;file:///home/jd/msm_we/msm_we/msm_we.py#4034\u001b\\\u001b[2m4034\u001b[0m\u001b]8;;\u001b\\\n"
      ]
     },
     "metadata": {},
     "output_type": "display_data"
    },
    {
     "data": {
      "text/html": [
       "<pre style=\"white-space:pre;overflow-x:auto;line-height:normal;font-family:Menlo,'DejaVu Sans Mono',consolas,'Courier New',monospace\"><span style=\"color: #000080; text-decoration-color: #000080\">INFO    </span> Using Ray cluster with <span style=\"color: #008080; text-decoration-color: #008080; font-weight: bold\">16.0</span> CPUs!          <a href=\"file:///home/jd/msm_we/msm_we/msm_we.py\" target=\"_blank\"><span style=\"color: #7f7f7f; text-decoration-color: #7f7f7f\">msm_we.py</span></a><span style=\"color: #7f7f7f; text-decoration-color: #7f7f7f\">:</span><a href=\"file:///home/jd/msm_we/msm_we/msm_we.py#873\" target=\"_blank\"><span style=\"color: #7f7f7f; text-decoration-color: #7f7f7f\">873</span></a>\n",
       "</pre>\n"
      ],
      "text/plain": [
       "\u001b[34mINFO    \u001b[0m Using Ray cluster with \u001b[1;36m16.0\u001b[0m CPUs!          \u001b]8;id=180616;file:///home/jd/msm_we/msm_we/msm_we.py\u001b\\\u001b[2mmsm_we.py\u001b[0m\u001b]8;;\u001b\\\u001b[2m:\u001b[0m\u001b]8;id=814865;file:///home/jd/msm_we/msm_we/msm_we.py#873\u001b\\\u001b[2m873\u001b[0m\u001b]8;;\u001b\\\n"
      ]
     },
     "metadata": {},
     "output_type": "display_data"
    },
    {
     "data": {
      "text/html": [
       "<pre style=\"white-space:pre;overflow-x:auto;line-height:normal;font-family:Menlo,'DejaVu Sans Mono',consolas,'Courier New',monospace\"><span style=\"color: #000080; text-decoration-color: #000080\">INFO    </span> Using cached model for discretization     <a href=\"file:///home/jd/msm_we/msm_we/msm_we.py\" target=\"_blank\"><span style=\"color: #7f7f7f; text-decoration-color: #7f7f7f\">msm_we.py</span></a><span style=\"color: #7f7f7f; text-decoration-color: #7f7f7f\">:</span><a href=\"file:///home/jd/msm_we/msm_we/msm_we.py#4130\" target=\"_blank\"><span style=\"color: #7f7f7f; text-decoration-color: #7f7f7f\">4130</span></a>\n",
       "</pre>\n"
      ],
      "text/plain": [
       "\u001b[34mINFO    \u001b[0m Using cached model for discretization     \u001b]8;id=145416;file:///home/jd/msm_we/msm_we/msm_we.py\u001b\\\u001b[2mmsm_we.py\u001b[0m\u001b]8;;\u001b\\\u001b[2m:\u001b[0m\u001b]8;id=156151;file:///home/jd/msm_we/msm_we/msm_we.py#4130\u001b\\\u001b[2m4130\u001b[0m\u001b]8;;\u001b\\\n"
      ]
     },
     "metadata": {},
     "output_type": "display_data"
    },
    {
     "data": {
      "application/vnd.jupyter.widget-view+json": {
       "model_id": "3b1e3d607d3a4d3e8b97ab10f76faa8f",
       "version_major": 2,
       "version_minor": 0
      },
      "text/plain": [
       "Submitting discretization tasks:   0%|          | 0/99 [00:00<?, ?it/s]"
      ]
     },
     "metadata": {},
     "output_type": "display_data"
    },
    {
     "data": {
      "application/vnd.jupyter.widget-view+json": {
       "model_id": "814e46efd80d41a08913d9928b52d2a9",
       "version_major": 2,
       "version_minor": 0
      },
      "text/plain": [
       "Retrieving discretized trajectories:   0%|          | 0/99 [00:00<?, ?it/s]"
      ]
     },
     "metadata": {},
     "output_type": "display_data"
    },
    {
     "data": {
      "text/html": [
       "<pre style=\"white-space:pre;overflow-x:auto;line-height:normal;font-family:Menlo,'DejaVu Sans Mono',consolas,'Courier New',monospace\"><span style=\"color: #000080; text-decoration-color: #000080\">INFO    </span> Discretization complete                   <a href=\"file:///home/jd/msm_we/msm_we/msm_we.py\" target=\"_blank\"><span style=\"color: #7f7f7f; text-decoration-color: #7f7f7f\">msm_we.py</span></a><span style=\"color: #7f7f7f; text-decoration-color: #7f7f7f\">:</span><a href=\"file:///home/jd/msm_we/msm_we/msm_we.py#4194\" target=\"_blank\"><span style=\"color: #7f7f7f; text-decoration-color: #7f7f7f\">4194</span></a>\n",
       "</pre>\n"
      ],
      "text/plain": [
       "\u001b[34mINFO    \u001b[0m Discretization complete                   \u001b]8;id=132683;file:///home/jd/msm_we/msm_we/msm_we.py\u001b\\\u001b[2mmsm_we.py\u001b[0m\u001b]8;;\u001b\\\u001b[2m:\u001b[0m\u001b]8;id=984399;file:///home/jd/msm_we/msm_we/msm_we.py#4194\u001b\\\u001b[2m4194\u001b[0m\u001b]8;;\u001b\\\n"
      ]
     },
     "metadata": {},
     "output_type": "display_data"
    },
    {
     "data": {
      "text/html": [
       "<pre style=\"white-space:pre;overflow-x:auto;line-height:normal;font-family:Menlo,'DejaVu Sans Mono',consolas,'Courier New',monospace\"><span style=\"color: #000080; text-decoration-color: #000080\">INFO    </span> Using Ray cluster with <span style=\"color: #008080; text-decoration-color: #008080; font-weight: bold\">16.0</span> CPUs!          <a href=\"file:///home/jd/msm_we/msm_we/msm_we.py\" target=\"_blank\"><span style=\"color: #7f7f7f; text-decoration-color: #7f7f7f\">msm_we.py</span></a><span style=\"color: #7f7f7f; text-decoration-color: #7f7f7f\">:</span><a href=\"file:///home/jd/msm_we/msm_we/msm_we.py#873\" target=\"_blank\"><span style=\"color: #7f7f7f; text-decoration-color: #7f7f7f\">873</span></a>\n",
       "</pre>\n"
      ],
      "text/plain": [
       "\u001b[34mINFO    \u001b[0m Using Ray cluster with \u001b[1;36m16.0\u001b[0m CPUs!          \u001b]8;id=578295;file:///home/jd/msm_we/msm_we/msm_we.py\u001b\\\u001b[2mmsm_we.py\u001b[0m\u001b]8;;\u001b\\\u001b[2m:\u001b[0m\u001b]8;id=513417;file:///home/jd/msm_we/msm_we/msm_we.py#873\u001b\\\u001b[2m873\u001b[0m\u001b]8;;\u001b\\\n"
      ]
     },
     "metadata": {},
     "output_type": "display_data"
    },
    {
     "data": {
      "application/vnd.jupyter.widget-view+json": {
       "model_id": "b238e92a323a41b8923f41e2407ea9b6",
       "version_major": 2,
       "version_minor": 0
      },
      "text/plain": [
       "Submitting fluxmatrix tasks:   0%|          | 0/50 [00:00<?, ?it/s]"
      ]
     },
     "metadata": {},
     "output_type": "display_data"
    },
    {
     "data": {
      "application/vnd.jupyter.widget-view+json": {
       "model_id": "7b765f1838bf42ce9bf1a338a180eca0",
       "version_major": 2,
       "version_minor": 0
      },
      "text/plain": [
       "Retrieving flux matrices:   0%|          | 0/50 [00:00<?, ?it/s]"
      ]
     },
     "metadata": {},
     "output_type": "display_data"
    },
    {
     "data": {
      "text/html": [
       "<pre style=\"white-space:pre;overflow-x:auto;line-height:normal;font-family:Menlo,'DejaVu Sans Mono',consolas,'Courier New',monospace\"><span style=\"color: #000080; text-decoration-color: #000080\">INFO    </span> Fluxmatrices all obtained                 <a href=\"file:///home/jd/msm_we/msm_we/msm_we.py\" target=\"_blank\"><span style=\"color: #7f7f7f; text-decoration-color: #7f7f7f\">msm_we.py</span></a><span style=\"color: #7f7f7f; text-decoration-color: #7f7f7f\">:</span><a href=\"file:///home/jd/msm_we/msm_we/msm_we.py#4943\" target=\"_blank\"><span style=\"color: #7f7f7f; text-decoration-color: #7f7f7f\">4943</span></a>\n",
       "</pre>\n"
      ],
      "text/plain": [
       "\u001b[34mINFO    \u001b[0m Fluxmatrices all obtained                 \u001b]8;id=67608;file:///home/jd/msm_we/msm_we/msm_we.py\u001b\\\u001b[2mmsm_we.py\u001b[0m\u001b]8;;\u001b\\\u001b[2m:\u001b[0m\u001b]8;id=852938;file:///home/jd/msm_we/msm_we/msm_we.py#4943\u001b\\\u001b[2m4943\u001b[0m\u001b]8;;\u001b\\\n"
      ]
     },
     "metadata": {},
     "output_type": "display_data"
    },
    {
     "data": {
      "text/html": [
       "<pre style=\"white-space:pre;overflow-x:auto;line-height:normal;font-family:Menlo,'DejaVu Sans Mono',consolas,'Courier New',monospace\"><span style=\"color: #000080; text-decoration-color: #000080\">INFO    </span>                                           <a href=\"file:///home/jd/msm_we/msm_we/msm_we.py\" target=\"_blank\"><span style=\"color: #7f7f7f; text-decoration-color: #7f7f7f\">msm_we.py</span></a><span style=\"color: #7f7f7f; text-decoration-color: #7f7f7f\">:</span><a href=\"file:///home/jd/msm_we/msm_we/msm_we.py#5592\" target=\"_blank\"><span style=\"color: #7f7f7f; text-decoration-color: #7f7f7f\">5592</span></a>\n",
       "         Flux converged to <span style=\"color: #008080; text-decoration-color: #008080; font-weight: bold\">3.1349e+05</span> after <span style=\"color: #008080; text-decoration-color: #008080; font-weight: bold\">1</span>      <span style=\"color: #7f7f7f; text-decoration-color: #7f7f7f\">              </span>\n",
       "         iterations of inverse iteration.          <span style=\"color: #7f7f7f; text-decoration-color: #7f7f7f\">              </span>\n",
       "</pre>\n"
      ],
      "text/plain": [
       "\u001b[34mINFO    \u001b[0m                                           \u001b]8;id=168159;file:///home/jd/msm_we/msm_we/msm_we.py\u001b\\\u001b[2mmsm_we.py\u001b[0m\u001b]8;;\u001b\\\u001b[2m:\u001b[0m\u001b]8;id=72164;file:///home/jd/msm_we/msm_we/msm_we.py#5592\u001b\\\u001b[2m5592\u001b[0m\u001b]8;;\u001b\\\n",
       "         Flux converged to \u001b[1;36m3.1349e+05\u001b[0m after \u001b[1;36m1\u001b[0m      \u001b[2m              \u001b[0m\n",
       "         iterations of inverse iteration.          \u001b[2m              \u001b[0m\n"
      ]
     },
     "metadata": {},
     "output_type": "display_data"
    },
    {
     "data": {
      "text/html": [
       "<pre style=\"white-space:pre;overflow-x:auto;line-height:normal;font-family:Menlo,'DejaVu Sans Mono',consolas,'Courier New',monospace\"><span style=\"color: #000080; text-decoration-color: #000080\">INFO    </span> Done with steady-state estimation.        <a href=\"file:///home/jd/msm_we/msm_we/msm_we.py\" target=\"_blank\"><span style=\"color: #7f7f7f; text-decoration-color: #7f7f7f\">msm_we.py</span></a><span style=\"color: #7f7f7f; text-decoration-color: #7f7f7f\">:</span><a href=\"file:///home/jd/msm_we/msm_we/msm_we.py#5603\" target=\"_blank\"><span style=\"color: #7f7f7f; text-decoration-color: #7f7f7f\">5603</span></a>\n",
       "</pre>\n"
      ],
      "text/plain": [
       "\u001b[34mINFO    \u001b[0m Done with steady-state estimation.        \u001b]8;id=907521;file:///home/jd/msm_we/msm_we/msm_we.py\u001b\\\u001b[2mmsm_we.py\u001b[0m\u001b]8;;\u001b\\\u001b[2m:\u001b[0m\u001b]8;id=898910;file:///home/jd/msm_we/msm_we/msm_we.py#5603\u001b\\\u001b[2m5603\u001b[0m\u001b]8;;\u001b\\\n"
      ]
     },
     "metadata": {},
     "output_type": "display_data"
    },
    {
     "data": {
      "text/html": [
       "<pre style=\"white-space:pre;overflow-x:auto;line-height:normal;font-family:Menlo,'DejaVu Sans Mono',consolas,'Courier New',monospace\"><span style=\"color: #000080; text-decoration-color: #000080\">INFO    </span> Beginning analysis of cross-validation    <a href=\"file:///home/jd/msm_we/msm_we/msm_we.py\" target=\"_blank\"><span style=\"color: #7f7f7f; text-decoration-color: #7f7f7f\">msm_we.py</span></a><span style=\"color: #7f7f7f; text-decoration-color: #7f7f7f\">:</span><a href=\"file:///home/jd/msm_we/msm_we/msm_we.py#1339\" target=\"_blank\"><span style=\"color: #7f7f7f; text-decoration-color: #7f7f7f\">1339</span></a>\n",
       "         group <span style=\"color: #008080; text-decoration-color: #008080; font-weight: bold\">2</span>/<span style=\"color: #008080; text-decoration-color: #008080; font-weight: bold\">2</span>.                                <span style=\"color: #7f7f7f; text-decoration-color: #7f7f7f\">              </span>\n",
       "</pre>\n"
      ],
      "text/plain": [
       "\u001b[34mINFO    \u001b[0m Beginning analysis of cross-validation    \u001b]8;id=73315;file:///home/jd/msm_we/msm_we/msm_we.py\u001b\\\u001b[2mmsm_we.py\u001b[0m\u001b]8;;\u001b\\\u001b[2m:\u001b[0m\u001b]8;id=69534;file:///home/jd/msm_we/msm_we/msm_we.py#1339\u001b\\\u001b[2m1339\u001b[0m\u001b]8;;\u001b\\\n",
       "         group \u001b[1;36m2\u001b[0m/\u001b[1;36m2\u001b[0m.                                \u001b[2m              \u001b[0m\n"
      ]
     },
     "metadata": {},
     "output_type": "display_data"
    },
    {
     "data": {
      "text/html": [
       "<pre style=\"white-space:pre;overflow-x:auto;line-height:normal;font-family:Menlo,'DejaVu Sans Mono',consolas,'Courier New',monospace\"><span style=\"color: #000080; text-decoration-color: #000080\">INFO    </span> Using Ray cluster with <span style=\"color: #008080; text-decoration-color: #008080; font-weight: bold\">16.0</span> CPUs!          <a href=\"file:///home/jd/msm_we/msm_we/msm_we.py\" target=\"_blank\"><span style=\"color: #7f7f7f; text-decoration-color: #7f7f7f\">msm_we.py</span></a><span style=\"color: #7f7f7f; text-decoration-color: #7f7f7f\">:</span><a href=\"file:///home/jd/msm_we/msm_we/msm_we.py#873\" target=\"_blank\"><span style=\"color: #7f7f7f; text-decoration-color: #7f7f7f\">873</span></a>\n",
       "</pre>\n"
      ],
      "text/plain": [
       "\u001b[34mINFO    \u001b[0m Using Ray cluster with \u001b[1;36m16.0\u001b[0m CPUs!          \u001b]8;id=275654;file:///home/jd/msm_we/msm_we/msm_we.py\u001b\\\u001b[2mmsm_we.py\u001b[0m\u001b]8;;\u001b\\\u001b[2m:\u001b[0m\u001b]8;id=382583;file:///home/jd/msm_we/msm_we/msm_we.py#873\u001b\\\u001b[2m873\u001b[0m\u001b]8;;\u001b\\\n"
      ]
     },
     "metadata": {},
     "output_type": "display_data"
    },
    {
     "data": {
      "application/vnd.jupyter.widget-view+json": {
       "model_id": "7958613fb9af4b8c8bf13e04feba808e",
       "version_major": 2,
       "version_minor": 0
      },
      "text/plain": [
       "Submitting fluxmatrix tasks:   0%|          | 0/49 [00:00<?, ?it/s]"
      ]
     },
     "metadata": {},
     "output_type": "display_data"
    },
    {
     "data": {
      "application/vnd.jupyter.widget-view+json": {
       "model_id": "d1cd6f3d0cb042dfa2b578ccb5fcf951",
       "version_major": 2,
       "version_minor": 0
      },
      "text/plain": [
       "Retrieving flux matrices:   0%|          | 0/49 [00:00<?, ?it/s]"
      ]
     },
     "metadata": {},
     "output_type": "display_data"
    },
    {
     "data": {
      "text/html": [
       "<pre style=\"white-space:pre;overflow-x:auto;line-height:normal;font-family:Menlo,'DejaVu Sans Mono',consolas,'Courier New',monospace\"><span style=\"color: #000080; text-decoration-color: #000080\">INFO    </span> Fluxmatrices all obtained                 <a href=\"file:///home/jd/msm_we/msm_we/msm_we.py\" target=\"_blank\"><span style=\"color: #7f7f7f; text-decoration-color: #7f7f7f\">msm_we.py</span></a><span style=\"color: #7f7f7f; text-decoration-color: #7f7f7f\">:</span><a href=\"file:///home/jd/msm_we/msm_we/msm_we.py#4943\" target=\"_blank\"><span style=\"color: #7f7f7f; text-decoration-color: #7f7f7f\">4943</span></a>\n",
       "</pre>\n"
      ],
      "text/plain": [
       "\u001b[34mINFO    \u001b[0m Fluxmatrices all obtained                 \u001b]8;id=307427;file:///home/jd/msm_we/msm_we/msm_we.py\u001b\\\u001b[2mmsm_we.py\u001b[0m\u001b]8;;\u001b\\\u001b[2m:\u001b[0m\u001b]8;id=981864;file:///home/jd/msm_we/msm_we/msm_we.py#4943\u001b\\\u001b[2m4943\u001b[0m\u001b]8;;\u001b\\\n"
      ]
     },
     "metadata": {},
     "output_type": "display_data"
    },
    {
     "data": {
      "text/html": [
       "<pre style=\"white-space:pre;overflow-x:auto;line-height:normal;font-family:Menlo,'DejaVu Sans Mono',consolas,'Courier New',monospace\"><span style=\"color: #000080; text-decoration-color: #000080\">INFO    </span> Started with <span style=\"color: #008080; text-decoration-color: #008080; font-weight: bold\">300</span> clusters, and removed    <a href=\"file:///home/jd/msm_we/msm_we/msm_we.py\" target=\"_blank\"><span style=\"color: #7f7f7f; text-decoration-color: #7f7f7f\">msm_we.py</span></a><span style=\"color: #7f7f7f; text-decoration-color: #7f7f7f\">:</span><a href=\"file:///home/jd/msm_we/msm_we/msm_we.py#4018\" target=\"_blank\"><span style=\"color: #7f7f7f; text-decoration-color: #7f7f7f\">4018</span></a>\n",
       "         <span style=\"color: #008080; text-decoration-color: #008080; font-weight: bold\">151</span>                                       <span style=\"color: #7f7f7f; text-decoration-color: #7f7f7f\">              </span>\n",
       "</pre>\n"
      ],
      "text/plain": [
       "\u001b[34mINFO    \u001b[0m Started with \u001b[1;36m300\u001b[0m clusters, and removed    \u001b]8;id=856185;file:///home/jd/msm_we/msm_we/msm_we.py\u001b\\\u001b[2mmsm_we.py\u001b[0m\u001b]8;;\u001b\\\u001b[2m:\u001b[0m\u001b]8;id=656625;file:///home/jd/msm_we/msm_we/msm_we.py#4018\u001b\\\u001b[2m4018\u001b[0m\u001b]8;;\u001b\\\n",
       "         \u001b[1;36m151\u001b[0m                                       \u001b[2m              \u001b[0m\n"
      ]
     },
     "metadata": {},
     "output_type": "display_data"
    },
    {
     "data": {
      "text/html": [
       "<pre style=\"white-space:pre;overflow-x:auto;line-height:normal;font-family:Menlo,'DejaVu Sans Mono',consolas,'Courier New',monospace\"><span style=\"color: #800000; text-decoration-color: #800000\">WARNING </span> All clusters were cleaned from bins <span style=\"font-weight: bold\">{</span><span style=\"color: #008080; text-decoration-color: #008080; font-weight: bold\">11</span><span style=\"font-weight: bold\">}</span>  <a href=\"file:///home/jd/msm_we/msm_we/msm_we.py\" target=\"_blank\"><span style=\"color: #7f7f7f; text-decoration-color: #7f7f7f\">msm_we.py</span></a><span style=\"color: #7f7f7f; text-decoration-color: #7f7f7f\">:</span><a href=\"file:///home/jd/msm_we/msm_we/msm_we.py#4034\" target=\"_blank\"><span style=\"color: #7f7f7f; text-decoration-color: #7f7f7f\">4034</span></a>\n",
       "</pre>\n"
      ],
      "text/plain": [
       "\u001b[31mWARNING \u001b[0m All clusters were cleaned from bins \u001b[1m{\u001b[0m\u001b[1;36m11\u001b[0m\u001b[1m}\u001b[0m  \u001b]8;id=589249;file:///home/jd/msm_we/msm_we/msm_we.py\u001b\\\u001b[2mmsm_we.py\u001b[0m\u001b]8;;\u001b\\\u001b[2m:\u001b[0m\u001b]8;id=581874;file:///home/jd/msm_we/msm_we/msm_we.py#4034\u001b\\\u001b[2m4034\u001b[0m\u001b]8;;\u001b\\\n"
      ]
     },
     "metadata": {},
     "output_type": "display_data"
    },
    {
     "data": {
      "text/html": [
       "<pre style=\"white-space:pre;overflow-x:auto;line-height:normal;font-family:Menlo,'DejaVu Sans Mono',consolas,'Courier New',monospace\"><span style=\"color: #000080; text-decoration-color: #000080\">INFO    </span> Using Ray cluster with <span style=\"color: #008080; text-decoration-color: #008080; font-weight: bold\">16.0</span> CPUs!          <a href=\"file:///home/jd/msm_we/msm_we/msm_we.py\" target=\"_blank\"><span style=\"color: #7f7f7f; text-decoration-color: #7f7f7f\">msm_we.py</span></a><span style=\"color: #7f7f7f; text-decoration-color: #7f7f7f\">:</span><a href=\"file:///home/jd/msm_we/msm_we/msm_we.py#873\" target=\"_blank\"><span style=\"color: #7f7f7f; text-decoration-color: #7f7f7f\">873</span></a>\n",
       "</pre>\n"
      ],
      "text/plain": [
       "\u001b[34mINFO    \u001b[0m Using Ray cluster with \u001b[1;36m16.0\u001b[0m CPUs!          \u001b]8;id=322824;file:///home/jd/msm_we/msm_we/msm_we.py\u001b\\\u001b[2mmsm_we.py\u001b[0m\u001b]8;;\u001b\\\u001b[2m:\u001b[0m\u001b]8;id=162973;file:///home/jd/msm_we/msm_we/msm_we.py#873\u001b\\\u001b[2m873\u001b[0m\u001b]8;;\u001b\\\n"
      ]
     },
     "metadata": {},
     "output_type": "display_data"
    },
    {
     "data": {
      "text/html": [
       "<pre style=\"white-space:pre;overflow-x:auto;line-height:normal;font-family:Menlo,'DejaVu Sans Mono',consolas,'Courier New',monospace\"><span style=\"color: #000080; text-decoration-color: #000080\">INFO    </span> Using cached model for discretization     <a href=\"file:///home/jd/msm_we/msm_we/msm_we.py\" target=\"_blank\"><span style=\"color: #7f7f7f; text-decoration-color: #7f7f7f\">msm_we.py</span></a><span style=\"color: #7f7f7f; text-decoration-color: #7f7f7f\">:</span><a href=\"file:///home/jd/msm_we/msm_we/msm_we.py#4130\" target=\"_blank\"><span style=\"color: #7f7f7f; text-decoration-color: #7f7f7f\">4130</span></a>\n",
       "</pre>\n"
      ],
      "text/plain": [
       "\u001b[34mINFO    \u001b[0m Using cached model for discretization     \u001b]8;id=490524;file:///home/jd/msm_we/msm_we/msm_we.py\u001b\\\u001b[2mmsm_we.py\u001b[0m\u001b]8;;\u001b\\\u001b[2m:\u001b[0m\u001b]8;id=64262;file:///home/jd/msm_we/msm_we/msm_we.py#4130\u001b\\\u001b[2m4130\u001b[0m\u001b]8;;\u001b\\\n"
      ]
     },
     "metadata": {},
     "output_type": "display_data"
    },
    {
     "data": {
      "application/vnd.jupyter.widget-view+json": {
       "model_id": "dbe45c5847e5472381ccfd2c2c00364b",
       "version_major": 2,
       "version_minor": 0
      },
      "text/plain": [
       "Submitting discretization tasks:   0%|          | 0/99 [00:00<?, ?it/s]"
      ]
     },
     "metadata": {},
     "output_type": "display_data"
    },
    {
     "data": {
      "application/vnd.jupyter.widget-view+json": {
       "model_id": "9c4c1f1050ee4aff9e49b87fd4826d4a",
       "version_major": 2,
       "version_minor": 0
      },
      "text/plain": [
       "Retrieving discretized trajectories:   0%|          | 0/99 [00:00<?, ?it/s]"
      ]
     },
     "metadata": {},
     "output_type": "display_data"
    },
    {
     "data": {
      "text/html": [
       "<pre style=\"white-space:pre;overflow-x:auto;line-height:normal;font-family:Menlo,'DejaVu Sans Mono',consolas,'Courier New',monospace\"><span style=\"color: #000080; text-decoration-color: #000080\">INFO    </span> Discretization complete                   <a href=\"file:///home/jd/msm_we/msm_we/msm_we.py\" target=\"_blank\"><span style=\"color: #7f7f7f; text-decoration-color: #7f7f7f\">msm_we.py</span></a><span style=\"color: #7f7f7f; text-decoration-color: #7f7f7f\">:</span><a href=\"file:///home/jd/msm_we/msm_we/msm_we.py#4194\" target=\"_blank\"><span style=\"color: #7f7f7f; text-decoration-color: #7f7f7f\">4194</span></a>\n",
       "</pre>\n"
      ],
      "text/plain": [
       "\u001b[34mINFO    \u001b[0m Discretization complete                   \u001b]8;id=778545;file:///home/jd/msm_we/msm_we/msm_we.py\u001b\\\u001b[2mmsm_we.py\u001b[0m\u001b]8;;\u001b\\\u001b[2m:\u001b[0m\u001b]8;id=668960;file:///home/jd/msm_we/msm_we/msm_we.py#4194\u001b\\\u001b[2m4194\u001b[0m\u001b]8;;\u001b\\\n"
      ]
     },
     "metadata": {},
     "output_type": "display_data"
    },
    {
     "data": {
      "text/html": [
       "<pre style=\"white-space:pre;overflow-x:auto;line-height:normal;font-family:Menlo,'DejaVu Sans Mono',consolas,'Courier New',monospace\"><span style=\"color: #000080; text-decoration-color: #000080\">INFO    </span> Using Ray cluster with <span style=\"color: #008080; text-decoration-color: #008080; font-weight: bold\">16.0</span> CPUs!          <a href=\"file:///home/jd/msm_we/msm_we/msm_we.py\" target=\"_blank\"><span style=\"color: #7f7f7f; text-decoration-color: #7f7f7f\">msm_we.py</span></a><span style=\"color: #7f7f7f; text-decoration-color: #7f7f7f\">:</span><a href=\"file:///home/jd/msm_we/msm_we/msm_we.py#873\" target=\"_blank\"><span style=\"color: #7f7f7f; text-decoration-color: #7f7f7f\">873</span></a>\n",
       "</pre>\n"
      ],
      "text/plain": [
       "\u001b[34mINFO    \u001b[0m Using Ray cluster with \u001b[1;36m16.0\u001b[0m CPUs!          \u001b]8;id=483591;file:///home/jd/msm_we/msm_we/msm_we.py\u001b\\\u001b[2mmsm_we.py\u001b[0m\u001b]8;;\u001b\\\u001b[2m:\u001b[0m\u001b]8;id=160101;file:///home/jd/msm_we/msm_we/msm_we.py#873\u001b\\\u001b[2m873\u001b[0m\u001b]8;;\u001b\\\n"
      ]
     },
     "metadata": {},
     "output_type": "display_data"
    },
    {
     "data": {
      "application/vnd.jupyter.widget-view+json": {
       "model_id": "a65c02364f9f4699913415428dedda4c",
       "version_major": 2,
       "version_minor": 0
      },
      "text/plain": [
       "Submitting fluxmatrix tasks:   0%|          | 0/49 [00:00<?, ?it/s]"
      ]
     },
     "metadata": {},
     "output_type": "display_data"
    },
    {
     "data": {
      "application/vnd.jupyter.widget-view+json": {
       "model_id": "71c25174334e47abaac3f6b654e698f6",
       "version_major": 2,
       "version_minor": 0
      },
      "text/plain": [
       "Retrieving flux matrices:   0%|          | 0/49 [00:00<?, ?it/s]"
      ]
     },
     "metadata": {},
     "output_type": "display_data"
    },
    {
     "data": {
      "text/html": [
       "<pre style=\"white-space:pre;overflow-x:auto;line-height:normal;font-family:Menlo,'DejaVu Sans Mono',consolas,'Courier New',monospace\"><span style=\"color: #000080; text-decoration-color: #000080\">INFO    </span> Fluxmatrices all obtained                 <a href=\"file:///home/jd/msm_we/msm_we/msm_we.py\" target=\"_blank\"><span style=\"color: #7f7f7f; text-decoration-color: #7f7f7f\">msm_we.py</span></a><span style=\"color: #7f7f7f; text-decoration-color: #7f7f7f\">:</span><a href=\"file:///home/jd/msm_we/msm_we/msm_we.py#4943\" target=\"_blank\"><span style=\"color: #7f7f7f; text-decoration-color: #7f7f7f\">4943</span></a>\n",
       "</pre>\n"
      ],
      "text/plain": [
       "\u001b[34mINFO    \u001b[0m Fluxmatrices all obtained                 \u001b]8;id=623637;file:///home/jd/msm_we/msm_we/msm_we.py\u001b\\\u001b[2mmsm_we.py\u001b[0m\u001b]8;;\u001b\\\u001b[2m:\u001b[0m\u001b]8;id=222446;file:///home/jd/msm_we/msm_we/msm_we.py#4943\u001b\\\u001b[2m4943\u001b[0m\u001b]8;;\u001b\\\n"
      ]
     },
     "metadata": {},
     "output_type": "display_data"
    },
    {
     "data": {
      "text/html": [
       "<pre style=\"white-space:pre;overflow-x:auto;line-height:normal;font-family:Menlo,'DejaVu Sans Mono',consolas,'Courier New',monospace\"><span style=\"color: #000080; text-decoration-color: #000080\">INFO    </span>                                           <a href=\"file:///home/jd/msm_we/msm_we/msm_we.py\" target=\"_blank\"><span style=\"color: #7f7f7f; text-decoration-color: #7f7f7f\">msm_we.py</span></a><span style=\"color: #7f7f7f; text-decoration-color: #7f7f7f\">:</span><a href=\"file:///home/jd/msm_we/msm_we/msm_we.py#5592\" target=\"_blank\"><span style=\"color: #7f7f7f; text-decoration-color: #7f7f7f\">5592</span></a>\n",
       "         Flux converged to <span style=\"color: #008080; text-decoration-color: #008080; font-weight: bold\">3.2720e+06</span> after <span style=\"color: #008080; text-decoration-color: #008080; font-weight: bold\">1</span>      <span style=\"color: #7f7f7f; text-decoration-color: #7f7f7f\">              </span>\n",
       "         iterations of inverse iteration.          <span style=\"color: #7f7f7f; text-decoration-color: #7f7f7f\">              </span>\n",
       "</pre>\n"
      ],
      "text/plain": [
       "\u001b[34mINFO    \u001b[0m                                           \u001b]8;id=189340;file:///home/jd/msm_we/msm_we/msm_we.py\u001b\\\u001b[2mmsm_we.py\u001b[0m\u001b]8;;\u001b\\\u001b[2m:\u001b[0m\u001b]8;id=144328;file:///home/jd/msm_we/msm_we/msm_we.py#5592\u001b\\\u001b[2m5592\u001b[0m\u001b]8;;\u001b\\\n",
       "         Flux converged to \u001b[1;36m3.2720e+06\u001b[0m after \u001b[1;36m1\u001b[0m      \u001b[2m              \u001b[0m\n",
       "         iterations of inverse iteration.          \u001b[2m              \u001b[0m\n"
      ]
     },
     "metadata": {},
     "output_type": "display_data"
    },
    {
     "data": {
      "text/html": [
       "<pre style=\"white-space:pre;overflow-x:auto;line-height:normal;font-family:Menlo,'DejaVu Sans Mono',consolas,'Courier New',monospace\"><span style=\"color: #000080; text-decoration-color: #000080\">INFO    </span> Done with steady-state estimation.        <a href=\"file:///home/jd/msm_we/msm_we/msm_we.py\" target=\"_blank\"><span style=\"color: #7f7f7f; text-decoration-color: #7f7f7f\">msm_we.py</span></a><span style=\"color: #7f7f7f; text-decoration-color: #7f7f7f\">:</span><a href=\"file:///home/jd/msm_we/msm_we/msm_we.py#5603\" target=\"_blank\"><span style=\"color: #7f7f7f; text-decoration-color: #7f7f7f\">5603</span></a>\n",
       "</pre>\n"
      ],
      "text/plain": [
       "\u001b[34mINFO    \u001b[0m Done with steady-state estimation.        \u001b]8;id=73221;file:///home/jd/msm_we/msm_we/msm_we.py\u001b\\\u001b[2mmsm_we.py\u001b[0m\u001b]8;;\u001b\\\u001b[2m:\u001b[0m\u001b]8;id=93556;file:///home/jd/msm_we/msm_we/msm_we.py#5603\u001b\\\u001b[2m5603\u001b[0m\u001b]8;;\u001b\\\n"
      ]
     },
     "metadata": {},
     "output_type": "display_data"
    }
   ],
   "source": [
    "model.do_block_validation(\n",
    "    cross_validation_groups=2, \n",
    "    cross_validation_blocks=4\n",
    ")"
   ]
  },
  {
   "cell_type": "markdown",
   "id": "4c0fbc5b-6449-4eab-b588-ce75d3c879dd",
   "metadata": {},
   "source": [
    "## Save model"
   ]
  },
  {
   "cell_type": "code",
   "execution_count": null,
   "id": "094271d7-4cc3-4be3-86b9-f927f278d5e5",
   "metadata": {},
   "outputs": [],
   "source": [
    "import pickle\n",
    "with open('data/pickled_model', 'wb') as of:\n",
    "    pickle.dump(model, of)"
   ]
  }
 ],
 "metadata": {
  "kernelspec": {
   "display_name": "Python 3 (ipykernel)",
   "language": "python",
   "name": "python3"
  },
  "language_info": {
   "codemirror_mode": {
    "name": "ipython",
    "version": 3
   },
   "file_extension": ".py",
   "mimetype": "text/x-python",
   "name": "python",
   "nbconvert_exporter": "python",
   "pygments_lexer": "ipython3",
   "version": "3.9.13"
  }
 },
 "nbformat": 4,
 "nbformat_minor": 5
}
