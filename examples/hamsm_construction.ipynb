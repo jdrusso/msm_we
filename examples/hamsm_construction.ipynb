{
 "cells": [
  {
   "cell_type": "markdown",
   "id": "35be5476-897b-465f-97b3-d4296940857e",
   "metadata": {},
   "source": [
    "# Trp-cage haMSM Construction and Analysis \n",
    "[![Binder](https://mybinder.org/badge_logo.svg)](https://mybinder.org/v2/gh/jdrusso/msm_we/HEAD?labpath=examples%2Fhamsm_construction.ipynb)"
   ]
  },
  {
   "cell_type": "markdown",
   "id": "f563572a-4df5-4385-8900-4e09540870eb",
   "metadata": {},
   "source": [
    "For these examples, we'll be constructing an haMSM from simulations of Trp-cage unfolding."
   ]
  },
  {
   "cell_type": "code",
   "execution_count": 1,
   "id": "3dbbba51-2e44-47ea-a93b-82ac433f82b3",
   "metadata": {},
   "outputs": [],
   "source": [
    "from msm_we import modelWE\n",
    "import numpy as np\n",
    "import ray"
   ]
  },
  {
   "cell_type": "code",
   "execution_count": 2,
   "id": "01fbd207-b115-4b91-a2bd-a2dee20f7bee",
   "metadata": {
    "nbsphinx": "hidden",
    "tags": []
   },
   "outputs": [],
   "source": [
    "import pickle\n",
    "\n",
    "from msm_we._logging import log\n",
    "# This is just to clean up the logging output for display in the documentation webpage.\n",
    "log.handlers[0]._log_render.show_time = False\n",
    "log.handlers[0].console.width = 65\n",
    "\n",
    "# Set to True to re-generate reference files for unit tests.\n",
    "generate_test_files = False"
   ]
  },
  {
   "cell_type": "markdown",
   "id": "01210f97-6d34-47bb-9fa3-32ead8cb6f6d",
   "metadata": {},
   "source": [
    "## Prep"
   ]
  },
  {
   "cell_type": "markdown",
   "id": "7dad242d-baf6-4a57-89ec-2db08f4ecc57",
   "metadata": {},
   "source": [
    "First, let's set some parameters for haMSM building."
   ]
  },
  {
   "cell_type": "code",
   "execution_count": 3,
   "id": "7671df08-99a0-4b40-9af5-6c90dcb8bd75",
   "metadata": {},
   "outputs": [],
   "source": [
    "h5file_paths = ['../tests/reference/1000ns_ntl9/west.h5']\n",
    "\n",
    "# Number of MSM microstates to initially put in each stratum/WE bin\n",
    "clusters_per_stratum = 25\n",
    "\n",
    "dimreduce_method = 'pca'\n",
    "\n",
    "# Boundaries of the basis/target, in progress coordinate space\n",
    "pcoord_bounds = {\n",
    "    'basis': [[0, 0.15]],\n",
    "    'target': [[0.7, 100]]\n",
    "}\n",
    "\n",
    "model_name = 'NaCl Sample'\n",
    "\n",
    "# Reference structure\n",
    "ref_file = 'data/2JOF.pdb'\n",
    "\n",
    "# WESTPA resampling time\n",
    "tau = 1e-9"
   ]
  },
  {
   "cell_type": "markdown",
   "id": "ff49846f-3f61-4a68-9b60-2238b98eff99",
   "metadata": {},
   "source": [
    "### Define MSM featurization\n",
    "\n",
    "The function `processCoordinates` defines a transformation that's applied to the coordinates in `auxdata/coord` before dimensionality reduction/clustering.\n",
    "\n",
    "The inputs are the coordinates (read from `auxdata/coord`) for each segment in the loaded iteration(s), and it should return an array of features for each."
   ]
  },
  {
   "cell_type": "markdown",
   "id": "0607a734-641f-4a60-94d8-ed9f8174dcf5",
   "metadata": {},
   "source": [
    "We could just use full XYZ coordinates for our MSM features. \n",
    "This would be a very simple (and very poor) choice -- it doesn't capture some of the translational invariance that something like pairwise distances might."
   ]
  },
  {
   "cell_type": "code",
   "execution_count": 4,
   "id": "d2d27a22-3bef-4503-9442-3109de075602",
   "metadata": {},
   "outputs": [],
   "source": [
    "def processCoordinates(self, coords):\n",
    "    \n",
    "    return coords.reshape(coords.shape[0], -1)\n",
    "    \n",
    "modelWE.processCoordinates = processCoordinates"
   ]
  },
  {
   "cell_type": "markdown",
   "id": "30265afa-a29d-482b-9b1a-2219cfe245cb",
   "metadata": {},
   "source": [
    "So, let's use pairwise distances instead, at the cost of a more expensive calculation.\n",
    "\n",
    "Note that because of how work is serialized for parallelization, we have to define the `Universe` objects *within* `processCoordinates`. Otherwise, there would be multiple workers acting on the same object."
   ]
  },
  {
   "cell_type": "code",
   "execution_count": 5,
   "id": "3e087c85-9aa4-4190-9886-d16865a36086",
   "metadata": {},
   "outputs": [],
   "source": [
    "import MDAnalysis as mda\n",
    "from MDAnalysis.analysis import distances\n",
    "\n",
    "def processCoordinates(self, coords):\n",
    "    \n",
    "    u_ref = mda.Universe(ref_file)\n",
    "    u_check = mda.Universe(ref_file)\n",
    "    \n",
    "    dist_out = []\n",
    "    \n",
    "    u_check.load_new(coords)\n",
    "\n",
    "    for frame in u_check.trajectory:\n",
    "\n",
    "        dists = distances.dist(\n",
    "            u_check.select_atoms('backbone'),\n",
    "            u_ref.select_atoms('backbone')\n",
    "        )[2]\n",
    "\n",
    "        dist_out.append(dists)\n",
    "\n",
    "    dist_out = np.array(dist_out)\n",
    "    \n",
    "    return dist_out\n",
    "    \n",
    "modelWE.processCoordinates = processCoordinates"
   ]
  },
  {
   "cell_type": "markdown",
   "id": "19ef75fc-701d-4302-879e-5a943765e48a",
   "metadata": {
    "raw_mimetype": "text/restructuredtext",
    "tags": []
   },
   "source": [
    "## Model-building with [build_analyze_model()](../api.rst#msm_we.modelWE.build_analyze_model)"
   ]
  },
  {
   "cell_type": "raw",
   "id": "81e0b30c-57a7-4b64-90fd-4bde01751ed5",
   "metadata": {
    "raw_mimetype": "text/restructuredtext",
    "tags": []
   },
   "source": [
    "You can construct an haMSM (and validation haMSMs) with one call to :func:`~msm_we.modelWE.build_analyze_model`"
   ]
  },
  {
   "cell_type": "code",
   "execution_count": 6,
   "id": "7d3526f2-8a43-4c27-ba76-2d1b8deaaa61",
   "metadata": {},
   "outputs": [
    {
     "data": {
      "application/vnd.jupyter.widget-view+json": {
       "model_id": "0c745fe04bb94d79bae1e3348bb1df38",
       "version_major": 2,
       "version_minor": 0
      },
      "text/plain": [
       "Output()"
      ]
     },
     "metadata": {},
     "output_type": "display_data"
    },
    {
     "data": {
      "text/html": [
       "<pre style=\"white-space:pre;overflow-x:auto;line-height:normal;font-family:Menlo,'DejaVu Sans Mono',consolas,'Courier New',monospace\">2022-10-10 10:41:57,299 INFO worker.py:1509 -- Started a local \n",
       "Ray instance. View the dashboard at <span style=\"color: #008000; text-decoration-color: #008000; font-weight: bold\">127.0.0.1:8265 </span>\n",
       "</pre>\n"
      ],
      "text/plain": [
       "2022-10-10 10:41:57,299 INFO worker.py:1509 -- Started a local \n",
       "Ray instance. View the dashboard at \u001b[1;32m127.0.0.1:8265 \u001b[0m\n"
      ]
     },
     "metadata": {},
     "output_type": "display_data"
    },
    {
     "data": {
      "application/vnd.jupyter.widget-view+json": {
       "model_id": "f68a887648ef496ebdcb39dc07f1e60a",
       "version_major": 2,
       "version_minor": 0
      },
      "text/plain": [
       "Getting coordSet:   0%|          | 0/100 [00:00<?, ?it/s]"
      ]
     },
     "metadata": {},
     "output_type": "display_data"
    },
    {
     "data": {
      "application/vnd.jupyter.widget-view+json": {
       "model_id": "794443f955ac4983a26965f8fccf3b32",
       "version_major": 2,
       "version_minor": 0
      },
      "text/plain": [
       "Initial iPCA:   0%|          | 0/50 [00:00<?, ?it/s]"
      ]
     },
     "metadata": {},
     "output_type": "display_data"
    },
    {
     "data": {
      "application/vnd.jupyter.widget-view+json": {
       "model_id": "e3f58230093e4749bf76c4cbe395a518",
       "version_major": 2,
       "version_minor": 0
      },
      "text/plain": [
       "iPCA:   0%|          | 0/99 [00:00<?, ?it/s]"
      ]
     },
     "metadata": {},
     "output_type": "display_data"
    },
    {
     "data": {
      "text/html": [
       "<pre style=\"white-space:pre;overflow-x:auto;line-height:normal;font-family:Menlo,'DejaVu Sans Mono',consolas,'Courier New',monospace\"><span style=\"color: #000080; text-decoration-color: #000080\">INFO    </span> Be aware: Number of cluster centers   <a href=\"file:///home/jd/msm_we/msm_we/_hamsm/_clustering.py\" target=\"_blank\"><span style=\"color: #7f7f7f; text-decoration-color: #7f7f7f\">_clustering.py</span></a><span style=\"color: #7f7f7f; text-decoration-color: #7f7f7f\">:</span><a href=\"file:///home/jd/msm_we/msm_we/_hamsm/_clustering.py#141\" target=\"_blank\"><span style=\"color: #7f7f7f; text-decoration-color: #7f7f7f\">141</span></a>\n",
       "         is an important parameter, and can    <span style=\"color: #7f7f7f; text-decoration-color: #7f7f7f\">                  </span>\n",
       "         drastically affect model quality. We  <span style=\"color: #7f7f7f; text-decoration-color: #7f7f7f\">                  </span>\n",
       "         recommend examining block-validation  <span style=\"color: #7f7f7f; text-decoration-color: #7f7f7f\">                  </span>\n",
       "         results with a range of numbers of    <span style=\"color: #7f7f7f; text-decoration-color: #7f7f7f\">                  </span>\n",
       "         clusters, to check for overfitting.   <span style=\"color: #7f7f7f; text-decoration-color: #7f7f7f\">                  </span>\n",
       "</pre>\n"
      ],
      "text/plain": [
       "\u001b[34mINFO    \u001b[0m Be aware: Number of cluster centers   \u001b]8;id=257471;file:///home/jd/msm_we/msm_we/_hamsm/_clustering.py\u001b\\\u001b[2m_clustering.py\u001b[0m\u001b]8;;\u001b\\\u001b[2m:\u001b[0m\u001b]8;id=69201;file:///home/jd/msm_we/msm_we/_hamsm/_clustering.py#141\u001b\\\u001b[2m141\u001b[0m\u001b]8;;\u001b\\\n",
       "         is an important parameter, and can    \u001b[2m                  \u001b[0m\n",
       "         drastically affect model quality. We  \u001b[2m                  \u001b[0m\n",
       "         recommend examining block-validation  \u001b[2m                  \u001b[0m\n",
       "         results with a range of numbers of    \u001b[2m                  \u001b[0m\n",
       "         clusters, to check for overfitting.   \u001b[2m                  \u001b[0m\n"
      ]
     },
     "metadata": {},
     "output_type": "display_data"
    },
    {
     "data": {
      "text/html": [
       "<pre style=\"white-space:pre;overflow-x:auto;line-height:normal;font-family:Menlo,'DejaVu Sans Mono',consolas,'Courier New',monospace\"><span style=\"color: #000080; text-decoration-color: #000080\">INFO    </span> Beginning stratified clustering.      <a href=\"file:///home/jd/msm_we/msm_we/_hamsm/_clustering.py\" target=\"_blank\"><span style=\"color: #7f7f7f; text-decoration-color: #7f7f7f\">_clustering.py</span></a><span style=\"color: #7f7f7f; text-decoration-color: #7f7f7f\">:</span><a href=\"file:///home/jd/msm_we/msm_we/_hamsm/_clustering.py#148\" target=\"_blank\"><span style=\"color: #7f7f7f; text-decoration-color: #7f7f7f\">148</span></a>\n",
       "</pre>\n"
      ],
      "text/plain": [
       "\u001b[34mINFO    \u001b[0m Beginning stratified clustering.      \u001b]8;id=896510;file:///home/jd/msm_we/msm_we/_hamsm/_clustering.py\u001b\\\u001b[2m_clustering.py\u001b[0m\u001b]8;;\u001b\\\u001b[2m:\u001b[0m\u001b]8;id=733851;file:///home/jd/msm_we/msm_we/_hamsm/_clustering.py#148\u001b\\\u001b[2m148\u001b[0m\u001b]8;;\u001b\\\n"
      ]
     },
     "metadata": {},
     "output_type": "display_data"
    },
    {
     "data": {
      "text/html": [
       "<pre style=\"white-space:pre;overflow-x:auto;line-height:normal;font-family:Menlo,'DejaVu Sans Mono',consolas,'Courier New',monospace\"><span style=\"color: #000080; text-decoration-color: #000080\">INFO    </span> Obtaining bin definitions from        <a href=\"file:///home/jd/msm_we/msm_we/_hamsm/_clustering.py\" target=\"_blank\"><span style=\"color: #7f7f7f; text-decoration-color: #7f7f7f\">_clustering.py</span></a><span style=\"color: #7f7f7f; text-decoration-color: #7f7f7f\">:</span><a href=\"file:///home/jd/msm_we/msm_we/_hamsm/_clustering.py#568\" target=\"_blank\"><span style=\"color: #7f7f7f; text-decoration-color: #7f7f7f\">568</span></a>\n",
       "         iteration <span style=\"color: #008080; text-decoration-color: #008080; font-weight: bold\">2</span> in file                   <span style=\"color: #7f7f7f; text-decoration-color: #7f7f7f\">                  </span>\n",
       "         ..<span style=\"color: #800080; text-decoration-color: #800080\">/tests/reference/1000ns_ntl9/</span><span style=\"color: #ff00ff; text-decoration-color: #ff00ff\">west.h</span> <span style=\"color: #7f7f7f; text-decoration-color: #7f7f7f\">                  </span>\n",
       "         <span style=\"color: #ff00ff; text-decoration-color: #ff00ff\">5</span>                                     <span style=\"color: #7f7f7f; text-decoration-color: #7f7f7f\">                  </span>\n",
       "</pre>\n"
      ],
      "text/plain": [
       "\u001b[34mINFO    \u001b[0m Obtaining bin definitions from        \u001b]8;id=422371;file:///home/jd/msm_we/msm_we/_hamsm/_clustering.py\u001b\\\u001b[2m_clustering.py\u001b[0m\u001b]8;;\u001b\\\u001b[2m:\u001b[0m\u001b]8;id=739787;file:///home/jd/msm_we/msm_we/_hamsm/_clustering.py#568\u001b\\\u001b[2m568\u001b[0m\u001b]8;;\u001b\\\n",
       "         iteration \u001b[1;36m2\u001b[0m in file                   \u001b[2m                  \u001b[0m\n",
       "         ..\u001b[35m/tests/reference/1000ns_ntl9/\u001b[0m\u001b[95mwest.h\u001b[0m \u001b[2m                  \u001b[0m\n",
       "         \u001b[95m5\u001b[0m                                     \u001b[2m                  \u001b[0m\n"
      ]
     },
     "metadata": {},
     "output_type": "display_data"
    },
    {
     "data": {
      "text/html": [
       "<pre style=\"white-space:pre;overflow-x:auto;line-height:normal;font-family:Menlo,'DejaVu Sans Mono',consolas,'Courier New',monospace\"><span style=\"color: #000080; text-decoration-color: #000080\">INFO    </span> Loading pickled bin mapper from H5    <a href=\"file:///home/jd/msm_we/msm_we/_hamsm/_clustering.py\" target=\"_blank\"><span style=\"color: #7f7f7f; text-decoration-color: #7f7f7f\">_clustering.py</span></a><span style=\"color: #7f7f7f; text-decoration-color: #7f7f7f\">:</span><a href=\"file:///home/jd/msm_we/msm_we/_hamsm/_clustering.py#572\" target=\"_blank\"><span style=\"color: #7f7f7f; text-decoration-color: #7f7f7f\">572</span></a>\n",
       "         for stratified clustering<span style=\"color: #808000; text-decoration-color: #808000\">...</span>          <span style=\"color: #7f7f7f; text-decoration-color: #7f7f7f\">                  </span>\n",
       "</pre>\n"
      ],
      "text/plain": [
       "\u001b[34mINFO    \u001b[0m Loading pickled bin mapper from H5    \u001b]8;id=326188;file:///home/jd/msm_we/msm_we/_hamsm/_clustering.py\u001b\\\u001b[2m_clustering.py\u001b[0m\u001b]8;;\u001b\\\u001b[2m:\u001b[0m\u001b]8;id=111186;file:///home/jd/msm_we/msm_we/_hamsm/_clustering.py#572\u001b\\\u001b[2m572\u001b[0m\u001b]8;;\u001b\\\n",
       "         for stratified clustering\u001b[33m...\u001b[0m          \u001b[2m                  \u001b[0m\n"
      ]
     },
     "metadata": {},
     "output_type": "display_data"
    },
    {
     "data": {
      "text/html": [
       "<pre style=\"white-space:pre;overflow-x:auto;line-height:normal;font-family:Menlo,'DejaVu Sans Mono',consolas,'Courier New',monospace\"><span style=\"color: #000080; text-decoration-color: #000080\">INFO    </span> Doing stratified clustering  <a href=\"file:///home/jd/msm_we/msm_we/stratified_clustering.py\" target=\"_blank\"><span style=\"color: #7f7f7f; text-decoration-color: #7f7f7f\">stratified_clustering.py</span></a><span style=\"color: #7f7f7f; text-decoration-color: #7f7f7f\">:</span><a href=\"file:///home/jd/msm_we/msm_we/stratified_clustering.py#66\" target=\"_blank\"><span style=\"color: #7f7f7f; text-decoration-color: #7f7f7f\">66</span></a>\n",
       "         with <span style=\"color: #008080; text-decoration-color: #008080; font-weight: bold\">300</span> total clusters      <span style=\"color: #7f7f7f; text-decoration-color: #7f7f7f\">                           </span>\n",
       "</pre>\n"
      ],
      "text/plain": [
       "\u001b[34mINFO    \u001b[0m Doing stratified clustering  \u001b]8;id=135543;file:///home/jd/msm_we/msm_we/stratified_clustering.py\u001b\\\u001b[2mstratified_clustering.py\u001b[0m\u001b]8;;\u001b\\\u001b[2m:\u001b[0m\u001b]8;id=602568;file:///home/jd/msm_we/msm_we/stratified_clustering.py#66\u001b\\\u001b[2m66\u001b[0m\u001b]8;;\u001b\\\n",
       "         with \u001b[1;36m300\u001b[0m total clusters      \u001b[2m                           \u001b[0m\n"
      ]
     },
     "metadata": {},
     "output_type": "display_data"
    },
    {
     "data": {
      "application/vnd.jupyter.widget-view+json": {
       "model_id": "611f44c1201b42938be7be2c88df662a",
       "version_major": 2,
       "version_minor": 0
      },
      "text/plain": [
       "Clustering:   0%|          | 0/99 [00:00<?, ?it/s]"
      ]
     },
     "metadata": {},
     "output_type": "display_data"
    },
    {
     "data": {
      "text/html": [
       "<pre style=\"white-space:pre;overflow-x:auto;line-height:normal;font-family:Menlo,'DejaVu Sans Mono',consolas,'Courier New',monospace\"><span style=\"color: #000080; text-decoration-color: #000080\">INFO    </span> Using Ray cluster with <span style=\"color: #008080; text-decoration-color: #008080; font-weight: bold\">16.0</span> CPUs!          <a href=\"file:///home/jd/msm_we/msm_we/msm_we.py\" target=\"_blank\"><span style=\"color: #7f7f7f; text-decoration-color: #7f7f7f\">msm_we.py</span></a><span style=\"color: #7f7f7f; text-decoration-color: #7f7f7f\">:</span><a href=\"file:///home/jd/msm_we/msm_we/msm_we.py#450\" target=\"_blank\"><span style=\"color: #7f7f7f; text-decoration-color: #7f7f7f\">450</span></a>\n",
       "</pre>\n"
      ],
      "text/plain": [
       "\u001b[34mINFO    \u001b[0m Using Ray cluster with \u001b[1;36m16.0\u001b[0m CPUs!          \u001b]8;id=617219;file:///home/jd/msm_we/msm_we/msm_we.py\u001b\\\u001b[2mmsm_we.py\u001b[0m\u001b]8;;\u001b\\\u001b[2m:\u001b[0m\u001b]8;id=147918;file:///home/jd/msm_we/msm_we/msm_we.py#450\u001b\\\u001b[2m450\u001b[0m\u001b]8;;\u001b\\\n"
      ]
     },
     "metadata": {},
     "output_type": "display_data"
    },
    {
     "data": {
      "application/vnd.jupyter.widget-view+json": {
       "model_id": "57bff53cba1749d5b8dad219dd76f615",
       "version_major": 2,
       "version_minor": 0
      },
      "text/plain": [
       "Submitting discretization tasks:   0%|          | 0/99 [00:00<?, ?it/s]"
      ]
     },
     "metadata": {},
     "output_type": "display_data"
    },
    {
     "data": {
      "application/vnd.jupyter.widget-view+json": {
       "model_id": "aa1479ba8a6c4c778b441014ab7bc1ae",
       "version_major": 2,
       "version_minor": 0
      },
      "text/plain": [
       "Retrieving discretized trajectories:   0%|          | 0/99 [00:00<?, ?it/s]"
      ]
     },
     "metadata": {},
     "output_type": "display_data"
    },
    {
     "data": {
      "text/html": [
       "<pre style=\"white-space:pre;overflow-x:auto;line-height:normal;font-family:Menlo,'DejaVu Sans Mono',consolas,'Courier New',monospace\"><span style=\"color: #7fbfbf; text-decoration-color: #7fbfbf\">(do_stratified_ray_discretization pid=185903)</span> Warning: importing \n",
       "'simtk.openmm' is deprecated.  Import 'openmm' instead.\n",
       "</pre>\n"
      ],
      "text/plain": [
       "\u001b[2;36m(do_stratified_ray_discretization pid=185903)\u001b[0m Warning: importing \n",
       "'simtk.openmm' is deprecated.  Import 'openmm' instead.\n"
      ]
     },
     "metadata": {},
     "output_type": "display_data"
    },
    {
     "data": {
      "text/html": [
       "<pre style=\"white-space:pre;overflow-x:auto;line-height:normal;font-family:Menlo,'DejaVu Sans Mono',consolas,'Courier New',monospace\"><span style=\"color: #7fbfbf; text-decoration-color: #7fbfbf\">(do_stratified_ray_discretization pid=185910)</span> Warning: importing \n",
       "'simtk.openmm' is deprecated.  Import 'openmm' instead.\n",
       "</pre>\n"
      ],
      "text/plain": [
       "\u001b[2;36m(do_stratified_ray_discretization pid=185910)\u001b[0m Warning: importing \n",
       "'simtk.openmm' is deprecated.  Import 'openmm' instead.\n"
      ]
     },
     "metadata": {},
     "output_type": "display_data"
    },
    {
     "data": {
      "text/html": [
       "<pre style=\"white-space:pre;overflow-x:auto;line-height:normal;font-family:Menlo,'DejaVu Sans Mono',consolas,'Courier New',monospace\"><span style=\"color: #7fbfbf; text-decoration-color: #7fbfbf\">(do_stratified_ray_discretization pid=185906)</span> Warning: importing \n",
       "'simtk.openmm' is deprecated.  Import 'openmm' instead.\n",
       "</pre>\n"
      ],
      "text/plain": [
       "\u001b[2;36m(do_stratified_ray_discretization pid=185906)\u001b[0m Warning: importing \n",
       "'simtk.openmm' is deprecated.  Import 'openmm' instead.\n"
      ]
     },
     "metadata": {},
     "output_type": "display_data"
    },
    {
     "data": {
      "text/html": [
       "<pre style=\"white-space:pre;overflow-x:auto;line-height:normal;font-family:Menlo,'DejaVu Sans Mono',consolas,'Courier New',monospace\"><span style=\"color: #7fbfbf; text-decoration-color: #7fbfbf\">(do_stratified_ray_discretization pid=185908)</span> Warning: importing \n",
       "'simtk.openmm' is deprecated.  Import 'openmm' instead.\n",
       "</pre>\n"
      ],
      "text/plain": [
       "\u001b[2;36m(do_stratified_ray_discretization pid=185908)\u001b[0m Warning: importing \n",
       "'simtk.openmm' is deprecated.  Import 'openmm' instead.\n"
      ]
     },
     "metadata": {},
     "output_type": "display_data"
    },
    {
     "data": {
      "text/html": [
       "<pre style=\"white-space:pre;overflow-x:auto;line-height:normal;font-family:Menlo,'DejaVu Sans Mono',consolas,'Courier New',monospace\"><span style=\"color: #7fbfbf; text-decoration-color: #7fbfbf\">(do_stratified_ray_discretization pid=185913)</span> Warning: importing \n",
       "'simtk.openmm' is deprecated.  Import 'openmm' instead.\n",
       "</pre>\n"
      ],
      "text/plain": [
       "\u001b[2;36m(do_stratified_ray_discretization pid=185913)\u001b[0m Warning: importing \n",
       "'simtk.openmm' is deprecated.  Import 'openmm' instead.\n"
      ]
     },
     "metadata": {},
     "output_type": "display_data"
    },
    {
     "data": {
      "text/html": [
       "<pre style=\"white-space:pre;overflow-x:auto;line-height:normal;font-family:Menlo,'DejaVu Sans Mono',consolas,'Courier New',monospace\"><span style=\"color: #7fbfbf; text-decoration-color: #7fbfbf\">(do_stratified_ray_discretization pid=185916)</span> Warning: importing \n",
       "'simtk.openmm' is deprecated.  Import 'openmm' instead.\n",
       "</pre>\n"
      ],
      "text/plain": [
       "\u001b[2;36m(do_stratified_ray_discretization pid=185916)\u001b[0m Warning: importing \n",
       "'simtk.openmm' is deprecated.  Import 'openmm' instead.\n"
      ]
     },
     "metadata": {},
     "output_type": "display_data"
    },
    {
     "data": {
      "text/html": [
       "<pre style=\"white-space:pre;overflow-x:auto;line-height:normal;font-family:Menlo,'DejaVu Sans Mono',consolas,'Courier New',monospace\"><span style=\"color: #7fbfbf; text-decoration-color: #7fbfbf\">(do_stratified_ray_discretization pid=185904)</span> Warning: importing \n",
       "'simtk.openmm' is deprecated.  Import 'openmm' instead.\n",
       "</pre>\n"
      ],
      "text/plain": [
       "\u001b[2;36m(do_stratified_ray_discretization pid=185904)\u001b[0m Warning: importing \n",
       "'simtk.openmm' is deprecated.  Import 'openmm' instead.\n"
      ]
     },
     "metadata": {},
     "output_type": "display_data"
    },
    {
     "data": {
      "text/html": [
       "<pre style=\"white-space:pre;overflow-x:auto;line-height:normal;font-family:Menlo,'DejaVu Sans Mono',consolas,'Courier New',monospace\"><span style=\"color: #7fbfbf; text-decoration-color: #7fbfbf\">(do_stratified_ray_discretization pid=185915)</span> Warning: importing \n",
       "'simtk.openmm' is deprecated.  Import 'openmm' instead.\n",
       "</pre>\n"
      ],
      "text/plain": [
       "\u001b[2;36m(do_stratified_ray_discretization pid=185915)\u001b[0m Warning: importing \n",
       "'simtk.openmm' is deprecated.  Import 'openmm' instead.\n"
      ]
     },
     "metadata": {},
     "output_type": "display_data"
    },
    {
     "data": {
      "text/html": [
       "<pre style=\"white-space:pre;overflow-x:auto;line-height:normal;font-family:Menlo,'DejaVu Sans Mono',consolas,'Courier New',monospace\"><span style=\"color: #7fbfbf; text-decoration-color: #7fbfbf\">(do_stratified_ray_discretization pid=185911)</span> Warning: importing \n",
       "'simtk.openmm' is deprecated.  Import 'openmm' instead.\n",
       "</pre>\n"
      ],
      "text/plain": [
       "\u001b[2;36m(do_stratified_ray_discretization pid=185911)\u001b[0m Warning: importing \n",
       "'simtk.openmm' is deprecated.  Import 'openmm' instead.\n"
      ]
     },
     "metadata": {},
     "output_type": "display_data"
    },
    {
     "data": {
      "text/html": [
       "<pre style=\"white-space:pre;overflow-x:auto;line-height:normal;font-family:Menlo,'DejaVu Sans Mono',consolas,'Courier New',monospace\"><span style=\"color: #7fbfbf; text-decoration-color: #7fbfbf\">(do_stratified_ray_discretization pid=185914)</span> Warning: importing \n",
       "'simtk.openmm' is deprecated.  Import 'openmm' instead.\n",
       "</pre>\n"
      ],
      "text/plain": [
       "\u001b[2;36m(do_stratified_ray_discretization pid=185914)\u001b[0m Warning: importing \n",
       "'simtk.openmm' is deprecated.  Import 'openmm' instead.\n"
      ]
     },
     "metadata": {},
     "output_type": "display_data"
    },
    {
     "data": {
      "text/html": [
       "<pre style=\"white-space:pre;overflow-x:auto;line-height:normal;font-family:Menlo,'DejaVu Sans Mono',consolas,'Courier New',monospace\"><span style=\"color: #7fbfbf; text-decoration-color: #7fbfbf\">(do_stratified_ray_discretization pid=185912)</span> Warning: importing \n",
       "'simtk.openmm' is deprecated.  Import 'openmm' instead.\n",
       "</pre>\n"
      ],
      "text/plain": [
       "\u001b[2;36m(do_stratified_ray_discretization pid=185912)\u001b[0m Warning: importing \n",
       "'simtk.openmm' is deprecated.  Import 'openmm' instead.\n"
      ]
     },
     "metadata": {},
     "output_type": "display_data"
    },
    {
     "data": {
      "text/html": [
       "<pre style=\"white-space:pre;overflow-x:auto;line-height:normal;font-family:Menlo,'DejaVu Sans Mono',consolas,'Courier New',monospace\"><span style=\"color: #7fbfbf; text-decoration-color: #7fbfbf\">(do_stratified_ray_discretization pid=185909)</span> Warning: importing \n",
       "'simtk.openmm' is deprecated.  Import 'openmm' instead.\n",
       "</pre>\n"
      ],
      "text/plain": [
       "\u001b[2;36m(do_stratified_ray_discretization pid=185909)\u001b[0m Warning: importing \n",
       "'simtk.openmm' is deprecated.  Import 'openmm' instead.\n"
      ]
     },
     "metadata": {},
     "output_type": "display_data"
    },
    {
     "data": {
      "text/html": [
       "<pre style=\"white-space:pre;overflow-x:auto;line-height:normal;font-family:Menlo,'DejaVu Sans Mono',consolas,'Courier New',monospace\"><span style=\"color: #7fbfbf; text-decoration-color: #7fbfbf\">(do_stratified_ray_discretization pid=185907)</span> Warning: importing \n",
       "'simtk.openmm' is deprecated.  Import 'openmm' instead.\n",
       "</pre>\n"
      ],
      "text/plain": [
       "\u001b[2;36m(do_stratified_ray_discretization pid=185907)\u001b[0m Warning: importing \n",
       "'simtk.openmm' is deprecated.  Import 'openmm' instead.\n"
      ]
     },
     "metadata": {},
     "output_type": "display_data"
    },
    {
     "data": {
      "text/html": [
       "<pre style=\"white-space:pre;overflow-x:auto;line-height:normal;font-family:Menlo,'DejaVu Sans Mono',consolas,'Courier New',monospace\"><span style=\"color: #7fbfbf; text-decoration-color: #7fbfbf\">(do_stratified_ray_discretization pid=185902)</span> Warning: importing \n",
       "'simtk.openmm' is deprecated.  Import 'openmm' instead.\n",
       "</pre>\n"
      ],
      "text/plain": [
       "\u001b[2;36m(do_stratified_ray_discretization pid=185902)\u001b[0m Warning: importing \n",
       "'simtk.openmm' is deprecated.  Import 'openmm' instead.\n"
      ]
     },
     "metadata": {},
     "output_type": "display_data"
    },
    {
     "data": {
      "text/html": [
       "<pre style=\"white-space:pre;overflow-x:auto;line-height:normal;font-family:Menlo,'DejaVu Sans Mono',consolas,'Courier New',monospace\"><span style=\"color: #7fbfbf; text-decoration-color: #7fbfbf\">(do_stratified_ray_discretization pid=185905)</span> Warning: importing \n",
       "'simtk.openmm' is deprecated.  Import 'openmm' instead.\n",
       "</pre>\n"
      ],
      "text/plain": [
       "\u001b[2;36m(do_stratified_ray_discretization pid=185905)\u001b[0m Warning: importing \n",
       "'simtk.openmm' is deprecated.  Import 'openmm' instead.\n"
      ]
     },
     "metadata": {},
     "output_type": "display_data"
    },
    {
     "data": {
      "text/html": [
       "<pre style=\"white-space:pre;overflow-x:auto;line-height:normal;font-family:Menlo,'DejaVu Sans Mono',consolas,'Courier New',monospace\"><span style=\"color: #7fbfbf; text-decoration-color: #7fbfbf\">(do_stratified_ray_discretization pid=185917)</span> Warning: importing \n",
       "'simtk.openmm' is deprecated.  Import 'openmm' instead.\n",
       "</pre>\n"
      ],
      "text/plain": [
       "\u001b[2;36m(do_stratified_ray_discretization pid=185917)\u001b[0m Warning: importing \n",
       "'simtk.openmm' is deprecated.  Import 'openmm' instead.\n"
      ]
     },
     "metadata": {},
     "output_type": "display_data"
    },
    {
     "data": {
      "text/html": [
       "<pre style=\"white-space:pre;overflow-x:auto;line-height:normal;font-family:Menlo,'DejaVu Sans Mono',consolas,'Courier New',monospace\"><span style=\"color: #000080; text-decoration-color: #000080\">INFO    </span> Discretization complete              <a href=\"file:///home/jd/msm_we/msm_we/_hamsm/_clustering.py\" target=\"_blank\"><span style=\"color: #7f7f7f; text-decoration-color: #7f7f7f\">_clustering.py</span></a><span style=\"color: #7f7f7f; text-decoration-color: #7f7f7f\">:</span><a href=\"file:///home/jd/msm_we/msm_we/_hamsm/_clustering.py#1204\" target=\"_blank\"><span style=\"color: #7f7f7f; text-decoration-color: #7f7f7f\">1204</span></a>\n",
       "</pre>\n"
      ],
      "text/plain": [
       "\u001b[34mINFO    \u001b[0m Discretization complete              \u001b]8;id=733996;file:///home/jd/msm_we/msm_we/_hamsm/_clustering.py\u001b\\\u001b[2m_clustering.py\u001b[0m\u001b]8;;\u001b\\\u001b[2m:\u001b[0m\u001b]8;id=705329;file:///home/jd/msm_we/msm_we/_hamsm/_clustering.py#1204\u001b\\\u001b[2m1204\u001b[0m\u001b]8;;\u001b\\\n"
      ]
     },
     "metadata": {},
     "output_type": "display_data"
    },
    {
     "data": {
      "text/html": [
       "<pre style=\"white-space:pre;overflow-x:auto;line-height:normal;font-family:Menlo,'DejaVu Sans Mono',consolas,'Courier New',monospace\"><span style=\"color: #000080; text-decoration-color: #000080\">INFO    </span> Using Ray cluster with <span style=\"color: #008080; text-decoration-color: #008080; font-weight: bold\">16.0</span> CPUs!          <a href=\"file:///home/jd/msm_we/msm_we/msm_we.py\" target=\"_blank\"><span style=\"color: #7f7f7f; text-decoration-color: #7f7f7f\">msm_we.py</span></a><span style=\"color: #7f7f7f; text-decoration-color: #7f7f7f\">:</span><a href=\"file:///home/jd/msm_we/msm_we/msm_we.py#450\" target=\"_blank\"><span style=\"color: #7f7f7f; text-decoration-color: #7f7f7f\">450</span></a>\n",
       "</pre>\n"
      ],
      "text/plain": [
       "\u001b[34mINFO    \u001b[0m Using Ray cluster with \u001b[1;36m16.0\u001b[0m CPUs!          \u001b]8;id=680144;file:///home/jd/msm_we/msm_we/msm_we.py\u001b\\\u001b[2mmsm_we.py\u001b[0m\u001b]8;;\u001b\\\u001b[2m:\u001b[0m\u001b]8;id=326433;file:///home/jd/msm_we/msm_we/msm_we.py#450\u001b\\\u001b[2m450\u001b[0m\u001b]8;;\u001b\\\n"
      ]
     },
     "metadata": {},
     "output_type": "display_data"
    },
    {
     "data": {
      "application/vnd.jupyter.widget-view+json": {
       "model_id": "c00f8661da1c43f1a2abd139bdea955f",
       "version_major": 2,
       "version_minor": 0
      },
      "text/plain": [
       "Submitting fluxmatrix tasks:   0%|          | 0/98 [00:00<?, ?it/s]"
      ]
     },
     "metadata": {},
     "output_type": "display_data"
    },
    {
     "data": {
      "application/vnd.jupyter.widget-view+json": {
       "model_id": "0dbd967b5c9c4abc89ecd90cf09af33a",
       "version_major": 2,
       "version_minor": 0
      },
      "text/plain": [
       "Retrieving flux matrices:   0%|          | 0/98 [00:00<?, ?it/s]"
      ]
     },
     "metadata": {},
     "output_type": "display_data"
    },
    {
     "data": {
      "text/html": [
       "<pre style=\"white-space:pre;overflow-x:auto;line-height:normal;font-family:Menlo,'DejaVu Sans Mono',consolas,'Courier New',monospace\"><span style=\"color: #000080; text-decoration-color: #000080\">INFO    </span> Fluxmatrices all obtained             <a href=\"file:///home/jd/msm_we/msm_we/_hamsm/_fluxmatrix.py\" target=\"_blank\"><span style=\"color: #7f7f7f; text-decoration-color: #7f7f7f\">_fluxmatrix.py</span></a><span style=\"color: #7f7f7f; text-decoration-color: #7f7f7f\">:</span><a href=\"file:///home/jd/msm_we/msm_we/_hamsm/_fluxmatrix.py#497\" target=\"_blank\"><span style=\"color: #7f7f7f; text-decoration-color: #7f7f7f\">497</span></a>\n",
       "</pre>\n"
      ],
      "text/plain": [
       "\u001b[34mINFO    \u001b[0m Fluxmatrices all obtained             \u001b]8;id=32696;file:///home/jd/msm_we/msm_we/_hamsm/_fluxmatrix.py\u001b\\\u001b[2m_fluxmatrix.py\u001b[0m\u001b]8;;\u001b\\\u001b[2m:\u001b[0m\u001b]8;id=473143;file:///home/jd/msm_we/msm_we/_hamsm/_fluxmatrix.py#497\u001b\\\u001b[2m497\u001b[0m\u001b]8;;\u001b\\\n"
      ]
     },
     "metadata": {},
     "output_type": "display_data"
    },
    {
     "data": {
      "text/html": [
       "<pre style=\"white-space:pre;overflow-x:auto;line-height:normal;font-family:Menlo,'DejaVu Sans Mono',consolas,'Courier New',monospace\"><span style=\"color: #000080; text-decoration-color: #000080\">INFO    </span> Started with <span style=\"color: #008080; text-decoration-color: #008080; font-weight: bold\">300</span> clusters, and       <a href=\"file:///home/jd/msm_we/msm_we/_hamsm/_clustering.py\" target=\"_blank\"><span style=\"color: #7f7f7f; text-decoration-color: #7f7f7f\">_clustering.py</span></a><span style=\"color: #7f7f7f; text-decoration-color: #7f7f7f\">:</span><a href=\"file:///home/jd/msm_we/msm_we/_hamsm/_clustering.py#1020\" target=\"_blank\"><span style=\"color: #7f7f7f; text-decoration-color: #7f7f7f\">1020</span></a>\n",
       "         removed <span style=\"color: #008080; text-decoration-color: #008080; font-weight: bold\">108</span>                          <span style=\"color: #7f7f7f; text-decoration-color: #7f7f7f\">                   </span>\n",
       "</pre>\n"
      ],
      "text/plain": [
       "\u001b[34mINFO    \u001b[0m Started with \u001b[1;36m300\u001b[0m clusters, and       \u001b]8;id=230746;file:///home/jd/msm_we/msm_we/_hamsm/_clustering.py\u001b\\\u001b[2m_clustering.py\u001b[0m\u001b]8;;\u001b\\\u001b[2m:\u001b[0m\u001b]8;id=393201;file:///home/jd/msm_we/msm_we/_hamsm/_clustering.py#1020\u001b\\\u001b[2m1020\u001b[0m\u001b]8;;\u001b\\\n",
       "         removed \u001b[1;36m108\u001b[0m                          \u001b[2m                   \u001b[0m\n"
      ]
     },
     "metadata": {},
     "output_type": "display_data"
    },
    {
     "data": {
      "text/html": [
       "<pre style=\"white-space:pre;overflow-x:auto;line-height:normal;font-family:Menlo,'DejaVu Sans Mono',consolas,'Courier New',monospace\"><span style=\"color: #800000; text-decoration-color: #800000\">WARNING </span> All clusters were cleaned from bins  <a href=\"file:///home/jd/msm_we/msm_we/_hamsm/_clustering.py\" target=\"_blank\"><span style=\"color: #7f7f7f; text-decoration-color: #7f7f7f\">_clustering.py</span></a><span style=\"color: #7f7f7f; text-decoration-color: #7f7f7f\">:</span><a href=\"file:///home/jd/msm_we/msm_we/_hamsm/_clustering.py#1036\" target=\"_blank\"><span style=\"color: #7f7f7f; text-decoration-color: #7f7f7f\">1036</span></a>\n",
       "         <span style=\"font-weight: bold\">{</span><span style=\"color: #008080; text-decoration-color: #008080; font-weight: bold\">11</span><span style=\"font-weight: bold\">}</span>                                 <span style=\"color: #7f7f7f; text-decoration-color: #7f7f7f\">                   </span>\n",
       "</pre>\n"
      ],
      "text/plain": [
       "\u001b[31mWARNING \u001b[0m All clusters were cleaned from bins  \u001b]8;id=436828;file:///home/jd/msm_we/msm_we/_hamsm/_clustering.py\u001b\\\u001b[2m_clustering.py\u001b[0m\u001b]8;;\u001b\\\u001b[2m:\u001b[0m\u001b]8;id=343882;file:///home/jd/msm_we/msm_we/_hamsm/_clustering.py#1036\u001b\\\u001b[2m1036\u001b[0m\u001b]8;;\u001b\\\n",
       "         \u001b[1m{\u001b[0m\u001b[1;36m11\u001b[0m\u001b[1m}\u001b[0m                                 \u001b[2m                   \u001b[0m\n"
      ]
     },
     "metadata": {},
     "output_type": "display_data"
    },
    {
     "data": {
      "text/html": [
       "<pre style=\"white-space:pre;overflow-x:auto;line-height:normal;font-family:Menlo,'DejaVu Sans Mono',consolas,'Courier New',monospace\"><span style=\"color: #000080; text-decoration-color: #000080\">INFO    </span> Using Ray cluster with <span style=\"color: #008080; text-decoration-color: #008080; font-weight: bold\">16.0</span> CPUs!          <a href=\"file:///home/jd/msm_we/msm_we/msm_we.py\" target=\"_blank\"><span style=\"color: #7f7f7f; text-decoration-color: #7f7f7f\">msm_we.py</span></a><span style=\"color: #7f7f7f; text-decoration-color: #7f7f7f\">:</span><a href=\"file:///home/jd/msm_we/msm_we/msm_we.py#450\" target=\"_blank\"><span style=\"color: #7f7f7f; text-decoration-color: #7f7f7f\">450</span></a>\n",
       "</pre>\n"
      ],
      "text/plain": [
       "\u001b[34mINFO    \u001b[0m Using Ray cluster with \u001b[1;36m16.0\u001b[0m CPUs!          \u001b]8;id=862741;file:///home/jd/msm_we/msm_we/msm_we.py\u001b\\\u001b[2mmsm_we.py\u001b[0m\u001b]8;;\u001b\\\u001b[2m:\u001b[0m\u001b]8;id=432549;file:///home/jd/msm_we/msm_we/msm_we.py#450\u001b\\\u001b[2m450\u001b[0m\u001b]8;;\u001b\\\n"
      ]
     },
     "metadata": {},
     "output_type": "display_data"
    },
    {
     "data": {
      "text/html": [
       "<pre style=\"white-space:pre;overflow-x:auto;line-height:normal;font-family:Menlo,'DejaVu Sans Mono',consolas,'Courier New',monospace\"><span style=\"color: #000080; text-decoration-color: #000080\">INFO    </span> Using cached model for               <a href=\"file:///home/jd/msm_we/msm_we/_hamsm/_clustering.py\" target=\"_blank\"><span style=\"color: #7f7f7f; text-decoration-color: #7f7f7f\">_clustering.py</span></a><span style=\"color: #7f7f7f; text-decoration-color: #7f7f7f\">:</span><a href=\"file:///home/jd/msm_we/msm_we/_hamsm/_clustering.py#1132\" target=\"_blank\"><span style=\"color: #7f7f7f; text-decoration-color: #7f7f7f\">1132</span></a>\n",
       "         discretization                       <span style=\"color: #7f7f7f; text-decoration-color: #7f7f7f\">                   </span>\n",
       "</pre>\n"
      ],
      "text/plain": [
       "\u001b[34mINFO    \u001b[0m Using cached model for               \u001b]8;id=688021;file:///home/jd/msm_we/msm_we/_hamsm/_clustering.py\u001b\\\u001b[2m_clustering.py\u001b[0m\u001b]8;;\u001b\\\u001b[2m:\u001b[0m\u001b]8;id=355390;file:///home/jd/msm_we/msm_we/_hamsm/_clustering.py#1132\u001b\\\u001b[2m1132\u001b[0m\u001b]8;;\u001b\\\n",
       "         discretization                       \u001b[2m                   \u001b[0m\n"
      ]
     },
     "metadata": {},
     "output_type": "display_data"
    },
    {
     "data": {
      "application/vnd.jupyter.widget-view+json": {
       "model_id": "09fabb296fe34d91afd0563a1288da75",
       "version_major": 2,
       "version_minor": 0
      },
      "text/plain": [
       "Submitting discretization tasks:   0%|          | 0/99 [00:00<?, ?it/s]"
      ]
     },
     "metadata": {},
     "output_type": "display_data"
    },
    {
     "data": {
      "application/vnd.jupyter.widget-view+json": {
       "model_id": "58a628abef6b46bb9daaa09f168b767f",
       "version_major": 2,
       "version_minor": 0
      },
      "text/plain": [
       "Retrieving discretized trajectories:   0%|          | 0/99 [00:00<?, ?it/s]"
      ]
     },
     "metadata": {},
     "output_type": "display_data"
    },
    {
     "data": {
      "text/html": [
       "<pre style=\"white-space:pre;overflow-x:auto;line-height:normal;font-family:Menlo,'DejaVu Sans Mono',consolas,'Courier New',monospace\"><span style=\"color: #000080; text-decoration-color: #000080\">INFO    </span> Discretization complete              <a href=\"file:///home/jd/msm_we/msm_we/_hamsm/_clustering.py\" target=\"_blank\"><span style=\"color: #7f7f7f; text-decoration-color: #7f7f7f\">_clustering.py</span></a><span style=\"color: #7f7f7f; text-decoration-color: #7f7f7f\">:</span><a href=\"file:///home/jd/msm_we/msm_we/_hamsm/_clustering.py#1204\" target=\"_blank\"><span style=\"color: #7f7f7f; text-decoration-color: #7f7f7f\">1204</span></a>\n",
       "</pre>\n"
      ],
      "text/plain": [
       "\u001b[34mINFO    \u001b[0m Discretization complete              \u001b]8;id=797056;file:///home/jd/msm_we/msm_we/_hamsm/_clustering.py\u001b\\\u001b[2m_clustering.py\u001b[0m\u001b]8;;\u001b\\\u001b[2m:\u001b[0m\u001b]8;id=73180;file:///home/jd/msm_we/msm_we/_hamsm/_clustering.py#1204\u001b\\\u001b[2m1204\u001b[0m\u001b]8;;\u001b\\\n"
      ]
     },
     "metadata": {},
     "output_type": "display_data"
    },
    {
     "data": {
      "text/html": [
       "<pre style=\"white-space:pre;overflow-x:auto;line-height:normal;font-family:Menlo,'DejaVu Sans Mono',consolas,'Courier New',monospace\">/home/jd/msm_we/msm_we/_hamsm/_clustering.py:1532: \n",
       "VisibleDeprecationWarning: Creating an ndarray from ragged nested\n",
       "sequences (which is a list-or-tuple of lists-or-tuples-or \n",
       "ndarrays with different lengths or shapes) is deprecated. If you \n",
       "meant to do this, you must specify 'dtype=object' when creating \n",
       "the ndarray.\n",
       "  self.targetRMSD_all = \n",
       "np.array(cluster_pcoord_all)[pcoord_sort_indices]\n",
       "</pre>\n"
      ],
      "text/plain": [
       "/home/jd/msm_we/msm_we/_hamsm/_clustering.py:1532: \n",
       "VisibleDeprecationWarning: Creating an ndarray from ragged nested\n",
       "sequences (which is a list-or-tuple of lists-or-tuples-or \n",
       "ndarrays with different lengths or shapes) is deprecated. If you \n",
       "meant to do this, you must specify 'dtype=object' when creating \n",
       "the ndarray.\n",
       "  self.targetRMSD_all = \n",
       "np.array(cluster_pcoord_all)[pcoord_sort_indices]\n"
      ]
     },
     "metadata": {},
     "output_type": "display_data"
    },
    {
     "data": {
      "text/html": [
       "<pre style=\"white-space:pre;overflow-x:auto;line-height:normal;font-family:Menlo,'DejaVu Sans Mono',consolas,'Courier New',monospace\"><span style=\"color: #000080; text-decoration-color: #000080\">INFO    </span> Using Ray cluster with <span style=\"color: #008080; text-decoration-color: #008080; font-weight: bold\">16.0</span> CPUs!          <a href=\"file:///home/jd/msm_we/msm_we/msm_we.py\" target=\"_blank\"><span style=\"color: #7f7f7f; text-decoration-color: #7f7f7f\">msm_we.py</span></a><span style=\"color: #7f7f7f; text-decoration-color: #7f7f7f\">:</span><a href=\"file:///home/jd/msm_we/msm_we/msm_we.py#450\" target=\"_blank\"><span style=\"color: #7f7f7f; text-decoration-color: #7f7f7f\">450</span></a>\n",
       "</pre>\n"
      ],
      "text/plain": [
       "\u001b[34mINFO    \u001b[0m Using Ray cluster with \u001b[1;36m16.0\u001b[0m CPUs!          \u001b]8;id=913643;file:///home/jd/msm_we/msm_we/msm_we.py\u001b\\\u001b[2mmsm_we.py\u001b[0m\u001b]8;;\u001b\\\u001b[2m:\u001b[0m\u001b]8;id=345441;file:///home/jd/msm_we/msm_we/msm_we.py#450\u001b\\\u001b[2m450\u001b[0m\u001b]8;;\u001b\\\n"
      ]
     },
     "metadata": {},
     "output_type": "display_data"
    },
    {
     "data": {
      "application/vnd.jupyter.widget-view+json": {
       "model_id": "e94d210f52b34208be117978400a8bb0",
       "version_major": 2,
       "version_minor": 0
      },
      "text/plain": [
       "Submitting fluxmatrix tasks:   0%|          | 0/98 [00:00<?, ?it/s]"
      ]
     },
     "metadata": {},
     "output_type": "display_data"
    },
    {
     "data": {
      "application/vnd.jupyter.widget-view+json": {
       "model_id": "9354d9de254b450aa63d6982f40c7f6e",
       "version_major": 2,
       "version_minor": 0
      },
      "text/plain": [
       "Retrieving flux matrices:   0%|          | 0/98 [00:00<?, ?it/s]"
      ]
     },
     "metadata": {},
     "output_type": "display_data"
    },
    {
     "data": {
      "text/html": [
       "<pre style=\"white-space:pre;overflow-x:auto;line-height:normal;font-family:Menlo,'DejaVu Sans Mono',consolas,'Courier New',monospace\"><span style=\"color: #000080; text-decoration-color: #000080\">INFO    </span> Fluxmatrices all obtained             <a href=\"file:///home/jd/msm_we/msm_we/_hamsm/_fluxmatrix.py\" target=\"_blank\"><span style=\"color: #7f7f7f; text-decoration-color: #7f7f7f\">_fluxmatrix.py</span></a><span style=\"color: #7f7f7f; text-decoration-color: #7f7f7f\">:</span><a href=\"file:///home/jd/msm_we/msm_we/_hamsm/_fluxmatrix.py#497\" target=\"_blank\"><span style=\"color: #7f7f7f; text-decoration-color: #7f7f7f\">497</span></a>\n",
       "</pre>\n"
      ],
      "text/plain": [
       "\u001b[34mINFO    \u001b[0m Fluxmatrices all obtained             \u001b]8;id=820105;file:///home/jd/msm_we/msm_we/_hamsm/_fluxmatrix.py\u001b\\\u001b[2m_fluxmatrix.py\u001b[0m\u001b]8;;\u001b\\\u001b[2m:\u001b[0m\u001b]8;id=691049;file:///home/jd/msm_we/msm_we/_hamsm/_fluxmatrix.py#497\u001b\\\u001b[2m497\u001b[0m\u001b]8;;\u001b\\\n"
      ]
     },
     "metadata": {},
     "output_type": "display_data"
    },
    {
     "data": {
      "text/html": [
       "<pre style=\"white-space:pre;overflow-x:auto;line-height:normal;font-family:Menlo,'DejaVu Sans Mono',consolas,'Courier New',monospace\"><span style=\"color: #000080; text-decoration-color: #000080\">INFO    </span>                                         <a href=\"file:///home/jd/msm_we/msm_we/_hamsm/_analysis.py\" target=\"_blank\"><span style=\"color: #7f7f7f; text-decoration-color: #7f7f7f\">_analysis.py</span></a><span style=\"color: #7f7f7f; text-decoration-color: #7f7f7f\">:</span><a href=\"file:///home/jd/msm_we/msm_we/_hamsm/_analysis.py#170\" target=\"_blank\"><span style=\"color: #7f7f7f; text-decoration-color: #7f7f7f\">170</span></a>\n",
       "         Flux converged to <span style=\"color: #008080; text-decoration-color: #008080; font-weight: bold\">1.8830e+06</span> after <span style=\"color: #008080; text-decoration-color: #008080; font-weight: bold\">1</span>    <span style=\"color: #7f7f7f; text-decoration-color: #7f7f7f\">                </span>\n",
       "         iterations of inverse iteration.        <span style=\"color: #7f7f7f; text-decoration-color: #7f7f7f\">                </span>\n",
       "</pre>\n"
      ],
      "text/plain": [
       "\u001b[34mINFO    \u001b[0m                                         \u001b]8;id=507604;file:///home/jd/msm_we/msm_we/_hamsm/_analysis.py\u001b\\\u001b[2m_analysis.py\u001b[0m\u001b]8;;\u001b\\\u001b[2m:\u001b[0m\u001b]8;id=151882;file:///home/jd/msm_we/msm_we/_hamsm/_analysis.py#170\u001b\\\u001b[2m170\u001b[0m\u001b]8;;\u001b\\\n",
       "         Flux converged to \u001b[1;36m1.8830e+06\u001b[0m after \u001b[1;36m1\u001b[0m    \u001b[2m                \u001b[0m\n",
       "         iterations of inverse iteration.        \u001b[2m                \u001b[0m\n"
      ]
     },
     "metadata": {},
     "output_type": "display_data"
    },
    {
     "data": {
      "text/html": [
       "<pre style=\"white-space:pre;overflow-x:auto;line-height:normal;font-family:Menlo,'DejaVu Sans Mono',consolas,'Courier New',monospace\"><span style=\"color: #000080; text-decoration-color: #000080\">INFO    </span> Done with steady-state estimation.      <a href=\"file:///home/jd/msm_we/msm_we/_hamsm/_analysis.py\" target=\"_blank\"><span style=\"color: #7f7f7f; text-decoration-color: #7f7f7f\">_analysis.py</span></a><span style=\"color: #7f7f7f; text-decoration-color: #7f7f7f\">:</span><a href=\"file:///home/jd/msm_we/msm_we/_hamsm/_analysis.py#181\" target=\"_blank\"><span style=\"color: #7f7f7f; text-decoration-color: #7f7f7f\">181</span></a>\n",
       "</pre>\n"
      ],
      "text/plain": [
       "\u001b[34mINFO    \u001b[0m Done with steady-state estimation.      \u001b]8;id=54758;file:///home/jd/msm_we/msm_we/_hamsm/_analysis.py\u001b\\\u001b[2m_analysis.py\u001b[0m\u001b]8;;\u001b\\\u001b[2m:\u001b[0m\u001b]8;id=620211;file:///home/jd/msm_we/msm_we/_hamsm/_analysis.py#181\u001b\\\u001b[2m181\u001b[0m\u001b]8;;\u001b\\\n"
      ]
     },
     "metadata": {},
     "output_type": "display_data"
    },
    {
     "data": {
      "text/html": [
       "<pre style=\"white-space:pre;overflow-x:auto;line-height:normal;font-family:Menlo,'DejaVu Sans Mono',consolas,'Courier New',monospace\"><span style=\"color: #000080; text-decoration-color: #000080\">INFO    </span> Beginning analysis of cross-validation     <a href=\"file:///home/jd/msm_we/msm_we/msm_we.py\" target=\"_blank\"><span style=\"color: #7f7f7f; text-decoration-color: #7f7f7f\">msm_we.py</span></a><span style=\"color: #7f7f7f; text-decoration-color: #7f7f7f\">:</span><a href=\"file:///home/jd/msm_we/msm_we/msm_we.py#926\" target=\"_blank\"><span style=\"color: #7f7f7f; text-decoration-color: #7f7f7f\">926</span></a>\n",
       "         group <span style=\"color: #008080; text-decoration-color: #008080; font-weight: bold\">1</span>/<span style=\"color: #008080; text-decoration-color: #008080; font-weight: bold\">2</span>.                                 <span style=\"color: #7f7f7f; text-decoration-color: #7f7f7f\">             </span>\n",
       "</pre>\n"
      ],
      "text/plain": [
       "\u001b[34mINFO    \u001b[0m Beginning analysis of cross-validation     \u001b]8;id=819405;file:///home/jd/msm_we/msm_we/msm_we.py\u001b\\\u001b[2mmsm_we.py\u001b[0m\u001b]8;;\u001b\\\u001b[2m:\u001b[0m\u001b]8;id=345422;file:///home/jd/msm_we/msm_we/msm_we.py#926\u001b\\\u001b[2m926\u001b[0m\u001b]8;;\u001b\\\n",
       "         group \u001b[1;36m1\u001b[0m/\u001b[1;36m2\u001b[0m.                                 \u001b[2m             \u001b[0m\n"
      ]
     },
     "metadata": {},
     "output_type": "display_data"
    },
    {
     "data": {
      "text/html": [
       "<pre style=\"white-space:pre;overflow-x:auto;line-height:normal;font-family:Menlo,'DejaVu Sans Mono',consolas,'Courier New',monospace\"><span style=\"color: #000080; text-decoration-color: #000080\">INFO    </span> Using Ray cluster with <span style=\"color: #008080; text-decoration-color: #008080; font-weight: bold\">16.0</span> CPUs!          <a href=\"file:///home/jd/msm_we/msm_we/msm_we.py\" target=\"_blank\"><span style=\"color: #7f7f7f; text-decoration-color: #7f7f7f\">msm_we.py</span></a><span style=\"color: #7f7f7f; text-decoration-color: #7f7f7f\">:</span><a href=\"file:///home/jd/msm_we/msm_we/msm_we.py#450\" target=\"_blank\"><span style=\"color: #7f7f7f; text-decoration-color: #7f7f7f\">450</span></a>\n",
       "</pre>\n"
      ],
      "text/plain": [
       "\u001b[34mINFO    \u001b[0m Using Ray cluster with \u001b[1;36m16.0\u001b[0m CPUs!          \u001b]8;id=73496;file:///home/jd/msm_we/msm_we/msm_we.py\u001b\\\u001b[2mmsm_we.py\u001b[0m\u001b]8;;\u001b\\\u001b[2m:\u001b[0m\u001b]8;id=704023;file:///home/jd/msm_we/msm_we/msm_we.py#450\u001b\\\u001b[2m450\u001b[0m\u001b]8;;\u001b\\\n"
      ]
     },
     "metadata": {},
     "output_type": "display_data"
    },
    {
     "data": {
      "application/vnd.jupyter.widget-view+json": {
       "model_id": "bb9bdf36ff7447678a32f60ebfe4011a",
       "version_major": 2,
       "version_minor": 0
      },
      "text/plain": [
       "Submitting fluxmatrix tasks:   0%|          | 0/50 [00:00<?, ?it/s]"
      ]
     },
     "metadata": {},
     "output_type": "display_data"
    },
    {
     "data": {
      "application/vnd.jupyter.widget-view+json": {
       "model_id": "d4b21641d546464caa7569fbca221131",
       "version_major": 2,
       "version_minor": 0
      },
      "text/plain": [
       "Retrieving flux matrices:   0%|          | 0/50 [00:00<?, ?it/s]"
      ]
     },
     "metadata": {},
     "output_type": "display_data"
    },
    {
     "data": {
      "text/html": [
       "<pre style=\"white-space:pre;overflow-x:auto;line-height:normal;font-family:Menlo,'DejaVu Sans Mono',consolas,'Courier New',monospace\"><span style=\"color: #000080; text-decoration-color: #000080\">INFO    </span> Fluxmatrices all obtained             <a href=\"file:///home/jd/msm_we/msm_we/_hamsm/_fluxmatrix.py\" target=\"_blank\"><span style=\"color: #7f7f7f; text-decoration-color: #7f7f7f\">_fluxmatrix.py</span></a><span style=\"color: #7f7f7f; text-decoration-color: #7f7f7f\">:</span><a href=\"file:///home/jd/msm_we/msm_we/_hamsm/_fluxmatrix.py#497\" target=\"_blank\"><span style=\"color: #7f7f7f; text-decoration-color: #7f7f7f\">497</span></a>\n",
       "</pre>\n"
      ],
      "text/plain": [
       "\u001b[34mINFO    \u001b[0m Fluxmatrices all obtained             \u001b]8;id=536369;file:///home/jd/msm_we/msm_we/_hamsm/_fluxmatrix.py\u001b\\\u001b[2m_fluxmatrix.py\u001b[0m\u001b]8;;\u001b\\\u001b[2m:\u001b[0m\u001b]8;id=863379;file:///home/jd/msm_we/msm_we/_hamsm/_fluxmatrix.py#497\u001b\\\u001b[2m497\u001b[0m\u001b]8;;\u001b\\\n"
      ]
     },
     "metadata": {},
     "output_type": "display_data"
    },
    {
     "data": {
      "text/html": [
       "<pre style=\"white-space:pre;overflow-x:auto;line-height:normal;font-family:Menlo,'DejaVu Sans Mono',consolas,'Courier New',monospace\"><span style=\"color: #000080; text-decoration-color: #000080\">INFO    </span> Started with <span style=\"color: #008080; text-decoration-color: #008080; font-weight: bold\">300</span> clusters, and       <a href=\"file:///home/jd/msm_we/msm_we/_hamsm/_clustering.py\" target=\"_blank\"><span style=\"color: #7f7f7f; text-decoration-color: #7f7f7f\">_clustering.py</span></a><span style=\"color: #7f7f7f; text-decoration-color: #7f7f7f\">:</span><a href=\"file:///home/jd/msm_we/msm_we/_hamsm/_clustering.py#1020\" target=\"_blank\"><span style=\"color: #7f7f7f; text-decoration-color: #7f7f7f\">1020</span></a>\n",
       "         removed <span style=\"color: #008080; text-decoration-color: #008080; font-weight: bold\">128</span>                          <span style=\"color: #7f7f7f; text-decoration-color: #7f7f7f\">                   </span>\n",
       "</pre>\n"
      ],
      "text/plain": [
       "\u001b[34mINFO    \u001b[0m Started with \u001b[1;36m300\u001b[0m clusters, and       \u001b]8;id=765538;file:///home/jd/msm_we/msm_we/_hamsm/_clustering.py\u001b\\\u001b[2m_clustering.py\u001b[0m\u001b]8;;\u001b\\\u001b[2m:\u001b[0m\u001b]8;id=674212;file:///home/jd/msm_we/msm_we/_hamsm/_clustering.py#1020\u001b\\\u001b[2m1020\u001b[0m\u001b]8;;\u001b\\\n",
       "         removed \u001b[1;36m128\u001b[0m                          \u001b[2m                   \u001b[0m\n"
      ]
     },
     "metadata": {},
     "output_type": "display_data"
    },
    {
     "data": {
      "text/html": [
       "<pre style=\"white-space:pre;overflow-x:auto;line-height:normal;font-family:Menlo,'DejaVu Sans Mono',consolas,'Courier New',monospace\"><span style=\"color: #800000; text-decoration-color: #800000\">WARNING </span> All clusters were cleaned from bins  <a href=\"file:///home/jd/msm_we/msm_we/_hamsm/_clustering.py\" target=\"_blank\"><span style=\"color: #7f7f7f; text-decoration-color: #7f7f7f\">_clustering.py</span></a><span style=\"color: #7f7f7f; text-decoration-color: #7f7f7f\">:</span><a href=\"file:///home/jd/msm_we/msm_we/_hamsm/_clustering.py#1036\" target=\"_blank\"><span style=\"color: #7f7f7f; text-decoration-color: #7f7f7f\">1036</span></a>\n",
       "         <span style=\"font-weight: bold\">{</span><span style=\"color: #008080; text-decoration-color: #008080; font-weight: bold\">11</span><span style=\"font-weight: bold\">}</span>                                 <span style=\"color: #7f7f7f; text-decoration-color: #7f7f7f\">                   </span>\n",
       "</pre>\n"
      ],
      "text/plain": [
       "\u001b[31mWARNING \u001b[0m All clusters were cleaned from bins  \u001b]8;id=450888;file:///home/jd/msm_we/msm_we/_hamsm/_clustering.py\u001b\\\u001b[2m_clustering.py\u001b[0m\u001b]8;;\u001b\\\u001b[2m:\u001b[0m\u001b]8;id=948117;file:///home/jd/msm_we/msm_we/_hamsm/_clustering.py#1036\u001b\\\u001b[2m1036\u001b[0m\u001b]8;;\u001b\\\n",
       "         \u001b[1m{\u001b[0m\u001b[1;36m11\u001b[0m\u001b[1m}\u001b[0m                                 \u001b[2m                   \u001b[0m\n"
      ]
     },
     "metadata": {},
     "output_type": "display_data"
    },
    {
     "data": {
      "text/html": [
       "<pre style=\"white-space:pre;overflow-x:auto;line-height:normal;font-family:Menlo,'DejaVu Sans Mono',consolas,'Courier New',monospace\"><span style=\"color: #000080; text-decoration-color: #000080\">INFO    </span> Using Ray cluster with <span style=\"color: #008080; text-decoration-color: #008080; font-weight: bold\">16.0</span> CPUs!          <a href=\"file:///home/jd/msm_we/msm_we/msm_we.py\" target=\"_blank\"><span style=\"color: #7f7f7f; text-decoration-color: #7f7f7f\">msm_we.py</span></a><span style=\"color: #7f7f7f; text-decoration-color: #7f7f7f\">:</span><a href=\"file:///home/jd/msm_we/msm_we/msm_we.py#450\" target=\"_blank\"><span style=\"color: #7f7f7f; text-decoration-color: #7f7f7f\">450</span></a>\n",
       "</pre>\n"
      ],
      "text/plain": [
       "\u001b[34mINFO    \u001b[0m Using Ray cluster with \u001b[1;36m16.0\u001b[0m CPUs!          \u001b]8;id=370540;file:///home/jd/msm_we/msm_we/msm_we.py\u001b\\\u001b[2mmsm_we.py\u001b[0m\u001b]8;;\u001b\\\u001b[2m:\u001b[0m\u001b]8;id=653255;file:///home/jd/msm_we/msm_we/msm_we.py#450\u001b\\\u001b[2m450\u001b[0m\u001b]8;;\u001b\\\n"
      ]
     },
     "metadata": {},
     "output_type": "display_data"
    },
    {
     "data": {
      "text/html": [
       "<pre style=\"white-space:pre;overflow-x:auto;line-height:normal;font-family:Menlo,'DejaVu Sans Mono',consolas,'Courier New',monospace\"><span style=\"color: #000080; text-decoration-color: #000080\">INFO    </span> Using cached model for               <a href=\"file:///home/jd/msm_we/msm_we/_hamsm/_clustering.py\" target=\"_blank\"><span style=\"color: #7f7f7f; text-decoration-color: #7f7f7f\">_clustering.py</span></a><span style=\"color: #7f7f7f; text-decoration-color: #7f7f7f\">:</span><a href=\"file:///home/jd/msm_we/msm_we/_hamsm/_clustering.py#1132\" target=\"_blank\"><span style=\"color: #7f7f7f; text-decoration-color: #7f7f7f\">1132</span></a>\n",
       "         discretization                       <span style=\"color: #7f7f7f; text-decoration-color: #7f7f7f\">                   </span>\n",
       "</pre>\n"
      ],
      "text/plain": [
       "\u001b[34mINFO    \u001b[0m Using cached model for               \u001b]8;id=803248;file:///home/jd/msm_we/msm_we/_hamsm/_clustering.py\u001b\\\u001b[2m_clustering.py\u001b[0m\u001b]8;;\u001b\\\u001b[2m:\u001b[0m\u001b]8;id=289966;file:///home/jd/msm_we/msm_we/_hamsm/_clustering.py#1132\u001b\\\u001b[2m1132\u001b[0m\u001b]8;;\u001b\\\n",
       "         discretization                       \u001b[2m                   \u001b[0m\n"
      ]
     },
     "metadata": {},
     "output_type": "display_data"
    },
    {
     "data": {
      "application/vnd.jupyter.widget-view+json": {
       "model_id": "0a24883faf3e4982bc9b6723ca09cb1c",
       "version_major": 2,
       "version_minor": 0
      },
      "text/plain": [
       "Submitting discretization tasks:   0%|          | 0/99 [00:00<?, ?it/s]"
      ]
     },
     "metadata": {},
     "output_type": "display_data"
    },
    {
     "data": {
      "application/vnd.jupyter.widget-view+json": {
       "model_id": "64c983097e0841908dc6b3bc96e747fd",
       "version_major": 2,
       "version_minor": 0
      },
      "text/plain": [
       "Retrieving discretized trajectories:   0%|          | 0/99 [00:00<?, ?it/s]"
      ]
     },
     "metadata": {},
     "output_type": "display_data"
    },
    {
     "data": {
      "text/html": [
       "<pre style=\"white-space:pre;overflow-x:auto;line-height:normal;font-family:Menlo,'DejaVu Sans Mono',consolas,'Courier New',monospace\"><span style=\"color: #000080; text-decoration-color: #000080\">INFO    </span> Discretization complete              <a href=\"file:///home/jd/msm_we/msm_we/_hamsm/_clustering.py\" target=\"_blank\"><span style=\"color: #7f7f7f; text-decoration-color: #7f7f7f\">_clustering.py</span></a><span style=\"color: #7f7f7f; text-decoration-color: #7f7f7f\">:</span><a href=\"file:///home/jd/msm_we/msm_we/_hamsm/_clustering.py#1204\" target=\"_blank\"><span style=\"color: #7f7f7f; text-decoration-color: #7f7f7f\">1204</span></a>\n",
       "</pre>\n"
      ],
      "text/plain": [
       "\u001b[34mINFO    \u001b[0m Discretization complete              \u001b]8;id=282303;file:///home/jd/msm_we/msm_we/_hamsm/_clustering.py\u001b\\\u001b[2m_clustering.py\u001b[0m\u001b]8;;\u001b\\\u001b[2m:\u001b[0m\u001b]8;id=635703;file:///home/jd/msm_we/msm_we/_hamsm/_clustering.py#1204\u001b\\\u001b[2m1204\u001b[0m\u001b]8;;\u001b\\\n"
      ]
     },
     "metadata": {},
     "output_type": "display_data"
    },
    {
     "data": {
      "text/html": [
       "<pre style=\"white-space:pre;overflow-x:auto;line-height:normal;font-family:Menlo,'DejaVu Sans Mono',consolas,'Courier New',monospace\"><span style=\"color: #000080; text-decoration-color: #000080\">INFO    </span> Using Ray cluster with <span style=\"color: #008080; text-decoration-color: #008080; font-weight: bold\">16.0</span> CPUs!          <a href=\"file:///home/jd/msm_we/msm_we/msm_we.py\" target=\"_blank\"><span style=\"color: #7f7f7f; text-decoration-color: #7f7f7f\">msm_we.py</span></a><span style=\"color: #7f7f7f; text-decoration-color: #7f7f7f\">:</span><a href=\"file:///home/jd/msm_we/msm_we/msm_we.py#450\" target=\"_blank\"><span style=\"color: #7f7f7f; text-decoration-color: #7f7f7f\">450</span></a>\n",
       "</pre>\n"
      ],
      "text/plain": [
       "\u001b[34mINFO    \u001b[0m Using Ray cluster with \u001b[1;36m16.0\u001b[0m CPUs!          \u001b]8;id=719429;file:///home/jd/msm_we/msm_we/msm_we.py\u001b\\\u001b[2mmsm_we.py\u001b[0m\u001b]8;;\u001b\\\u001b[2m:\u001b[0m\u001b]8;id=804282;file:///home/jd/msm_we/msm_we/msm_we.py#450\u001b\\\u001b[2m450\u001b[0m\u001b]8;;\u001b\\\n"
      ]
     },
     "metadata": {},
     "output_type": "display_data"
    },
    {
     "data": {
      "application/vnd.jupyter.widget-view+json": {
       "model_id": "eb3da5ae8edb4b68a345efe8d7f63fad",
       "version_major": 2,
       "version_minor": 0
      },
      "text/plain": [
       "Submitting fluxmatrix tasks:   0%|          | 0/50 [00:00<?, ?it/s]"
      ]
     },
     "metadata": {},
     "output_type": "display_data"
    },
    {
     "data": {
      "application/vnd.jupyter.widget-view+json": {
       "model_id": "b75b9140b5e14c91a4f559deb6a782b6",
       "version_major": 2,
       "version_minor": 0
      },
      "text/plain": [
       "Retrieving flux matrices:   0%|          | 0/50 [00:00<?, ?it/s]"
      ]
     },
     "metadata": {},
     "output_type": "display_data"
    },
    {
     "data": {
      "text/html": [
       "<pre style=\"white-space:pre;overflow-x:auto;line-height:normal;font-family:Menlo,'DejaVu Sans Mono',consolas,'Courier New',monospace\"><span style=\"color: #000080; text-decoration-color: #000080\">INFO    </span> Fluxmatrices all obtained             <a href=\"file:///home/jd/msm_we/msm_we/_hamsm/_fluxmatrix.py\" target=\"_blank\"><span style=\"color: #7f7f7f; text-decoration-color: #7f7f7f\">_fluxmatrix.py</span></a><span style=\"color: #7f7f7f; text-decoration-color: #7f7f7f\">:</span><a href=\"file:///home/jd/msm_we/msm_we/_hamsm/_fluxmatrix.py#497\" target=\"_blank\"><span style=\"color: #7f7f7f; text-decoration-color: #7f7f7f\">497</span></a>\n",
       "</pre>\n"
      ],
      "text/plain": [
       "\u001b[34mINFO    \u001b[0m Fluxmatrices all obtained             \u001b]8;id=609004;file:///home/jd/msm_we/msm_we/_hamsm/_fluxmatrix.py\u001b\\\u001b[2m_fluxmatrix.py\u001b[0m\u001b]8;;\u001b\\\u001b[2m:\u001b[0m\u001b]8;id=879893;file:///home/jd/msm_we/msm_we/_hamsm/_fluxmatrix.py#497\u001b\\\u001b[2m497\u001b[0m\u001b]8;;\u001b\\\n"
      ]
     },
     "metadata": {},
     "output_type": "display_data"
    },
    {
     "data": {
      "text/html": [
       "<pre style=\"white-space:pre;overflow-x:auto;line-height:normal;font-family:Menlo,'DejaVu Sans Mono',consolas,'Courier New',monospace\"><span style=\"color: #000080; text-decoration-color: #000080\">INFO    </span>                                         <a href=\"file:///home/jd/msm_we/msm_we/_hamsm/_analysis.py\" target=\"_blank\"><span style=\"color: #7f7f7f; text-decoration-color: #7f7f7f\">_analysis.py</span></a><span style=\"color: #7f7f7f; text-decoration-color: #7f7f7f\">:</span><a href=\"file:///home/jd/msm_we/msm_we/_hamsm/_analysis.py#170\" target=\"_blank\"><span style=\"color: #7f7f7f; text-decoration-color: #7f7f7f\">170</span></a>\n",
       "         Flux converged to <span style=\"color: #008080; text-decoration-color: #008080; font-weight: bold\">5.5930e+05</span> after <span style=\"color: #008080; text-decoration-color: #008080; font-weight: bold\">1</span>    <span style=\"color: #7f7f7f; text-decoration-color: #7f7f7f\">                </span>\n",
       "         iterations of inverse iteration.        <span style=\"color: #7f7f7f; text-decoration-color: #7f7f7f\">                </span>\n",
       "</pre>\n"
      ],
      "text/plain": [
       "\u001b[34mINFO    \u001b[0m                                         \u001b]8;id=694700;file:///home/jd/msm_we/msm_we/_hamsm/_analysis.py\u001b\\\u001b[2m_analysis.py\u001b[0m\u001b]8;;\u001b\\\u001b[2m:\u001b[0m\u001b]8;id=495125;file:///home/jd/msm_we/msm_we/_hamsm/_analysis.py#170\u001b\\\u001b[2m170\u001b[0m\u001b]8;;\u001b\\\n",
       "         Flux converged to \u001b[1;36m5.5930e+05\u001b[0m after \u001b[1;36m1\u001b[0m    \u001b[2m                \u001b[0m\n",
       "         iterations of inverse iteration.        \u001b[2m                \u001b[0m\n"
      ]
     },
     "metadata": {},
     "output_type": "display_data"
    },
    {
     "data": {
      "text/html": [
       "<pre style=\"white-space:pre;overflow-x:auto;line-height:normal;font-family:Menlo,'DejaVu Sans Mono',consolas,'Courier New',monospace\"><span style=\"color: #000080; text-decoration-color: #000080\">INFO    </span> Done with steady-state estimation.      <a href=\"file:///home/jd/msm_we/msm_we/_hamsm/_analysis.py\" target=\"_blank\"><span style=\"color: #7f7f7f; text-decoration-color: #7f7f7f\">_analysis.py</span></a><span style=\"color: #7f7f7f; text-decoration-color: #7f7f7f\">:</span><a href=\"file:///home/jd/msm_we/msm_we/_hamsm/_analysis.py#181\" target=\"_blank\"><span style=\"color: #7f7f7f; text-decoration-color: #7f7f7f\">181</span></a>\n",
       "</pre>\n"
      ],
      "text/plain": [
       "\u001b[34mINFO    \u001b[0m Done with steady-state estimation.      \u001b]8;id=908005;file:///home/jd/msm_we/msm_we/_hamsm/_analysis.py\u001b\\\u001b[2m_analysis.py\u001b[0m\u001b]8;;\u001b\\\u001b[2m:\u001b[0m\u001b]8;id=11620;file:///home/jd/msm_we/msm_we/_hamsm/_analysis.py#181\u001b\\\u001b[2m181\u001b[0m\u001b]8;;\u001b\\\n"
      ]
     },
     "metadata": {},
     "output_type": "display_data"
    },
    {
     "data": {
      "text/html": [
       "<pre style=\"white-space:pre;overflow-x:auto;line-height:normal;font-family:Menlo,'DejaVu Sans Mono',consolas,'Courier New',monospace\"><span style=\"color: #000080; text-decoration-color: #000080\">INFO    </span> Beginning analysis of cross-validation     <a href=\"file:///home/jd/msm_we/msm_we/msm_we.py\" target=\"_blank\"><span style=\"color: #7f7f7f; text-decoration-color: #7f7f7f\">msm_we.py</span></a><span style=\"color: #7f7f7f; text-decoration-color: #7f7f7f\">:</span><a href=\"file:///home/jd/msm_we/msm_we/msm_we.py#926\" target=\"_blank\"><span style=\"color: #7f7f7f; text-decoration-color: #7f7f7f\">926</span></a>\n",
       "         group <span style=\"color: #008080; text-decoration-color: #008080; font-weight: bold\">2</span>/<span style=\"color: #008080; text-decoration-color: #008080; font-weight: bold\">2</span>.                                 <span style=\"color: #7f7f7f; text-decoration-color: #7f7f7f\">             </span>\n",
       "</pre>\n"
      ],
      "text/plain": [
       "\u001b[34mINFO    \u001b[0m Beginning analysis of cross-validation     \u001b]8;id=516075;file:///home/jd/msm_we/msm_we/msm_we.py\u001b\\\u001b[2mmsm_we.py\u001b[0m\u001b]8;;\u001b\\\u001b[2m:\u001b[0m\u001b]8;id=896604;file:///home/jd/msm_we/msm_we/msm_we.py#926\u001b\\\u001b[2m926\u001b[0m\u001b]8;;\u001b\\\n",
       "         group \u001b[1;36m2\u001b[0m/\u001b[1;36m2\u001b[0m.                                 \u001b[2m             \u001b[0m\n"
      ]
     },
     "metadata": {},
     "output_type": "display_data"
    },
    {
     "data": {
      "text/html": [
       "<pre style=\"white-space:pre;overflow-x:auto;line-height:normal;font-family:Menlo,'DejaVu Sans Mono',consolas,'Courier New',monospace\"><span style=\"color: #000080; text-decoration-color: #000080\">INFO    </span> Using Ray cluster with <span style=\"color: #008080; text-decoration-color: #008080; font-weight: bold\">16.0</span> CPUs!          <a href=\"file:///home/jd/msm_we/msm_we/msm_we.py\" target=\"_blank\"><span style=\"color: #7f7f7f; text-decoration-color: #7f7f7f\">msm_we.py</span></a><span style=\"color: #7f7f7f; text-decoration-color: #7f7f7f\">:</span><a href=\"file:///home/jd/msm_we/msm_we/msm_we.py#450\" target=\"_blank\"><span style=\"color: #7f7f7f; text-decoration-color: #7f7f7f\">450</span></a>\n",
       "</pre>\n"
      ],
      "text/plain": [
       "\u001b[34mINFO    \u001b[0m Using Ray cluster with \u001b[1;36m16.0\u001b[0m CPUs!          \u001b]8;id=741051;file:///home/jd/msm_we/msm_we/msm_we.py\u001b\\\u001b[2mmsm_we.py\u001b[0m\u001b]8;;\u001b\\\u001b[2m:\u001b[0m\u001b]8;id=800296;file:///home/jd/msm_we/msm_we/msm_we.py#450\u001b\\\u001b[2m450\u001b[0m\u001b]8;;\u001b\\\n"
      ]
     },
     "metadata": {},
     "output_type": "display_data"
    },
    {
     "data": {
      "application/vnd.jupyter.widget-view+json": {
       "model_id": "df4f77675c4f4c8a96f5ddb58d3acf0b",
       "version_major": 2,
       "version_minor": 0
      },
      "text/plain": [
       "Submitting fluxmatrix tasks:   0%|          | 0/49 [00:00<?, ?it/s]"
      ]
     },
     "metadata": {},
     "output_type": "display_data"
    },
    {
     "data": {
      "application/vnd.jupyter.widget-view+json": {
       "model_id": "4bc072d63f654dd59c7ad9a12c0ee6b2",
       "version_major": 2,
       "version_minor": 0
      },
      "text/plain": [
       "Retrieving flux matrices:   0%|          | 0/49 [00:00<?, ?it/s]"
      ]
     },
     "metadata": {},
     "output_type": "display_data"
    },
    {
     "data": {
      "text/html": [
       "<pre style=\"white-space:pre;overflow-x:auto;line-height:normal;font-family:Menlo,'DejaVu Sans Mono',consolas,'Courier New',monospace\"><span style=\"color: #000080; text-decoration-color: #000080\">INFO    </span> Fluxmatrices all obtained             <a href=\"file:///home/jd/msm_we/msm_we/_hamsm/_fluxmatrix.py\" target=\"_blank\"><span style=\"color: #7f7f7f; text-decoration-color: #7f7f7f\">_fluxmatrix.py</span></a><span style=\"color: #7f7f7f; text-decoration-color: #7f7f7f\">:</span><a href=\"file:///home/jd/msm_we/msm_we/_hamsm/_fluxmatrix.py#497\" target=\"_blank\"><span style=\"color: #7f7f7f; text-decoration-color: #7f7f7f\">497</span></a>\n",
       "</pre>\n"
      ],
      "text/plain": [
       "\u001b[34mINFO    \u001b[0m Fluxmatrices all obtained             \u001b]8;id=497680;file:///home/jd/msm_we/msm_we/_hamsm/_fluxmatrix.py\u001b\\\u001b[2m_fluxmatrix.py\u001b[0m\u001b]8;;\u001b\\\u001b[2m:\u001b[0m\u001b]8;id=142433;file:///home/jd/msm_we/msm_we/_hamsm/_fluxmatrix.py#497\u001b\\\u001b[2m497\u001b[0m\u001b]8;;\u001b\\\n"
      ]
     },
     "metadata": {},
     "output_type": "display_data"
    },
    {
     "data": {
      "text/html": [
       "<pre style=\"white-space:pre;overflow-x:auto;line-height:normal;font-family:Menlo,'DejaVu Sans Mono',consolas,'Courier New',monospace\"><span style=\"color: #000080; text-decoration-color: #000080\">INFO    </span> Started with <span style=\"color: #008080; text-decoration-color: #008080; font-weight: bold\">300</span> clusters, and       <a href=\"file:///home/jd/msm_we/msm_we/_hamsm/_clustering.py\" target=\"_blank\"><span style=\"color: #7f7f7f; text-decoration-color: #7f7f7f\">_clustering.py</span></a><span style=\"color: #7f7f7f; text-decoration-color: #7f7f7f\">:</span><a href=\"file:///home/jd/msm_we/msm_we/_hamsm/_clustering.py#1020\" target=\"_blank\"><span style=\"color: #7f7f7f; text-decoration-color: #7f7f7f\">1020</span></a>\n",
       "         removed <span style=\"color: #008080; text-decoration-color: #008080; font-weight: bold\">123</span>                          <span style=\"color: #7f7f7f; text-decoration-color: #7f7f7f\">                   </span>\n",
       "</pre>\n"
      ],
      "text/plain": [
       "\u001b[34mINFO    \u001b[0m Started with \u001b[1;36m300\u001b[0m clusters, and       \u001b]8;id=70690;file:///home/jd/msm_we/msm_we/_hamsm/_clustering.py\u001b\\\u001b[2m_clustering.py\u001b[0m\u001b]8;;\u001b\\\u001b[2m:\u001b[0m\u001b]8;id=871423;file:///home/jd/msm_we/msm_we/_hamsm/_clustering.py#1020\u001b\\\u001b[2m1020\u001b[0m\u001b]8;;\u001b\\\n",
       "         removed \u001b[1;36m123\u001b[0m                          \u001b[2m                   \u001b[0m\n"
      ]
     },
     "metadata": {},
     "output_type": "display_data"
    },
    {
     "data": {
      "text/html": [
       "<pre style=\"white-space:pre;overflow-x:auto;line-height:normal;font-family:Menlo,'DejaVu Sans Mono',consolas,'Courier New',monospace\"><span style=\"color: #800000; text-decoration-color: #800000\">WARNING </span> All clusters were cleaned from bins  <a href=\"file:///home/jd/msm_we/msm_we/_hamsm/_clustering.py\" target=\"_blank\"><span style=\"color: #7f7f7f; text-decoration-color: #7f7f7f\">_clustering.py</span></a><span style=\"color: #7f7f7f; text-decoration-color: #7f7f7f\">:</span><a href=\"file:///home/jd/msm_we/msm_we/_hamsm/_clustering.py#1036\" target=\"_blank\"><span style=\"color: #7f7f7f; text-decoration-color: #7f7f7f\">1036</span></a>\n",
       "         <span style=\"font-weight: bold\">{</span><span style=\"color: #008080; text-decoration-color: #008080; font-weight: bold\">11</span><span style=\"font-weight: bold\">}</span>                                 <span style=\"color: #7f7f7f; text-decoration-color: #7f7f7f\">                   </span>\n",
       "</pre>\n"
      ],
      "text/plain": [
       "\u001b[31mWARNING \u001b[0m All clusters were cleaned from bins  \u001b]8;id=976465;file:///home/jd/msm_we/msm_we/_hamsm/_clustering.py\u001b\\\u001b[2m_clustering.py\u001b[0m\u001b]8;;\u001b\\\u001b[2m:\u001b[0m\u001b]8;id=201811;file:///home/jd/msm_we/msm_we/_hamsm/_clustering.py#1036\u001b\\\u001b[2m1036\u001b[0m\u001b]8;;\u001b\\\n",
       "         \u001b[1m{\u001b[0m\u001b[1;36m11\u001b[0m\u001b[1m}\u001b[0m                                 \u001b[2m                   \u001b[0m\n"
      ]
     },
     "metadata": {},
     "output_type": "display_data"
    },
    {
     "data": {
      "text/html": [
       "<pre style=\"white-space:pre;overflow-x:auto;line-height:normal;font-family:Menlo,'DejaVu Sans Mono',consolas,'Courier New',monospace\"><span style=\"color: #000080; text-decoration-color: #000080\">INFO    </span> Using Ray cluster with <span style=\"color: #008080; text-decoration-color: #008080; font-weight: bold\">16.0</span> CPUs!          <a href=\"file:///home/jd/msm_we/msm_we/msm_we.py\" target=\"_blank\"><span style=\"color: #7f7f7f; text-decoration-color: #7f7f7f\">msm_we.py</span></a><span style=\"color: #7f7f7f; text-decoration-color: #7f7f7f\">:</span><a href=\"file:///home/jd/msm_we/msm_we/msm_we.py#450\" target=\"_blank\"><span style=\"color: #7f7f7f; text-decoration-color: #7f7f7f\">450</span></a>\n",
       "</pre>\n"
      ],
      "text/plain": [
       "\u001b[34mINFO    \u001b[0m Using Ray cluster with \u001b[1;36m16.0\u001b[0m CPUs!          \u001b]8;id=307050;file:///home/jd/msm_we/msm_we/msm_we.py\u001b\\\u001b[2mmsm_we.py\u001b[0m\u001b]8;;\u001b\\\u001b[2m:\u001b[0m\u001b]8;id=430202;file:///home/jd/msm_we/msm_we/msm_we.py#450\u001b\\\u001b[2m450\u001b[0m\u001b]8;;\u001b\\\n"
      ]
     },
     "metadata": {},
     "output_type": "display_data"
    },
    {
     "data": {
      "text/html": [
       "<pre style=\"white-space:pre;overflow-x:auto;line-height:normal;font-family:Menlo,'DejaVu Sans Mono',consolas,'Courier New',monospace\"><span style=\"color: #000080; text-decoration-color: #000080\">INFO    </span> Using cached model for               <a href=\"file:///home/jd/msm_we/msm_we/_hamsm/_clustering.py\" target=\"_blank\"><span style=\"color: #7f7f7f; text-decoration-color: #7f7f7f\">_clustering.py</span></a><span style=\"color: #7f7f7f; text-decoration-color: #7f7f7f\">:</span><a href=\"file:///home/jd/msm_we/msm_we/_hamsm/_clustering.py#1132\" target=\"_blank\"><span style=\"color: #7f7f7f; text-decoration-color: #7f7f7f\">1132</span></a>\n",
       "         discretization                       <span style=\"color: #7f7f7f; text-decoration-color: #7f7f7f\">                   </span>\n",
       "</pre>\n"
      ],
      "text/plain": [
       "\u001b[34mINFO    \u001b[0m Using cached model for               \u001b]8;id=572267;file:///home/jd/msm_we/msm_we/_hamsm/_clustering.py\u001b\\\u001b[2m_clustering.py\u001b[0m\u001b]8;;\u001b\\\u001b[2m:\u001b[0m\u001b]8;id=971832;file:///home/jd/msm_we/msm_we/_hamsm/_clustering.py#1132\u001b\\\u001b[2m1132\u001b[0m\u001b]8;;\u001b\\\n",
       "         discretization                       \u001b[2m                   \u001b[0m\n"
      ]
     },
     "metadata": {},
     "output_type": "display_data"
    },
    {
     "data": {
      "application/vnd.jupyter.widget-view+json": {
       "model_id": "faff2a9f431242f39b11faf8524f08fb",
       "version_major": 2,
       "version_minor": 0
      },
      "text/plain": [
       "Submitting discretization tasks:   0%|          | 0/99 [00:00<?, ?it/s]"
      ]
     },
     "metadata": {},
     "output_type": "display_data"
    },
    {
     "data": {
      "application/vnd.jupyter.widget-view+json": {
       "model_id": "467136d6b7994198960223b3358b1dcd",
       "version_major": 2,
       "version_minor": 0
      },
      "text/plain": [
       "Retrieving discretized trajectories:   0%|          | 0/99 [00:00<?, ?it/s]"
      ]
     },
     "metadata": {},
     "output_type": "display_data"
    },
    {
     "data": {
      "text/html": [
       "<pre style=\"white-space:pre;overflow-x:auto;line-height:normal;font-family:Menlo,'DejaVu Sans Mono',consolas,'Courier New',monospace\"><span style=\"color: #000080; text-decoration-color: #000080\">INFO    </span> Discretization complete              <a href=\"file:///home/jd/msm_we/msm_we/_hamsm/_clustering.py\" target=\"_blank\"><span style=\"color: #7f7f7f; text-decoration-color: #7f7f7f\">_clustering.py</span></a><span style=\"color: #7f7f7f; text-decoration-color: #7f7f7f\">:</span><a href=\"file:///home/jd/msm_we/msm_we/_hamsm/_clustering.py#1204\" target=\"_blank\"><span style=\"color: #7f7f7f; text-decoration-color: #7f7f7f\">1204</span></a>\n",
       "</pre>\n"
      ],
      "text/plain": [
       "\u001b[34mINFO    \u001b[0m Discretization complete              \u001b]8;id=497144;file:///home/jd/msm_we/msm_we/_hamsm/_clustering.py\u001b\\\u001b[2m_clustering.py\u001b[0m\u001b]8;;\u001b\\\u001b[2m:\u001b[0m\u001b]8;id=483353;file:///home/jd/msm_we/msm_we/_hamsm/_clustering.py#1204\u001b\\\u001b[2m1204\u001b[0m\u001b]8;;\u001b\\\n"
      ]
     },
     "metadata": {},
     "output_type": "display_data"
    },
    {
     "data": {
      "text/html": [
       "<pre style=\"white-space:pre;overflow-x:auto;line-height:normal;font-family:Menlo,'DejaVu Sans Mono',consolas,'Courier New',monospace\"><span style=\"color: #000080; text-decoration-color: #000080\">INFO    </span> Using Ray cluster with <span style=\"color: #008080; text-decoration-color: #008080; font-weight: bold\">16.0</span> CPUs!          <a href=\"file:///home/jd/msm_we/msm_we/msm_we.py\" target=\"_blank\"><span style=\"color: #7f7f7f; text-decoration-color: #7f7f7f\">msm_we.py</span></a><span style=\"color: #7f7f7f; text-decoration-color: #7f7f7f\">:</span><a href=\"file:///home/jd/msm_we/msm_we/msm_we.py#450\" target=\"_blank\"><span style=\"color: #7f7f7f; text-decoration-color: #7f7f7f\">450</span></a>\n",
       "</pre>\n"
      ],
      "text/plain": [
       "\u001b[34mINFO    \u001b[0m Using Ray cluster with \u001b[1;36m16.0\u001b[0m CPUs!          \u001b]8;id=606798;file:///home/jd/msm_we/msm_we/msm_we.py\u001b\\\u001b[2mmsm_we.py\u001b[0m\u001b]8;;\u001b\\\u001b[2m:\u001b[0m\u001b]8;id=656499;file:///home/jd/msm_we/msm_we/msm_we.py#450\u001b\\\u001b[2m450\u001b[0m\u001b]8;;\u001b\\\n"
      ]
     },
     "metadata": {},
     "output_type": "display_data"
    },
    {
     "data": {
      "application/vnd.jupyter.widget-view+json": {
       "model_id": "d76a7f7c0be74a78a4676a6aaab946fd",
       "version_major": 2,
       "version_minor": 0
      },
      "text/plain": [
       "Submitting fluxmatrix tasks:   0%|          | 0/49 [00:00<?, ?it/s]"
      ]
     },
     "metadata": {},
     "output_type": "display_data"
    },
    {
     "data": {
      "application/vnd.jupyter.widget-view+json": {
       "model_id": "a03597d728284ab2a75c87de67c14840",
       "version_major": 2,
       "version_minor": 0
      },
      "text/plain": [
       "Retrieving flux matrices:   0%|          | 0/49 [00:00<?, ?it/s]"
      ]
     },
     "metadata": {},
     "output_type": "display_data"
    },
    {
     "data": {
      "text/html": [
       "<pre style=\"white-space:pre;overflow-x:auto;line-height:normal;font-family:Menlo,'DejaVu Sans Mono',consolas,'Courier New',monospace\"><span style=\"color: #000080; text-decoration-color: #000080\">INFO    </span> Fluxmatrices all obtained             <a href=\"file:///home/jd/msm_we/msm_we/_hamsm/_fluxmatrix.py\" target=\"_blank\"><span style=\"color: #7f7f7f; text-decoration-color: #7f7f7f\">_fluxmatrix.py</span></a><span style=\"color: #7f7f7f; text-decoration-color: #7f7f7f\">:</span><a href=\"file:///home/jd/msm_we/msm_we/_hamsm/_fluxmatrix.py#497\" target=\"_blank\"><span style=\"color: #7f7f7f; text-decoration-color: #7f7f7f\">497</span></a>\n",
       "</pre>\n"
      ],
      "text/plain": [
       "\u001b[34mINFO    \u001b[0m Fluxmatrices all obtained             \u001b]8;id=249619;file:///home/jd/msm_we/msm_we/_hamsm/_fluxmatrix.py\u001b\\\u001b[2m_fluxmatrix.py\u001b[0m\u001b]8;;\u001b\\\u001b[2m:\u001b[0m\u001b]8;id=783216;file:///home/jd/msm_we/msm_we/_hamsm/_fluxmatrix.py#497\u001b\\\u001b[2m497\u001b[0m\u001b]8;;\u001b\\\n"
      ]
     },
     "metadata": {},
     "output_type": "display_data"
    },
    {
     "data": {
      "text/html": [
       "<pre style=\"white-space:pre;overflow-x:auto;line-height:normal;font-family:Menlo,'DejaVu Sans Mono',consolas,'Courier New',monospace\"><span style=\"color: #000080; text-decoration-color: #000080\">INFO    </span>                                         <a href=\"file:///home/jd/msm_we/msm_we/_hamsm/_analysis.py\" target=\"_blank\"><span style=\"color: #7f7f7f; text-decoration-color: #7f7f7f\">_analysis.py</span></a><span style=\"color: #7f7f7f; text-decoration-color: #7f7f7f\">:</span><a href=\"file:///home/jd/msm_we/msm_we/_hamsm/_analysis.py#170\" target=\"_blank\"><span style=\"color: #7f7f7f; text-decoration-color: #7f7f7f\">170</span></a>\n",
       "         Flux converged to <span style=\"color: #008080; text-decoration-color: #008080; font-weight: bold\">2.8846e+06</span> after <span style=\"color: #008080; text-decoration-color: #008080; font-weight: bold\">1</span>    <span style=\"color: #7f7f7f; text-decoration-color: #7f7f7f\">                </span>\n",
       "         iterations of inverse iteration.        <span style=\"color: #7f7f7f; text-decoration-color: #7f7f7f\">                </span>\n",
       "</pre>\n"
      ],
      "text/plain": [
       "\u001b[34mINFO    \u001b[0m                                         \u001b]8;id=946439;file:///home/jd/msm_we/msm_we/_hamsm/_analysis.py\u001b\\\u001b[2m_analysis.py\u001b[0m\u001b]8;;\u001b\\\u001b[2m:\u001b[0m\u001b]8;id=362826;file:///home/jd/msm_we/msm_we/_hamsm/_analysis.py#170\u001b\\\u001b[2m170\u001b[0m\u001b]8;;\u001b\\\n",
       "         Flux converged to \u001b[1;36m2.8846e+06\u001b[0m after \u001b[1;36m1\u001b[0m    \u001b[2m                \u001b[0m\n",
       "         iterations of inverse iteration.        \u001b[2m                \u001b[0m\n"
      ]
     },
     "metadata": {},
     "output_type": "display_data"
    },
    {
     "data": {
      "text/html": [
       "<pre style=\"white-space:pre;overflow-x:auto;line-height:normal;font-family:Menlo,'DejaVu Sans Mono',consolas,'Courier New',monospace\"><span style=\"color: #000080; text-decoration-color: #000080\">INFO    </span> Done with steady-state estimation.      <a href=\"file:///home/jd/msm_we/msm_we/_hamsm/_analysis.py\" target=\"_blank\"><span style=\"color: #7f7f7f; text-decoration-color: #7f7f7f\">_analysis.py</span></a><span style=\"color: #7f7f7f; text-decoration-color: #7f7f7f\">:</span><a href=\"file:///home/jd/msm_we/msm_we/_hamsm/_analysis.py#181\" target=\"_blank\"><span style=\"color: #7f7f7f; text-decoration-color: #7f7f7f\">181</span></a>\n",
       "</pre>\n"
      ],
      "text/plain": [
       "\u001b[34mINFO    \u001b[0m Done with steady-state estimation.      \u001b]8;id=870649;file:///home/jd/msm_we/msm_we/_hamsm/_analysis.py\u001b\\\u001b[2m_analysis.py\u001b[0m\u001b]8;;\u001b\\\u001b[2m:\u001b[0m\u001b]8;id=806072;file:///home/jd/msm_we/msm_we/_hamsm/_analysis.py#181\u001b\\\u001b[2m181\u001b[0m\u001b]8;;\u001b\\\n"
      ]
     },
     "metadata": {},
     "output_type": "display_data"
    },
    {
     "data": {
      "text/html": [
       "<pre style=\"white-space:pre;overflow-x:auto;line-height:normal;font-family:Menlo,'DejaVu Sans Mono',consolas,'Courier New',monospace\"></pre>\n"
      ],
      "text/plain": []
     },
     "metadata": {},
     "output_type": "display_data"
    }
   ],
   "source": [
    "model = modelWE()\n",
    "\n",
    "model.build_analyze_model(\n",
    "    file_paths=h5file_paths,\n",
    "    # ref_struct=basis_ref_dict,\n",
    "    ref_struct=ref_file,\n",
    "    modelName=model_name,\n",
    "    basis_pcoord_bounds=pcoord_bounds['basis'],\n",
    "    target_pcoord_bounds=pcoord_bounds['target'],\n",
    "    dimreduce_method=dimreduce_method,\n",
    "    n_clusters=clusters_per_stratum,\n",
    "    tau=tau\n",
    ")"
   ]
  },
  {
   "cell_type": "markdown",
   "id": "e2ae3838-76da-457e-94a6-eed89cfd6f9d",
   "metadata": {
    "tags": []
   },
   "source": [
    "## Model-building step by step\n",
    "\n",
    "[build_analyze_model()](../api.rst#msm_we.modelWE.build_analyze_model) is just a convenient wrapper around the following steps.\n",
    "\n",
    "You can run them manually if you want to observe each step of the process.\n",
    "\n",
    "It's helpful to start off by running step-by-step while you're starting analysis for a system, to fine-tune parameters without re-running the entire workflow."
   ]
  },
  {
   "cell_type": "markdown",
   "id": "18c9c873-e1c6-4b72-ae6c-8e6bb92d2932",
   "metadata": {},
   "source": [
    "First, we launch Ray, which is the backend for the parallel work manager."
   ]
  },
  {
   "cell_type": "code",
   "execution_count": 7,
   "id": "ba4274a4-8802-4908-9a45-f534ef0ba6a4",
   "metadata": {},
   "outputs": [
    {
     "data": {
      "text/html": [
       "<pre style=\"white-space:pre;overflow-x:auto;line-height:normal;font-family:Menlo,'DejaVu Sans Mono',consolas,'Courier New',monospace\">2022-10-10 10:42:47,151 INFO worker.py:1351 -- Calling ray.init()\n",
       "again after it has already been called.\n",
       "</pre>\n"
      ],
      "text/plain": [
       "2022-10-10 10:42:47,151 INFO worker.py:1351 -- Calling ray.init()\n",
       "again after it has already been called.\n"
      ]
     },
     "metadata": {},
     "output_type": "display_data"
    },
    {
     "data": {
      "text/html": [
       "<div>\n",
       "    <div style=\"margin-left: 50px;display: flex;flex-direction: row;align-items: center\">\n",
       "        <h3 style=\"color: var(--jp-ui-font-color0)\">Ray</h3>\n",
       "        <svg version=\"1.1\" id=\"ray\" width=\"3em\" viewBox=\"0 0 144.5 144.6\" style=\"margin-left: 3em;margin-right: 3em\">\n",
       "            <g id=\"layer-1\">\n",
       "                <path fill=\"#00a2e9\" class=\"st0\" d=\"M97.3,77.2c-3.8-1.1-6.2,0.9-8.3,5.1c-3.5,6.8-9.9,9.9-17.4,9.6S58,88.1,54.8,81.2c-1.4-3-3-4-6.3-4.1\n",
       "                    c-5.6-0.1-9.9,0.1-13.1,6.4c-3.8,7.6-13.6,10.2-21.8,7.6C5.2,88.4-0.4,80.5,0,71.7c0.1-8.4,5.7-15.8,13.8-18.2\n",
       "                    c8.4-2.6,17.5,0.7,22.3,8c1.3,1.9,1.3,5.2,3.6,5.6c3.9,0.6,8,0.2,12,0.2c1.8,0,1.9-1.6,2.4-2.8c3.5-7.8,9.7-11.8,18-11.9\n",
       "                    c8.2-0.1,14.4,3.9,17.8,11.4c1.3,2.8,2.9,3.6,5.7,3.3c1-0.1,2,0.1,3,0c2.8-0.5,6.4,1.7,8.1-2.7s-2.3-5.5-4.1-7.5\n",
       "                    c-5.1-5.7-10.9-10.8-16.1-16.3C84,38,81.9,37.1,78,38.3C66.7,42,56.2,35.7,53,24.1C50.3,14,57.3,2.8,67.7,0.5\n",
       "                    C78.4-2,89,4.7,91.5,15.3c0.1,0.3,0.1,0.5,0.2,0.8c0.7,3.4,0.7,6.9-0.8,9.8c-1.7,3.2-0.8,5,1.5,7.2c6.7,6.5,13.3,13,19.8,19.7\n",
       "                    c1.8,1.8,3,2.1,5.5,1.2c9.1-3.4,17.9-0.6,23.4,7c4.8,6.9,4.6,16.1-0.4,22.9c-5.4,7.2-14.2,9.9-23.1,6.5c-2.3-0.9-3.5-0.6-5.1,1.1\n",
       "                    c-6.7,6.9-13.6,13.7-20.5,20.4c-1.8,1.8-2.5,3.2-1.4,5.9c3.5,8.7,0.3,18.6-7.7,23.6c-7.9,5-18.2,3.8-24.8-2.9\n",
       "                    c-6.4-6.4-7.4-16.2-2.5-24.3c4.9-7.8,14.5-11,23.1-7.8c3,1.1,4.7,0.5,6.9-1.7C91.7,98.4,98,92.3,104.2,86c1.6-1.6,4.1-2.7,2.6-6.2\n",
       "                    c-1.4-3.3-3.8-2.5-6.2-2.6C99.8,77.2,98.9,77.2,97.3,77.2z M72.1,29.7c5.5,0.1,9.9-4.3,10-9.8c0-0.1,0-0.2,0-0.3\n",
       "                    C81.8,14,77,9.8,71.5,10.2c-5,0.3-9,4.2-9.3,9.2c-0.2,5.5,4,10.1,9.5,10.3C71.8,29.7,72,29.7,72.1,29.7z M72.3,62.3\n",
       "                    c-5.4-0.1-9.9,4.2-10.1,9.7c0,0.2,0,0.3,0,0.5c0.2,5.4,4.5,9.7,9.9,10c5.1,0.1,9.9-4.7,10.1-9.8c0.2-5.5-4-10-9.5-10.3\n",
       "                    C72.6,62.3,72.4,62.3,72.3,62.3z M115,72.5c0.1,5.4,4.5,9.7,9.8,9.9c5.6-0.2,10-4.8,10-10.4c-0.2-5.4-4.6-9.7-10-9.7\n",
       "                    c-5.3-0.1-9.8,4.2-9.9,9.5C115,72.1,115,72.3,115,72.5z M19.5,62.3c-5.4,0.1-9.8,4.4-10,9.8c-0.1,5.1,5.2,10.4,10.2,10.3\n",
       "                    c5.6-0.2,10-4.9,9.8-10.5c-0.1-5.4-4.5-9.7-9.9-9.6C19.6,62.3,19.5,62.3,19.5,62.3z M71.8,134.6c5.9,0.2,10.3-3.9,10.4-9.6\n",
       "                    c0.5-5.5-3.6-10.4-9.1-10.8c-5.5-0.5-10.4,3.6-10.8,9.1c0,0.5,0,0.9,0,1.4c-0.2,5.3,4,9.8,9.3,10\n",
       "                    C71.6,134.6,71.7,134.6,71.8,134.6z\"/>\n",
       "            </g>\n",
       "        </svg>\n",
       "        <table>\n",
       "            <tr>\n",
       "                <td style=\"text-align: left\"><b>Python version:</b></td>\n",
       "                <td style=\"text-align: left\"><b>3.9.13</b></td>\n",
       "            </tr>\n",
       "            <tr>\n",
       "                <td style=\"text-align: left\"><b>Ray version:</b></td>\n",
       "                <td style=\"text-align: left\"><b> 2.0.0</b></td>\n",
       "            </tr>\n",
       "            <tr>\n",
       "    <td style=\"text-align: left\"><b>Dashboard:</b></td>\n",
       "    <td style=\"text-align: left\"><b><a href=\"http://127.0.0.1:8265\" target=\"_blank\">http://127.0.0.1:8265</a></b></td>\n",
       "</tr>\n",
       "\n",
       "        </table>\n",
       "    </div>\n",
       "</div>\n"
      ],
      "text/plain": [
       "RayContext(dashboard_url='127.0.0.1:8265', python_version='3.9.13', ray_version='2.0.0', ray_commit='cba26cc83f6b5b8a2ff166594a65cb74c0ec8740', address_info={'node_ip_address': '192.168.1.222', 'raylet_ip_address': '192.168.1.222', 'redis_address': None, 'object_store_address': '/tmp/ray/session_2022-10-10_10-41-55_459946_185482/sockets/plasma_store', 'raylet_socket_name': '/tmp/ray/session_2022-10-10_10-41-55_459946_185482/sockets/raylet', 'webui_url': '127.0.0.1:8265', 'session_dir': '/tmp/ray/session_2022-10-10_10-41-55_459946_185482', 'metrics_export_port': 64500, 'gcs_address': '192.168.1.222:60700', 'address': '192.168.1.222:60700', 'dashboard_agent_listen_port': 52365, 'node_id': '7d74415626e9f5af7e716932b301ec5f1172d6bbba6d68420f0feef3'})"
      ]
     },
     "execution_count": 7,
     "metadata": {},
     "output_type": "execute_result"
    }
   ],
   "source": [
    "ray.init(ignore_reinit_error=True)"
   ]
  },
  {
   "cell_type": "code",
   "execution_count": 8,
   "id": "80f04290-689f-4d4a-9a41-976bf7685d07",
   "metadata": {},
   "outputs": [],
   "source": [
    "model = modelWE()"
   ]
  },
  {
   "cell_type": "code",
   "execution_count": 9,
   "id": "715b28cf-d35e-4c37-b7fd-a796030167fd",
   "metadata": {},
   "outputs": [],
   "source": [
    "model.initialize(\n",
    "    fileSpecifier=['../tests/reference/1000ns_ntl9/west.h5'],\n",
    "    refPDBfile=ref_file,\n",
    "    modelName=model_name,\n",
    "    basis_pcoord_bounds=pcoord_bounds['basis'],\n",
    "    target_pcoord_bounds=pcoord_bounds['target'],\n",
    "    dim_reduce_method=dimreduce_method,\n",
    "    tau=tau\n",
    ")"
   ]
  },
  {
   "cell_type": "code",
   "execution_count": 10,
   "id": "b928f80e-951a-4fcc-a02c-9945a3bdcbcf",
   "metadata": {
    "nbsphinx": "hidden",
    "tags": []
   },
   "outputs": [],
   "source": [
    "if generate_test_files:\n",
    "    with open('../tests/reference/1000ns_ntl9/models/initialized.obj', 'wb') as outfile:\n",
    "        pickle.dump(model, outfile)"
   ]
  },
  {
   "cell_type": "code",
   "execution_count": 11,
   "id": "acba2bbf-3119-4258-8436-fd220c460680",
   "metadata": {},
   "outputs": [
    {
     "data": {
      "application/vnd.jupyter.widget-view+json": {
       "model_id": "a39a9476de08470d8a130bc0ae053c16",
       "version_major": 2,
       "version_minor": 0
      },
      "text/plain": [
       "Getting coordSet:   0%|          | 0/100 [00:00<?, ?it/s]"
      ]
     },
     "metadata": {},
     "output_type": "display_data"
    }
   ],
   "source": [
    "model.get_iterations()\n",
    "model.get_coordSet(last_iter = model.maxIter, streaming=True)"
   ]
  },
  {
   "cell_type": "code",
   "execution_count": 12,
   "id": "5532344a-3ff4-4cf7-9638-27d8838022e2",
   "metadata": {
    "nbsphinx": "hidden",
    "tags": []
   },
   "outputs": [],
   "source": [
    "if generate_test_files:\n",
    "    with open('../tests/reference/1000ns_ntl9/models/loaded.obj', 'wb') as outfile:\n",
    "        pickle.dump(model, outfile)"
   ]
  },
  {
   "cell_type": "code",
   "execution_count": 13,
   "id": "2ec23486-d51d-4554-a3c5-eaf9108914fa",
   "metadata": {},
   "outputs": [
    {
     "data": {
      "application/vnd.jupyter.widget-view+json": {
       "model_id": "e40c84edc89d4796b585419e955e52a8",
       "version_major": 2,
       "version_minor": 0
      },
      "text/plain": [
       "Initial iPCA:   0%|          | 0/50 [00:00<?, ?it/s]"
      ]
     },
     "metadata": {},
     "output_type": "display_data"
    },
    {
     "name": "stderr",
     "output_type": "stream",
     "text": [
      "Warning: importing 'simtk.openmm' is deprecated.  Import 'openmm' instead.\n",
      "Warning: importing 'simtk.openmm' is deprecated.  Import 'openmm' instead.\n",
      "Warning: importing 'simtk.openmm' is deprecated.  Import 'openmm' instead.\n",
      "Warning: importing 'simtk.openmm' is deprecated.  Import 'openmm' instead.\n",
      "Warning: importing 'simtk.openmm' is deprecated.  Import 'openmm' instead.\n",
      "Warning: importing 'simtk.openmm' is deprecated.  Import 'openmm' instead.\n",
      "Warning: importing 'simtk.openmm' is deprecated.  Import 'openmm' instead.\n",
      "Warning: importing 'simtk.openmm' is deprecated.  Import 'openmm' instead.\n",
      "Warning: importing 'simtk.openmm' is deprecated.  Import 'openmm' instead.\n",
      "Warning: importing 'simtk.openmm' is deprecated.  Import 'openmm' instead.\n",
      "Warning: importing 'simtk.openmm' is deprecated.  Import 'openmm' instead.\n",
      "Warning: importing 'simtk.openmm' is deprecated.  Import 'openmm' instead.\n",
      "Warning: importing 'simtk.openmm' is deprecated.  Import 'openmm' instead.\n",
      "Warning: importing 'simtk.openmm' is deprecated.  Import 'openmm' instead.\n",
      "Warning: importing 'simtk.openmm' is deprecated.  Import 'openmm' instead.\n",
      "Warning: importing 'simtk.openmm' is deprecated.  Import 'openmm' instead.\n",
      "Warning: importing 'simtk.openmm' is deprecated.  Import 'openmm' instead.\n",
      "Warning: importing 'simtk.openmm' is deprecated.  Import 'openmm' instead.\n",
      "Warning: importing 'simtk.openmm' is deprecated.  Import 'openmm' instead.\n",
      "Warning: importing 'simtk.openmm' is deprecated.  Import 'openmm' instead.\n",
      "Warning: importing 'simtk.openmm' is deprecated.  Import 'openmm' instead.\n",
      "Warning: importing 'simtk.openmm' is deprecated.  Import 'openmm' instead.\n",
      "Warning: importing 'simtk.openmm' is deprecated.  Import 'openmm' instead.\n",
      "Warning: importing 'simtk.openmm' is deprecated.  Import 'openmm' instead.\n",
      "Warning: importing 'simtk.openmm' is deprecated.  Import 'openmm' instead.\n",
      "Warning: importing 'simtk.openmm' is deprecated.  Import 'openmm' instead.\n",
      "Warning: importing 'simtk.openmm' is deprecated.  Import 'openmm' instead.\n",
      "Warning: importing 'simtk.openmm' is deprecated.  Import 'openmm' instead.\n",
      "Warning: importing 'simtk.openmm' is deprecated.  Import 'openmm' instead.\n",
      "Warning: importing 'simtk.openmm' is deprecated.  Import 'openmm' instead.\n",
      "Warning: importing 'simtk.openmm' is deprecated.  Import 'openmm' instead.\n",
      "Warning: importing 'simtk.openmm' is deprecated.  Import 'openmm' instead.\n",
      "Warning: importing 'simtk.openmm' is deprecated.  Import 'openmm' instead.\n",
      "Warning: importing 'simtk.openmm' is deprecated.  Import 'openmm' instead.\n",
      "Warning: importing 'simtk.openmm' is deprecated.  Import 'openmm' instead.\n",
      "Warning: importing 'simtk.openmm' is deprecated.  Import 'openmm' instead.\n",
      "Warning: importing 'simtk.openmm' is deprecated.  Import 'openmm' instead.\n",
      "Warning: importing 'simtk.openmm' is deprecated.  Import 'openmm' instead.\n",
      "Warning: importing 'simtk.openmm' is deprecated.  Import 'openmm' instead.\n",
      "Warning: importing 'simtk.openmm' is deprecated.  Import 'openmm' instead.\n",
      "Warning: importing 'simtk.openmm' is deprecated.  Import 'openmm' instead.\n",
      "Warning: importing 'simtk.openmm' is deprecated.  Import 'openmm' instead.\n",
      "Warning: importing 'simtk.openmm' is deprecated.  Import 'openmm' instead.\n",
      "Warning: importing 'simtk.openmm' is deprecated.  Import 'openmm' instead.\n",
      "Warning: importing 'simtk.openmm' is deprecated.  Import 'openmm' instead.\n",
      "Warning: importing 'simtk.openmm' is deprecated.  Import 'openmm' instead.\n",
      "Warning: importing 'simtk.openmm' is deprecated.  Import 'openmm' instead.\n",
      "Warning: importing 'simtk.openmm' is deprecated.  Import 'openmm' instead.\n",
      "Warning: importing 'simtk.openmm' is deprecated.  Import 'openmm' instead.\n",
      "Warning: importing 'simtk.openmm' is deprecated.  Import 'openmm' instead.\n"
     ]
    },
    {
     "data": {
      "application/vnd.jupyter.widget-view+json": {
       "model_id": "409e8ce837774a55bc1c05767bf260c7",
       "version_major": 2,
       "version_minor": 0
      },
      "text/plain": [
       "iPCA:   0%|          | 0/99 [00:00<?, ?it/s]"
      ]
     },
     "metadata": {},
     "output_type": "display_data"
    },
    {
     "name": "stderr",
     "output_type": "stream",
     "text": [
      "Warning: importing 'simtk.openmm' is deprecated.  Import 'openmm' instead.\n",
      "Warning: importing 'simtk.openmm' is deprecated.  Import 'openmm' instead.\n",
      "Warning: importing 'simtk.openmm' is deprecated.  Import 'openmm' instead.\n",
      "Warning: importing 'simtk.openmm' is deprecated.  Import 'openmm' instead.\n",
      "Warning: importing 'simtk.openmm' is deprecated.  Import 'openmm' instead.\n",
      "Warning: importing 'simtk.openmm' is deprecated.  Import 'openmm' instead.\n",
      "Warning: importing 'simtk.openmm' is deprecated.  Import 'openmm' instead.\n",
      "Warning: importing 'simtk.openmm' is deprecated.  Import 'openmm' instead.\n",
      "Warning: importing 'simtk.openmm' is deprecated.  Import 'openmm' instead.\n",
      "Warning: importing 'simtk.openmm' is deprecated.  Import 'openmm' instead.\n",
      "Warning: importing 'simtk.openmm' is deprecated.  Import 'openmm' instead.\n",
      "Warning: importing 'simtk.openmm' is deprecated.  Import 'openmm' instead.\n",
      "Warning: importing 'simtk.openmm' is deprecated.  Import 'openmm' instead.\n",
      "Warning: importing 'simtk.openmm' is deprecated.  Import 'openmm' instead.\n",
      "Warning: importing 'simtk.openmm' is deprecated.  Import 'openmm' instead.\n",
      "Warning: importing 'simtk.openmm' is deprecated.  Import 'openmm' instead.\n",
      "Warning: importing 'simtk.openmm' is deprecated.  Import 'openmm' instead.\n",
      "Warning: importing 'simtk.openmm' is deprecated.  Import 'openmm' instead.\n",
      "Warning: importing 'simtk.openmm' is deprecated.  Import 'openmm' instead.\n",
      "Warning: importing 'simtk.openmm' is deprecated.  Import 'openmm' instead.\n",
      "Warning: importing 'simtk.openmm' is deprecated.  Import 'openmm' instead.\n",
      "Warning: importing 'simtk.openmm' is deprecated.  Import 'openmm' instead.\n",
      "Warning: importing 'simtk.openmm' is deprecated.  Import 'openmm' instead.\n",
      "Warning: importing 'simtk.openmm' is deprecated.  Import 'openmm' instead.\n",
      "Warning: importing 'simtk.openmm' is deprecated.  Import 'openmm' instead.\n",
      "Warning: importing 'simtk.openmm' is deprecated.  Import 'openmm' instead.\n",
      "Warning: importing 'simtk.openmm' is deprecated.  Import 'openmm' instead.\n",
      "Warning: importing 'simtk.openmm' is deprecated.  Import 'openmm' instead.\n",
      "Warning: importing 'simtk.openmm' is deprecated.  Import 'openmm' instead.\n",
      "Warning: importing 'simtk.openmm' is deprecated.  Import 'openmm' instead.\n",
      "Warning: importing 'simtk.openmm' is deprecated.  Import 'openmm' instead.\n",
      "Warning: importing 'simtk.openmm' is deprecated.  Import 'openmm' instead.\n",
      "Warning: importing 'simtk.openmm' is deprecated.  Import 'openmm' instead.\n",
      "Warning: importing 'simtk.openmm' is deprecated.  Import 'openmm' instead.\n",
      "Warning: importing 'simtk.openmm' is deprecated.  Import 'openmm' instead.\n",
      "Warning: importing 'simtk.openmm' is deprecated.  Import 'openmm' instead.\n",
      "Warning: importing 'simtk.openmm' is deprecated.  Import 'openmm' instead.\n",
      "Warning: importing 'simtk.openmm' is deprecated.  Import 'openmm' instead.\n",
      "Warning: importing 'simtk.openmm' is deprecated.  Import 'openmm' instead.\n",
      "Warning: importing 'simtk.openmm' is deprecated.  Import 'openmm' instead.\n",
      "Warning: importing 'simtk.openmm' is deprecated.  Import 'openmm' instead.\n",
      "Warning: importing 'simtk.openmm' is deprecated.  Import 'openmm' instead.\n",
      "Warning: importing 'simtk.openmm' is deprecated.  Import 'openmm' instead.\n",
      "Warning: importing 'simtk.openmm' is deprecated.  Import 'openmm' instead.\n",
      "Warning: importing 'simtk.openmm' is deprecated.  Import 'openmm' instead.\n",
      "Warning: importing 'simtk.openmm' is deprecated.  Import 'openmm' instead.\n",
      "Warning: importing 'simtk.openmm' is deprecated.  Import 'openmm' instead.\n",
      "Warning: importing 'simtk.openmm' is deprecated.  Import 'openmm' instead.\n",
      "Warning: importing 'simtk.openmm' is deprecated.  Import 'openmm' instead.\n",
      "Warning: importing 'simtk.openmm' is deprecated.  Import 'openmm' instead.\n",
      "Warning: importing 'simtk.openmm' is deprecated.  Import 'openmm' instead.\n",
      "Warning: importing 'simtk.openmm' is deprecated.  Import 'openmm' instead.\n",
      "Warning: importing 'simtk.openmm' is deprecated.  Import 'openmm' instead.\n",
      "Warning: importing 'simtk.openmm' is deprecated.  Import 'openmm' instead.\n",
      "Warning: importing 'simtk.openmm' is deprecated.  Import 'openmm' instead.\n",
      "Warning: importing 'simtk.openmm' is deprecated.  Import 'openmm' instead.\n",
      "Warning: importing 'simtk.openmm' is deprecated.  Import 'openmm' instead.\n",
      "Warning: importing 'simtk.openmm' is deprecated.  Import 'openmm' instead.\n",
      "Warning: importing 'simtk.openmm' is deprecated.  Import 'openmm' instead.\n",
      "Warning: importing 'simtk.openmm' is deprecated.  Import 'openmm' instead.\n",
      "Warning: importing 'simtk.openmm' is deprecated.  Import 'openmm' instead.\n",
      "Warning: importing 'simtk.openmm' is deprecated.  Import 'openmm' instead.\n",
      "Warning: importing 'simtk.openmm' is deprecated.  Import 'openmm' instead.\n",
      "Warning: importing 'simtk.openmm' is deprecated.  Import 'openmm' instead.\n",
      "Warning: importing 'simtk.openmm' is deprecated.  Import 'openmm' instead.\n",
      "Warning: importing 'simtk.openmm' is deprecated.  Import 'openmm' instead.\n",
      "Warning: importing 'simtk.openmm' is deprecated.  Import 'openmm' instead.\n",
      "Warning: importing 'simtk.openmm' is deprecated.  Import 'openmm' instead.\n",
      "Warning: importing 'simtk.openmm' is deprecated.  Import 'openmm' instead.\n",
      "Warning: importing 'simtk.openmm' is deprecated.  Import 'openmm' instead.\n",
      "Warning: importing 'simtk.openmm' is deprecated.  Import 'openmm' instead.\n",
      "Warning: importing 'simtk.openmm' is deprecated.  Import 'openmm' instead.\n",
      "Warning: importing 'simtk.openmm' is deprecated.  Import 'openmm' instead.\n",
      "Warning: importing 'simtk.openmm' is deprecated.  Import 'openmm' instead.\n",
      "Warning: importing 'simtk.openmm' is deprecated.  Import 'openmm' instead.\n",
      "Warning: importing 'simtk.openmm' is deprecated.  Import 'openmm' instead.\n",
      "Warning: importing 'simtk.openmm' is deprecated.  Import 'openmm' instead.\n",
      "Warning: importing 'simtk.openmm' is deprecated.  Import 'openmm' instead.\n",
      "Warning: importing 'simtk.openmm' is deprecated.  Import 'openmm' instead.\n",
      "Warning: importing 'simtk.openmm' is deprecated.  Import 'openmm' instead.\n",
      "Warning: importing 'simtk.openmm' is deprecated.  Import 'openmm' instead.\n",
      "Warning: importing 'simtk.openmm' is deprecated.  Import 'openmm' instead.\n",
      "Warning: importing 'simtk.openmm' is deprecated.  Import 'openmm' instead.\n",
      "Warning: importing 'simtk.openmm' is deprecated.  Import 'openmm' instead.\n",
      "Warning: importing 'simtk.openmm' is deprecated.  Import 'openmm' instead.\n",
      "Warning: importing 'simtk.openmm' is deprecated.  Import 'openmm' instead.\n",
      "Warning: importing 'simtk.openmm' is deprecated.  Import 'openmm' instead.\n",
      "Warning: importing 'simtk.openmm' is deprecated.  Import 'openmm' instead.\n",
      "Warning: importing 'simtk.openmm' is deprecated.  Import 'openmm' instead.\n",
      "Warning: importing 'simtk.openmm' is deprecated.  Import 'openmm' instead.\n",
      "Warning: importing 'simtk.openmm' is deprecated.  Import 'openmm' instead.\n",
      "Warning: importing 'simtk.openmm' is deprecated.  Import 'openmm' instead.\n",
      "Warning: importing 'simtk.openmm' is deprecated.  Import 'openmm' instead.\n",
      "Warning: importing 'simtk.openmm' is deprecated.  Import 'openmm' instead.\n",
      "Warning: importing 'simtk.openmm' is deprecated.  Import 'openmm' instead.\n",
      "Warning: importing 'simtk.openmm' is deprecated.  Import 'openmm' instead.\n",
      "Warning: importing 'simtk.openmm' is deprecated.  Import 'openmm' instead.\n",
      "Warning: importing 'simtk.openmm' is deprecated.  Import 'openmm' instead.\n"
     ]
    }
   ],
   "source": [
    "model.dimReduce()"
   ]
  },
  {
   "cell_type": "markdown",
   "id": "250c75d0-d382-4723-bddc-1822a04e7883",
   "metadata": {},
   "source": [
    "`store_validation_model=True` is necessary for block validation. It enables caching the model immediately after discretization in `model.post_cluster_model`, so that the blocks can be efficiently created later."
   ]
  },
  {
   "cell_type": "code",
   "execution_count": 14,
   "id": "542161b0-6187-441b-b458-43adacf448b6",
   "metadata": {},
   "outputs": [
    {
     "data": {
      "text/html": [
       "<pre style=\"white-space:pre;overflow-x:auto;line-height:normal;font-family:Menlo,'DejaVu Sans Mono',consolas,'Courier New',monospace\"><span style=\"color: #000080; text-decoration-color: #000080\">INFO    </span> Be aware: Number of cluster centers   <a href=\"file:///home/jd/msm_we/msm_we/_hamsm/_clustering.py\" target=\"_blank\"><span style=\"color: #7f7f7f; text-decoration-color: #7f7f7f\">_clustering.py</span></a><span style=\"color: #7f7f7f; text-decoration-color: #7f7f7f\">:</span><a href=\"file:///home/jd/msm_we/msm_we/_hamsm/_clustering.py#141\" target=\"_blank\"><span style=\"color: #7f7f7f; text-decoration-color: #7f7f7f\">141</span></a>\n",
       "         is an important parameter, and can    <span style=\"color: #7f7f7f; text-decoration-color: #7f7f7f\">                  </span>\n",
       "         drastically affect model quality. We  <span style=\"color: #7f7f7f; text-decoration-color: #7f7f7f\">                  </span>\n",
       "         recommend examining block-validation  <span style=\"color: #7f7f7f; text-decoration-color: #7f7f7f\">                  </span>\n",
       "         results with a range of numbers of    <span style=\"color: #7f7f7f; text-decoration-color: #7f7f7f\">                  </span>\n",
       "         clusters, to check for overfitting.   <span style=\"color: #7f7f7f; text-decoration-color: #7f7f7f\">                  </span>\n",
       "</pre>\n"
      ],
      "text/plain": [
       "\u001b[34mINFO    \u001b[0m Be aware: Number of cluster centers   \u001b]8;id=615963;file:///home/jd/msm_we/msm_we/_hamsm/_clustering.py\u001b\\\u001b[2m_clustering.py\u001b[0m\u001b]8;;\u001b\\\u001b[2m:\u001b[0m\u001b]8;id=707001;file:///home/jd/msm_we/msm_we/_hamsm/_clustering.py#141\u001b\\\u001b[2m141\u001b[0m\u001b]8;;\u001b\\\n",
       "         is an important parameter, and can    \u001b[2m                  \u001b[0m\n",
       "         drastically affect model quality. We  \u001b[2m                  \u001b[0m\n",
       "         recommend examining block-validation  \u001b[2m                  \u001b[0m\n",
       "         results with a range of numbers of    \u001b[2m                  \u001b[0m\n",
       "         clusters, to check for overfitting.   \u001b[2m                  \u001b[0m\n"
      ]
     },
     "metadata": {},
     "output_type": "display_data"
    },
    {
     "data": {
      "text/html": [
       "<pre style=\"white-space:pre;overflow-x:auto;line-height:normal;font-family:Menlo,'DejaVu Sans Mono',consolas,'Courier New',monospace\"><span style=\"color: #000080; text-decoration-color: #000080\">INFO    </span> Beginning stratified clustering.      <a href=\"file:///home/jd/msm_we/msm_we/_hamsm/_clustering.py\" target=\"_blank\"><span style=\"color: #7f7f7f; text-decoration-color: #7f7f7f\">_clustering.py</span></a><span style=\"color: #7f7f7f; text-decoration-color: #7f7f7f\">:</span><a href=\"file:///home/jd/msm_we/msm_we/_hamsm/_clustering.py#148\" target=\"_blank\"><span style=\"color: #7f7f7f; text-decoration-color: #7f7f7f\">148</span></a>\n",
       "</pre>\n"
      ],
      "text/plain": [
       "\u001b[34mINFO    \u001b[0m Beginning stratified clustering.      \u001b]8;id=221524;file:///home/jd/msm_we/msm_we/_hamsm/_clustering.py\u001b\\\u001b[2m_clustering.py\u001b[0m\u001b]8;;\u001b\\\u001b[2m:\u001b[0m\u001b]8;id=144896;file:///home/jd/msm_we/msm_we/_hamsm/_clustering.py#148\u001b\\\u001b[2m148\u001b[0m\u001b]8;;\u001b\\\n"
      ]
     },
     "metadata": {},
     "output_type": "display_data"
    },
    {
     "data": {
      "text/html": [
       "<pre style=\"white-space:pre;overflow-x:auto;line-height:normal;font-family:Menlo,'DejaVu Sans Mono',consolas,'Courier New',monospace\"><span style=\"color: #000080; text-decoration-color: #000080\">INFO    </span> Obtaining bin definitions from        <a href=\"file:///home/jd/msm_we/msm_we/_hamsm/_clustering.py\" target=\"_blank\"><span style=\"color: #7f7f7f; text-decoration-color: #7f7f7f\">_clustering.py</span></a><span style=\"color: #7f7f7f; text-decoration-color: #7f7f7f\">:</span><a href=\"file:///home/jd/msm_we/msm_we/_hamsm/_clustering.py#568\" target=\"_blank\"><span style=\"color: #7f7f7f; text-decoration-color: #7f7f7f\">568</span></a>\n",
       "         iteration <span style=\"color: #008080; text-decoration-color: #008080; font-weight: bold\">2</span> in file                   <span style=\"color: #7f7f7f; text-decoration-color: #7f7f7f\">                  </span>\n",
       "         ..<span style=\"color: #800080; text-decoration-color: #800080\">/tests/reference/1000ns_ntl9/</span><span style=\"color: #ff00ff; text-decoration-color: #ff00ff\">west.h</span> <span style=\"color: #7f7f7f; text-decoration-color: #7f7f7f\">                  </span>\n",
       "         <span style=\"color: #ff00ff; text-decoration-color: #ff00ff\">5</span>                                     <span style=\"color: #7f7f7f; text-decoration-color: #7f7f7f\">                  </span>\n",
       "</pre>\n"
      ],
      "text/plain": [
       "\u001b[34mINFO    \u001b[0m Obtaining bin definitions from        \u001b]8;id=357201;file:///home/jd/msm_we/msm_we/_hamsm/_clustering.py\u001b\\\u001b[2m_clustering.py\u001b[0m\u001b]8;;\u001b\\\u001b[2m:\u001b[0m\u001b]8;id=898692;file:///home/jd/msm_we/msm_we/_hamsm/_clustering.py#568\u001b\\\u001b[2m568\u001b[0m\u001b]8;;\u001b\\\n",
       "         iteration \u001b[1;36m2\u001b[0m in file                   \u001b[2m                  \u001b[0m\n",
       "         ..\u001b[35m/tests/reference/1000ns_ntl9/\u001b[0m\u001b[95mwest.h\u001b[0m \u001b[2m                  \u001b[0m\n",
       "         \u001b[95m5\u001b[0m                                     \u001b[2m                  \u001b[0m\n"
      ]
     },
     "metadata": {},
     "output_type": "display_data"
    },
    {
     "data": {
      "text/html": [
       "<pre style=\"white-space:pre;overflow-x:auto;line-height:normal;font-family:Menlo,'DejaVu Sans Mono',consolas,'Courier New',monospace\"><span style=\"color: #000080; text-decoration-color: #000080\">INFO    </span> Loading pickled bin mapper from H5    <a href=\"file:///home/jd/msm_we/msm_we/_hamsm/_clustering.py\" target=\"_blank\"><span style=\"color: #7f7f7f; text-decoration-color: #7f7f7f\">_clustering.py</span></a><span style=\"color: #7f7f7f; text-decoration-color: #7f7f7f\">:</span><a href=\"file:///home/jd/msm_we/msm_we/_hamsm/_clustering.py#572\" target=\"_blank\"><span style=\"color: #7f7f7f; text-decoration-color: #7f7f7f\">572</span></a>\n",
       "         for stratified clustering<span style=\"color: #808000; text-decoration-color: #808000\">...</span>          <span style=\"color: #7f7f7f; text-decoration-color: #7f7f7f\">                  </span>\n",
       "</pre>\n"
      ],
      "text/plain": [
       "\u001b[34mINFO    \u001b[0m Loading pickled bin mapper from H5    \u001b]8;id=236491;file:///home/jd/msm_we/msm_we/_hamsm/_clustering.py\u001b\\\u001b[2m_clustering.py\u001b[0m\u001b]8;;\u001b\\\u001b[2m:\u001b[0m\u001b]8;id=209402;file:///home/jd/msm_we/msm_we/_hamsm/_clustering.py#572\u001b\\\u001b[2m572\u001b[0m\u001b]8;;\u001b\\\n",
       "         for stratified clustering\u001b[33m...\u001b[0m          \u001b[2m                  \u001b[0m\n"
      ]
     },
     "metadata": {},
     "output_type": "display_data"
    },
    {
     "data": {
      "text/html": [
       "<pre style=\"white-space:pre;overflow-x:auto;line-height:normal;font-family:Menlo,'DejaVu Sans Mono',consolas,'Courier New',monospace\"><span style=\"color: #800000; text-decoration-color: #800000; font-weight: bold\">ERROR   </span> Stratified clustering currently MUST  <a href=\"file:///home/jd/msm_we/msm_we/_hamsm/_clustering.py\" target=\"_blank\"><span style=\"color: #7f7f7f; text-decoration-color: #7f7f7f\">_clustering.py</span></a><span style=\"color: #7f7f7f; text-decoration-color: #7f7f7f\">:</span><a href=\"file:///home/jd/msm_we/msm_we/_hamsm/_clustering.py#608\" target=\"_blank\"><span style=\"color: #7f7f7f; text-decoration-color: #7f7f7f\">608</span></a>\n",
       "         run in streaming mode <span style=\"font-weight: bold\">(</span>and with ray   <span style=\"color: #7f7f7f; text-decoration-color: #7f7f7f\">                  </span>\n",
       "         enabled for discretization<span style=\"font-weight: bold\">)</span>. Enabling <span style=\"color: #7f7f7f; text-decoration-color: #7f7f7f\">                  </span>\n",
       "         both and continuing<span style=\"color: #808000; text-decoration-color: #808000\">...</span>                <span style=\"color: #7f7f7f; text-decoration-color: #7f7f7f\">                  </span>\n",
       "</pre>\n"
      ],
      "text/plain": [
       "\u001b[1;31mERROR   \u001b[0m Stratified clustering currently MUST  \u001b]8;id=288694;file:///home/jd/msm_we/msm_we/_hamsm/_clustering.py\u001b\\\u001b[2m_clustering.py\u001b[0m\u001b]8;;\u001b\\\u001b[2m:\u001b[0m\u001b]8;id=705837;file:///home/jd/msm_we/msm_we/_hamsm/_clustering.py#608\u001b\\\u001b[2m608\u001b[0m\u001b]8;;\u001b\\\n",
       "         run in streaming mode \u001b[1m(\u001b[0mand with ray   \u001b[2m                  \u001b[0m\n",
       "         enabled for discretization\u001b[1m)\u001b[0m. Enabling \u001b[2m                  \u001b[0m\n",
       "         both and continuing\u001b[33m...\u001b[0m                \u001b[2m                  \u001b[0m\n"
      ]
     },
     "metadata": {},
     "output_type": "display_data"
    },
    {
     "data": {
      "text/html": [
       "<pre style=\"white-space:pre;overflow-x:auto;line-height:normal;font-family:Menlo,'DejaVu Sans Mono',consolas,'Courier New',monospace\"><span style=\"color: #000080; text-decoration-color: #000080\">INFO    </span> Doing stratified clustering  <a href=\"file:///home/jd/msm_we/msm_we/stratified_clustering.py\" target=\"_blank\"><span style=\"color: #7f7f7f; text-decoration-color: #7f7f7f\">stratified_clustering.py</span></a><span style=\"color: #7f7f7f; text-decoration-color: #7f7f7f\">:</span><a href=\"file:///home/jd/msm_we/msm_we/stratified_clustering.py#66\" target=\"_blank\"><span style=\"color: #7f7f7f; text-decoration-color: #7f7f7f\">66</span></a>\n",
       "         with <span style=\"color: #008080; text-decoration-color: #008080; font-weight: bold\">300</span> total clusters      <span style=\"color: #7f7f7f; text-decoration-color: #7f7f7f\">                           </span>\n",
       "</pre>\n"
      ],
      "text/plain": [
       "\u001b[34mINFO    \u001b[0m Doing stratified clustering  \u001b]8;id=616420;file:///home/jd/msm_we/msm_we/stratified_clustering.py\u001b\\\u001b[2mstratified_clustering.py\u001b[0m\u001b]8;;\u001b\\\u001b[2m:\u001b[0m\u001b]8;id=903375;file:///home/jd/msm_we/msm_we/stratified_clustering.py#66\u001b\\\u001b[2m66\u001b[0m\u001b]8;;\u001b\\\n",
       "         with \u001b[1;36m300\u001b[0m total clusters      \u001b[2m                           \u001b[0m\n"
      ]
     },
     "metadata": {},
     "output_type": "display_data"
    },
    {
     "data": {
      "application/vnd.jupyter.widget-view+json": {
       "model_id": "5be8919e2e964b6f8613dd111ff4c073",
       "version_major": 2,
       "version_minor": 0
      },
      "text/plain": [
       "Clustering:   0%|          | 0/99 [00:00<?, ?it/s]"
      ]
     },
     "metadata": {},
     "output_type": "display_data"
    },
    {
     "name": "stderr",
     "output_type": "stream",
     "text": [
      "Warning: importing 'simtk.openmm' is deprecated.  Import 'openmm' instead.\n",
      "Warning: importing 'simtk.openmm' is deprecated.  Import 'openmm' instead.\n",
      "Warning: importing 'simtk.openmm' is deprecated.  Import 'openmm' instead.\n",
      "Warning: importing 'simtk.openmm' is deprecated.  Import 'openmm' instead.\n",
      "Warning: importing 'simtk.openmm' is deprecated.  Import 'openmm' instead.\n",
      "Warning: importing 'simtk.openmm' is deprecated.  Import 'openmm' instead.\n",
      "Warning: importing 'simtk.openmm' is deprecated.  Import 'openmm' instead.\n",
      "Warning: importing 'simtk.openmm' is deprecated.  Import 'openmm' instead.\n",
      "Warning: importing 'simtk.openmm' is deprecated.  Import 'openmm' instead.\n",
      "Warning: importing 'simtk.openmm' is deprecated.  Import 'openmm' instead.\n",
      "Warning: importing 'simtk.openmm' is deprecated.  Import 'openmm' instead.\n",
      "Warning: importing 'simtk.openmm' is deprecated.  Import 'openmm' instead.\n",
      "Warning: importing 'simtk.openmm' is deprecated.  Import 'openmm' instead.\n",
      "Warning: importing 'simtk.openmm' is deprecated.  Import 'openmm' instead.\n",
      "Warning: importing 'simtk.openmm' is deprecated.  Import 'openmm' instead.\n",
      "Warning: importing 'simtk.openmm' is deprecated.  Import 'openmm' instead.\n",
      "Warning: importing 'simtk.openmm' is deprecated.  Import 'openmm' instead.\n",
      "Warning: importing 'simtk.openmm' is deprecated.  Import 'openmm' instead.\n",
      "Warning: importing 'simtk.openmm' is deprecated.  Import 'openmm' instead.\n",
      "Warning: importing 'simtk.openmm' is deprecated.  Import 'openmm' instead.\n",
      "Warning: importing 'simtk.openmm' is deprecated.  Import 'openmm' instead.\n",
      "Warning: importing 'simtk.openmm' is deprecated.  Import 'openmm' instead.\n"
     ]
    },
    {
     "data": {
      "text/html": [
       "<pre style=\"white-space:pre;overflow-x:auto;line-height:normal;font-family:Menlo,'DejaVu Sans Mono',consolas,'Courier New',monospace\"><span style=\"color: #000080; text-decoration-color: #000080\">INFO    </span> Using Ray cluster with <span style=\"color: #008080; text-decoration-color: #008080; font-weight: bold\">16.0</span> CPUs!          <a href=\"file:///home/jd/msm_we/msm_we/msm_we.py\" target=\"_blank\"><span style=\"color: #7f7f7f; text-decoration-color: #7f7f7f\">msm_we.py</span></a><span style=\"color: #7f7f7f; text-decoration-color: #7f7f7f\">:</span><a href=\"file:///home/jd/msm_we/msm_we/msm_we.py#450\" target=\"_blank\"><span style=\"color: #7f7f7f; text-decoration-color: #7f7f7f\">450</span></a>\n",
       "</pre>\n"
      ],
      "text/plain": [
       "\u001b[34mINFO    \u001b[0m Using Ray cluster with \u001b[1;36m16.0\u001b[0m CPUs!          \u001b]8;id=4522;file:///home/jd/msm_we/msm_we/msm_we.py\u001b\\\u001b[2mmsm_we.py\u001b[0m\u001b]8;;\u001b\\\u001b[2m:\u001b[0m\u001b]8;id=837895;file:///home/jd/msm_we/msm_we/msm_we.py#450\u001b\\\u001b[2m450\u001b[0m\u001b]8;;\u001b\\\n"
      ]
     },
     "metadata": {},
     "output_type": "display_data"
    },
    {
     "data": {
      "application/vnd.jupyter.widget-view+json": {
       "model_id": "c26397a6fe5f4a348919798acda38b7b",
       "version_major": 2,
       "version_minor": 0
      },
      "text/plain": [
       "Submitting discretization tasks:   0%|          | 0/99 [00:00<?, ?it/s]"
      ]
     },
     "metadata": {},
     "output_type": "display_data"
    },
    {
     "data": {
      "application/vnd.jupyter.widget-view+json": {
       "model_id": "2076315af30541978dfccc1f649a6b24",
       "version_major": 2,
       "version_minor": 0
      },
      "text/plain": [
       "Retrieving discretized trajectories:   0%|          | 0/99 [00:00<?, ?it/s]"
      ]
     },
     "metadata": {},
     "output_type": "display_data"
    },
    {
     "data": {
      "text/html": [
       "<pre style=\"white-space:pre;overflow-x:auto;line-height:normal;font-family:Menlo,'DejaVu Sans Mono',consolas,'Courier New',monospace\"><span style=\"color: #000080; text-decoration-color: #000080\">INFO    </span> Discretization complete              <a href=\"file:///home/jd/msm_we/msm_we/_hamsm/_clustering.py\" target=\"_blank\"><span style=\"color: #7f7f7f; text-decoration-color: #7f7f7f\">_clustering.py</span></a><span style=\"color: #7f7f7f; text-decoration-color: #7f7f7f\">:</span><a href=\"file:///home/jd/msm_we/msm_we/_hamsm/_clustering.py#1204\" target=\"_blank\"><span style=\"color: #7f7f7f; text-decoration-color: #7f7f7f\">1204</span></a>\n",
       "</pre>\n"
      ],
      "text/plain": [
       "\u001b[34mINFO    \u001b[0m Discretization complete              \u001b]8;id=207800;file:///home/jd/msm_we/msm_we/_hamsm/_clustering.py\u001b\\\u001b[2m_clustering.py\u001b[0m\u001b]8;;\u001b\\\u001b[2m:\u001b[0m\u001b]8;id=821006;file:///home/jd/msm_we/msm_we/_hamsm/_clustering.py#1204\u001b\\\u001b[2m1204\u001b[0m\u001b]8;;\u001b\\\n"
      ]
     },
     "metadata": {},
     "output_type": "display_data"
    }
   ],
   "source": [
    "model.cluster_coordinates(\n",
    "    n_clusters=clusters_per_stratum,\n",
    "    use_ray=True,\n",
    "    stratified=True,\n",
    "    store_validation_model=True, # Required for block validation\n",
    "    random_state=1337,\n",
    ")"
   ]
  },
  {
   "cell_type": "code",
   "execution_count": 15,
   "id": "d9574d7f-4f01-48d1-9367-3e9ab36d7408",
   "metadata": {
    "nbsphinx": "hidden",
    "tags": []
   },
   "outputs": [],
   "source": [
    "if generate_test_files:\n",
    "    with open('../tests/reference/1000ns_ntl9/models/clustered.obj', 'wb') as outfile:\n",
    "        pickle.dump(model, outfile)"
   ]
  },
  {
   "cell_type": "code",
   "execution_count": 16,
   "id": "1dcb56a5-0a6e-4364-bbef-781b1b56c450",
   "metadata": {},
   "outputs": [
    {
     "data": {
      "application/vnd.jupyter.widget-view+json": {
       "model_id": "e19da65f89b74b44a31ee8dd66632747",
       "version_major": 2,
       "version_minor": 0
      },
      "text/plain": [
       "Constructing flux matrix:   0%|          | 0/98 [00:00<?, ?it/s]"
      ]
     },
     "metadata": {},
     "output_type": "display_data"
    }
   ],
   "source": [
    "model.get_fluxMatrix(n_lag=0)"
   ]
  },
  {
   "cell_type": "code",
   "execution_count": 17,
   "id": "3cf04b84-b9f2-4562-b7d7-8dbdd8e2fab8",
   "metadata": {
    "nbsphinx": "hidden",
    "tags": []
   },
   "outputs": [],
   "source": [
    "if generate_test_files:\n",
    "    np.save('../tests/reference/1000ns_ntl9/models/fluxmatrix_raw.npy', model.fluxMatrixRaw)\n",
    "    with open('../tests/reference/1000ns_ntl9/models/fluxmatrixed.obj', 'wb') as outfile:\n",
    "        pickle.dump(model, outfile)"
   ]
  },
  {
   "cell_type": "markdown",
   "id": "d34283b0-d2cd-4b65-b04e-c66315d1490b",
   "metadata": {},
   "source": [
    "It's likely our flux matrix isn't strongly connected. This cleaning step removes all clusters that aren't in the largest connected set, then rediscretizes all the trajectories according to the new, reduced set of clusters."
   ]
  },
  {
   "cell_type": "code",
   "execution_count": 18,
   "id": "4653e02d-86cd-49b4-ac13-485973614ad9",
   "metadata": {},
   "outputs": [
    {
     "data": {
      "text/html": [
       "<pre style=\"white-space:pre;overflow-x:auto;line-height:normal;font-family:Menlo,'DejaVu Sans Mono',consolas,'Courier New',monospace\"><span style=\"color: #000080; text-decoration-color: #000080\">INFO    </span> Started with <span style=\"color: #008080; text-decoration-color: #008080; font-weight: bold\">300</span> clusters, and       <a href=\"file:///home/jd/msm_we/msm_we/_hamsm/_clustering.py\" target=\"_blank\"><span style=\"color: #7f7f7f; text-decoration-color: #7f7f7f\">_clustering.py</span></a><span style=\"color: #7f7f7f; text-decoration-color: #7f7f7f\">:</span><a href=\"file:///home/jd/msm_we/msm_we/_hamsm/_clustering.py#1020\" target=\"_blank\"><span style=\"color: #7f7f7f; text-decoration-color: #7f7f7f\">1020</span></a>\n",
       "         removed <span style=\"color: #008080; text-decoration-color: #008080; font-weight: bold\">109</span>                          <span style=\"color: #7f7f7f; text-decoration-color: #7f7f7f\">                   </span>\n",
       "</pre>\n"
      ],
      "text/plain": [
       "\u001b[34mINFO    \u001b[0m Started with \u001b[1;36m300\u001b[0m clusters, and       \u001b]8;id=45726;file:///home/jd/msm_we/msm_we/_hamsm/_clustering.py\u001b\\\u001b[2m_clustering.py\u001b[0m\u001b]8;;\u001b\\\u001b[2m:\u001b[0m\u001b]8;id=970302;file:///home/jd/msm_we/msm_we/_hamsm/_clustering.py#1020\u001b\\\u001b[2m1020\u001b[0m\u001b]8;;\u001b\\\n",
       "         removed \u001b[1;36m109\u001b[0m                          \u001b[2m                   \u001b[0m\n"
      ]
     },
     "metadata": {},
     "output_type": "display_data"
    },
    {
     "data": {
      "text/html": [
       "<pre style=\"white-space:pre;overflow-x:auto;line-height:normal;font-family:Menlo,'DejaVu Sans Mono',consolas,'Courier New',monospace\"><span style=\"color: #800000; text-decoration-color: #800000\">WARNING </span> All clusters were cleaned from bins  <a href=\"file:///home/jd/msm_we/msm_we/_hamsm/_clustering.py\" target=\"_blank\"><span style=\"color: #7f7f7f; text-decoration-color: #7f7f7f\">_clustering.py</span></a><span style=\"color: #7f7f7f; text-decoration-color: #7f7f7f\">:</span><a href=\"file:///home/jd/msm_we/msm_we/_hamsm/_clustering.py#1036\" target=\"_blank\"><span style=\"color: #7f7f7f; text-decoration-color: #7f7f7f\">1036</span></a>\n",
       "         <span style=\"font-weight: bold\">{</span><span style=\"color: #008080; text-decoration-color: #008080; font-weight: bold\">11</span><span style=\"font-weight: bold\">}</span>                                 <span style=\"color: #7f7f7f; text-decoration-color: #7f7f7f\">                   </span>\n",
       "</pre>\n"
      ],
      "text/plain": [
       "\u001b[31mWARNING \u001b[0m All clusters were cleaned from bins  \u001b]8;id=480370;file:///home/jd/msm_we/msm_we/_hamsm/_clustering.py\u001b\\\u001b[2m_clustering.py\u001b[0m\u001b]8;;\u001b\\\u001b[2m:\u001b[0m\u001b]8;id=136604;file:///home/jd/msm_we/msm_we/_hamsm/_clustering.py#1036\u001b\\\u001b[2m1036\u001b[0m\u001b]8;;\u001b\\\n",
       "         \u001b[1m{\u001b[0m\u001b[1;36m11\u001b[0m\u001b[1m}\u001b[0m                                 \u001b[2m                   \u001b[0m\n"
      ]
     },
     "metadata": {},
     "output_type": "display_data"
    },
    {
     "data": {
      "text/html": [
       "<pre style=\"white-space:pre;overflow-x:auto;line-height:normal;font-family:Menlo,'DejaVu Sans Mono',consolas,'Courier New',monospace\"><span style=\"color: #000080; text-decoration-color: #000080\">INFO    </span> Using Ray cluster with <span style=\"color: #008080; text-decoration-color: #008080; font-weight: bold\">16.0</span> CPUs!          <a href=\"file:///home/jd/msm_we/msm_we/msm_we.py\" target=\"_blank\"><span style=\"color: #7f7f7f; text-decoration-color: #7f7f7f\">msm_we.py</span></a><span style=\"color: #7f7f7f; text-decoration-color: #7f7f7f\">:</span><a href=\"file:///home/jd/msm_we/msm_we/msm_we.py#450\" target=\"_blank\"><span style=\"color: #7f7f7f; text-decoration-color: #7f7f7f\">450</span></a>\n",
       "</pre>\n"
      ],
      "text/plain": [
       "\u001b[34mINFO    \u001b[0m Using Ray cluster with \u001b[1;36m16.0\u001b[0m CPUs!          \u001b]8;id=253493;file:///home/jd/msm_we/msm_we/msm_we.py\u001b\\\u001b[2mmsm_we.py\u001b[0m\u001b]8;;\u001b\\\u001b[2m:\u001b[0m\u001b]8;id=172343;file:///home/jd/msm_we/msm_we/msm_we.py#450\u001b\\\u001b[2m450\u001b[0m\u001b]8;;\u001b\\\n"
      ]
     },
     "metadata": {},
     "output_type": "display_data"
    },
    {
     "data": {
      "text/html": [
       "<pre style=\"white-space:pre;overflow-x:auto;line-height:normal;font-family:Menlo,'DejaVu Sans Mono',consolas,'Courier New',monospace\"><span style=\"color: #000080; text-decoration-color: #000080\">INFO    </span> Using cached model for               <a href=\"file:///home/jd/msm_we/msm_we/_hamsm/_clustering.py\" target=\"_blank\"><span style=\"color: #7f7f7f; text-decoration-color: #7f7f7f\">_clustering.py</span></a><span style=\"color: #7f7f7f; text-decoration-color: #7f7f7f\">:</span><a href=\"file:///home/jd/msm_we/msm_we/_hamsm/_clustering.py#1132\" target=\"_blank\"><span style=\"color: #7f7f7f; text-decoration-color: #7f7f7f\">1132</span></a>\n",
       "         discretization                       <span style=\"color: #7f7f7f; text-decoration-color: #7f7f7f\">                   </span>\n",
       "</pre>\n"
      ],
      "text/plain": [
       "\u001b[34mINFO    \u001b[0m Using cached model for               \u001b]8;id=585129;file:///home/jd/msm_we/msm_we/_hamsm/_clustering.py\u001b\\\u001b[2m_clustering.py\u001b[0m\u001b]8;;\u001b\\\u001b[2m:\u001b[0m\u001b]8;id=22266;file:///home/jd/msm_we/msm_we/_hamsm/_clustering.py#1132\u001b\\\u001b[2m1132\u001b[0m\u001b]8;;\u001b\\\n",
       "         discretization                       \u001b[2m                   \u001b[0m\n"
      ]
     },
     "metadata": {},
     "output_type": "display_data"
    },
    {
     "data": {
      "application/vnd.jupyter.widget-view+json": {
       "model_id": "dbd24ad93af049558f9476c2e1dd7ba7",
       "version_major": 2,
       "version_minor": 0
      },
      "text/plain": [
       "Submitting discretization tasks:   0%|          | 0/99 [00:00<?, ?it/s]"
      ]
     },
     "metadata": {},
     "output_type": "display_data"
    },
    {
     "data": {
      "application/vnd.jupyter.widget-view+json": {
       "model_id": "5c53b036b36c4ddf98c8038a304c70af",
       "version_major": 2,
       "version_minor": 0
      },
      "text/plain": [
       "Retrieving discretized trajectories:   0%|          | 0/99 [00:00<?, ?it/s]"
      ]
     },
     "metadata": {},
     "output_type": "display_data"
    },
    {
     "data": {
      "text/html": [
       "<pre style=\"white-space:pre;overflow-x:auto;line-height:normal;font-family:Menlo,'DejaVu Sans Mono',consolas,'Courier New',monospace\"><span style=\"color: #000080; text-decoration-color: #000080\">INFO    </span> Discretization complete              <a href=\"file:///home/jd/msm_we/msm_we/_hamsm/_clustering.py\" target=\"_blank\"><span style=\"color: #7f7f7f; text-decoration-color: #7f7f7f\">_clustering.py</span></a><span style=\"color: #7f7f7f; text-decoration-color: #7f7f7f\">:</span><a href=\"file:///home/jd/msm_we/msm_we/_hamsm/_clustering.py#1204\" target=\"_blank\"><span style=\"color: #7f7f7f; text-decoration-color: #7f7f7f\">1204</span></a>\n",
       "</pre>\n"
      ],
      "text/plain": [
       "\u001b[34mINFO    \u001b[0m Discretization complete              \u001b]8;id=765104;file:///home/jd/msm_we/msm_we/_hamsm/_clustering.py\u001b\\\u001b[2m_clustering.py\u001b[0m\u001b]8;;\u001b\\\u001b[2m:\u001b[0m\u001b]8;id=277378;file:///home/jd/msm_we/msm_we/_hamsm/_clustering.py#1204\u001b\\\u001b[2m1204\u001b[0m\u001b]8;;\u001b\\\n"
      ]
     },
     "metadata": {},
     "output_type": "display_data"
    },
    {
     "data": {
      "application/vnd.jupyter.widget-view+json": {
       "model_id": "005f05f873d947eb92e33a4dd7b29911",
       "version_major": 2,
       "version_minor": 0
      },
      "text/plain": [
       "Constructing flux matrix:   0%|          | 0/98 [00:00<?, ?it/s]"
      ]
     },
     "metadata": {},
     "output_type": "display_data"
    }
   ],
   "source": [
    "model.organize_fluxMatrix()"
   ]
  },
  {
   "cell_type": "code",
   "execution_count": 19,
   "id": "2133d366-69ec-484a-8b48-b2c10613a26d",
   "metadata": {},
   "outputs": [],
   "source": [
    "if generate_test_files:\n",
    "    with open('../tests/reference/1000ns_ntl9/models/organized.obj', 'wb') as outfile:\n",
    "        pickle.dump(model, outfile)\n",
    "    np.save('../tests/reference/1000ns_ntl9/models/fluxmatrix.npy', model.fluxMatrix)"
   ]
  },
  {
   "cell_type": "markdown",
   "id": "98c0ef78-55d3-4c6a-a2e9-af6a0ae529ea",
   "metadata": {},
   "source": [
    "### Transition matrix estimation"
   ]
  },
  {
   "cell_type": "code",
   "execution_count": 20,
   "id": "075e53b5-7117-4775-9edc-a9b535a1b505",
   "metadata": {},
   "outputs": [],
   "source": [
    "model.get_Tmatrix()"
   ]
  },
  {
   "cell_type": "code",
   "execution_count": 21,
   "id": "a1a5b45e-2bd8-4966-af3e-c9a7b1264dca",
   "metadata": {},
   "outputs": [
    {
     "data": {
      "text/plain": [
       "array([[0.32293215, 0.30579927, 0.01005867, ..., 0.        , 0.33022179,\n",
       "        0.        ],\n",
       "       [0.27769355, 0.31023711, 0.0148812 , ..., 0.        , 0.2590533 ,\n",
       "        0.        ],\n",
       "       [0.28155956, 0.24801922, 0.00295366, ..., 0.        , 0.26514922,\n",
       "        0.        ],\n",
       "       ...,\n",
       "       [0.        , 0.        , 0.        , ..., 0.        , 0.        ,\n",
       "        0.32410505],\n",
       "       [0.31693347, 0.27896914, 0.0031783 , ..., 0.        , 0.35730547,\n",
       "        0.        ],\n",
       "       [0.        , 0.        , 0.        , ..., 0.        , 1.        ,\n",
       "        0.        ]])"
      ]
     },
     "execution_count": 21,
     "metadata": {},
     "output_type": "execute_result"
    }
   ],
   "source": [
    "model.Tmatrix"
   ]
  },
  {
   "cell_type": "code",
   "execution_count": 22,
   "id": "94d08f6e-c723-450c-a377-55174205324c",
   "metadata": {},
   "outputs": [
    {
     "data": {
      "text/html": [
       "<pre style=\"white-space:pre;overflow-x:auto;line-height:normal;font-family:Menlo,'DejaVu Sans Mono',consolas,'Courier New',monospace\"><span style=\"color: #000080; text-decoration-color: #000080\">INFO    </span>                                         <a href=\"file:///home/jd/msm_we/msm_we/_hamsm/_analysis.py\" target=\"_blank\"><span style=\"color: #7f7f7f; text-decoration-color: #7f7f7f\">_analysis.py</span></a><span style=\"color: #7f7f7f; text-decoration-color: #7f7f7f\">:</span><a href=\"file:///home/jd/msm_we/msm_we/_hamsm/_analysis.py#170\" target=\"_blank\"><span style=\"color: #7f7f7f; text-decoration-color: #7f7f7f\">170</span></a>\n",
       "         Flux converged to <span style=\"color: #008080; text-decoration-color: #008080; font-weight: bold\">2.0346e+06</span> after <span style=\"color: #008080; text-decoration-color: #008080; font-weight: bold\">1</span>    <span style=\"color: #7f7f7f; text-decoration-color: #7f7f7f\">                </span>\n",
       "         iterations of inverse iteration.        <span style=\"color: #7f7f7f; text-decoration-color: #7f7f7f\">                </span>\n",
       "</pre>\n"
      ],
      "text/plain": [
       "\u001b[34mINFO    \u001b[0m                                         \u001b]8;id=50995;file:///home/jd/msm_we/msm_we/_hamsm/_analysis.py\u001b\\\u001b[2m_analysis.py\u001b[0m\u001b]8;;\u001b\\\u001b[2m:\u001b[0m\u001b]8;id=284965;file:///home/jd/msm_we/msm_we/_hamsm/_analysis.py#170\u001b\\\u001b[2m170\u001b[0m\u001b]8;;\u001b\\\n",
       "         Flux converged to \u001b[1;36m2.0346e+06\u001b[0m after \u001b[1;36m1\u001b[0m    \u001b[2m                \u001b[0m\n",
       "         iterations of inverse iteration.        \u001b[2m                \u001b[0m\n"
      ]
     },
     "metadata": {},
     "output_type": "display_data"
    },
    {
     "data": {
      "text/html": [
       "<pre style=\"white-space:pre;overflow-x:auto;line-height:normal;font-family:Menlo,'DejaVu Sans Mono',consolas,'Courier New',monospace\"><span style=\"color: #000080; text-decoration-color: #000080\">INFO    </span> Done with steady-state estimation.      <a href=\"file:///home/jd/msm_we/msm_we/_hamsm/_analysis.py\" target=\"_blank\"><span style=\"color: #7f7f7f; text-decoration-color: #7f7f7f\">_analysis.py</span></a><span style=\"color: #7f7f7f; text-decoration-color: #7f7f7f\">:</span><a href=\"file:///home/jd/msm_we/msm_we/_hamsm/_analysis.py#181\" target=\"_blank\"><span style=\"color: #7f7f7f; text-decoration-color: #7f7f7f\">181</span></a>\n",
       "</pre>\n"
      ],
      "text/plain": [
       "\u001b[34mINFO    \u001b[0m Done with steady-state estimation.      \u001b]8;id=793862;file:///home/jd/msm_we/msm_we/_hamsm/_analysis.py\u001b\\\u001b[2m_analysis.py\u001b[0m\u001b]8;;\u001b\\\u001b[2m:\u001b[0m\u001b]8;id=940546;file:///home/jd/msm_we/msm_we/_hamsm/_analysis.py#181\u001b\\\u001b[2m181\u001b[0m\u001b]8;;\u001b\\\n"
      ]
     },
     "metadata": {},
     "output_type": "display_data"
    }
   ],
   "source": [
    "model.get_steady_state()"
   ]
  },
  {
   "cell_type": "code",
   "execution_count": 23,
   "id": "fc088569-05fe-42f0-b04a-117f5495b586",
   "metadata": {},
   "outputs": [],
   "source": [
    "model.get_steady_state_target_flux()"
   ]
  },
  {
   "cell_type": "code",
   "execution_count": 24,
   "id": "8b531e68-42f1-4896-b922-9c2d2f2cacaf",
   "metadata": {
    "nbsphinx": "hidden",
    "tags": []
   },
   "outputs": [],
   "source": [
    "if generate_test_files:\n",
    "    np.save('../tests/reference/1000ns_ntl9/models/tmatrix.npy', model.Tmatrix)\n",
    "    np.save('../tests/reference/1000ns_ntl9/models/pSS.npy', model.pSS)\n",
    "    np.save('../tests/reference/1000ns_ntl9/models/JtargetSS.npy', model.JtargetSS)"
   ]
  },
  {
   "cell_type": "markdown",
   "id": "e0392a17-4f3c-47e9-9eeb-6db35dc654c9",
   "metadata": {},
   "source": [
    "### Model validation\n",
    "\n",
    "This block validation step "
   ]
  },
  {
   "cell_type": "code",
   "execution_count": 25,
   "id": "1f3272b4-5474-4d0d-9ac2-4429a07b50e7",
   "metadata": {},
   "outputs": [
    {
     "data": {
      "text/html": [
       "<pre style=\"white-space:pre;overflow-x:auto;line-height:normal;font-family:Menlo,'DejaVu Sans Mono',consolas,'Courier New',monospace\"><span style=\"color: #000080; text-decoration-color: #000080\">INFO    </span> Beginning analysis of cross-validation     <a href=\"file:///home/jd/msm_we/msm_we/msm_we.py\" target=\"_blank\"><span style=\"color: #7f7f7f; text-decoration-color: #7f7f7f\">msm_we.py</span></a><span style=\"color: #7f7f7f; text-decoration-color: #7f7f7f\">:</span><a href=\"file:///home/jd/msm_we/msm_we/msm_we.py#926\" target=\"_blank\"><span style=\"color: #7f7f7f; text-decoration-color: #7f7f7f\">926</span></a>\n",
       "         group <span style=\"color: #008080; text-decoration-color: #008080; font-weight: bold\">1</span>/<span style=\"color: #008080; text-decoration-color: #008080; font-weight: bold\">2</span>.                                 <span style=\"color: #7f7f7f; text-decoration-color: #7f7f7f\">             </span>\n",
       "</pre>\n"
      ],
      "text/plain": [
       "\u001b[34mINFO    \u001b[0m Beginning analysis of cross-validation     \u001b]8;id=556310;file:///home/jd/msm_we/msm_we/msm_we.py\u001b\\\u001b[2mmsm_we.py\u001b[0m\u001b]8;;\u001b\\\u001b[2m:\u001b[0m\u001b]8;id=633227;file:///home/jd/msm_we/msm_we/msm_we.py#926\u001b\\\u001b[2m926\u001b[0m\u001b]8;;\u001b\\\n",
       "         group \u001b[1;36m1\u001b[0m/\u001b[1;36m2\u001b[0m.                                 \u001b[2m             \u001b[0m\n"
      ]
     },
     "metadata": {},
     "output_type": "display_data"
    },
    {
     "data": {
      "text/html": [
       "<pre style=\"white-space:pre;overflow-x:auto;line-height:normal;font-family:Menlo,'DejaVu Sans Mono',consolas,'Courier New',monospace\"><span style=\"color: #000080; text-decoration-color: #000080\">INFO    </span> Using Ray cluster with <span style=\"color: #008080; text-decoration-color: #008080; font-weight: bold\">16.0</span> CPUs!          <a href=\"file:///home/jd/msm_we/msm_we/msm_we.py\" target=\"_blank\"><span style=\"color: #7f7f7f; text-decoration-color: #7f7f7f\">msm_we.py</span></a><span style=\"color: #7f7f7f; text-decoration-color: #7f7f7f\">:</span><a href=\"file:///home/jd/msm_we/msm_we/msm_we.py#450\" target=\"_blank\"><span style=\"color: #7f7f7f; text-decoration-color: #7f7f7f\">450</span></a>\n",
       "</pre>\n"
      ],
      "text/plain": [
       "\u001b[34mINFO    \u001b[0m Using Ray cluster with \u001b[1;36m16.0\u001b[0m CPUs!          \u001b]8;id=390983;file:///home/jd/msm_we/msm_we/msm_we.py\u001b\\\u001b[2mmsm_we.py\u001b[0m\u001b]8;;\u001b\\\u001b[2m:\u001b[0m\u001b]8;id=637012;file:///home/jd/msm_we/msm_we/msm_we.py#450\u001b\\\u001b[2m450\u001b[0m\u001b]8;;\u001b\\\n"
      ]
     },
     "metadata": {},
     "output_type": "display_data"
    },
    {
     "data": {
      "application/vnd.jupyter.widget-view+json": {
       "model_id": "2a11cf0c2c5249c3b8d1cb80c5d8eaa3",
       "version_major": 2,
       "version_minor": 0
      },
      "text/plain": [
       "Submitting fluxmatrix tasks:   0%|          | 0/50 [00:00<?, ?it/s]"
      ]
     },
     "metadata": {},
     "output_type": "display_data"
    },
    {
     "data": {
      "application/vnd.jupyter.widget-view+json": {
       "model_id": "ca3084207ead435685ae699e803f6449",
       "version_major": 2,
       "version_minor": 0
      },
      "text/plain": [
       "Retrieving flux matrices:   0%|          | 0/50 [00:00<?, ?it/s]"
      ]
     },
     "metadata": {},
     "output_type": "display_data"
    },
    {
     "data": {
      "text/html": [
       "<pre style=\"white-space:pre;overflow-x:auto;line-height:normal;font-family:Menlo,'DejaVu Sans Mono',consolas,'Courier New',monospace\"><span style=\"color: #000080; text-decoration-color: #000080\">INFO    </span> Fluxmatrices all obtained             <a href=\"file:///home/jd/msm_we/msm_we/_hamsm/_fluxmatrix.py\" target=\"_blank\"><span style=\"color: #7f7f7f; text-decoration-color: #7f7f7f\">_fluxmatrix.py</span></a><span style=\"color: #7f7f7f; text-decoration-color: #7f7f7f\">:</span><a href=\"file:///home/jd/msm_we/msm_we/_hamsm/_fluxmatrix.py#497\" target=\"_blank\"><span style=\"color: #7f7f7f; text-decoration-color: #7f7f7f\">497</span></a>\n",
       "</pre>\n"
      ],
      "text/plain": [
       "\u001b[34mINFO    \u001b[0m Fluxmatrices all obtained             \u001b]8;id=677172;file:///home/jd/msm_we/msm_we/_hamsm/_fluxmatrix.py\u001b\\\u001b[2m_fluxmatrix.py\u001b[0m\u001b]8;;\u001b\\\u001b[2m:\u001b[0m\u001b]8;id=96719;file:///home/jd/msm_we/msm_we/_hamsm/_fluxmatrix.py#497\u001b\\\u001b[2m497\u001b[0m\u001b]8;;\u001b\\\n"
      ]
     },
     "metadata": {},
     "output_type": "display_data"
    },
    {
     "data": {
      "text/html": [
       "<pre style=\"white-space:pre;overflow-x:auto;line-height:normal;font-family:Menlo,'DejaVu Sans Mono',consolas,'Courier New',monospace\"><span style=\"color: #000080; text-decoration-color: #000080\">INFO    </span> Started with <span style=\"color: #008080; text-decoration-color: #008080; font-weight: bold\">300</span> clusters, and       <a href=\"file:///home/jd/msm_we/msm_we/_hamsm/_clustering.py\" target=\"_blank\"><span style=\"color: #7f7f7f; text-decoration-color: #7f7f7f\">_clustering.py</span></a><span style=\"color: #7f7f7f; text-decoration-color: #7f7f7f\">:</span><a href=\"file:///home/jd/msm_we/msm_we/_hamsm/_clustering.py#1020\" target=\"_blank\"><span style=\"color: #7f7f7f; text-decoration-color: #7f7f7f\">1020</span></a>\n",
       "         removed <span style=\"color: #008080; text-decoration-color: #008080; font-weight: bold\">127</span>                          <span style=\"color: #7f7f7f; text-decoration-color: #7f7f7f\">                   </span>\n",
       "</pre>\n"
      ],
      "text/plain": [
       "\u001b[34mINFO    \u001b[0m Started with \u001b[1;36m300\u001b[0m clusters, and       \u001b]8;id=273396;file:///home/jd/msm_we/msm_we/_hamsm/_clustering.py\u001b\\\u001b[2m_clustering.py\u001b[0m\u001b]8;;\u001b\\\u001b[2m:\u001b[0m\u001b]8;id=335912;file:///home/jd/msm_we/msm_we/_hamsm/_clustering.py#1020\u001b\\\u001b[2m1020\u001b[0m\u001b]8;;\u001b\\\n",
       "         removed \u001b[1;36m127\u001b[0m                          \u001b[2m                   \u001b[0m\n"
      ]
     },
     "metadata": {},
     "output_type": "display_data"
    },
    {
     "data": {
      "text/html": [
       "<pre style=\"white-space:pre;overflow-x:auto;line-height:normal;font-family:Menlo,'DejaVu Sans Mono',consolas,'Courier New',monospace\"><span style=\"color: #800000; text-decoration-color: #800000\">WARNING </span> All clusters were cleaned from bins  <a href=\"file:///home/jd/msm_we/msm_we/_hamsm/_clustering.py\" target=\"_blank\"><span style=\"color: #7f7f7f; text-decoration-color: #7f7f7f\">_clustering.py</span></a><span style=\"color: #7f7f7f; text-decoration-color: #7f7f7f\">:</span><a href=\"file:///home/jd/msm_we/msm_we/_hamsm/_clustering.py#1036\" target=\"_blank\"><span style=\"color: #7f7f7f; text-decoration-color: #7f7f7f\">1036</span></a>\n",
       "         <span style=\"font-weight: bold\">{</span><span style=\"color: #008080; text-decoration-color: #008080; font-weight: bold\">11</span><span style=\"font-weight: bold\">}</span>                                 <span style=\"color: #7f7f7f; text-decoration-color: #7f7f7f\">                   </span>\n",
       "</pre>\n"
      ],
      "text/plain": [
       "\u001b[31mWARNING \u001b[0m All clusters were cleaned from bins  \u001b]8;id=269560;file:///home/jd/msm_we/msm_we/_hamsm/_clustering.py\u001b\\\u001b[2m_clustering.py\u001b[0m\u001b]8;;\u001b\\\u001b[2m:\u001b[0m\u001b]8;id=706280;file:///home/jd/msm_we/msm_we/_hamsm/_clustering.py#1036\u001b\\\u001b[2m1036\u001b[0m\u001b]8;;\u001b\\\n",
       "         \u001b[1m{\u001b[0m\u001b[1;36m11\u001b[0m\u001b[1m}\u001b[0m                                 \u001b[2m                   \u001b[0m\n"
      ]
     },
     "metadata": {},
     "output_type": "display_data"
    },
    {
     "data": {
      "text/html": [
       "<pre style=\"white-space:pre;overflow-x:auto;line-height:normal;font-family:Menlo,'DejaVu Sans Mono',consolas,'Courier New',monospace\"><span style=\"color: #000080; text-decoration-color: #000080\">INFO    </span> Using Ray cluster with <span style=\"color: #008080; text-decoration-color: #008080; font-weight: bold\">16.0</span> CPUs!          <a href=\"file:///home/jd/msm_we/msm_we/msm_we.py\" target=\"_blank\"><span style=\"color: #7f7f7f; text-decoration-color: #7f7f7f\">msm_we.py</span></a><span style=\"color: #7f7f7f; text-decoration-color: #7f7f7f\">:</span><a href=\"file:///home/jd/msm_we/msm_we/msm_we.py#450\" target=\"_blank\"><span style=\"color: #7f7f7f; text-decoration-color: #7f7f7f\">450</span></a>\n",
       "</pre>\n"
      ],
      "text/plain": [
       "\u001b[34mINFO    \u001b[0m Using Ray cluster with \u001b[1;36m16.0\u001b[0m CPUs!          \u001b]8;id=321482;file:///home/jd/msm_we/msm_we/msm_we.py\u001b\\\u001b[2mmsm_we.py\u001b[0m\u001b]8;;\u001b\\\u001b[2m:\u001b[0m\u001b]8;id=221027;file:///home/jd/msm_we/msm_we/msm_we.py#450\u001b\\\u001b[2m450\u001b[0m\u001b]8;;\u001b\\\n"
      ]
     },
     "metadata": {},
     "output_type": "display_data"
    },
    {
     "data": {
      "text/html": [
       "<pre style=\"white-space:pre;overflow-x:auto;line-height:normal;font-family:Menlo,'DejaVu Sans Mono',consolas,'Courier New',monospace\"><span style=\"color: #000080; text-decoration-color: #000080\">INFO    </span> Using cached model for               <a href=\"file:///home/jd/msm_we/msm_we/_hamsm/_clustering.py\" target=\"_blank\"><span style=\"color: #7f7f7f; text-decoration-color: #7f7f7f\">_clustering.py</span></a><span style=\"color: #7f7f7f; text-decoration-color: #7f7f7f\">:</span><a href=\"file:///home/jd/msm_we/msm_we/_hamsm/_clustering.py#1132\" target=\"_blank\"><span style=\"color: #7f7f7f; text-decoration-color: #7f7f7f\">1132</span></a>\n",
       "         discretization                       <span style=\"color: #7f7f7f; text-decoration-color: #7f7f7f\">                   </span>\n",
       "</pre>\n"
      ],
      "text/plain": [
       "\u001b[34mINFO    \u001b[0m Using cached model for               \u001b]8;id=558676;file:///home/jd/msm_we/msm_we/_hamsm/_clustering.py\u001b\\\u001b[2m_clustering.py\u001b[0m\u001b]8;;\u001b\\\u001b[2m:\u001b[0m\u001b]8;id=994099;file:///home/jd/msm_we/msm_we/_hamsm/_clustering.py#1132\u001b\\\u001b[2m1132\u001b[0m\u001b]8;;\u001b\\\n",
       "         discretization                       \u001b[2m                   \u001b[0m\n"
      ]
     },
     "metadata": {},
     "output_type": "display_data"
    },
    {
     "data": {
      "application/vnd.jupyter.widget-view+json": {
       "model_id": "a84f46b537514476a3d54222d1b42b05",
       "version_major": 2,
       "version_minor": 0
      },
      "text/plain": [
       "Submitting discretization tasks:   0%|          | 0/99 [00:00<?, ?it/s]"
      ]
     },
     "metadata": {},
     "output_type": "display_data"
    },
    {
     "data": {
      "application/vnd.jupyter.widget-view+json": {
       "model_id": "9d140b9631ac42feb04f1933cd422ccb",
       "version_major": 2,
       "version_minor": 0
      },
      "text/plain": [
       "Retrieving discretized trajectories:   0%|          | 0/99 [00:00<?, ?it/s]"
      ]
     },
     "metadata": {},
     "output_type": "display_data"
    },
    {
     "data": {
      "text/html": [
       "<pre style=\"white-space:pre;overflow-x:auto;line-height:normal;font-family:Menlo,'DejaVu Sans Mono',consolas,'Courier New',monospace\"><span style=\"color: #000080; text-decoration-color: #000080\">INFO    </span> Discretization complete              <a href=\"file:///home/jd/msm_we/msm_we/_hamsm/_clustering.py\" target=\"_blank\"><span style=\"color: #7f7f7f; text-decoration-color: #7f7f7f\">_clustering.py</span></a><span style=\"color: #7f7f7f; text-decoration-color: #7f7f7f\">:</span><a href=\"file:///home/jd/msm_we/msm_we/_hamsm/_clustering.py#1204\" target=\"_blank\"><span style=\"color: #7f7f7f; text-decoration-color: #7f7f7f\">1204</span></a>\n",
       "</pre>\n"
      ],
      "text/plain": [
       "\u001b[34mINFO    \u001b[0m Discretization complete              \u001b]8;id=782356;file:///home/jd/msm_we/msm_we/_hamsm/_clustering.py\u001b\\\u001b[2m_clustering.py\u001b[0m\u001b]8;;\u001b\\\u001b[2m:\u001b[0m\u001b]8;id=813904;file:///home/jd/msm_we/msm_we/_hamsm/_clustering.py#1204\u001b\\\u001b[2m1204\u001b[0m\u001b]8;;\u001b\\\n"
      ]
     },
     "metadata": {},
     "output_type": "display_data"
    },
    {
     "data": {
      "text/html": [
       "<pre style=\"white-space:pre;overflow-x:auto;line-height:normal;font-family:Menlo,'DejaVu Sans Mono',consolas,'Courier New',monospace\"><span style=\"color: #000080; text-decoration-color: #000080\">INFO    </span> Using Ray cluster with <span style=\"color: #008080; text-decoration-color: #008080; font-weight: bold\">16.0</span> CPUs!          <a href=\"file:///home/jd/msm_we/msm_we/msm_we.py\" target=\"_blank\"><span style=\"color: #7f7f7f; text-decoration-color: #7f7f7f\">msm_we.py</span></a><span style=\"color: #7f7f7f; text-decoration-color: #7f7f7f\">:</span><a href=\"file:///home/jd/msm_we/msm_we/msm_we.py#450\" target=\"_blank\"><span style=\"color: #7f7f7f; text-decoration-color: #7f7f7f\">450</span></a>\n",
       "</pre>\n"
      ],
      "text/plain": [
       "\u001b[34mINFO    \u001b[0m Using Ray cluster with \u001b[1;36m16.0\u001b[0m CPUs!          \u001b]8;id=797507;file:///home/jd/msm_we/msm_we/msm_we.py\u001b\\\u001b[2mmsm_we.py\u001b[0m\u001b]8;;\u001b\\\u001b[2m:\u001b[0m\u001b]8;id=854707;file:///home/jd/msm_we/msm_we/msm_we.py#450\u001b\\\u001b[2m450\u001b[0m\u001b]8;;\u001b\\\n"
      ]
     },
     "metadata": {},
     "output_type": "display_data"
    },
    {
     "data": {
      "application/vnd.jupyter.widget-view+json": {
       "model_id": "89d582d0827e483a8998f5db28e2f8e6",
       "version_major": 2,
       "version_minor": 0
      },
      "text/plain": [
       "Submitting fluxmatrix tasks:   0%|          | 0/50 [00:00<?, ?it/s]"
      ]
     },
     "metadata": {},
     "output_type": "display_data"
    },
    {
     "data": {
      "application/vnd.jupyter.widget-view+json": {
       "model_id": "e854edeb6bae46d4922f874ca954949f",
       "version_major": 2,
       "version_minor": 0
      },
      "text/plain": [
       "Retrieving flux matrices:   0%|          | 0/50 [00:00<?, ?it/s]"
      ]
     },
     "metadata": {},
     "output_type": "display_data"
    },
    {
     "data": {
      "text/html": [
       "<pre style=\"white-space:pre;overflow-x:auto;line-height:normal;font-family:Menlo,'DejaVu Sans Mono',consolas,'Courier New',monospace\"><span style=\"color: #000080; text-decoration-color: #000080\">INFO    </span> Fluxmatrices all obtained             <a href=\"file:///home/jd/msm_we/msm_we/_hamsm/_fluxmatrix.py\" target=\"_blank\"><span style=\"color: #7f7f7f; text-decoration-color: #7f7f7f\">_fluxmatrix.py</span></a><span style=\"color: #7f7f7f; text-decoration-color: #7f7f7f\">:</span><a href=\"file:///home/jd/msm_we/msm_we/_hamsm/_fluxmatrix.py#497\" target=\"_blank\"><span style=\"color: #7f7f7f; text-decoration-color: #7f7f7f\">497</span></a>\n",
       "</pre>\n"
      ],
      "text/plain": [
       "\u001b[34mINFO    \u001b[0m Fluxmatrices all obtained             \u001b]8;id=603213;file:///home/jd/msm_we/msm_we/_hamsm/_fluxmatrix.py\u001b\\\u001b[2m_fluxmatrix.py\u001b[0m\u001b]8;;\u001b\\\u001b[2m:\u001b[0m\u001b]8;id=444574;file:///home/jd/msm_we/msm_we/_hamsm/_fluxmatrix.py#497\u001b\\\u001b[2m497\u001b[0m\u001b]8;;\u001b\\\n"
      ]
     },
     "metadata": {},
     "output_type": "display_data"
    },
    {
     "data": {
      "text/html": [
       "<pre style=\"white-space:pre;overflow-x:auto;line-height:normal;font-family:Menlo,'DejaVu Sans Mono',consolas,'Courier New',monospace\"><span style=\"color: #000080; text-decoration-color: #000080\">INFO    </span>                                         <a href=\"file:///home/jd/msm_we/msm_we/_hamsm/_analysis.py\" target=\"_blank\"><span style=\"color: #7f7f7f; text-decoration-color: #7f7f7f\">_analysis.py</span></a><span style=\"color: #7f7f7f; text-decoration-color: #7f7f7f\">:</span><a href=\"file:///home/jd/msm_we/msm_we/_hamsm/_analysis.py#170\" target=\"_blank\"><span style=\"color: #7f7f7f; text-decoration-color: #7f7f7f\">170</span></a>\n",
       "         Flux converged to <span style=\"color: #008080; text-decoration-color: #008080; font-weight: bold\">1.6309e+06</span> after <span style=\"color: #008080; text-decoration-color: #008080; font-weight: bold\">1</span>    <span style=\"color: #7f7f7f; text-decoration-color: #7f7f7f\">                </span>\n",
       "         iterations of inverse iteration.        <span style=\"color: #7f7f7f; text-decoration-color: #7f7f7f\">                </span>\n",
       "</pre>\n"
      ],
      "text/plain": [
       "\u001b[34mINFO    \u001b[0m                                         \u001b]8;id=793762;file:///home/jd/msm_we/msm_we/_hamsm/_analysis.py\u001b\\\u001b[2m_analysis.py\u001b[0m\u001b]8;;\u001b\\\u001b[2m:\u001b[0m\u001b]8;id=116786;file:///home/jd/msm_we/msm_we/_hamsm/_analysis.py#170\u001b\\\u001b[2m170\u001b[0m\u001b]8;;\u001b\\\n",
       "         Flux converged to \u001b[1;36m1.6309e+06\u001b[0m after \u001b[1;36m1\u001b[0m    \u001b[2m                \u001b[0m\n",
       "         iterations of inverse iteration.        \u001b[2m                \u001b[0m\n"
      ]
     },
     "metadata": {},
     "output_type": "display_data"
    },
    {
     "data": {
      "text/html": [
       "<pre style=\"white-space:pre;overflow-x:auto;line-height:normal;font-family:Menlo,'DejaVu Sans Mono',consolas,'Courier New',monospace\"><span style=\"color: #000080; text-decoration-color: #000080\">INFO    </span> Done with steady-state estimation.      <a href=\"file:///home/jd/msm_we/msm_we/_hamsm/_analysis.py\" target=\"_blank\"><span style=\"color: #7f7f7f; text-decoration-color: #7f7f7f\">_analysis.py</span></a><span style=\"color: #7f7f7f; text-decoration-color: #7f7f7f\">:</span><a href=\"file:///home/jd/msm_we/msm_we/_hamsm/_analysis.py#181\" target=\"_blank\"><span style=\"color: #7f7f7f; text-decoration-color: #7f7f7f\">181</span></a>\n",
       "</pre>\n"
      ],
      "text/plain": [
       "\u001b[34mINFO    \u001b[0m Done with steady-state estimation.      \u001b]8;id=538203;file:///home/jd/msm_we/msm_we/_hamsm/_analysis.py\u001b\\\u001b[2m_analysis.py\u001b[0m\u001b]8;;\u001b\\\u001b[2m:\u001b[0m\u001b]8;id=124337;file:///home/jd/msm_we/msm_we/_hamsm/_analysis.py#181\u001b\\\u001b[2m181\u001b[0m\u001b]8;;\u001b\\\n"
      ]
     },
     "metadata": {},
     "output_type": "display_data"
    },
    {
     "data": {
      "text/html": [
       "<pre style=\"white-space:pre;overflow-x:auto;line-height:normal;font-family:Menlo,'DejaVu Sans Mono',consolas,'Courier New',monospace\"><span style=\"color: #000080; text-decoration-color: #000080\">INFO    </span> Beginning analysis of cross-validation     <a href=\"file:///home/jd/msm_we/msm_we/msm_we.py\" target=\"_blank\"><span style=\"color: #7f7f7f; text-decoration-color: #7f7f7f\">msm_we.py</span></a><span style=\"color: #7f7f7f; text-decoration-color: #7f7f7f\">:</span><a href=\"file:///home/jd/msm_we/msm_we/msm_we.py#926\" target=\"_blank\"><span style=\"color: #7f7f7f; text-decoration-color: #7f7f7f\">926</span></a>\n",
       "         group <span style=\"color: #008080; text-decoration-color: #008080; font-weight: bold\">2</span>/<span style=\"color: #008080; text-decoration-color: #008080; font-weight: bold\">2</span>.                                 <span style=\"color: #7f7f7f; text-decoration-color: #7f7f7f\">             </span>\n",
       "</pre>\n"
      ],
      "text/plain": [
       "\u001b[34mINFO    \u001b[0m Beginning analysis of cross-validation     \u001b]8;id=105917;file:///home/jd/msm_we/msm_we/msm_we.py\u001b\\\u001b[2mmsm_we.py\u001b[0m\u001b]8;;\u001b\\\u001b[2m:\u001b[0m\u001b]8;id=967139;file:///home/jd/msm_we/msm_we/msm_we.py#926\u001b\\\u001b[2m926\u001b[0m\u001b]8;;\u001b\\\n",
       "         group \u001b[1;36m2\u001b[0m/\u001b[1;36m2\u001b[0m.                                 \u001b[2m             \u001b[0m\n"
      ]
     },
     "metadata": {},
     "output_type": "display_data"
    },
    {
     "data": {
      "text/html": [
       "<pre style=\"white-space:pre;overflow-x:auto;line-height:normal;font-family:Menlo,'DejaVu Sans Mono',consolas,'Courier New',monospace\"><span style=\"color: #000080; text-decoration-color: #000080\">INFO    </span> Using Ray cluster with <span style=\"color: #008080; text-decoration-color: #008080; font-weight: bold\">16.0</span> CPUs!          <a href=\"file:///home/jd/msm_we/msm_we/msm_we.py\" target=\"_blank\"><span style=\"color: #7f7f7f; text-decoration-color: #7f7f7f\">msm_we.py</span></a><span style=\"color: #7f7f7f; text-decoration-color: #7f7f7f\">:</span><a href=\"file:///home/jd/msm_we/msm_we/msm_we.py#450\" target=\"_blank\"><span style=\"color: #7f7f7f; text-decoration-color: #7f7f7f\">450</span></a>\n",
       "</pre>\n"
      ],
      "text/plain": [
       "\u001b[34mINFO    \u001b[0m Using Ray cluster with \u001b[1;36m16.0\u001b[0m CPUs!          \u001b]8;id=814899;file:///home/jd/msm_we/msm_we/msm_we.py\u001b\\\u001b[2mmsm_we.py\u001b[0m\u001b]8;;\u001b\\\u001b[2m:\u001b[0m\u001b]8;id=359009;file:///home/jd/msm_we/msm_we/msm_we.py#450\u001b\\\u001b[2m450\u001b[0m\u001b]8;;\u001b\\\n"
      ]
     },
     "metadata": {},
     "output_type": "display_data"
    },
    {
     "data": {
      "application/vnd.jupyter.widget-view+json": {
       "model_id": "1f796f24966747d49d18e09f57600b22",
       "version_major": 2,
       "version_minor": 0
      },
      "text/plain": [
       "Submitting fluxmatrix tasks:   0%|          | 0/49 [00:00<?, ?it/s]"
      ]
     },
     "metadata": {},
     "output_type": "display_data"
    },
    {
     "data": {
      "application/vnd.jupyter.widget-view+json": {
       "model_id": "9a7b6cb26ce64214bb52699a9b07976f",
       "version_major": 2,
       "version_minor": 0
      },
      "text/plain": [
       "Retrieving flux matrices:   0%|          | 0/49 [00:00<?, ?it/s]"
      ]
     },
     "metadata": {},
     "output_type": "display_data"
    },
    {
     "data": {
      "text/html": [
       "<pre style=\"white-space:pre;overflow-x:auto;line-height:normal;font-family:Menlo,'DejaVu Sans Mono',consolas,'Courier New',monospace\"><span style=\"color: #000080; text-decoration-color: #000080\">INFO    </span> Fluxmatrices all obtained             <a href=\"file:///home/jd/msm_we/msm_we/_hamsm/_fluxmatrix.py\" target=\"_blank\"><span style=\"color: #7f7f7f; text-decoration-color: #7f7f7f\">_fluxmatrix.py</span></a><span style=\"color: #7f7f7f; text-decoration-color: #7f7f7f\">:</span><a href=\"file:///home/jd/msm_we/msm_we/_hamsm/_fluxmatrix.py#497\" target=\"_blank\"><span style=\"color: #7f7f7f; text-decoration-color: #7f7f7f\">497</span></a>\n",
       "</pre>\n"
      ],
      "text/plain": [
       "\u001b[34mINFO    \u001b[0m Fluxmatrices all obtained             \u001b]8;id=319611;file:///home/jd/msm_we/msm_we/_hamsm/_fluxmatrix.py\u001b\\\u001b[2m_fluxmatrix.py\u001b[0m\u001b]8;;\u001b\\\u001b[2m:\u001b[0m\u001b]8;id=912653;file:///home/jd/msm_we/msm_we/_hamsm/_fluxmatrix.py#497\u001b\\\u001b[2m497\u001b[0m\u001b]8;;\u001b\\\n"
      ]
     },
     "metadata": {},
     "output_type": "display_data"
    },
    {
     "data": {
      "text/html": [
       "<pre style=\"white-space:pre;overflow-x:auto;line-height:normal;font-family:Menlo,'DejaVu Sans Mono',consolas,'Courier New',monospace\"><span style=\"color: #000080; text-decoration-color: #000080\">INFO    </span> Started with <span style=\"color: #008080; text-decoration-color: #008080; font-weight: bold\">300</span> clusters, and       <a href=\"file:///home/jd/msm_we/msm_we/_hamsm/_clustering.py\" target=\"_blank\"><span style=\"color: #7f7f7f; text-decoration-color: #7f7f7f\">_clustering.py</span></a><span style=\"color: #7f7f7f; text-decoration-color: #7f7f7f\">:</span><a href=\"file:///home/jd/msm_we/msm_we/_hamsm/_clustering.py#1020\" target=\"_blank\"><span style=\"color: #7f7f7f; text-decoration-color: #7f7f7f\">1020</span></a>\n",
       "         removed <span style=\"color: #008080; text-decoration-color: #008080; font-weight: bold\">119</span>                          <span style=\"color: #7f7f7f; text-decoration-color: #7f7f7f\">                   </span>\n",
       "</pre>\n"
      ],
      "text/plain": [
       "\u001b[34mINFO    \u001b[0m Started with \u001b[1;36m300\u001b[0m clusters, and       \u001b]8;id=791776;file:///home/jd/msm_we/msm_we/_hamsm/_clustering.py\u001b\\\u001b[2m_clustering.py\u001b[0m\u001b]8;;\u001b\\\u001b[2m:\u001b[0m\u001b]8;id=772475;file:///home/jd/msm_we/msm_we/_hamsm/_clustering.py#1020\u001b\\\u001b[2m1020\u001b[0m\u001b]8;;\u001b\\\n",
       "         removed \u001b[1;36m119\u001b[0m                          \u001b[2m                   \u001b[0m\n"
      ]
     },
     "metadata": {},
     "output_type": "display_data"
    },
    {
     "data": {
      "text/html": [
       "<pre style=\"white-space:pre;overflow-x:auto;line-height:normal;font-family:Menlo,'DejaVu Sans Mono',consolas,'Courier New',monospace\"><span style=\"color: #800000; text-decoration-color: #800000\">WARNING </span> All clusters were cleaned from bins  <a href=\"file:///home/jd/msm_we/msm_we/_hamsm/_clustering.py\" target=\"_blank\"><span style=\"color: #7f7f7f; text-decoration-color: #7f7f7f\">_clustering.py</span></a><span style=\"color: #7f7f7f; text-decoration-color: #7f7f7f\">:</span><a href=\"file:///home/jd/msm_we/msm_we/_hamsm/_clustering.py#1036\" target=\"_blank\"><span style=\"color: #7f7f7f; text-decoration-color: #7f7f7f\">1036</span></a>\n",
       "         <span style=\"font-weight: bold\">{</span><span style=\"color: #008080; text-decoration-color: #008080; font-weight: bold\">11</span><span style=\"font-weight: bold\">}</span>                                 <span style=\"color: #7f7f7f; text-decoration-color: #7f7f7f\">                   </span>\n",
       "</pre>\n"
      ],
      "text/plain": [
       "\u001b[31mWARNING \u001b[0m All clusters were cleaned from bins  \u001b]8;id=879056;file:///home/jd/msm_we/msm_we/_hamsm/_clustering.py\u001b\\\u001b[2m_clustering.py\u001b[0m\u001b]8;;\u001b\\\u001b[2m:\u001b[0m\u001b]8;id=473554;file:///home/jd/msm_we/msm_we/_hamsm/_clustering.py#1036\u001b\\\u001b[2m1036\u001b[0m\u001b]8;;\u001b\\\n",
       "         \u001b[1m{\u001b[0m\u001b[1;36m11\u001b[0m\u001b[1m}\u001b[0m                                 \u001b[2m                   \u001b[0m\n"
      ]
     },
     "metadata": {},
     "output_type": "display_data"
    },
    {
     "data": {
      "text/html": [
       "<pre style=\"white-space:pre;overflow-x:auto;line-height:normal;font-family:Menlo,'DejaVu Sans Mono',consolas,'Courier New',monospace\"><span style=\"color: #000080; text-decoration-color: #000080\">INFO    </span> Using Ray cluster with <span style=\"color: #008080; text-decoration-color: #008080; font-weight: bold\">16.0</span> CPUs!          <a href=\"file:///home/jd/msm_we/msm_we/msm_we.py\" target=\"_blank\"><span style=\"color: #7f7f7f; text-decoration-color: #7f7f7f\">msm_we.py</span></a><span style=\"color: #7f7f7f; text-decoration-color: #7f7f7f\">:</span><a href=\"file:///home/jd/msm_we/msm_we/msm_we.py#450\" target=\"_blank\"><span style=\"color: #7f7f7f; text-decoration-color: #7f7f7f\">450</span></a>\n",
       "</pre>\n"
      ],
      "text/plain": [
       "\u001b[34mINFO    \u001b[0m Using Ray cluster with \u001b[1;36m16.0\u001b[0m CPUs!          \u001b]8;id=970432;file:///home/jd/msm_we/msm_we/msm_we.py\u001b\\\u001b[2mmsm_we.py\u001b[0m\u001b]8;;\u001b\\\u001b[2m:\u001b[0m\u001b]8;id=733017;file:///home/jd/msm_we/msm_we/msm_we.py#450\u001b\\\u001b[2m450\u001b[0m\u001b]8;;\u001b\\\n"
      ]
     },
     "metadata": {},
     "output_type": "display_data"
    },
    {
     "data": {
      "text/html": [
       "<pre style=\"white-space:pre;overflow-x:auto;line-height:normal;font-family:Menlo,'DejaVu Sans Mono',consolas,'Courier New',monospace\"><span style=\"color: #000080; text-decoration-color: #000080\">INFO    </span> Using cached model for               <a href=\"file:///home/jd/msm_we/msm_we/_hamsm/_clustering.py\" target=\"_blank\"><span style=\"color: #7f7f7f; text-decoration-color: #7f7f7f\">_clustering.py</span></a><span style=\"color: #7f7f7f; text-decoration-color: #7f7f7f\">:</span><a href=\"file:///home/jd/msm_we/msm_we/_hamsm/_clustering.py#1132\" target=\"_blank\"><span style=\"color: #7f7f7f; text-decoration-color: #7f7f7f\">1132</span></a>\n",
       "         discretization                       <span style=\"color: #7f7f7f; text-decoration-color: #7f7f7f\">                   </span>\n",
       "</pre>\n"
      ],
      "text/plain": [
       "\u001b[34mINFO    \u001b[0m Using cached model for               \u001b]8;id=119459;file:///home/jd/msm_we/msm_we/_hamsm/_clustering.py\u001b\\\u001b[2m_clustering.py\u001b[0m\u001b]8;;\u001b\\\u001b[2m:\u001b[0m\u001b]8;id=981431;file:///home/jd/msm_we/msm_we/_hamsm/_clustering.py#1132\u001b\\\u001b[2m1132\u001b[0m\u001b]8;;\u001b\\\n",
       "         discretization                       \u001b[2m                   \u001b[0m\n"
      ]
     },
     "metadata": {},
     "output_type": "display_data"
    },
    {
     "data": {
      "application/vnd.jupyter.widget-view+json": {
       "model_id": "3cfaae4a3bb944649c7c8cbe900db6b0",
       "version_major": 2,
       "version_minor": 0
      },
      "text/plain": [
       "Submitting discretization tasks:   0%|          | 0/99 [00:00<?, ?it/s]"
      ]
     },
     "metadata": {},
     "output_type": "display_data"
    },
    {
     "data": {
      "application/vnd.jupyter.widget-view+json": {
       "model_id": "f6fa660daf9542c99cc8e4e9a711a862",
       "version_major": 2,
       "version_minor": 0
      },
      "text/plain": [
       "Retrieving discretized trajectories:   0%|          | 0/99 [00:00<?, ?it/s]"
      ]
     },
     "metadata": {},
     "output_type": "display_data"
    },
    {
     "data": {
      "text/html": [
       "<pre style=\"white-space:pre;overflow-x:auto;line-height:normal;font-family:Menlo,'DejaVu Sans Mono',consolas,'Courier New',monospace\"><span style=\"color: #000080; text-decoration-color: #000080\">INFO    </span> Discretization complete              <a href=\"file:///home/jd/msm_we/msm_we/_hamsm/_clustering.py\" target=\"_blank\"><span style=\"color: #7f7f7f; text-decoration-color: #7f7f7f\">_clustering.py</span></a><span style=\"color: #7f7f7f; text-decoration-color: #7f7f7f\">:</span><a href=\"file:///home/jd/msm_we/msm_we/_hamsm/_clustering.py#1204\" target=\"_blank\"><span style=\"color: #7f7f7f; text-decoration-color: #7f7f7f\">1204</span></a>\n",
       "</pre>\n"
      ],
      "text/plain": [
       "\u001b[34mINFO    \u001b[0m Discretization complete              \u001b]8;id=647999;file:///home/jd/msm_we/msm_we/_hamsm/_clustering.py\u001b\\\u001b[2m_clustering.py\u001b[0m\u001b]8;;\u001b\\\u001b[2m:\u001b[0m\u001b]8;id=52325;file:///home/jd/msm_we/msm_we/_hamsm/_clustering.py#1204\u001b\\\u001b[2m1204\u001b[0m\u001b]8;;\u001b\\\n"
      ]
     },
     "metadata": {},
     "output_type": "display_data"
    },
    {
     "data": {
      "text/html": [
       "<pre style=\"white-space:pre;overflow-x:auto;line-height:normal;font-family:Menlo,'DejaVu Sans Mono',consolas,'Courier New',monospace\"><span style=\"color: #000080; text-decoration-color: #000080\">INFO    </span> Using Ray cluster with <span style=\"color: #008080; text-decoration-color: #008080; font-weight: bold\">16.0</span> CPUs!          <a href=\"file:///home/jd/msm_we/msm_we/msm_we.py\" target=\"_blank\"><span style=\"color: #7f7f7f; text-decoration-color: #7f7f7f\">msm_we.py</span></a><span style=\"color: #7f7f7f; text-decoration-color: #7f7f7f\">:</span><a href=\"file:///home/jd/msm_we/msm_we/msm_we.py#450\" target=\"_blank\"><span style=\"color: #7f7f7f; text-decoration-color: #7f7f7f\">450</span></a>\n",
       "</pre>\n"
      ],
      "text/plain": [
       "\u001b[34mINFO    \u001b[0m Using Ray cluster with \u001b[1;36m16.0\u001b[0m CPUs!          \u001b]8;id=638956;file:///home/jd/msm_we/msm_we/msm_we.py\u001b\\\u001b[2mmsm_we.py\u001b[0m\u001b]8;;\u001b\\\u001b[2m:\u001b[0m\u001b]8;id=371540;file:///home/jd/msm_we/msm_we/msm_we.py#450\u001b\\\u001b[2m450\u001b[0m\u001b]8;;\u001b\\\n"
      ]
     },
     "metadata": {},
     "output_type": "display_data"
    },
    {
     "data": {
      "application/vnd.jupyter.widget-view+json": {
       "model_id": "1b66319915e44502a31455966f9ab6e6",
       "version_major": 2,
       "version_minor": 0
      },
      "text/plain": [
       "Submitting fluxmatrix tasks:   0%|          | 0/49 [00:00<?, ?it/s]"
      ]
     },
     "metadata": {},
     "output_type": "display_data"
    },
    {
     "data": {
      "application/vnd.jupyter.widget-view+json": {
       "model_id": "18bfc4ad15244dfda81d6a27ef864af9",
       "version_major": 2,
       "version_minor": 0
      },
      "text/plain": [
       "Retrieving flux matrices:   0%|          | 0/49 [00:00<?, ?it/s]"
      ]
     },
     "metadata": {},
     "output_type": "display_data"
    },
    {
     "data": {
      "text/html": [
       "<pre style=\"white-space:pre;overflow-x:auto;line-height:normal;font-family:Menlo,'DejaVu Sans Mono',consolas,'Courier New',monospace\"><span style=\"color: #000080; text-decoration-color: #000080\">INFO    </span> Fluxmatrices all obtained             <a href=\"file:///home/jd/msm_we/msm_we/_hamsm/_fluxmatrix.py\" target=\"_blank\"><span style=\"color: #7f7f7f; text-decoration-color: #7f7f7f\">_fluxmatrix.py</span></a><span style=\"color: #7f7f7f; text-decoration-color: #7f7f7f\">:</span><a href=\"file:///home/jd/msm_we/msm_we/_hamsm/_fluxmatrix.py#497\" target=\"_blank\"><span style=\"color: #7f7f7f; text-decoration-color: #7f7f7f\">497</span></a>\n",
       "</pre>\n"
      ],
      "text/plain": [
       "\u001b[34mINFO    \u001b[0m Fluxmatrices all obtained             \u001b]8;id=346693;file:///home/jd/msm_we/msm_we/_hamsm/_fluxmatrix.py\u001b\\\u001b[2m_fluxmatrix.py\u001b[0m\u001b]8;;\u001b\\\u001b[2m:\u001b[0m\u001b]8;id=347789;file:///home/jd/msm_we/msm_we/_hamsm/_fluxmatrix.py#497\u001b\\\u001b[2m497\u001b[0m\u001b]8;;\u001b\\\n"
      ]
     },
     "metadata": {},
     "output_type": "display_data"
    },
    {
     "data": {
      "text/html": [
       "<pre style=\"white-space:pre;overflow-x:auto;line-height:normal;font-family:Menlo,'DejaVu Sans Mono',consolas,'Courier New',monospace\"><span style=\"color: #000080; text-decoration-color: #000080\">INFO    </span>                                         <a href=\"file:///home/jd/msm_we/msm_we/_hamsm/_analysis.py\" target=\"_blank\"><span style=\"color: #7f7f7f; text-decoration-color: #7f7f7f\">_analysis.py</span></a><span style=\"color: #7f7f7f; text-decoration-color: #7f7f7f\">:</span><a href=\"file:///home/jd/msm_we/msm_we/_hamsm/_analysis.py#170\" target=\"_blank\"><span style=\"color: #7f7f7f; text-decoration-color: #7f7f7f\">170</span></a>\n",
       "         Flux converged to <span style=\"color: #008080; text-decoration-color: #008080; font-weight: bold\">4.4589e+06</span> after <span style=\"color: #008080; text-decoration-color: #008080; font-weight: bold\">1</span>    <span style=\"color: #7f7f7f; text-decoration-color: #7f7f7f\">                </span>\n",
       "         iterations of inverse iteration.        <span style=\"color: #7f7f7f; text-decoration-color: #7f7f7f\">                </span>\n",
       "</pre>\n"
      ],
      "text/plain": [
       "\u001b[34mINFO    \u001b[0m                                         \u001b]8;id=205473;file:///home/jd/msm_we/msm_we/_hamsm/_analysis.py\u001b\\\u001b[2m_analysis.py\u001b[0m\u001b]8;;\u001b\\\u001b[2m:\u001b[0m\u001b]8;id=349337;file:///home/jd/msm_we/msm_we/_hamsm/_analysis.py#170\u001b\\\u001b[2m170\u001b[0m\u001b]8;;\u001b\\\n",
       "         Flux converged to \u001b[1;36m4.4589e+06\u001b[0m after \u001b[1;36m1\u001b[0m    \u001b[2m                \u001b[0m\n",
       "         iterations of inverse iteration.        \u001b[2m                \u001b[0m\n"
      ]
     },
     "metadata": {},
     "output_type": "display_data"
    },
    {
     "data": {
      "text/html": [
       "<pre style=\"white-space:pre;overflow-x:auto;line-height:normal;font-family:Menlo,'DejaVu Sans Mono',consolas,'Courier New',monospace\"><span style=\"color: #000080; text-decoration-color: #000080\">INFO    </span> Done with steady-state estimation.      <a href=\"file:///home/jd/msm_we/msm_we/_hamsm/_analysis.py\" target=\"_blank\"><span style=\"color: #7f7f7f; text-decoration-color: #7f7f7f\">_analysis.py</span></a><span style=\"color: #7f7f7f; text-decoration-color: #7f7f7f\">:</span><a href=\"file:///home/jd/msm_we/msm_we/_hamsm/_analysis.py#181\" target=\"_blank\"><span style=\"color: #7f7f7f; text-decoration-color: #7f7f7f\">181</span></a>\n",
       "</pre>\n"
      ],
      "text/plain": [
       "\u001b[34mINFO    \u001b[0m Done with steady-state estimation.      \u001b]8;id=762742;file:///home/jd/msm_we/msm_we/_hamsm/_analysis.py\u001b\\\u001b[2m_analysis.py\u001b[0m\u001b]8;;\u001b\\\u001b[2m:\u001b[0m\u001b]8;id=576163;file:///home/jd/msm_we/msm_we/_hamsm/_analysis.py#181\u001b\\\u001b[2m181\u001b[0m\u001b]8;;\u001b\\\n"
      ]
     },
     "metadata": {},
     "output_type": "display_data"
    }
   ],
   "source": [
    "model.do_block_validation(\n",
    "    cross_validation_groups=2, \n",
    "    cross_validation_blocks=4\n",
    ")"
   ]
  },
  {
   "cell_type": "markdown",
   "id": "cc012b3b-19ee-468c-9b0b-227698a95761",
   "metadata": {},
   "source": [
    "### Generate lists of structures in each cluster"
   ]
  },
  {
   "cell_type": "code",
   "execution_count": 26,
   "id": "a9d1338a-b823-4485-898b-1d3bcba3ba21",
   "metadata": {},
   "outputs": [],
   "source": [
    "model.update_cluster_structures()"
   ]
  },
  {
   "cell_type": "code",
   "execution_count": 27,
   "id": "57c0d24a-0c79-4310-bc1a-c6f3d2f99840",
   "metadata": {
    "nbsphinx": "hidden",
    "tags": []
   },
   "outputs": [],
   "source": [
    "if generate_test_files:\n",
    "    np.save('../tests/reference/1000ns_ntl9/models/bin10_cluster_structures.npy', model.cluster_structures[10])\n",
    "    with open('../tests/reference/1000ns_ntl9/models/completed.obj', 'wb') as outfile:\n",
    "        pickle.dump(model, outfile)"
   ]
  },
  {
   "cell_type": "markdown",
   "id": "4c0fbc5b-6449-4eab-b588-ce75d3c879dd",
   "metadata": {},
   "source": [
    "## Save model"
   ]
  },
  {
   "cell_type": "code",
   "execution_count": 28,
   "id": "094271d7-4cc3-4be3-86b9-f927f278d5e5",
   "metadata": {},
   "outputs": [],
   "source": [
    "with open('data/pickled_model', 'wb') as of:\n",
    "    pickle.dump(model, of)"
   ]
  },
  {
   "cell_type": "code",
   "execution_count": null,
   "id": "ab76c752-1be4-4d7c-9b64-88c4df46f8bf",
   "metadata": {},
   "outputs": [],
   "source": []
  }
 ],
 "metadata": {
  "kernelspec": {
   "display_name": "Python 3 (ipykernel)",
   "language": "python",
   "name": "python3"
  },
  "language_info": {
   "codemirror_mode": {
    "name": "ipython",
    "version": 3
   },
   "file_extension": ".py",
   "mimetype": "text/x-python",
   "name": "python",
   "nbconvert_exporter": "python",
   "pygments_lexer": "ipython3",
   "version": "3.9.13"
  }
 },
 "nbformat": 4,
 "nbformat_minor": 5
}
